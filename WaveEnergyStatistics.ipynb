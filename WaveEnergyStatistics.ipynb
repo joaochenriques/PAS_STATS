{
  "nbformat": 4,
  "nbformat_minor": 0,
  "metadata": {
    "colab": {
      "provenance": [],
      "include_colab_link": true
    },
    "kernelspec": {
      "name": "python3",
      "display_name": "Python 3"
    },
    "language_info": {
      "name": "python"
    }
  },
  "cells": [
    {
      "cell_type": "markdown",
      "metadata": {
        "id": "view-in-github",
        "colab_type": "text"
      },
      "source": [
        "<a href=\"https://colab.research.google.com/github/joaochenriques/WaveEnergyStatistics/blob/main/WaveEnergyStatistics.ipynb\" target=\"_parent\"><img src=\"https://colab.research.google.com/assets/colab-badge.svg\" alt=\"Open In Colab\"/></a>"
      ]
    },
    {
      "cell_type": "code",
      "execution_count": 1,
      "metadata": {
        "id": "5UYVFDSKmZ4z",
        "colab": {
          "base_uri": "https://localhost:8080/"
        },
        "outputId": "fe9e6325-54d9-48a1-f675-d962101365b8"
      },
      "outputs": [
        {
          "output_type": "stream",
          "name": "stdout",
          "text": [
            "  % Total    % Received % Xferd  Average Speed   Time    Time     Time  Current\n",
            "                                 Dload  Upload   Total   Spent    Left  Speed\n",
            "\n",
            "  0     0    0     0    0     0      0      0 --:--:-- --:--:-- --:--:--     0\n",
            "100  3921  100  3921    0     0  26673      0 --:--:-- --:--:-- --:--:-- 26673\n"
          ]
        }
      ],
      "source": [
        "import pandas as pd\n",
        "import numpy as np\n",
        "import matplotlib.pyplot as mpl\n",
        "import sys, pathlib\n",
        "import itertools\n",
        "from scipy import optimize\n",
        "from sortedcontainers import SortedDict\n",
        "\n",
        "from matplotlib.ticker import (MultipleLocator, FormatStrFormatter,AutoMinorLocator)\n",
        "\n",
        "import pathlib, subprocess\n",
        "\n",
        "def cmdcall( cmd ):\n",
        "    output = subprocess.getoutput( cmd )\n",
        "    print(output)\n",
        "\n",
        "if not pathlib.Path(\"mpl_utils.py\").exists():\n",
        "  cmdcall( 'curl -O https://raw.githubusercontent.com/joaochenriques/ipynb_libs/main/mpl_utils.py' )\n",
        "\n",
        "import mpl_utils as mut\n",
        "mut.config_plots()\n",
        "\n",
        "markers = ( 'o', '^', 's', 'v', 'H', 'X', 'P' )\n",
        "\n",
        "from matplotlib_inline.backend_inline import set_matplotlib_formats\n",
        "set_matplotlib_formats('svg')"
      ]
    },
    {
      "cell_type": "code",
      "source": [
        "cmdcall( 'pip install unidecode' )\n",
        "from unidecode import unidecode"
      ],
      "metadata": {
        "colab": {
          "base_uri": "https://localhost:8080/"
        },
        "id": "MO8671tdxGps",
        "outputId": "0108742f-fa21-4caa-e9d3-a9376ee17d21"
      },
      "execution_count": 87,
      "outputs": [
        {
          "output_type": "stream",
          "name": "stdout",
          "text": [
            "Looking in indexes: https://pypi.org/simple, https://us-python.pkg.dev/colab-wheels/public/simple/\n",
            "Collecting unidecode\n",
            "  Downloading Unidecode-1.3.6-py3-none-any.whl (235 kB)\n",
            "     ━━━━━━━━━━━━━━━━━━━━━━━━━━━━━━━━━━━━━━━ 235.9/235.9 kB 5.3 MB/s eta 0:00:00\n",
            "Installing collected packages: unidecode\n",
            "Successfully installed unidecode-1.3.6\n"
          ]
        }
      ]
    },
    {
      "cell_type": "code",
      "source": [
        "cmdcall( 'pip install dataclassy' )\n",
        "from dataclassy import dataclass"
      ],
      "metadata": {
        "id": "-RikPqO55cJE",
        "outputId": "e4f834f0-1e02-4e52-fbe4-f395d305cf66",
        "colab": {
          "base_uri": "https://localhost:8080/"
        }
      },
      "execution_count": 2,
      "outputs": [
        {
          "output_type": "stream",
          "name": "stdout",
          "text": [
            "Looking in indexes: https://pypi.org/simple, https://us-python.pkg.dev/colab-wheels/public/simple/\n",
            "Collecting dataclassy\n",
            "  Downloading dataclassy-1.0.1-py3-none-any.whl (24 kB)\n",
            "Installing collected packages: dataclassy\n",
            "Successfully installed dataclassy-1.0.1\n"
          ]
        }
      ]
    },
    {
      "cell_type": "code",
      "source": [
        "cmdcall( 'pip install iso3166' )\n",
        "from iso3166 import countries\n",
        "\n",
        "country_lst = []\n",
        "for c in countries:\n",
        "    country_lst.append( c.name )"
      ],
      "metadata": {
        "id": "llW3nHzIsEiN",
        "outputId": "fc6175a6-0c3e-40fe-b9bd-27502a0be530",
        "colab": {
          "base_uri": "https://localhost:8080/"
        }
      },
      "execution_count": 3,
      "outputs": [
        {
          "output_type": "stream",
          "name": "stdout",
          "text": [
            "Looking in indexes: https://pypi.org/simple, https://us-python.pkg.dev/colab-wheels/public/simple/\n",
            "Collecting iso3166\n",
            "  Downloading iso3166-2.1.1-py3-none-any.whl (9.8 kB)\n",
            "Installing collected packages: iso3166\n",
            "Successfully installed iso3166-2.1.1\n"
          ]
        }
      ]
    },
    {
      "cell_type": "code",
      "source": [
        "def left_align( df ):\n",
        "    left_aligned_df = df.style.set_properties(**{'text-align': 'left'})\n",
        "    left_aligned_df = left_aligned_df.set_table_styles(\n",
        "        [dict(selector='th', props=[('text-align', 'left')])]\n",
        "    )\n",
        "    return left_aligned_df"
      ],
      "metadata": {
        "id": "oe4vRxXeeqX-"
      },
      "execution_count": 4,
      "outputs": []
    },
    {
      "cell_type": "markdown",
      "source": [
        "# Scopus advanced search query\n",
        "\n",
        "```\n",
        "TITLE-ABS-KEY-AUTH(WAVE-ENERGY) AND PUBYEAR AFT 2002 AND DOCTYPE(ar OR re) AND\n",
        "(\n",
        "    SRCTITLE(applied-energy) OR\n",
        "    SRCTITLE(applied-ocean-research) OR\n",
        "    SRCTITLE(energy) OR\n",
        "    SRCTITLE(energy-conversion-and-management ) OR\n",
        "    SRCTITLE(energies) OR\n",
        "    SRCTITLE(ieee-transactions-on-sustainable-energy) OR\n",
        "    SRCTITLE(iet-renewable-power-generation) OR\n",
        "    SRCTITLE(international-journal-of-marine-energy ) OR\n",
        "    SRCTITLE(international-journal-of-offshore-and-polar-engineering ) OR\n",
        "    SRCTITLE(journal-of-offshore-mechanics-and-arctic-engineering) OR\n",
        "    SRCTITLE(Journal-of-Ocean-Engineering-and-Marine-Energy) OR\n",
        "    SRCTITLE(ocean-engineering) OR\n",
        "    SRCTITLE(marine-structures) OR\n",
        "    SRCTITLE(renewable-energy) OR\n",
        "    SRCTITLE(renewable-sustainable-energy-reviews) \n",
        ")\n",
        "```"
      ],
      "metadata": {
        "id": "xpVdtPzypxbh"
      }
    },
    {
      "cell_type": "code",
      "source": [
        "filename = 'scopus_20230610.csv'\n",
        "if 'google.colab' in sys.modules and not pathlib.Path( f\"{filename}\").exists():\n",
        "    cmdcall( f'curl -O https://raw.githubusercontent.com/joaochenriques/PAS_STATS/main/{filename}' )"
      ],
      "metadata": {
        "id": "nB9IJvu6mlv-",
        "colab": {
          "base_uri": "https://localhost:8080/"
        },
        "outputId": "89fb21b2-3b3e-46c2-ffd3-dbfea5bad2ce"
      },
      "execution_count": 140,
      "outputs": [
        {
          "output_type": "stream",
          "name": "stdout",
          "text": [
            "  % Total    % Received % Xferd  Average Speed   Time    Time     Time  Current\n",
            "                                 Dload  Upload   Total   Spent    Left  Speed\n",
            "\n",
            "  0     0    0     0    0     0      0      0 --:--:-- --:--:-- --:--:--     0\n",
            "  0     0    0     0    0     0      0      0 --:--:-- --:--:-- --:--:--     0\n",
            "100 7205k  100 7205k    0     0  19.2M      0 --:--:-- --:--:-- --:--:-- 19.1M\n"
          ]
        }
      ]
    },
    {
      "cell_type": "code",
      "source": [
        "df = pd.read_csv( filename )\n",
        "df.keys()"
      ],
      "metadata": {
        "id": "bZg8TPI2m2uo",
        "outputId": "e6f8b54e-496a-4111-aaac-71167de806f8",
        "colab": {
          "base_uri": "https://localhost:8080/"
        }
      },
      "execution_count": 141,
      "outputs": [
        {
          "output_type": "execute_result",
          "data": {
            "text/plain": [
              "Index(['Authors', 'Author full names', 'Author(s) ID', 'Title', 'Year',\n",
              "       'Source title', 'Volume', 'Issue', 'Art. No.', 'Page start', 'Page end',\n",
              "       'Page count', 'Cited by', 'DOI', 'Link', 'Affiliations',\n",
              "       'Authors with affiliations', 'Author Keywords', 'Index Keywords',\n",
              "       'Correspondence Address', 'Document Type', 'Publication Stage',\n",
              "       'Open Access', 'Source', 'EID'],\n",
              "      dtype='object')"
            ]
          },
          "metadata": {},
          "execution_count": 141
        }
      ]
    },
    {
      "cell_type": "code",
      "source": [
        "authors_lst = df['Authors']\n",
        "authors_ID_lst = df['Author(s) ID'] \n",
        "affiliations_lst = df['Affiliations']\n",
        "title_lst = df['Title']\n",
        "journal_lst = df['Source title']\n",
        "year_lst = df['Year']\n",
        "citations_lst = df['Cited by']\n",
        "DOI_lst = df['DOI']\n",
        "stage_lst = df['Publication Stage'] \n",
        "\n",
        "replacements_dic = {   \n",
        "    'Ireland (formerly at the University of Plymouth)': 'Ireland',\n",
        "    'Univ. Paris6': 'France',\n",
        "    'Chinese Academy of Sciences': 'China',\n",
        "    'Instituto Superior Tx000E9': 'Portugal'\n",
        "}"
      ],
      "metadata": {
        "id": "NqQTY6x5t5KB"
      },
      "execution_count": 142,
      "outputs": []
    },
    {
      "cell_type": "markdown",
      "source": [
        "# Countries ordered by percentage of the authors's country"
      ],
      "metadata": {
        "id": "EK5Xo34HS62d"
      }
    },
    {
      "cell_type": "code",
      "source": [
        "countries_frac_dic = {}\n",
        "total_valid_papers = 0\n",
        "\n",
        "for n, ( affiliations, stage ) in enumerate( zip( affiliations_lst, stage_lst ) ):\n",
        "    if stage == 'Final' and affiliations == affiliations: # detect NANs\n",
        "        total_valid_papers += 1\n",
        "\n",
        "        institutions_lst = affiliations.split( ';' )\n",
        "        frac = 1.0 / len(institutions_lst)\n",
        "\n",
        "        for institution in institutions_lst:\n",
        "            country = institution.rsplit( ',', 1 )[-1].strip()\n",
        "\n",
        "            if country in replacements_dic:\n",
        "                country = replacements_dic[country]\n",
        "\n",
        "            if not country in countries_frac_dic:\n",
        "                countries_frac_dic[country] = frac\n",
        "            else:\n",
        "                countries_frac_dic[country] += frac\n",
        "\n",
        "sorted_country_frac_rank = { k: v for k, v in sorted( countries_frac_dic.items(), key=lambda item: item[1], reverse=True ) }\n",
        "\n",
        "df_country_name_lst = []\n",
        "df_country_num_lst = []\n",
        "\n",
        "col_name = f\"Num papers out of {total_valid_papers}\"\n",
        "df_country_dic = { \n",
        "        \"Country\": df_country_name_lst,\n",
        "        col_name: df_country_num_lst\n",
        "}  \n",
        "\n",
        "for n, ( name, num ) in enumerate( sorted_country_frac_rank.items() ):\n",
        "    df_country_name_lst.append( name ) \n",
        "    df_country_num_lst.append( int(num) )\n",
        "\n",
        "df = pd.DataFrame( df_country_dic )\n",
        "df.index = df.index + 1 \n",
        "df.head(20) "
      ],
      "metadata": {
        "id": "87OqHiyQTEdk",
        "outputId": "2552af5e-a9c8-4dcd-d45d-b99c3892cbbb",
        "colab": {
          "base_uri": "https://localhost:8080/",
          "height": 676
        }
      },
      "execution_count": 143,
      "outputs": [
        {
          "output_type": "execute_result",
          "data": {
            "text/plain": [
              "           Country  Num papers out of 3597\n",
              "1            China                  733   \n",
              "2   United Kingdom                  370   \n",
              "3    United States                  362   \n",
              "4         Portugal                  216   \n",
              "5            Spain                  177   \n",
              "6          Ireland                  155   \n",
              "7            Italy                  154   \n",
              "8        Australia                  145   \n",
              "9            India                  142   \n",
              "10          Sweden                  104   \n",
              "11     South Korea                   96   \n",
              "12            Iran                   79   \n",
              "13           Japan                   75   \n",
              "14          France                   64   \n",
              "15          Turkey                   57   \n",
              "16         Denmark                   55   \n",
              "17          Norway                   48   \n",
              "18          Greece                   47   \n",
              "19          Canada                   39   \n",
              "20           Egypt                   38   "
            ],
            "text/html": [
              "\n",
              "  <div id=\"df-e335ea57-ce4e-4438-8de0-e03d7d44b958\">\n",
              "    <div class=\"colab-df-container\">\n",
              "      <div>\n",
              "<style scoped>\n",
              "    .dataframe tbody tr th:only-of-type {\n",
              "        vertical-align: middle;\n",
              "    }\n",
              "\n",
              "    .dataframe tbody tr th {\n",
              "        vertical-align: top;\n",
              "    }\n",
              "\n",
              "    .dataframe thead th {\n",
              "        text-align: right;\n",
              "    }\n",
              "</style>\n",
              "<table border=\"1\" class=\"dataframe\">\n",
              "  <thead>\n",
              "    <tr style=\"text-align: right;\">\n",
              "      <th></th>\n",
              "      <th>Country</th>\n",
              "      <th>Num papers out of 3597</th>\n",
              "    </tr>\n",
              "  </thead>\n",
              "  <tbody>\n",
              "    <tr>\n",
              "      <th>1</th>\n",
              "      <td>China</td>\n",
              "      <td>733</td>\n",
              "    </tr>\n",
              "    <tr>\n",
              "      <th>2</th>\n",
              "      <td>United Kingdom</td>\n",
              "      <td>370</td>\n",
              "    </tr>\n",
              "    <tr>\n",
              "      <th>3</th>\n",
              "      <td>United States</td>\n",
              "      <td>362</td>\n",
              "    </tr>\n",
              "    <tr>\n",
              "      <th>4</th>\n",
              "      <td>Portugal</td>\n",
              "      <td>216</td>\n",
              "    </tr>\n",
              "    <tr>\n",
              "      <th>5</th>\n",
              "      <td>Spain</td>\n",
              "      <td>177</td>\n",
              "    </tr>\n",
              "    <tr>\n",
              "      <th>6</th>\n",
              "      <td>Ireland</td>\n",
              "      <td>155</td>\n",
              "    </tr>\n",
              "    <tr>\n",
              "      <th>7</th>\n",
              "      <td>Italy</td>\n",
              "      <td>154</td>\n",
              "    </tr>\n",
              "    <tr>\n",
              "      <th>8</th>\n",
              "      <td>Australia</td>\n",
              "      <td>145</td>\n",
              "    </tr>\n",
              "    <tr>\n",
              "      <th>9</th>\n",
              "      <td>India</td>\n",
              "      <td>142</td>\n",
              "    </tr>\n",
              "    <tr>\n",
              "      <th>10</th>\n",
              "      <td>Sweden</td>\n",
              "      <td>104</td>\n",
              "    </tr>\n",
              "    <tr>\n",
              "      <th>11</th>\n",
              "      <td>South Korea</td>\n",
              "      <td>96</td>\n",
              "    </tr>\n",
              "    <tr>\n",
              "      <th>12</th>\n",
              "      <td>Iran</td>\n",
              "      <td>79</td>\n",
              "    </tr>\n",
              "    <tr>\n",
              "      <th>13</th>\n",
              "      <td>Japan</td>\n",
              "      <td>75</td>\n",
              "    </tr>\n",
              "    <tr>\n",
              "      <th>14</th>\n",
              "      <td>France</td>\n",
              "      <td>64</td>\n",
              "    </tr>\n",
              "    <tr>\n",
              "      <th>15</th>\n",
              "      <td>Turkey</td>\n",
              "      <td>57</td>\n",
              "    </tr>\n",
              "    <tr>\n",
              "      <th>16</th>\n",
              "      <td>Denmark</td>\n",
              "      <td>55</td>\n",
              "    </tr>\n",
              "    <tr>\n",
              "      <th>17</th>\n",
              "      <td>Norway</td>\n",
              "      <td>48</td>\n",
              "    </tr>\n",
              "    <tr>\n",
              "      <th>18</th>\n",
              "      <td>Greece</td>\n",
              "      <td>47</td>\n",
              "    </tr>\n",
              "    <tr>\n",
              "      <th>19</th>\n",
              "      <td>Canada</td>\n",
              "      <td>39</td>\n",
              "    </tr>\n",
              "    <tr>\n",
              "      <th>20</th>\n",
              "      <td>Egypt</td>\n",
              "      <td>38</td>\n",
              "    </tr>\n",
              "  </tbody>\n",
              "</table>\n",
              "</div>\n",
              "      <button class=\"colab-df-convert\" onclick=\"convertToInteractive('df-e335ea57-ce4e-4438-8de0-e03d7d44b958')\"\n",
              "              title=\"Convert this dataframe to an interactive table.\"\n",
              "              style=\"display:none;\">\n",
              "        \n",
              "  <svg xmlns=\"http://www.w3.org/2000/svg\" height=\"24px\"viewBox=\"0 0 24 24\"\n",
              "       width=\"24px\">\n",
              "    <path d=\"M0 0h24v24H0V0z\" fill=\"none\"/>\n",
              "    <path d=\"M18.56 5.44l.94 2.06.94-2.06 2.06-.94-2.06-.94-.94-2.06-.94 2.06-2.06.94zm-11 1L8.5 8.5l.94-2.06 2.06-.94-2.06-.94L8.5 2.5l-.94 2.06-2.06.94zm10 10l.94 2.06.94-2.06 2.06-.94-2.06-.94-.94-2.06-.94 2.06-2.06.94z\"/><path d=\"M17.41 7.96l-1.37-1.37c-.4-.4-.92-.59-1.43-.59-.52 0-1.04.2-1.43.59L10.3 9.45l-7.72 7.72c-.78.78-.78 2.05 0 2.83L4 21.41c.39.39.9.59 1.41.59.51 0 1.02-.2 1.41-.59l7.78-7.78 2.81-2.81c.8-.78.8-2.07 0-2.86zM5.41 20L4 18.59l7.72-7.72 1.47 1.35L5.41 20z\"/>\n",
              "  </svg>\n",
              "      </button>\n",
              "      \n",
              "  <style>\n",
              "    .colab-df-container {\n",
              "      display:flex;\n",
              "      flex-wrap:wrap;\n",
              "      gap: 12px;\n",
              "    }\n",
              "\n",
              "    .colab-df-convert {\n",
              "      background-color: #E8F0FE;\n",
              "      border: none;\n",
              "      border-radius: 50%;\n",
              "      cursor: pointer;\n",
              "      display: none;\n",
              "      fill: #1967D2;\n",
              "      height: 32px;\n",
              "      padding: 0 0 0 0;\n",
              "      width: 32px;\n",
              "    }\n",
              "\n",
              "    .colab-df-convert:hover {\n",
              "      background-color: #E2EBFA;\n",
              "      box-shadow: 0px 1px 2px rgba(60, 64, 67, 0.3), 0px 1px 3px 1px rgba(60, 64, 67, 0.15);\n",
              "      fill: #174EA6;\n",
              "    }\n",
              "\n",
              "    [theme=dark] .colab-df-convert {\n",
              "      background-color: #3B4455;\n",
              "      fill: #D2E3FC;\n",
              "    }\n",
              "\n",
              "    [theme=dark] .colab-df-convert:hover {\n",
              "      background-color: #434B5C;\n",
              "      box-shadow: 0px 1px 3px 1px rgba(0, 0, 0, 0.15);\n",
              "      filter: drop-shadow(0px 1px 2px rgba(0, 0, 0, 0.3));\n",
              "      fill: #FFFFFF;\n",
              "    }\n",
              "  </style>\n",
              "\n",
              "      <script>\n",
              "        const buttonEl =\n",
              "          document.querySelector('#df-e335ea57-ce4e-4438-8de0-e03d7d44b958 button.colab-df-convert');\n",
              "        buttonEl.style.display =\n",
              "          google.colab.kernel.accessAllowed ? 'block' : 'none';\n",
              "\n",
              "        async function convertToInteractive(key) {\n",
              "          const element = document.querySelector('#df-e335ea57-ce4e-4438-8de0-e03d7d44b958');\n",
              "          const dataTable =\n",
              "            await google.colab.kernel.invokeFunction('convertToInteractive',\n",
              "                                                     [key], {});\n",
              "          if (!dataTable) return;\n",
              "\n",
              "          const docLinkHtml = 'Like what you see? Visit the ' +\n",
              "            '<a target=\"_blank\" href=https://colab.research.google.com/notebooks/data_table.ipynb>data table notebook</a>'\n",
              "            + ' to learn more about interactive tables.';\n",
              "          element.innerHTML = '';\n",
              "          dataTable['output_type'] = 'display_data';\n",
              "          await google.colab.output.renderOutput(dataTable, element);\n",
              "          const docLink = document.createElement('div');\n",
              "          docLink.innerHTML = docLinkHtml;\n",
              "          element.appendChild(docLink);\n",
              "        }\n",
              "      </script>\n",
              "    </div>\n",
              "  </div>\n",
              "  "
            ]
          },
          "metadata": {},
          "execution_count": 143
        }
      ]
    },
    {
      "cell_type": "markdown",
      "source": [
        "# Number of papers per author, citations, and highest cited paper"
      ],
      "metadata": {
        "id": "WnsbSaBQTHGq"
      }
    },
    {
      "cell_type": "code",
      "source": [
        "@dataclass\n",
        "class data:\n",
        "    name: str = None\n",
        "    num_papers: int = 0\n",
        "    citations: int = 0"
      ],
      "metadata": {
        "id": "c98Yyl9e0DjC"
      },
      "execution_count": 144,
      "outputs": []
    },
    {
      "cell_type": "code",
      "source": [
        "papers_dic = {}\n",
        "\n",
        "for n, ( authors, authors_ID, citations, DOI, stage ) in enumerate( zip( authors_lst, authors_ID_lst, citations_lst, DOI_lst, stage_lst ) ):\n",
        "    if stage == 'Final' and authors == authors and authors_ID == authors_ID: # check NANs\n",
        "        for ( author, ID ) in zip( authors.split(';'), str( authors_ID ).split(';') ):\n",
        "            author = author.strip()\n",
        "            ID = ID.strip()\n",
        "\n",
        "            if ID in papers_dic:\n",
        "                papers_dic[ID].num_papers += 1\n",
        "                papers_dic[ID].citations += int(citations)\n",
        "            else:\n",
        "                papers_dic[ID] = data( author, 1, int(citations) )"
      ],
      "metadata": {
        "id": "ja-ZA6lGx4YW"
      },
      "execution_count": 145,
      "outputs": []
    },
    {
      "cell_type": "code",
      "source": [
        "sorted_papers_dic = { k: v for k, v in sorted( papers_dic.items(), key=lambda item: item[1].num_papers, reverse=True ) }\n",
        "\n",
        "df_authors_name_lst = []\n",
        "df_authors_num_lst = []\n",
        "\n",
        "df_authors_dic = { \n",
        "        \"Author\": df_authors_name_lst,\n",
        "        \"Num papers\": df_authors_num_lst\n",
        "}  \n",
        "\n",
        "for n, dt in enumerate( sorted_papers_dic.values() ):\n",
        "    df_authors_name_lst.append( dt.name ) \n",
        "    df_authors_num_lst.append( dt.num_papers )\n",
        "\n",
        "df = pd.DataFrame( df_authors_dic )\n",
        "df.index = df.index + 1\n",
        "\n",
        "left_align( df.head(20) )"
      ],
      "metadata": {
        "id": "-jjYjDaa49VB",
        "outputId": "ea5d425c-c0cf-4737-9e04-7a189de4a1d8",
        "colab": {
          "base_uri": "https://localhost:8080/",
          "height": 676
        }
      },
      "execution_count": 146,
      "outputs": [
        {
          "output_type": "execute_result",
          "data": {
            "text/plain": [
              "<pandas.io.formats.style.Styler at 0x7f4249a34100>"
            ],
            "text/html": [
              "<style type=\"text/css\">\n",
              "#T_4d54c th {\n",
              "  text-align: left;\n",
              "}\n",
              "#T_4d54c_row0_col0, #T_4d54c_row0_col1, #T_4d54c_row1_col0, #T_4d54c_row1_col1, #T_4d54c_row2_col0, #T_4d54c_row2_col1, #T_4d54c_row3_col0, #T_4d54c_row3_col1, #T_4d54c_row4_col0, #T_4d54c_row4_col1, #T_4d54c_row5_col0, #T_4d54c_row5_col1, #T_4d54c_row6_col0, #T_4d54c_row6_col1, #T_4d54c_row7_col0, #T_4d54c_row7_col1, #T_4d54c_row8_col0, #T_4d54c_row8_col1, #T_4d54c_row9_col0, #T_4d54c_row9_col1, #T_4d54c_row10_col0, #T_4d54c_row10_col1, #T_4d54c_row11_col0, #T_4d54c_row11_col1, #T_4d54c_row12_col0, #T_4d54c_row12_col1, #T_4d54c_row13_col0, #T_4d54c_row13_col1, #T_4d54c_row14_col0, #T_4d54c_row14_col1, #T_4d54c_row15_col0, #T_4d54c_row15_col1, #T_4d54c_row16_col0, #T_4d54c_row16_col1, #T_4d54c_row17_col0, #T_4d54c_row17_col1, #T_4d54c_row18_col0, #T_4d54c_row18_col1, #T_4d54c_row19_col0, #T_4d54c_row19_col1 {\n",
              "  text-align: left;\n",
              "}\n",
              "</style>\n",
              "<table id=\"T_4d54c\" class=\"dataframe\">\n",
              "  <thead>\n",
              "    <tr>\n",
              "      <th class=\"blank level0\" >&nbsp;</th>\n",
              "      <th id=\"T_4d54c_level0_col0\" class=\"col_heading level0 col0\" >Author</th>\n",
              "      <th id=\"T_4d54c_level0_col1\" class=\"col_heading level0 col1\" >Num papers</th>\n",
              "    </tr>\n",
              "  </thead>\n",
              "  <tbody>\n",
              "    <tr>\n",
              "      <th id=\"T_4d54c_level0_row0\" class=\"row_heading level0 row0\" >1</th>\n",
              "      <td id=\"T_4d54c_row0_col0\" class=\"data row0 col0\" >Ringwood J.V.</td>\n",
              "      <td id=\"T_4d54c_row0_col1\" class=\"data row0 col1\" >92</td>\n",
              "    </tr>\n",
              "    <tr>\n",
              "      <th id=\"T_4d54c_level0_row1\" class=\"row_heading level0 row1\" >2</th>\n",
              "      <td id=\"T_4d54c_row1_col0\" class=\"data row1 col0\" >Iglesias G.</td>\n",
              "      <td id=\"T_4d54c_row1_col1\" class=\"data row1 col1\" >79</td>\n",
              "    </tr>\n",
              "    <tr>\n",
              "      <th id=\"T_4d54c_level0_row2\" class=\"row_heading level0 row2\" >3</th>\n",
              "      <td id=\"T_4d54c_row2_col0\" class=\"data row2 col0\" >Guedes Soares C.</td>\n",
              "      <td id=\"T_4d54c_row2_col1\" class=\"data row2 col1\" >65</td>\n",
              "    </tr>\n",
              "    <tr>\n",
              "      <th id=\"T_4d54c_level0_row3\" class=\"row_heading level0 row3\" >4</th>\n",
              "      <td id=\"T_4d54c_row3_col0\" class=\"data row3 col0\" >Gato L.M.C.</td>\n",
              "      <td id=\"T_4d54c_row3_col1\" class=\"data row3 col1\" >63</td>\n",
              "    </tr>\n",
              "    <tr>\n",
              "      <th id=\"T_4d54c_level0_row4\" class=\"row_heading level0 row4\" >5</th>\n",
              "      <td id=\"T_4d54c_row4_col0\" class=\"data row4 col0\" >Henriques J.C.C.</td>\n",
              "      <td id=\"T_4d54c_row4_col1\" class=\"data row4 col1\" >62</td>\n",
              "    </tr>\n",
              "    <tr>\n",
              "      <th id=\"T_4d54c_level0_row5\" class=\"row_heading level0 row5\" >6</th>\n",
              "      <td id=\"T_4d54c_row5_col0\" class=\"data row5 col0\" >Falcão A.F.O.</td>\n",
              "      <td id=\"T_4d54c_row5_col1\" class=\"data row5 col1\" >56</td>\n",
              "    </tr>\n",
              "    <tr>\n",
              "      <th id=\"T_4d54c_level0_row6\" class=\"row_heading level0 row6\" >7</th>\n",
              "      <td id=\"T_4d54c_row6_col0\" class=\"data row6 col0\" >Ning D.</td>\n",
              "      <td id=\"T_4d54c_row6_col1\" class=\"data row6 col1\" >47</td>\n",
              "    </tr>\n",
              "    <tr>\n",
              "      <th id=\"T_4d54c_level0_row7\" class=\"row_heading level0 row7\" >8</th>\n",
              "      <td id=\"T_4d54c_row7_col0\" class=\"data row7 col0\" >Greaves D.</td>\n",
              "      <td id=\"T_4d54c_row7_col1\" class=\"data row7 col1\" >45</td>\n",
              "    </tr>\n",
              "    <tr>\n",
              "      <th id=\"T_4d54c_level0_row8\" class=\"row_heading level0 row8\" >9</th>\n",
              "      <td id=\"T_4d54c_row8_col0\" class=\"data row8 col0\" >Leijon M.</td>\n",
              "      <td id=\"T_4d54c_row8_col1\" class=\"data row8 col1\" >45</td>\n",
              "    </tr>\n",
              "    <tr>\n",
              "      <th id=\"T_4d54c_level0_row9\" class=\"row_heading level0 row9\" >10</th>\n",
              "      <td id=\"T_4d54c_row9_col0\" class=\"data row9 col0\" >Wang Z.L.</td>\n",
              "      <td id=\"T_4d54c_row9_col1\" class=\"data row9 col1\" >42</td>\n",
              "    </tr>\n",
              "    <tr>\n",
              "      <th id=\"T_4d54c_level0_row10\" class=\"row_heading level0 row10\" >11</th>\n",
              "      <td id=\"T_4d54c_row10_col0\" class=\"data row10 col0\" >Shi H.</td>\n",
              "      <td id=\"T_4d54c_row10_col1\" class=\"data row10 col1\" >41</td>\n",
              "    </tr>\n",
              "    <tr>\n",
              "      <th id=\"T_4d54c_level0_row11\" class=\"row_heading level0 row11\" >12</th>\n",
              "      <td id=\"T_4d54c_row11_col0\" class=\"data row11 col0\" >Taveira-Pinto F.</td>\n",
              "      <td id=\"T_4d54c_row11_col1\" class=\"data row11 col1\" >39</td>\n",
              "    </tr>\n",
              "    <tr>\n",
              "      <th id=\"T_4d54c_level0_row12\" class=\"row_heading level0 row12\" >13</th>\n",
              "      <td id=\"T_4d54c_row12_col0\" class=\"data row12 col0\" >Göteman M.</td>\n",
              "      <td id=\"T_4d54c_row12_col1\" class=\"data row12 col1\" >39</td>\n",
              "    </tr>\n",
              "    <tr>\n",
              "      <th id=\"T_4d54c_level0_row13\" class=\"row_heading level0 row13\" >14</th>\n",
              "      <td id=\"T_4d54c_row13_col0\" class=\"data row13 col0\" >Rosa Santos P.</td>\n",
              "      <td id=\"T_4d54c_row13_col1\" class=\"data row13 col1\" >34</td>\n",
              "    </tr>\n",
              "    <tr>\n",
              "      <th id=\"T_4d54c_level0_row14\" class=\"row_heading level0 row14\" >15</th>\n",
              "      <td id=\"T_4d54c_row14_col0\" class=\"data row14 col0\" >Robertson B.</td>\n",
              "      <td id=\"T_4d54c_row14_col1\" class=\"data row14 col1\" >29</td>\n",
              "    </tr>\n",
              "    <tr>\n",
              "      <th id=\"T_4d54c_level0_row15\" class=\"row_heading level0 row15\" >16</th>\n",
              "      <td id=\"T_4d54c_row15_col0\" class=\"data row15 col0\" >Bacelli G.</td>\n",
              "      <td id=\"T_4d54c_row15_col1\" class=\"data row15 col1\" >29</td>\n",
              "    </tr>\n",
              "    <tr>\n",
              "      <th id=\"T_4d54c_level0_row16\" class=\"row_heading level0 row16\" >17</th>\n",
              "      <td id=\"T_4d54c_row16_col0\" class=\"data row16 col0\" >Engström J.</td>\n",
              "      <td id=\"T_4d54c_row16_col1\" class=\"data row16 col1\" >28</td>\n",
              "    </tr>\n",
              "    <tr>\n",
              "      <th id=\"T_4d54c_level0_row17\" class=\"row_heading level0 row17\" >18</th>\n",
              "      <td id=\"T_4d54c_row17_col0\" class=\"data row17 col0\" >Sergiienko N.</td>\n",
              "      <td id=\"T_4d54c_row17_col1\" class=\"data row17 col1\" >27</td>\n",
              "    </tr>\n",
              "    <tr>\n",
              "      <th id=\"T_4d54c_level0_row18\" class=\"row_heading level0 row18\" >19</th>\n",
              "      <td id=\"T_4d54c_row18_col0\" class=\"data row18 col0\" >Cazzolato B.</td>\n",
              "      <td id=\"T_4d54c_row18_col1\" class=\"data row18 col1\" >27</td>\n",
              "    </tr>\n",
              "    <tr>\n",
              "      <th id=\"T_4d54c_level0_row19\" class=\"row_heading level0 row19\" >20</th>\n",
              "      <td id=\"T_4d54c_row19_col0\" class=\"data row19 col0\" >Gomes R.P.F.</td>\n",
              "      <td id=\"T_4d54c_row19_col1\" class=\"data row19 col1\" >27</td>\n",
              "    </tr>\n",
              "  </tbody>\n",
              "</table>\n"
            ]
          },
          "metadata": {},
          "execution_count": 146
        }
      ]
    },
    {
      "cell_type": "code",
      "source": [
        "sorted_citations_dic = { k: v for k, v in sorted( papers_dic.items(), key=lambda item: item[1].citations, reverse=True ) }\n",
        "\n",
        "df_citations_name_lst = []\n",
        "df_citations_num_lst = []\n",
        "\n",
        "df_citations_dic = { \n",
        "        \"Author\": df_citations_name_lst,\n",
        "        \"Citations\": df_citations_num_lst\n",
        "}  \n",
        "\n",
        "for n, dt in enumerate( sorted_citations_dic.values() ):\n",
        "    df_citations_name_lst.append( dt.name ) \n",
        "    df_citations_num_lst.append( dt.citations )\n",
        "\n",
        "df = pd.DataFrame( df_citations_dic )\n",
        "df.index = df.index + 1 \n",
        "left_align( df.head(10) )"
      ],
      "metadata": {
        "id": "SG8KjEDp6A76",
        "outputId": "67d283b5-b10a-4ca7-8dcd-06f31b0a6988",
        "colab": {
          "base_uri": "https://localhost:8080/",
          "height": 363
        }
      },
      "execution_count": 147,
      "outputs": [
        {
          "output_type": "execute_result",
          "data": {
            "text/plain": [
              "<pandas.io.formats.style.Styler at 0x7f4249a1a8c0>"
            ],
            "text/html": [
              "<style type=\"text/css\">\n",
              "#T_09ed9 th {\n",
              "  text-align: left;\n",
              "}\n",
              "#T_09ed9_row0_col0, #T_09ed9_row0_col1, #T_09ed9_row1_col0, #T_09ed9_row1_col1, #T_09ed9_row2_col0, #T_09ed9_row2_col1, #T_09ed9_row3_col0, #T_09ed9_row3_col1, #T_09ed9_row4_col0, #T_09ed9_row4_col1, #T_09ed9_row5_col0, #T_09ed9_row5_col1, #T_09ed9_row6_col0, #T_09ed9_row6_col1, #T_09ed9_row7_col0, #T_09ed9_row7_col1, #T_09ed9_row8_col0, #T_09ed9_row8_col1, #T_09ed9_row9_col0, #T_09ed9_row9_col1 {\n",
              "  text-align: left;\n",
              "}\n",
              "</style>\n",
              "<table id=\"T_09ed9\" class=\"dataframe\">\n",
              "  <thead>\n",
              "    <tr>\n",
              "      <th class=\"blank level0\" >&nbsp;</th>\n",
              "      <th id=\"T_09ed9_level0_col0\" class=\"col_heading level0 col0\" >Author</th>\n",
              "      <th id=\"T_09ed9_level0_col1\" class=\"col_heading level0 col1\" >Citations</th>\n",
              "    </tr>\n",
              "  </thead>\n",
              "  <tbody>\n",
              "    <tr>\n",
              "      <th id=\"T_09ed9_level0_row0\" class=\"row_heading level0 row0\" >1</th>\n",
              "      <td id=\"T_09ed9_row0_col0\" class=\"data row0 col0\" >Falcão A.F.O.</td>\n",
              "      <td id=\"T_09ed9_row0_col1\" class=\"data row0 col1\" >4992</td>\n",
              "    </tr>\n",
              "    <tr>\n",
              "      <th id=\"T_09ed9_level0_row1\" class=\"row_heading level0 row1\" >2</th>\n",
              "      <td id=\"T_09ed9_row1_col0\" class=\"data row1 col0\" >Iglesias G.</td>\n",
              "      <td id=\"T_09ed9_row1_col1\" class=\"data row1 col1\" >4917</td>\n",
              "    </tr>\n",
              "    <tr>\n",
              "      <th id=\"T_09ed9_level0_row2\" class=\"row_heading level0 row2\" >3</th>\n",
              "      <td id=\"T_09ed9_row2_col0\" class=\"data row2 col0\" >Wang Z.L.</td>\n",
              "      <td id=\"T_09ed9_row2_col1\" class=\"data row2 col1\" >4698</td>\n",
              "    </tr>\n",
              "    <tr>\n",
              "      <th id=\"T_09ed9_level0_row3\" class=\"row_heading level0 row3\" >4</th>\n",
              "      <td id=\"T_09ed9_row3_col0\" class=\"data row3 col0\" >Ringwood J.V.</td>\n",
              "      <td id=\"T_09ed9_row3_col1\" class=\"data row3 col1\" >3161</td>\n",
              "    </tr>\n",
              "    <tr>\n",
              "      <th id=\"T_09ed9_level0_row4\" class=\"row_heading level0 row4\" >5</th>\n",
              "      <td id=\"T_09ed9_row4_col0\" class=\"data row4 col0\" >Guedes Soares C.</td>\n",
              "      <td id=\"T_09ed9_row4_col1\" class=\"data row4 col1\" >2666</td>\n",
              "    </tr>\n",
              "    <tr>\n",
              "      <th id=\"T_09ed9_level0_row5\" class=\"row_heading level0 row5\" >6</th>\n",
              "      <td id=\"T_09ed9_row5_col0\" class=\"data row5 col0\" >Babarit A.</td>\n",
              "      <td id=\"T_09ed9_row5_col1\" class=\"data row5 col1\" >2529</td>\n",
              "    </tr>\n",
              "    <tr>\n",
              "      <th id=\"T_09ed9_level0_row6\" class=\"row_heading level0 row6\" >7</th>\n",
              "      <td id=\"T_09ed9_row6_col0\" class=\"data row6 col0\" >Henriques J.C.C.</td>\n",
              "      <td id=\"T_09ed9_row6_col1\" class=\"data row6 col1\" >2385</td>\n",
              "    </tr>\n",
              "    <tr>\n",
              "      <th id=\"T_09ed9_level0_row7\" class=\"row_heading level0 row7\" >8</th>\n",
              "      <td id=\"T_09ed9_row7_col0\" class=\"data row7 col0\" >Moan T.</td>\n",
              "      <td id=\"T_09ed9_row7_col1\" class=\"data row7 col1\" >2337</td>\n",
              "    </tr>\n",
              "    <tr>\n",
              "      <th id=\"T_09ed9_level0_row8\" class=\"row_heading level0 row8\" >9</th>\n",
              "      <td id=\"T_09ed9_row8_col0\" class=\"data row8 col0\" >Carballo R.</td>\n",
              "      <td id=\"T_09ed9_row8_col1\" class=\"data row8 col1\" >2022</td>\n",
              "    </tr>\n",
              "    <tr>\n",
              "      <th id=\"T_09ed9_level0_row9\" class=\"row_heading level0 row9\" >10</th>\n",
              "      <td id=\"T_09ed9_row9_col0\" class=\"data row9 col0\" >Jiang T.</td>\n",
              "      <td id=\"T_09ed9_row9_col1\" class=\"data row9 col1\" >1977</td>\n",
              "    </tr>\n",
              "  </tbody>\n",
              "</table>\n"
            ]
          },
          "metadata": {},
          "execution_count": 147
        }
      ]
    },
    {
      "cell_type": "code",
      "source": [
        "@dataclass\n",
        "class paper_rank:\n",
        "    authors: str = None\n",
        "    title: str = None\n",
        "    journal: str =None\n",
        "    year: int = 0\n",
        "    DOI: str = None\n",
        "    citations: int = 0"
      ],
      "metadata": {
        "id": "F44gD-KFYQNk"
      },
      "execution_count": 148,
      "outputs": []
    },
    {
      "cell_type": "code",
      "source": [
        "papers_rank_dic = {}\n",
        "\n",
        "for n, ( authors, title, journal, year, DOI, citations, stage ) in enumerate( zip( authors_lst, title_lst, journal_lst, year_lst, DOI_lst, citations_lst, stage_lst ) ):\n",
        "    if stage == 'Final' and authors == authors: # check NANs\n",
        "        papers_rank_dic[DOI] = paper_rank( authors, title, journal, year, DOI, int( citations ) )"
      ],
      "metadata": {
        "id": "ulws2MGMXGwZ"
      },
      "execution_count": 149,
      "outputs": []
    },
    {
      "cell_type": "code",
      "source": [
        "sorted_papers_rank_dic = { k: v for k, v in sorted( papers_rank_dic.items(), key=lambda item: item[1].citations, reverse=True ) }\n",
        "\n",
        "df_authors_name_lst = []\n",
        "df_title_lst = []\n",
        "df_journal_lst = []\n",
        "df_year_lst = []\n",
        "df_DOI_lst = []\n",
        "df_citations_lst = []\n",
        "\n",
        "df_papers_rank_dic = { \n",
        "        \"Authors\": df_authors_name_lst,\n",
        "        \"Title\": df_title_lst,\n",
        "        \"Journal\": df_journal_lst,\n",
        "        \"Year\": df_year_lst,\n",
        "        # \"DOI\": df_DOI_lst,\n",
        "        \"citations\": df_citations_lst\n",
        "}  \n",
        "\n",
        "for n, dt in enumerate( sorted_papers_rank_dic.values() ):\n",
        "    df_authors_name_lst.append( dt.authors ) \n",
        "    df_title_lst.append( dt.title )\n",
        "    df_journal_lst.append( dt.journal )\n",
        "    df_year_lst.append( dt.year )\n",
        "    df_DOI_lst.append( dt.DOI )\n",
        "    df_citations_lst.append( dt.citations )\n",
        "\n",
        "df = pd.DataFrame( df_papers_rank_dic )\n",
        "df.index = df.index + 1\n",
        "left_align( df.head(10) )"
      ],
      "metadata": {
        "id": "4n06BPVsXHP2",
        "outputId": "4a29ba81-22d9-4b78-a8ef-c8e8df19fb7c",
        "colab": {
          "base_uri": "https://localhost:8080/",
          "height": 502
        }
      },
      "execution_count": 150,
      "outputs": [
        {
          "output_type": "execute_result",
          "data": {
            "text/plain": [
              "<pandas.io.formats.style.Styler at 0x7f4249a1b3a0>"
            ],
            "text/html": [
              "<style type=\"text/css\">\n",
              "#T_d8da9 th {\n",
              "  text-align: left;\n",
              "}\n",
              "#T_d8da9_row0_col0, #T_d8da9_row0_col1, #T_d8da9_row0_col2, #T_d8da9_row0_col3, #T_d8da9_row0_col4, #T_d8da9_row1_col0, #T_d8da9_row1_col1, #T_d8da9_row1_col2, #T_d8da9_row1_col3, #T_d8da9_row1_col4, #T_d8da9_row2_col0, #T_d8da9_row2_col1, #T_d8da9_row2_col2, #T_d8da9_row2_col3, #T_d8da9_row2_col4, #T_d8da9_row3_col0, #T_d8da9_row3_col1, #T_d8da9_row3_col2, #T_d8da9_row3_col3, #T_d8da9_row3_col4, #T_d8da9_row4_col0, #T_d8da9_row4_col1, #T_d8da9_row4_col2, #T_d8da9_row4_col3, #T_d8da9_row4_col4, #T_d8da9_row5_col0, #T_d8da9_row5_col1, #T_d8da9_row5_col2, #T_d8da9_row5_col3, #T_d8da9_row5_col4, #T_d8da9_row6_col0, #T_d8da9_row6_col1, #T_d8da9_row6_col2, #T_d8da9_row6_col3, #T_d8da9_row6_col4, #T_d8da9_row7_col0, #T_d8da9_row7_col1, #T_d8da9_row7_col2, #T_d8da9_row7_col3, #T_d8da9_row7_col4, #T_d8da9_row8_col0, #T_d8da9_row8_col1, #T_d8da9_row8_col2, #T_d8da9_row8_col3, #T_d8da9_row8_col4, #T_d8da9_row9_col0, #T_d8da9_row9_col1, #T_d8da9_row9_col2, #T_d8da9_row9_col3, #T_d8da9_row9_col4 {\n",
              "  text-align: left;\n",
              "}\n",
              "</style>\n",
              "<table id=\"T_d8da9\" class=\"dataframe\">\n",
              "  <thead>\n",
              "    <tr>\n",
              "      <th class=\"blank level0\" >&nbsp;</th>\n",
              "      <th id=\"T_d8da9_level0_col0\" class=\"col_heading level0 col0\" >Authors</th>\n",
              "      <th id=\"T_d8da9_level0_col1\" class=\"col_heading level0 col1\" >Title</th>\n",
              "      <th id=\"T_d8da9_level0_col2\" class=\"col_heading level0 col2\" >Journal</th>\n",
              "      <th id=\"T_d8da9_level0_col3\" class=\"col_heading level0 col3\" >Year</th>\n",
              "      <th id=\"T_d8da9_level0_col4\" class=\"col_heading level0 col4\" >citations</th>\n",
              "    </tr>\n",
              "  </thead>\n",
              "  <tbody>\n",
              "    <tr>\n",
              "      <th id=\"T_d8da9_level0_row0\" class=\"row_heading level0 row0\" >1</th>\n",
              "      <td id=\"T_d8da9_row0_col0\" class=\"data row0 col0\" >Falcão A.F.d.O.</td>\n",
              "      <td id=\"T_d8da9_row0_col1\" class=\"data row0 col1\" >Wave energy utilization: A review of the technologies</td>\n",
              "      <td id=\"T_d8da9_row0_col2\" class=\"data row0 col2\" >Renewable and Sustainable Energy Reviews</td>\n",
              "      <td id=\"T_d8da9_row0_col3\" class=\"data row0 col3\" >2010</td>\n",
              "      <td id=\"T_d8da9_row0_col4\" class=\"data row0 col4\" >2036</td>\n",
              "    </tr>\n",
              "    <tr>\n",
              "      <th id=\"T_d8da9_level0_row1\" class=\"row_heading level0 row1\" >2</th>\n",
              "      <td id=\"T_d8da9_row1_col0\" class=\"data row1 col0\" >Drew B.; Plummer A.R.; Sahinkaya M.N.</td>\n",
              "      <td id=\"T_d8da9_row1_col1\" class=\"data row1 col1\" >A review of wave energy converter technology</td>\n",
              "      <td id=\"T_d8da9_row1_col2\" class=\"data row1 col2\" >Proceedings of the Institution of Mechanical Engineers, Part A: Journal of Power and Energy</td>\n",
              "      <td id=\"T_d8da9_row1_col3\" class=\"data row1 col3\" >2009</td>\n",
              "      <td id=\"T_d8da9_row1_col4\" class=\"data row1 col4\" >867</td>\n",
              "    </tr>\n",
              "    <tr>\n",
              "      <th id=\"T_d8da9_level0_row2\" class=\"row_heading level0 row2\" >3</th>\n",
              "      <td id=\"T_d8da9_row2_col0\" class=\"data row2 col0\" >Falnes J.</td>\n",
              "      <td id=\"T_d8da9_row2_col1\" class=\"data row2 col1\" >A review of wave-energy extraction</td>\n",
              "      <td id=\"T_d8da9_row2_col2\" class=\"data row2 col2\" >Marine Structures</td>\n",
              "      <td id=\"T_d8da9_row2_col3\" class=\"data row2 col3\" >2007</td>\n",
              "      <td id=\"T_d8da9_row2_col4\" class=\"data row2 col4\" >809</td>\n",
              "    </tr>\n",
              "    <tr>\n",
              "      <th id=\"T_d8da9_level0_row3\" class=\"row_heading level0 row3\" >4</th>\n",
              "      <td id=\"T_d8da9_row3_col0\" class=\"data row3 col0\" >Wang Z.L.; Jiang T.; Xu L.</td>\n",
              "      <td id=\"T_d8da9_row3_col1\" class=\"data row3 col1\" >Toward the blue energy dream by triboelectric nanogenerator networks</td>\n",
              "      <td id=\"T_d8da9_row3_col2\" class=\"data row3 col2\" >Nano Energy</td>\n",
              "      <td id=\"T_d8da9_row3_col3\" class=\"data row3 col3\" >2017</td>\n",
              "      <td id=\"T_d8da9_row3_col4\" class=\"data row3 col4\" >727</td>\n",
              "    </tr>\n",
              "    <tr>\n",
              "      <th id=\"T_d8da9_level0_row4\" class=\"row_heading level0 row4\" >5</th>\n",
              "      <td id=\"T_d8da9_row4_col0\" class=\"data row4 col0\" >Falcão A.F.O.; Henriques J.C.C.</td>\n",
              "      <td id=\"T_d8da9_row4_col1\" class=\"data row4 col1\" >Oscillating-water-column wave energy converters and air turbines: A review</td>\n",
              "      <td id=\"T_d8da9_row4_col2\" class=\"data row4 col2\" >Renewable Energy</td>\n",
              "      <td id=\"T_d8da9_row4_col3\" class=\"data row4 col3\" >2016</td>\n",
              "      <td id=\"T_d8da9_row4_col4\" class=\"data row4 col4\" >594</td>\n",
              "    </tr>\n",
              "    <tr>\n",
              "      <th id=\"T_d8da9_level0_row5\" class=\"row_heading level0 row5\" >6</th>\n",
              "      <td id=\"T_d8da9_row5_col0\" class=\"data row5 col0\" >Babarit A.; Hals J.; Muliawan M.J.; Kurniawan A.; Moan T.; Krokstad J.</td>\n",
              "      <td id=\"T_d8da9_row5_col1\" class=\"data row5 col1\" >Numerical benchmarking study of a selection of wave energy converters</td>\n",
              "      <td id=\"T_d8da9_row5_col2\" class=\"data row5 col2\" >Renewable Energy</td>\n",
              "      <td id=\"T_d8da9_row5_col3\" class=\"data row5 col3\" >2012</td>\n",
              "      <td id=\"T_d8da9_row5_col4\" class=\"data row5 col4\" >551</td>\n",
              "    </tr>\n",
              "    <tr>\n",
              "      <th id=\"T_d8da9_level0_row6\" class=\"row_heading level0 row6\" >7</th>\n",
              "      <td id=\"T_d8da9_row6_col0\" class=\"data row6 col0\" >López I.; Andreu J.; Ceballos S.; Martínez De Alegría I.; Kortabarria I.</td>\n",
              "      <td id=\"T_d8da9_row6_col1\" class=\"data row6 col1\" >Review of wave energy technologies and the necessary power-equipment</td>\n",
              "      <td id=\"T_d8da9_row6_col2\" class=\"data row6 col2\" >Renewable and Sustainable Energy Reviews</td>\n",
              "      <td id=\"T_d8da9_row6_col3\" class=\"data row6 col3\" >2013</td>\n",
              "      <td id=\"T_d8da9_row6_col4\" class=\"data row6 col4\" >533</td>\n",
              "    </tr>\n",
              "    <tr>\n",
              "      <th id=\"T_d8da9_level0_row7\" class=\"row_heading level0 row7\" >8</th>\n",
              "      <td id=\"T_d8da9_row7_col0\" class=\"data row7 col0\" >Gunn K.; Stock-Williams C.</td>\n",
              "      <td id=\"T_d8da9_row7_col1\" class=\"data row7 col1\" >Quantifying the global wave power resource</td>\n",
              "      <td id=\"T_d8da9_row7_col2\" class=\"data row7 col2\" >Renewable Energy</td>\n",
              "      <td id=\"T_d8da9_row7_col3\" class=\"data row7 col3\" >2012</td>\n",
              "      <td id=\"T_d8da9_row7_col4\" class=\"data row7 col4\" >436</td>\n",
              "    </tr>\n",
              "    <tr>\n",
              "      <th id=\"T_d8da9_level0_row8\" class=\"row_heading level0 row8\" >9</th>\n",
              "      <td id=\"T_d8da9_row8_col0\" class=\"data row8 col0\" >Pérez-Collazo C.; Greaves D.; Iglesias G.</td>\n",
              "      <td id=\"T_d8da9_row8_col1\" class=\"data row8 col1\" >A review of combined wave and offshore wind energy</td>\n",
              "      <td id=\"T_d8da9_row8_col2\" class=\"data row8 col2\" >Renewable and Sustainable Energy Reviews</td>\n",
              "      <td id=\"T_d8da9_row8_col3\" class=\"data row8 col3\" >2015</td>\n",
              "      <td id=\"T_d8da9_row8_col4\" class=\"data row8 col4\" >403</td>\n",
              "    </tr>\n",
              "    <tr>\n",
              "      <th id=\"T_d8da9_level0_row9\" class=\"row_heading level0 row9\" >10</th>\n",
              "      <td id=\"T_d8da9_row9_col0\" class=\"data row9 col0\" >Hussain A.; Arif S.M.; Aslam M.</td>\n",
              "      <td id=\"T_d8da9_row9_col1\" class=\"data row9 col1\" >Emerging renewable and sustainable energy technologies: State of the art</td>\n",
              "      <td id=\"T_d8da9_row9_col2\" class=\"data row9 col2\" >Renewable and Sustainable Energy Reviews</td>\n",
              "      <td id=\"T_d8da9_row9_col3\" class=\"data row9 col3\" >2017</td>\n",
              "      <td id=\"T_d8da9_row9_col4\" class=\"data row9 col4\" >335</td>\n",
              "    </tr>\n",
              "  </tbody>\n",
              "</table>\n"
            ]
          },
          "metadata": {},
          "execution_count": 150
        }
      ]
    },
    {
      "cell_type": "markdown",
      "source": [
        "# Papers per year"
      ],
      "metadata": {
        "id": "CPvw1Isz6pQM"
      }
    },
    {
      "cell_type": "code",
      "source": [
        "year_dic = {i:0 for i in range( min( year_lst ), max( year_lst )+1 ) }\n",
        "\n",
        "for n, ( year, stage ) in enumerate( zip( year_lst, stage_lst ) ):\n",
        "    if stage == 'Final' and affiliations == affiliations: # detect NANs\n",
        "        year_dic[year] += 1\n",
        "\n",
        "mpl.figure( 1, figsize=(6,4) )\n",
        "mpl.plot( year_dic.keys(), year_dic.values(), 'o-', \n",
        "         linewidth=2, color='#3679e0',\n",
        "         markersize=7, markerfacecolor='w', markeredgewidth=2,\n",
        "         markeredgecolor='#3679e0' )\n",
        "mpl.xlim( (2002, 2024) )\n",
        "mpl.grid()\n",
        "mpl.xlabel( 'Year' )\n",
        "mpl.ylabel( 'Number of papers' )\n",
        "mpl.gca().set_axisbelow(True)\n",
        "mpl.gca().set_xticks( range( min( year_lst ), max( year_lst )+1, 2 ) );"
      ],
      "metadata": {
        "id": "gzTHr1sm6uuN",
        "outputId": "41d37027-5344-478e-d3e5-a51aaa3fb319",
        "colab": {
          "base_uri": "https://localhost:8080/",
          "height": 408
        }
      },
      "execution_count": 198,
      "outputs": [
        {
          "output_type": "display_data",
          "data": {
            "text/plain": [
              "<Figure size 480x320 with 1 Axes>"
            ],
            "image/svg+xml": "<?xml version=\"1.0\" encoding=\"utf-8\" standalone=\"no\"?>\n<!DOCTYPE svg PUBLIC \"-//W3C//DTD SVG 1.1//EN\"\n  \"http://www.w3.org/Graphics/SVG/1.1/DTD/svg11.dtd\">\n<svg xmlns:xlink=\"http://www.w3.org/1999/xlink\" width=\"413.64pt\" height=\"290.52pt\" viewBox=\"0 0 413.64 290.52\" xmlns=\"http://www.w3.org/2000/svg\" version=\"1.1\">\n <metadata>\n  <rdf:RDF xmlns:dc=\"http://purl.org/dc/elements/1.1/\" xmlns:cc=\"http://creativecommons.org/ns#\" xmlns:rdf=\"http://www.w3.org/1999/02/22-rdf-syntax-ns#\">\n   <cc:Work>\n    <dc:type rdf:resource=\"http://purl.org/dc/dcmitype/StillImage\"/>\n    <dc:date>2023-06-10T11:15:44.273529</dc:date>\n    <dc:format>image/svg+xml</dc:format>\n    <dc:creator>\n     <cc:Agent>\n      <dc:title>Matplotlib v3.7.1, https://matplotlib.org/</dc:title>\n     </cc:Agent>\n    </dc:creator>\n   </cc:Work>\n  </rdf:RDF>\n </metadata>\n <defs>\n  <style type=\"text/css\">*{stroke-linejoin: round; stroke-linecap: butt}</style>\n </defs>\n <g id=\"figure_1\">\n  <g id=\"patch_1\">\n   <path d=\"M 0 290.52 \nL 413.64 290.52 \nL 413.64 0 \nL 0 0 \nz\n\" style=\"fill: #ffffff\"/>\n  </g>\n  <g id=\"axes_1\">\n   <g id=\"patch_2\">\n    <path d=\"M 52.2 246.96 \nL 406.44 246.96 \nL 406.44 13.68 \nL 52.2 13.68 \nz\n\" style=\"fill: #ffffff\"/>\n   </g>\n   <g id=\"matplotlib.axis_1\">\n    <g id=\"xtick_1\">\n     <g id=\"line2d_1\">\n      <path d=\"M 68.301818 246.96 \nL 68.301818 13.68 \n\" clip-path=\"url(#p825c54d36f)\" style=\"fill: none; stroke-dasharray: 1,3; stroke-dashoffset: 0; stroke: #000000; stroke-width: 0.5\"/>\n     </g>\n     <g id=\"line2d_2\">\n      <defs>\n       <path id=\"meace72ac95\" d=\"M 0 0 \nL 0 -4 \n\" style=\"stroke: #000000; stroke-width: 0.5\"/>\n      </defs>\n      <g>\n       <use xlink:href=\"#meace72ac95\" x=\"68.301818\" y=\"246.96\" style=\"stroke: #000000; stroke-width: 0.5\"/>\n      </g>\n     </g>\n     <g id=\"line2d_3\">\n      <defs>\n       <path id=\"m3b0623ebd0\" d=\"M 0 0 \nL 0 4 \n\" style=\"stroke: #000000; stroke-width: 0.5\"/>\n      </defs>\n      <g>\n       <use xlink:href=\"#m3b0623ebd0\" x=\"68.301818\" y=\"13.68\" style=\"stroke: #000000; stroke-width: 0.5\"/>\n      </g>\n     </g>\n     <g id=\"text_1\">\n      <!-- 2003 -->\n      <g transform=\"translate(53.901818 260.79475) scale(0.144 -0.144)\">\n       <defs>\n        <path id=\"STIXGeneral-Regular-32\" d=\"M 3034 877 \nL 2688 0 \nL 186 0 \nL 186 77 \nL 1325 1286 \nQ 1773 1754 1965 2144 \nQ 2157 2534 2157 2950 \nQ 2157 3379 1920 3616 \nQ 1683 3853 1267 3853 \nQ 922 3853 720 3673 \nQ 518 3494 326 3021 \nL 192 3053 \nQ 301 3648 630 3987 \nQ 960 4326 1523 4326 \nQ 2054 4326 2380 4006 \nQ 2707 3686 2707 3200 \nQ 2707 2477 1888 1613 \nL 832 486 \nL 2330 486 \nQ 2541 486 2665 569 \nQ 2790 653 2944 915 \nL 3034 877 \nz\n\" transform=\"scale(0.015625)\"/>\n        <path id=\"STIXGeneral-Regular-30\" d=\"M 3046 2112 \nQ 3046 1683 2963 1302 \nQ 2880 922 2717 602 \nQ 2554 282 2266 96 \nQ 1978 -90 1600 -90 \nQ 1210 -90 915 108 \nQ 621 307 461 640 \nQ 301 973 227 1350 \nQ 154 1728 154 2150 \nQ 154 2746 301 3222 \nQ 448 3699 790 4012 \nQ 1133 4326 1626 4326 \nQ 2253 4326 2649 3712 \nQ 3046 3098 3046 2112 \nz\nM 2432 2080 \nQ 2432 3091 2217 3625 \nQ 2003 4160 1587 4160 \nQ 1190 4160 979 3622 \nQ 768 3085 768 2106 \nQ 768 1120 979 598 \nQ 1190 77 1600 77 \nQ 2003 77 2217 598 \nQ 2432 1120 2432 2080 \nz\n\" transform=\"scale(0.015625)\"/>\n        <path id=\"STIXGeneral-Regular-33\" d=\"M 390 3264 \nL 288 3290 \nQ 435 3770 748 4048 \nQ 1062 4326 1542 4326 \nQ 1990 4326 2265 4083 \nQ 2541 3840 2541 3450 \nQ 2541 2925 1946 2566 \nQ 2298 2413 2477 2227 \nQ 2758 1914 2758 1402 \nQ 2758 890 2464 506 \nQ 2246 211 1840 60 \nQ 1434 -90 979 -90 \nQ 262 -90 262 275 \nQ 262 378 339 442 \nQ 416 506 525 506 \nQ 685 506 915 339 \nQ 1197 141 1466 141 \nQ 1818 141 2058 425 \nQ 2298 710 2298 1120 \nQ 2298 1856 1632 2048 \nQ 1434 2112 979 2112 \nL 979 2202 \nQ 1338 2323 1517 2432 \nQ 2035 2726 2035 3290 \nQ 2035 3610 1852 3776 \nQ 1670 3942 1344 3942 \nQ 768 3942 390 3264 \nz\n\" transform=\"scale(0.015625)\"/>\n       </defs>\n       <use xlink:href=\"#STIXGeneral-Regular-32\"/>\n       <use xlink:href=\"#STIXGeneral-Regular-30\" x=\"49.999985\"/>\n       <use xlink:href=\"#STIXGeneral-Regular-30\" x=\"99.999969\"/>\n       <use xlink:href=\"#STIXGeneral-Regular-33\" x=\"149.999954\"/>\n      </g>\n     </g>\n    </g>\n    <g id=\"xtick_2\">\n     <g id=\"line2d_4\">\n      <path d=\"M 100.505455 246.96 \nL 100.505455 13.68 \n\" clip-path=\"url(#p825c54d36f)\" style=\"fill: none; stroke-dasharray: 1,3; stroke-dashoffset: 0; stroke: #000000; stroke-width: 0.5\"/>\n     </g>\n     <g id=\"line2d_5\">\n      <g>\n       <use xlink:href=\"#meace72ac95\" x=\"100.505455\" y=\"246.96\" style=\"stroke: #000000; stroke-width: 0.5\"/>\n      </g>\n     </g>\n     <g id=\"line2d_6\">\n      <g>\n       <use xlink:href=\"#m3b0623ebd0\" x=\"100.505455\" y=\"13.68\" style=\"stroke: #000000; stroke-width: 0.5\"/>\n      </g>\n     </g>\n     <g id=\"text_2\">\n      <!-- 2005 -->\n      <g transform=\"translate(86.105455 260.79475) scale(0.144 -0.144)\">\n       <defs>\n        <path id=\"STIXGeneral-Regular-35\" d=\"M 2803 4358 \nL 2573 3814 \nQ 2534 3731 2400 3731 \nL 1158 3731 \nL 902 3187 \nQ 1606 3053 1920 2896 \nQ 2234 2739 2502 2368 \nQ 2726 2061 2726 1555 \nQ 2726 1094 2576 780 \nQ 2426 467 2099 224 \nQ 1664 -90 1011 -90 \nQ 646 -90 422 19 \nQ 198 128 198 307 \nQ 198 550 486 550 \nQ 717 550 960 352 \nQ 1210 147 1414 147 \nQ 1747 147 2012 480 \nQ 2278 813 2278 1229 \nQ 2278 1843 1850 2189 \nQ 1293 2637 486 2637 \nQ 410 2637 410 2688 \nL 416 2720 \nL 1114 4237 \nL 2438 4237 \nQ 2547 4237 2608 4269 \nQ 2669 4301 2746 4403 \nL 2803 4358 \nz\n\" transform=\"scale(0.015625)\"/>\n       </defs>\n       <use xlink:href=\"#STIXGeneral-Regular-32\"/>\n       <use xlink:href=\"#STIXGeneral-Regular-30\" x=\"49.999985\"/>\n       <use xlink:href=\"#STIXGeneral-Regular-30\" x=\"99.999969\"/>\n       <use xlink:href=\"#STIXGeneral-Regular-35\" x=\"149.999954\"/>\n      </g>\n     </g>\n    </g>\n    <g id=\"xtick_3\">\n     <g id=\"line2d_7\">\n      <path d=\"M 132.709091 246.96 \nL 132.709091 13.68 \n\" clip-path=\"url(#p825c54d36f)\" style=\"fill: none; stroke-dasharray: 1,3; stroke-dashoffset: 0; stroke: #000000; stroke-width: 0.5\"/>\n     </g>\n     <g id=\"line2d_8\">\n      <g>\n       <use xlink:href=\"#meace72ac95\" x=\"132.709091\" y=\"246.96\" style=\"stroke: #000000; stroke-width: 0.5\"/>\n      </g>\n     </g>\n     <g id=\"line2d_9\">\n      <g>\n       <use xlink:href=\"#m3b0623ebd0\" x=\"132.709091\" y=\"13.68\" style=\"stroke: #000000; stroke-width: 0.5\"/>\n      </g>\n     </g>\n     <g id=\"text_3\">\n      <!-- 2007 -->\n      <g transform=\"translate(118.309091 260.79475) scale(0.144 -0.144)\">\n       <defs>\n        <path id=\"STIXGeneral-Regular-37\" d=\"M 2874 4134 \nL 1517 -51 \nL 1101 -51 \nL 2368 3763 \nL 992 3763 \nQ 717 3763 582 3667 \nQ 448 3571 243 3238 \nL 128 3296 \nL 512 4237 \nL 2874 4237 \nL 2874 4134 \nz\n\" transform=\"scale(0.015625)\"/>\n       </defs>\n       <use xlink:href=\"#STIXGeneral-Regular-32\"/>\n       <use xlink:href=\"#STIXGeneral-Regular-30\" x=\"49.999985\"/>\n       <use xlink:href=\"#STIXGeneral-Regular-30\" x=\"99.999969\"/>\n       <use xlink:href=\"#STIXGeneral-Regular-37\" x=\"149.999954\"/>\n      </g>\n     </g>\n    </g>\n    <g id=\"xtick_4\">\n     <g id=\"line2d_10\">\n      <path d=\"M 164.912727 246.96 \nL 164.912727 13.68 \n\" clip-path=\"url(#p825c54d36f)\" style=\"fill: none; stroke-dasharray: 1,3; stroke-dashoffset: 0; stroke: #000000; stroke-width: 0.5\"/>\n     </g>\n     <g id=\"line2d_11\">\n      <g>\n       <use xlink:href=\"#meace72ac95\" x=\"164.912727\" y=\"246.96\" style=\"stroke: #000000; stroke-width: 0.5\"/>\n      </g>\n     </g>\n     <g id=\"line2d_12\">\n      <g>\n       <use xlink:href=\"#m3b0623ebd0\" x=\"164.912727\" y=\"13.68\" style=\"stroke: #000000; stroke-width: 0.5\"/>\n      </g>\n     </g>\n     <g id=\"text_4\">\n      <!-- 2009 -->\n      <g transform=\"translate(150.512727 260.79475) scale(0.144 -0.144)\">\n       <defs>\n        <path id=\"STIXGeneral-Regular-39\" d=\"M 378 -141 \nL 358 -13 \nQ 1094 115 1603 608 \nQ 2112 1101 2304 1882 \nQ 1933 1517 1344 1517 \nQ 826 1517 509 1875 \nQ 192 2234 192 2816 \nQ 192 3462 573 3894 \nQ 954 4326 1523 4326 \nQ 2131 4326 2528 3840 \nQ 2938 3328 2938 2522 \nQ 2938 1958 2742 1462 \nQ 2547 966 2170 621 \nQ 1773 262 1395 105 \nQ 1018 -51 378 -141 \nz\nM 2317 2272 \nL 2317 2522 \nQ 2317 4147 1472 4147 \nQ 1171 4147 1005 3930 \nQ 909 3802 845 3546 \nQ 781 3290 781 3034 \nQ 781 2464 995 2128 \nQ 1210 1792 1568 1792 \nQ 1824 1792 2070 1917 \nQ 2317 2042 2317 2272 \nz\n\" transform=\"scale(0.015625)\"/>\n       </defs>\n       <use xlink:href=\"#STIXGeneral-Regular-32\"/>\n       <use xlink:href=\"#STIXGeneral-Regular-30\" x=\"49.999985\"/>\n       <use xlink:href=\"#STIXGeneral-Regular-30\" x=\"99.999969\"/>\n       <use xlink:href=\"#STIXGeneral-Regular-39\" x=\"149.999954\"/>\n      </g>\n     </g>\n    </g>\n    <g id=\"xtick_5\">\n     <g id=\"line2d_13\">\n      <path d=\"M 197.116364 246.96 \nL 197.116364 13.68 \n\" clip-path=\"url(#p825c54d36f)\" style=\"fill: none; stroke-dasharray: 1,3; stroke-dashoffset: 0; stroke: #000000; stroke-width: 0.5\"/>\n     </g>\n     <g id=\"line2d_14\">\n      <g>\n       <use xlink:href=\"#meace72ac95\" x=\"197.116364\" y=\"246.96\" style=\"stroke: #000000; stroke-width: 0.5\"/>\n      </g>\n     </g>\n     <g id=\"line2d_15\">\n      <g>\n       <use xlink:href=\"#m3b0623ebd0\" x=\"197.116364\" y=\"13.68\" style=\"stroke: #000000; stroke-width: 0.5\"/>\n      </g>\n     </g>\n     <g id=\"text_5\">\n      <!-- 2011 -->\n      <g transform=\"translate(182.716364 260.79475) scale(0.144 -0.144)\">\n       <defs>\n        <path id=\"STIXGeneral-Regular-31\" d=\"M 2522 0 \nL 755 0 \nL 755 96 \nQ 1107 115 1235 227 \nQ 1363 339 1363 608 \nL 1363 3482 \nQ 1363 3795 1171 3795 \nQ 1082 3795 883 3718 \nL 710 3654 \nL 710 3744 \nL 1856 4326 \nL 1914 4307 \nL 1914 486 \nQ 1914 275 2042 185 \nQ 2170 96 2522 96 \nL 2522 0 \nz\n\" transform=\"scale(0.015625)\"/>\n       </defs>\n       <use xlink:href=\"#STIXGeneral-Regular-32\"/>\n       <use xlink:href=\"#STIXGeneral-Regular-30\" x=\"49.999985\"/>\n       <use xlink:href=\"#STIXGeneral-Regular-31\" x=\"99.999969\"/>\n       <use xlink:href=\"#STIXGeneral-Regular-31\" x=\"149.999954\"/>\n      </g>\n     </g>\n    </g>\n    <g id=\"xtick_6\">\n     <g id=\"line2d_16\">\n      <path d=\"M 229.32 246.96 \nL 229.32 13.68 \n\" clip-path=\"url(#p825c54d36f)\" style=\"fill: none; stroke-dasharray: 1,3; stroke-dashoffset: 0; stroke: #000000; stroke-width: 0.5\"/>\n     </g>\n     <g id=\"line2d_17\">\n      <g>\n       <use xlink:href=\"#meace72ac95\" x=\"229.32\" y=\"246.96\" style=\"stroke: #000000; stroke-width: 0.5\"/>\n      </g>\n     </g>\n     <g id=\"line2d_18\">\n      <g>\n       <use xlink:href=\"#m3b0623ebd0\" x=\"229.32\" y=\"13.68\" style=\"stroke: #000000; stroke-width: 0.5\"/>\n      </g>\n     </g>\n     <g id=\"text_6\">\n      <!-- 2013 -->\n      <g transform=\"translate(214.92 260.79475) scale(0.144 -0.144)\">\n       <use xlink:href=\"#STIXGeneral-Regular-32\"/>\n       <use xlink:href=\"#STIXGeneral-Regular-30\" x=\"49.999985\"/>\n       <use xlink:href=\"#STIXGeneral-Regular-31\" x=\"99.999969\"/>\n       <use xlink:href=\"#STIXGeneral-Regular-33\" x=\"149.999954\"/>\n      </g>\n     </g>\n    </g>\n    <g id=\"xtick_7\">\n     <g id=\"line2d_19\">\n      <path d=\"M 261.523636 246.96 \nL 261.523636 13.68 \n\" clip-path=\"url(#p825c54d36f)\" style=\"fill: none; stroke-dasharray: 1,3; stroke-dashoffset: 0; stroke: #000000; stroke-width: 0.5\"/>\n     </g>\n     <g id=\"line2d_20\">\n      <g>\n       <use xlink:href=\"#meace72ac95\" x=\"261.523636\" y=\"246.96\" style=\"stroke: #000000; stroke-width: 0.5\"/>\n      </g>\n     </g>\n     <g id=\"line2d_21\">\n      <g>\n       <use xlink:href=\"#m3b0623ebd0\" x=\"261.523636\" y=\"13.68\" style=\"stroke: #000000; stroke-width: 0.5\"/>\n      </g>\n     </g>\n     <g id=\"text_7\">\n      <!-- 2015 -->\n      <g transform=\"translate(247.123636 260.79475) scale(0.144 -0.144)\">\n       <use xlink:href=\"#STIXGeneral-Regular-32\"/>\n       <use xlink:href=\"#STIXGeneral-Regular-30\" x=\"49.999985\"/>\n       <use xlink:href=\"#STIXGeneral-Regular-31\" x=\"99.999969\"/>\n       <use xlink:href=\"#STIXGeneral-Regular-35\" x=\"149.999954\"/>\n      </g>\n     </g>\n    </g>\n    <g id=\"xtick_8\">\n     <g id=\"line2d_22\">\n      <path d=\"M 293.727273 246.96 \nL 293.727273 13.68 \n\" clip-path=\"url(#p825c54d36f)\" style=\"fill: none; stroke-dasharray: 1,3; stroke-dashoffset: 0; stroke: #000000; stroke-width: 0.5\"/>\n     </g>\n     <g id=\"line2d_23\">\n      <g>\n       <use xlink:href=\"#meace72ac95\" x=\"293.727273\" y=\"246.96\" style=\"stroke: #000000; stroke-width: 0.5\"/>\n      </g>\n     </g>\n     <g id=\"line2d_24\">\n      <g>\n       <use xlink:href=\"#m3b0623ebd0\" x=\"293.727273\" y=\"13.68\" style=\"stroke: #000000; stroke-width: 0.5\"/>\n      </g>\n     </g>\n     <g id=\"text_8\">\n      <!-- 2017 -->\n      <g transform=\"translate(279.327273 260.79475) scale(0.144 -0.144)\">\n       <use xlink:href=\"#STIXGeneral-Regular-32\"/>\n       <use xlink:href=\"#STIXGeneral-Regular-30\" x=\"49.999985\"/>\n       <use xlink:href=\"#STIXGeneral-Regular-31\" x=\"99.999969\"/>\n       <use xlink:href=\"#STIXGeneral-Regular-37\" x=\"149.999954\"/>\n      </g>\n     </g>\n    </g>\n    <g id=\"xtick_9\">\n     <g id=\"line2d_25\">\n      <path d=\"M 325.930909 246.96 \nL 325.930909 13.68 \n\" clip-path=\"url(#p825c54d36f)\" style=\"fill: none; stroke-dasharray: 1,3; stroke-dashoffset: 0; stroke: #000000; stroke-width: 0.5\"/>\n     </g>\n     <g id=\"line2d_26\">\n      <g>\n       <use xlink:href=\"#meace72ac95\" x=\"325.930909\" y=\"246.96\" style=\"stroke: #000000; stroke-width: 0.5\"/>\n      </g>\n     </g>\n     <g id=\"line2d_27\">\n      <g>\n       <use xlink:href=\"#m3b0623ebd0\" x=\"325.930909\" y=\"13.68\" style=\"stroke: #000000; stroke-width: 0.5\"/>\n      </g>\n     </g>\n     <g id=\"text_9\">\n      <!-- 2019 -->\n      <g transform=\"translate(311.530909 260.79475) scale(0.144 -0.144)\">\n       <use xlink:href=\"#STIXGeneral-Regular-32\"/>\n       <use xlink:href=\"#STIXGeneral-Regular-30\" x=\"49.999985\"/>\n       <use xlink:href=\"#STIXGeneral-Regular-31\" x=\"99.999969\"/>\n       <use xlink:href=\"#STIXGeneral-Regular-39\" x=\"149.999954\"/>\n      </g>\n     </g>\n    </g>\n    <g id=\"xtick_10\">\n     <g id=\"line2d_28\">\n      <path d=\"M 358.134545 246.96 \nL 358.134545 13.68 \n\" clip-path=\"url(#p825c54d36f)\" style=\"fill: none; stroke-dasharray: 1,3; stroke-dashoffset: 0; stroke: #000000; stroke-width: 0.5\"/>\n     </g>\n     <g id=\"line2d_29\">\n      <g>\n       <use xlink:href=\"#meace72ac95\" x=\"358.134545\" y=\"246.96\" style=\"stroke: #000000; stroke-width: 0.5\"/>\n      </g>\n     </g>\n     <g id=\"line2d_30\">\n      <g>\n       <use xlink:href=\"#m3b0623ebd0\" x=\"358.134545\" y=\"13.68\" style=\"stroke: #000000; stroke-width: 0.5\"/>\n      </g>\n     </g>\n     <g id=\"text_10\">\n      <!-- 2021 -->\n      <g transform=\"translate(343.734545 260.79475) scale(0.144 -0.144)\">\n       <use xlink:href=\"#STIXGeneral-Regular-32\"/>\n       <use xlink:href=\"#STIXGeneral-Regular-30\" x=\"49.999985\"/>\n       <use xlink:href=\"#STIXGeneral-Regular-32\" x=\"99.999969\"/>\n       <use xlink:href=\"#STIXGeneral-Regular-31\" x=\"149.999954\"/>\n      </g>\n     </g>\n    </g>\n    <g id=\"xtick_11\">\n     <g id=\"line2d_31\">\n      <path d=\"M 390.338182 246.96 \nL 390.338182 13.68 \n\" clip-path=\"url(#p825c54d36f)\" style=\"fill: none; stroke-dasharray: 1,3; stroke-dashoffset: 0; stroke: #000000; stroke-width: 0.5\"/>\n     </g>\n     <g id=\"line2d_32\">\n      <g>\n       <use xlink:href=\"#meace72ac95\" x=\"390.338182\" y=\"246.96\" style=\"stroke: #000000; stroke-width: 0.5\"/>\n      </g>\n     </g>\n     <g id=\"line2d_33\">\n      <g>\n       <use xlink:href=\"#m3b0623ebd0\" x=\"390.338182\" y=\"13.68\" style=\"stroke: #000000; stroke-width: 0.5\"/>\n      </g>\n     </g>\n     <g id=\"text_11\">\n      <!-- 2023 -->\n      <g transform=\"translate(375.938182 260.79475) scale(0.144 -0.144)\">\n       <use xlink:href=\"#STIXGeneral-Regular-32\"/>\n       <use xlink:href=\"#STIXGeneral-Regular-30\" x=\"49.999985\"/>\n       <use xlink:href=\"#STIXGeneral-Regular-32\" x=\"99.999969\"/>\n       <use xlink:href=\"#STIXGeneral-Regular-33\" x=\"149.999954\"/>\n      </g>\n     </g>\n    </g>\n    <g id=\"text_12\">\n     <!-- Year -->\n     <g transform=\"translate(213.775 279.8475) scale(0.16 -0.16)\">\n      <defs>\n       <path id=\"STIXGeneral-Regular-59\" d=\"M 4499 4237 \nL 4499 4115 \nQ 4218 4090 4054 3955 \nQ 3891 3821 3616 3398 \nL 2669 1939 \nL 2669 710 \nQ 2669 346 2790 243 \nQ 2912 141 3328 122 \nL 3328 0 \nL 1370 0 \nL 1370 122 \nQ 1805 154 1910 259 \nQ 2016 365 2016 787 \nL 2016 1882 \nL 1178 3110 \nQ 742 3750 556 3926 \nQ 371 4102 141 4115 \nL 141 4237 \nL 1926 4237 \nL 1926 4115 \nL 1773 4109 \nQ 1472 4102 1472 3942 \nQ 1472 3808 1587 3642 \nL 2522 2227 \nL 3450 3648 \nQ 3539 3782 3539 3917 \nQ 3533 4026 3440 4067 \nQ 3347 4109 3104 4115 \nL 3104 4237 \nL 4499 4237 \nz\n\" transform=\"scale(0.015625)\"/>\n       <path id=\"STIXGeneral-Regular-65\" d=\"M 2611 1050 \nL 2714 1005 \nQ 2330 -64 1376 -64 \nQ 813 -64 486 329 \nQ 160 723 160 1389 \nQ 160 2074 525 2509 \nQ 890 2944 1485 2944 \nQ 2061 2944 2374 2502 \nQ 2560 2246 2592 1773 \nL 621 1773 \nQ 646 1370 700 1158 \nQ 755 947 915 730 \nQ 1184 378 1626 378 \nQ 1939 378 2153 531 \nQ 2368 685 2611 1050 \nz\nM 634 1978 \nL 1939 1978 \nQ 1882 2381 1750 2547 \nQ 1619 2714 1312 2714 \nQ 1043 2714 864 2525 \nQ 685 2336 634 1978 \nz\n\" transform=\"scale(0.015625)\"/>\n       <path id=\"STIXGeneral-Regular-61\" d=\"M 2829 422 \nL 2829 243 \nQ 2586 -64 2253 -64 \nQ 1888 -64 1843 403 \nL 1837 403 \nQ 1427 -64 909 -64 \nQ 608 -64 422 112 \nQ 237 288 237 602 \nQ 237 1050 685 1350 \nQ 992 1555 1837 1869 \nL 1837 2214 \nQ 1837 2502 1699 2646 \nQ 1562 2790 1338 2790 \nQ 1146 2790 1018 2697 \nQ 890 2605 890 2477 \nQ 890 2419 909 2348 \nQ 928 2278 928 2208 \nQ 928 2112 841 2029 \nQ 755 1946 634 1946 \nQ 525 1946 441 2029 \nQ 358 2112 358 2240 \nQ 358 2547 685 2752 \nQ 986 2944 1421 2944 \nQ 1939 2944 2176 2656 \nQ 2291 2522 2323 2384 \nQ 2355 2246 2355 1946 \nL 2355 723 \nQ 2355 301 2554 301 \nQ 2682 301 2829 422 \nz\nM 1837 813 \nL 1837 1715 \nQ 1248 1510 1018 1293 \nQ 800 1094 800 800 \nQ 800 557 921 432 \nQ 1043 307 1242 307 \nQ 1453 307 1613 410 \nQ 1747 506 1792 589 \nQ 1837 672 1837 813 \nz\n\" transform=\"scale(0.015625)\"/>\n       <path id=\"STIXGeneral-Regular-72\" d=\"M 1024 2931 \nL 1024 2342 \nQ 1267 2688 1430 2816 \nQ 1594 2944 1792 2944 \nQ 1958 2944 2051 2854 \nQ 2144 2765 2144 2605 \nQ 2144 2470 2077 2393 \nQ 2010 2317 1894 2317 \nQ 1773 2317 1638 2445 \nQ 1536 2541 1472 2541 \nQ 1338 2541 1181 2355 \nQ 1024 2170 1024 2016 \nL 1024 576 \nQ 1024 301 1133 205 \nQ 1242 109 1568 96 \nL 1568 0 \nL 32 0 \nL 32 96 \nQ 339 154 412 224 \nQ 486 294 486 538 \nL 486 2138 \nQ 486 2349 438 2435 \nQ 390 2522 269 2522 \nQ 166 2522 45 2496 \nL 45 2598 \nQ 448 2726 992 2944 \nL 1024 2931 \nz\n\" transform=\"scale(0.015625)\"/>\n      </defs>\n      <use xlink:href=\"#STIXGeneral-Regular-59\"/>\n      <use xlink:href=\"#STIXGeneral-Regular-65\" x=\"72.199982\"/>\n      <use xlink:href=\"#STIXGeneral-Regular-61\" x=\"116.599976\"/>\n      <use xlink:href=\"#STIXGeneral-Regular-72\" x=\"160.999969\"/>\n     </g>\n    </g>\n   </g>\n   <g id=\"matplotlib.axis_2\">\n    <g id=\"ytick_1\">\n     <g id=\"line2d_34\">\n      <path d=\"M 52.2 246.96 \nL 406.44 246.96 \n\" clip-path=\"url(#p825c54d36f)\" style=\"fill: none; stroke-dasharray: 1,3; stroke-dashoffset: 0; stroke: #000000; stroke-width: 0.5\"/>\n     </g>\n     <g id=\"line2d_35\">\n      <defs>\n       <path id=\"m7029cc6cde\" d=\"M 0 0 \nL 4 0 \n\" style=\"stroke: #000000; stroke-width: 0.5\"/>\n      </defs>\n      <g>\n       <use xlink:href=\"#m7029cc6cde\" x=\"52.2\" y=\"246.96\" style=\"stroke: #000000; stroke-width: 0.5\"/>\n      </g>\n     </g>\n     <g id=\"line2d_36\">\n      <defs>\n       <path id=\"mceb387086e\" d=\"M 0 0 \nL -4 0 \n\" style=\"stroke: #000000; stroke-width: 0.5\"/>\n      </defs>\n      <g>\n       <use xlink:href=\"#mceb387086e\" x=\"406.44\" y=\"246.96\" style=\"stroke: #000000; stroke-width: 0.5\"/>\n      </g>\n     </g>\n     <g id=\"text_13\">\n      <!-- 0 -->\n      <g transform=\"translate(41 250.31475) scale(0.144 -0.144)\">\n       <use xlink:href=\"#STIXGeneral-Regular-30\"/>\n      </g>\n     </g>\n    </g>\n    <g id=\"ytick_2\">\n     <g id=\"line2d_37\">\n      <path d=\"M 52.2 208.08 \nL 406.44 208.08 \n\" clip-path=\"url(#p825c54d36f)\" style=\"fill: none; stroke-dasharray: 1,3; stroke-dashoffset: 0; stroke: #000000; stroke-width: 0.5\"/>\n     </g>\n     <g id=\"line2d_38\">\n      <g>\n       <use xlink:href=\"#m7029cc6cde\" x=\"52.2\" y=\"208.08\" style=\"stroke: #000000; stroke-width: 0.5\"/>\n      </g>\n     </g>\n     <g id=\"line2d_39\">\n      <g>\n       <use xlink:href=\"#mceb387086e\" x=\"406.44\" y=\"208.08\" style=\"stroke: #000000; stroke-width: 0.5\"/>\n      </g>\n     </g>\n     <g id=\"text_14\">\n      <!-- 100 -->\n      <g transform=\"translate(26.6 211.43475) scale(0.144 -0.144)\">\n       <use xlink:href=\"#STIXGeneral-Regular-31\"/>\n       <use xlink:href=\"#STIXGeneral-Regular-30\" x=\"49.999985\"/>\n       <use xlink:href=\"#STIXGeneral-Regular-30\" x=\"99.999969\"/>\n      </g>\n     </g>\n    </g>\n    <g id=\"ytick_3\">\n     <g id=\"line2d_40\">\n      <path d=\"M 52.2 169.2 \nL 406.44 169.2 \n\" clip-path=\"url(#p825c54d36f)\" style=\"fill: none; stroke-dasharray: 1,3; stroke-dashoffset: 0; stroke: #000000; stroke-width: 0.5\"/>\n     </g>\n     <g id=\"line2d_41\">\n      <g>\n       <use xlink:href=\"#m7029cc6cde\" x=\"52.2\" y=\"169.2\" style=\"stroke: #000000; stroke-width: 0.5\"/>\n      </g>\n     </g>\n     <g id=\"line2d_42\">\n      <g>\n       <use xlink:href=\"#mceb387086e\" x=\"406.44\" y=\"169.2\" style=\"stroke: #000000; stroke-width: 0.5\"/>\n      </g>\n     </g>\n     <g id=\"text_15\">\n      <!-- 200 -->\n      <g transform=\"translate(26.6 172.55475) scale(0.144 -0.144)\">\n       <use xlink:href=\"#STIXGeneral-Regular-32\"/>\n       <use xlink:href=\"#STIXGeneral-Regular-30\" x=\"49.999985\"/>\n       <use xlink:href=\"#STIXGeneral-Regular-30\" x=\"99.999969\"/>\n      </g>\n     </g>\n    </g>\n    <g id=\"ytick_4\">\n     <g id=\"line2d_43\">\n      <path d=\"M 52.2 130.32 \nL 406.44 130.32 \n\" clip-path=\"url(#p825c54d36f)\" style=\"fill: none; stroke-dasharray: 1,3; stroke-dashoffset: 0; stroke: #000000; stroke-width: 0.5\"/>\n     </g>\n     <g id=\"line2d_44\">\n      <g>\n       <use xlink:href=\"#m7029cc6cde\" x=\"52.2\" y=\"130.32\" style=\"stroke: #000000; stroke-width: 0.5\"/>\n      </g>\n     </g>\n     <g id=\"line2d_45\">\n      <g>\n       <use xlink:href=\"#mceb387086e\" x=\"406.44\" y=\"130.32\" style=\"stroke: #000000; stroke-width: 0.5\"/>\n      </g>\n     </g>\n     <g id=\"text_16\">\n      <!-- 300 -->\n      <g transform=\"translate(26.6 133.67475) scale(0.144 -0.144)\">\n       <use xlink:href=\"#STIXGeneral-Regular-33\"/>\n       <use xlink:href=\"#STIXGeneral-Regular-30\" x=\"49.999985\"/>\n       <use xlink:href=\"#STIXGeneral-Regular-30\" x=\"99.999969\"/>\n      </g>\n     </g>\n    </g>\n    <g id=\"ytick_5\">\n     <g id=\"line2d_46\">\n      <path d=\"M 52.2 91.44 \nL 406.44 91.44 \n\" clip-path=\"url(#p825c54d36f)\" style=\"fill: none; stroke-dasharray: 1,3; stroke-dashoffset: 0; stroke: #000000; stroke-width: 0.5\"/>\n     </g>\n     <g id=\"line2d_47\">\n      <g>\n       <use xlink:href=\"#m7029cc6cde\" x=\"52.2\" y=\"91.44\" style=\"stroke: #000000; stroke-width: 0.5\"/>\n      </g>\n     </g>\n     <g id=\"line2d_48\">\n      <g>\n       <use xlink:href=\"#mceb387086e\" x=\"406.44\" y=\"91.44\" style=\"stroke: #000000; stroke-width: 0.5\"/>\n      </g>\n     </g>\n     <g id=\"text_17\">\n      <!-- 400 -->\n      <g transform=\"translate(26.6 94.79475) scale(0.144 -0.144)\">\n       <defs>\n        <path id=\"STIXGeneral-Regular-34\" d=\"M 3027 1069 \nL 2368 1069 \nL 2368 0 \nL 1869 0 \nL 1869 1069 \nL 77 1069 \nL 77 1478 \nL 2086 4326 \nL 2368 4326 \nL 2368 1478 \nL 3027 1478 \nL 3027 1069 \nz\nM 1869 1478 \nL 1869 3674 \nL 333 1478 \nL 1869 1478 \nz\n\" transform=\"scale(0.015625)\"/>\n       </defs>\n       <use xlink:href=\"#STIXGeneral-Regular-34\"/>\n       <use xlink:href=\"#STIXGeneral-Regular-30\" x=\"49.999985\"/>\n       <use xlink:href=\"#STIXGeneral-Regular-30\" x=\"99.999969\"/>\n      </g>\n     </g>\n    </g>\n    <g id=\"ytick_6\">\n     <g id=\"line2d_49\">\n      <path d=\"M 52.2 52.56 \nL 406.44 52.56 \n\" clip-path=\"url(#p825c54d36f)\" style=\"fill: none; stroke-dasharray: 1,3; stroke-dashoffset: 0; stroke: #000000; stroke-width: 0.5\"/>\n     </g>\n     <g id=\"line2d_50\">\n      <g>\n       <use xlink:href=\"#m7029cc6cde\" x=\"52.2\" y=\"52.56\" style=\"stroke: #000000; stroke-width: 0.5\"/>\n      </g>\n     </g>\n     <g id=\"line2d_51\">\n      <g>\n       <use xlink:href=\"#mceb387086e\" x=\"406.44\" y=\"52.56\" style=\"stroke: #000000; stroke-width: 0.5\"/>\n      </g>\n     </g>\n     <g id=\"text_18\">\n      <!-- 500 -->\n      <g transform=\"translate(26.6 55.91475) scale(0.144 -0.144)\">\n       <use xlink:href=\"#STIXGeneral-Regular-35\"/>\n       <use xlink:href=\"#STIXGeneral-Regular-30\" x=\"49.999985\"/>\n       <use xlink:href=\"#STIXGeneral-Regular-30\" x=\"99.999969\"/>\n      </g>\n     </g>\n    </g>\n    <g id=\"ytick_7\">\n     <g id=\"line2d_52\">\n      <path d=\"M 52.2 13.68 \nL 406.44 13.68 \n\" clip-path=\"url(#p825c54d36f)\" style=\"fill: none; stroke-dasharray: 1,3; stroke-dashoffset: 0; stroke: #000000; stroke-width: 0.5\"/>\n     </g>\n     <g id=\"line2d_53\">\n      <g>\n       <use xlink:href=\"#m7029cc6cde\" x=\"52.2\" y=\"13.68\" style=\"stroke: #000000; stroke-width: 0.5\"/>\n      </g>\n     </g>\n     <g id=\"line2d_54\">\n      <g>\n       <use xlink:href=\"#mceb387086e\" x=\"406.44\" y=\"13.68\" style=\"stroke: #000000; stroke-width: 0.5\"/>\n      </g>\n     </g>\n     <g id=\"text_19\">\n      <!-- 600 -->\n      <g transform=\"translate(26.6 17.03475) scale(0.144 -0.144)\">\n       <defs>\n        <path id=\"STIXGeneral-Regular-36\" d=\"M 2854 4378 \nL 2867 4275 \nQ 2112 4154 1606 3664 \nQ 1101 3174 973 2451 \nQ 1344 2739 1786 2739 \nQ 2349 2739 2672 2380 \nQ 2995 2022 2995 1402 \nQ 2995 774 2669 378 \nQ 2291 -90 1651 -90 \nQ 870 -90 518 557 \nQ 218 1107 218 1786 \nQ 218 2835 915 3552 \nQ 1312 3962 1731 4131 \nQ 2150 4301 2854 4378 \nz\nM 2419 1203 \nQ 2419 2445 1555 2445 \nQ 1235 2445 1024 2275 \nQ 813 2106 813 1702 \nQ 813 954 1046 522 \nQ 1280 90 1722 90 \nQ 2061 90 2240 394 \nQ 2419 698 2419 1203 \nz\n\" transform=\"scale(0.015625)\"/>\n       </defs>\n       <use xlink:href=\"#STIXGeneral-Regular-36\"/>\n       <use xlink:href=\"#STIXGeneral-Regular-30\" x=\"49.999985\"/>\n       <use xlink:href=\"#STIXGeneral-Regular-30\" x=\"99.999969\"/>\n      </g>\n     </g>\n    </g>\n    <g id=\"text_20\">\n     <!-- Number of papers -->\n     <g transform=\"translate(18.1275 188.08125) rotate(-90) scale(0.16 -0.16)\">\n      <defs>\n       <path id=\"STIXGeneral-Regular-4e\" d=\"M 4525 4237 \nL 4525 4115 \nQ 4198 4083 4102 4000 \nQ 4000 3910 3958 3756 \nQ 3917 3603 3917 3245 \nL 3917 -70 \nL 3802 -70 \nL 979 3443 \nL 979 960 \nQ 979 474 1088 323 \nQ 1197 173 1574 122 \nL 1574 0 \nL 77 0 \nL 77 122 \nQ 474 166 586 310 \nQ 698 454 698 960 \nL 698 3776 \nQ 531 3981 416 4048 \nQ 301 4115 77 4115 \nL 77 4237 \nL 1165 4237 \nL 3635 1146 \nL 3635 3322 \nQ 3635 3808 3514 3949 \nQ 3437 4032 3344 4061 \nQ 3251 4090 3008 4115 \nL 3008 4237 \nL 4525 4237 \nz\n\" transform=\"scale(0.015625)\"/>\n       <path id=\"STIXGeneral-Regular-75\" d=\"M 3072 320 \nL 3072 230 \nQ 2573 96 2195 -58 \nL 2163 -38 \nL 2163 486 \nL 2150 486 \nQ 1747 -64 1235 -64 \nQ 870 -64 662 160 \nQ 454 384 454 755 \nL 454 2362 \nQ 454 2598 371 2688 \nQ 288 2778 58 2790 \nL 58 2880 \nL 992 2880 \nL 992 813 \nQ 992 595 1123 451 \nQ 1254 307 1446 307 \nQ 1760 307 1984 506 \nQ 2067 582 2099 649 \nQ 2131 717 2131 877 \nL 2131 2355 \nQ 2131 2605 2041 2678 \nQ 1952 2752 1658 2771 \nL 1658 2880 \nL 2669 2880 \nL 2669 685 \nQ 2669 461 2742 390 \nQ 2816 320 3034 320 \nL 3072 320 \nz\n\" transform=\"scale(0.015625)\"/>\n       <path id=\"STIXGeneral-Regular-6d\" d=\"M 4960 0 \nL 3565 0 \nL 3565 96 \nQ 3834 122 3907 208 \nQ 3981 294 3981 576 \nL 3981 1894 \nQ 3981 2278 3869 2444 \nQ 3757 2611 3488 2611 \nQ 3264 2611 3107 2521 \nQ 2950 2432 2803 2221 \nL 2803 608 \nQ 2803 301 2896 201 \nQ 2989 102 3264 96 \nL 3264 0 \nL 1830 0 \nL 1830 96 \nQ 2112 115 2189 188 \nQ 2266 262 2266 550 \nL 2266 1901 \nQ 2266 2611 1850 2611 \nQ 1670 2611 1468 2531 \nQ 1267 2451 1171 2336 \nQ 1088 2240 1088 2227 \nL 1088 448 \nQ 1088 243 1177 176 \nQ 1267 109 1523 96 \nL 1523 0 \nL 102 0 \nL 102 96 \nQ 371 102 460 195 \nQ 550 288 550 563 \nL 550 2150 \nQ 550 2387 499 2480 \nQ 448 2573 326 2573 \nQ 230 2573 122 2547 \nL 122 2656 \nQ 557 2778 1011 2944 \nL 1062 2925 \nL 1062 2451 \nL 1075 2451 \nQ 1363 2752 1584 2848 \nQ 1805 2944 2054 2944 \nQ 2560 2944 2733 2406 \nQ 3232 2944 3776 2944 \nQ 4518 2944 4518 1792 \nL 4518 493 \nQ 4518 282 4582 202 \nQ 4646 122 4794 109 \nL 4960 96 \nL 4960 0 \nz\n\" transform=\"scale(0.015625)\"/>\n       <path id=\"STIXGeneral-Regular-62\" d=\"M 979 4358 \nL 979 2406 \nQ 1082 2650 1315 2797 \nQ 1549 2944 1843 2944 \nQ 2349 2944 2672 2541 \nQ 2995 2138 2995 1536 \nQ 2995 832 2566 384 \nQ 2138 -64 1498 -64 \nQ 1107 -64 774 67 \nQ 442 198 442 358 \nL 442 3622 \nQ 442 3859 384 3926 \nQ 326 3994 128 3994 \nQ 83 3994 19 3981 \nL 19 4090 \nL 211 4147 \nQ 864 4346 947 4371 \nL 979 4358 \nz\nM 979 2035 \nL 979 474 \nQ 979 326 1161 233 \nQ 1344 141 1600 141 \nQ 1978 141 2195 416 \nQ 2432 710 2432 1261 \nQ 2432 1888 2182 2240 \nQ 1971 2541 1613 2541 \nQ 1357 2541 1168 2390 \nQ 979 2240 979 2035 \nz\n\" transform=\"scale(0.015625)\"/>\n       <path id=\"STIXGeneral-Regular-20\" transform=\"scale(0.015625)\"/>\n       <path id=\"STIXGeneral-Regular-6f\" d=\"M 3008 1478 \nQ 3008 806 2608 371 \nQ 2208 -64 1568 -64 \nQ 979 -64 582 368 \nQ 186 800 186 1459 \nQ 186 2125 582 2534 \nQ 979 2944 1626 2944 \nQ 2221 2944 2614 2537 \nQ 3008 2131 3008 1478 \nz\nM 2432 1306 \nQ 2432 2035 2112 2445 \nQ 1856 2765 1504 2765 \nQ 1171 2765 966 2493 \nQ 762 2221 762 1747 \nQ 762 928 1101 435 \nQ 1318 115 1677 115 \nQ 2029 115 2230 432 \nQ 2432 749 2432 1306 \nz\n\" transform=\"scale(0.015625)\"/>\n       <path id=\"STIXGeneral-Regular-66\" d=\"M 134 2880 \nL 659 2880 \nQ 666 3264 710 3478 \nQ 755 3693 883 3910 \nQ 1152 4371 1786 4371 \nQ 2074 4371 2262 4259 \nQ 2451 4147 2451 3974 \nQ 2451 3866 2374 3789 \nQ 2298 3712 2182 3712 \nQ 2029 3712 1894 3942 \nQ 1741 4192 1555 4192 \nQ 1197 4192 1197 3622 \nL 1197 2880 \nL 1978 2880 \nL 1978 2675 \nL 1197 2675 \nL 1197 666 \nQ 1197 307 1299 208 \nQ 1402 109 1792 96 \nL 1792 0 \nL 128 0 \nL 128 96 \nQ 474 115 566 214 \nQ 659 314 659 666 \nL 659 2675 \nL 134 2675 \nL 134 2880 \nz\n\" transform=\"scale(0.015625)\"/>\n       <path id=\"STIXGeneral-Regular-70\" d=\"M 1018 2931 \nL 1018 2438 \nQ 1421 2944 1939 2944 \nQ 2406 2944 2707 2560 \nQ 3008 2176 3008 1581 \nQ 3008 883 2621 409 \nQ 2234 -64 1664 -64 \nQ 1466 -64 1328 -6 \nQ 1190 51 1018 211 \nL 1018 -794 \nQ 1018 -1094 1120 -1180 \nQ 1222 -1267 1581 -1274 \nL 1581 -1389 \nL 32 -1389 \nL 32 -1280 \nQ 314 -1254 397 -1171 \nQ 480 -1088 480 -838 \nL 480 2157 \nQ 480 2381 429 2451 \nQ 378 2522 218 2522 \nQ 115 2522 58 2515 \nL 58 2618 \nQ 506 2752 979 2944 \nL 1018 2931 \nz\nM 1018 2138 \nL 1018 563 \nQ 1018 422 1238 281 \nQ 1459 141 1683 141 \nQ 2029 141 2243 467 \nQ 2458 794 2458 1325 \nQ 2458 1888 2243 2224 \nQ 2029 2560 1670 2560 \nQ 1446 2560 1232 2419 \nQ 1018 2278 1018 2138 \nz\n\" transform=\"scale(0.015625)\"/>\n       <path id=\"STIXGeneral-Regular-73\" d=\"M 998 1926 \nL 1664 1523 \nQ 1984 1331 2105 1164 \nQ 2227 998 2227 736 \nQ 2227 416 1961 176 \nQ 1696 -64 1331 -64 \nQ 1030 -64 864 -6 \nQ 691 51 570 51 \nQ 461 51 416 -26 \nL 333 -26 \nL 333 979 \nL 435 979 \nQ 538 512 730 294 \nQ 922 77 1248 77 \nQ 1485 77 1632 211 \nQ 1779 346 1779 550 \nQ 1779 845 1440 1030 \nL 1094 1222 \nQ 326 1651 326 2150 \nQ 326 2522 566 2730 \nQ 806 2938 1210 2938 \nQ 1491 2938 1638 2867 \nQ 1754 2816 1818 2816 \nQ 1862 2816 1920 2880 \nL 1990 2880 \nL 2022 2010 \nL 1926 2010 \nQ 1818 2445 1654 2621 \nQ 1491 2797 1203 2797 \nQ 986 2797 854 2688 \nQ 723 2579 723 2362 \nQ 723 2253 796 2128 \nQ 870 2003 998 1926 \nz\n\" transform=\"scale(0.015625)\"/>\n      </defs>\n      <use xlink:href=\"#STIXGeneral-Regular-4e\"/>\n      <use xlink:href=\"#STIXGeneral-Regular-75\" x=\"72.199982\"/>\n      <use xlink:href=\"#STIXGeneral-Regular-6d\" x=\"122.199966\"/>\n      <use xlink:href=\"#STIXGeneral-Regular-62\" x=\"199.999954\"/>\n      <use xlink:href=\"#STIXGeneral-Regular-65\" x=\"249.999939\"/>\n      <use xlink:href=\"#STIXGeneral-Regular-72\" x=\"294.399933\"/>\n      <use xlink:href=\"#STIXGeneral-Regular-20\" x=\"327.699921\"/>\n      <use xlink:href=\"#STIXGeneral-Regular-6f\" x=\"352.699905\"/>\n      <use xlink:href=\"#STIXGeneral-Regular-66\" x=\"402.69989\"/>\n      <use xlink:href=\"#STIXGeneral-Regular-20\" x=\"435.999878\"/>\n      <use xlink:href=\"#STIXGeneral-Regular-70\" x=\"460.999863\"/>\n      <use xlink:href=\"#STIXGeneral-Regular-61\" x=\"510.999847\"/>\n      <use xlink:href=\"#STIXGeneral-Regular-70\" x=\"555.399841\"/>\n      <use xlink:href=\"#STIXGeneral-Regular-65\" x=\"605.399826\"/>\n      <use xlink:href=\"#STIXGeneral-Regular-72\" x=\"649.79982\"/>\n      <use xlink:href=\"#STIXGeneral-Regular-73\" x=\"683.099808\"/>\n     </g>\n    </g>\n   </g>\n   <g id=\"line2d_55\">\n    <path d=\"M 68.301818 239.5728 \nL 84.403636 231.408 \nL 100.505455 237.6288 \nL 116.607273 234.9072 \nL 132.709091 232.5744 \nL 148.810909 232.5744 \nL 164.912727 229.8528 \nL 181.014545 220.9104 \nL 197.116364 220.5216 \nL 213.218182 211.968 \nL 229.32 197.1936 \nL 245.421818 190.9728 \nL 261.523636 168.4224 \nL 277.625455 155.2032 \nL 293.727273 139.2624 \nL 309.829091 134.208 \nL 325.930909 124.0992 \nL 342.032727 96.1056 \nL 358.134545 84.4416 \nL 374.236364 46.3392 \nL 390.338182 156.3696 \n\" clip-path=\"url(#p825c54d36f)\" style=\"fill: none; stroke: #3679e0; stroke-width: 2; stroke-linecap: square\"/>\n    <defs>\n     <path id=\"mf3b8ef95d9\" d=\"M 0 3.5 \nC 0.928211 3.5 1.81853 3.131218 2.474874 2.474874 \nC 3.131218 1.81853 3.5 0.928211 3.5 0 \nC 3.5 -0.928211 3.131218 -1.81853 2.474874 -2.474874 \nC 1.81853 -3.131218 0.928211 -3.5 0 -3.5 \nC -0.928211 -3.5 -1.81853 -3.131218 -2.474874 -2.474874 \nC -3.131218 -1.81853 -3.5 -0.928211 -3.5 0 \nC -3.5 0.928211 -3.131218 1.81853 -2.474874 2.474874 \nC -1.81853 3.131218 -0.928211 3.5 0 3.5 \nz\n\" style=\"stroke: #3679e0; stroke-width: 2\"/>\n    </defs>\n    <g clip-path=\"url(#p825c54d36f)\">\n     <use xlink:href=\"#mf3b8ef95d9\" x=\"68.301818\" y=\"239.5728\" style=\"fill: #ffffff; stroke: #3679e0; stroke-width: 2\"/>\n     <use xlink:href=\"#mf3b8ef95d9\" x=\"84.403636\" y=\"231.408\" style=\"fill: #ffffff; stroke: #3679e0; stroke-width: 2\"/>\n     <use xlink:href=\"#mf3b8ef95d9\" x=\"100.505455\" y=\"237.6288\" style=\"fill: #ffffff; stroke: #3679e0; stroke-width: 2\"/>\n     <use xlink:href=\"#mf3b8ef95d9\" x=\"116.607273\" y=\"234.9072\" style=\"fill: #ffffff; stroke: #3679e0; stroke-width: 2\"/>\n     <use xlink:href=\"#mf3b8ef95d9\" x=\"132.709091\" y=\"232.5744\" style=\"fill: #ffffff; stroke: #3679e0; stroke-width: 2\"/>\n     <use xlink:href=\"#mf3b8ef95d9\" x=\"148.810909\" y=\"232.5744\" style=\"fill: #ffffff; stroke: #3679e0; stroke-width: 2\"/>\n     <use xlink:href=\"#mf3b8ef95d9\" x=\"164.912727\" y=\"229.8528\" style=\"fill: #ffffff; stroke: #3679e0; stroke-width: 2\"/>\n     <use xlink:href=\"#mf3b8ef95d9\" x=\"181.014545\" y=\"220.9104\" style=\"fill: #ffffff; stroke: #3679e0; stroke-width: 2\"/>\n     <use xlink:href=\"#mf3b8ef95d9\" x=\"197.116364\" y=\"220.5216\" style=\"fill: #ffffff; stroke: #3679e0; stroke-width: 2\"/>\n     <use xlink:href=\"#mf3b8ef95d9\" x=\"213.218182\" y=\"211.968\" style=\"fill: #ffffff; stroke: #3679e0; stroke-width: 2\"/>\n     <use xlink:href=\"#mf3b8ef95d9\" x=\"229.32\" y=\"197.1936\" style=\"fill: #ffffff; stroke: #3679e0; stroke-width: 2\"/>\n     <use xlink:href=\"#mf3b8ef95d9\" x=\"245.421818\" y=\"190.9728\" style=\"fill: #ffffff; stroke: #3679e0; stroke-width: 2\"/>\n     <use xlink:href=\"#mf3b8ef95d9\" x=\"261.523636\" y=\"168.4224\" style=\"fill: #ffffff; stroke: #3679e0; stroke-width: 2\"/>\n     <use xlink:href=\"#mf3b8ef95d9\" x=\"277.625455\" y=\"155.2032\" style=\"fill: #ffffff; stroke: #3679e0; stroke-width: 2\"/>\n     <use xlink:href=\"#mf3b8ef95d9\" x=\"293.727273\" y=\"139.2624\" style=\"fill: #ffffff; stroke: #3679e0; stroke-width: 2\"/>\n     <use xlink:href=\"#mf3b8ef95d9\" x=\"309.829091\" y=\"134.208\" style=\"fill: #ffffff; stroke: #3679e0; stroke-width: 2\"/>\n     <use xlink:href=\"#mf3b8ef95d9\" x=\"325.930909\" y=\"124.0992\" style=\"fill: #ffffff; stroke: #3679e0; stroke-width: 2\"/>\n     <use xlink:href=\"#mf3b8ef95d9\" x=\"342.032727\" y=\"96.1056\" style=\"fill: #ffffff; stroke: #3679e0; stroke-width: 2\"/>\n     <use xlink:href=\"#mf3b8ef95d9\" x=\"358.134545\" y=\"84.4416\" style=\"fill: #ffffff; stroke: #3679e0; stroke-width: 2\"/>\n     <use xlink:href=\"#mf3b8ef95d9\" x=\"374.236364\" y=\"46.3392\" style=\"fill: #ffffff; stroke: #3679e0; stroke-width: 2\"/>\n     <use xlink:href=\"#mf3b8ef95d9\" x=\"390.338182\" y=\"156.3696\" style=\"fill: #ffffff; stroke: #3679e0; stroke-width: 2\"/>\n    </g>\n   </g>\n   <g id=\"patch_3\">\n    <path d=\"M 52.2 246.96 \nL 52.2 13.68 \n\" style=\"fill: none; stroke: #000000; stroke-linejoin: miter; stroke-linecap: square\"/>\n   </g>\n   <g id=\"patch_4\">\n    <path d=\"M 406.44 246.96 \nL 406.44 13.68 \n\" style=\"fill: none; stroke: #000000; stroke-linejoin: miter; stroke-linecap: square\"/>\n   </g>\n   <g id=\"patch_5\">\n    <path d=\"M 52.2 246.96 \nL 406.44 246.96 \n\" style=\"fill: none; stroke: #000000; stroke-linejoin: miter; stroke-linecap: square\"/>\n   </g>\n   <g id=\"patch_6\">\n    <path d=\"M 52.2 13.68 \nL 406.44 13.68 \n\" style=\"fill: none; stroke: #000000; stroke-linejoin: miter; stroke-linecap: square\"/>\n   </g>\n  </g>\n </g>\n <defs>\n  <clipPath id=\"p825c54d36f\">\n   <rect x=\"52.2\" y=\"13.68\" width=\"354.24\" height=\"233.28\"/>\n  </clipPath>\n </defs>\n</svg>\n"
          },
          "metadata": {}
        }
      ]
    },
    {
      "cell_type": "markdown",
      "source": [
        "# Sort by Institution -> NOT WORKING"
      ],
      "metadata": {
        "id": "zZEFzV4k26jN"
      }
    },
    {
      "cell_type": "code",
      "source": [
        "institutions_dic = {}\n",
        "invalid = {}\n",
        "\n",
        "words_lst = ['Instituto Superior Tecnico', 'University', 'Sandia', 'Institute of Technology', \n",
        "             'Universite', 'Universiti',\n",
        "             'Universitat', 'Universidade', 'Univ.', 'Universidad',\n",
        "             'Universita', 'Politecnico', 'WavEC', 'IIT', 'Ecole', 'SINTEF']\n",
        "            \n",
        "\n",
        "for n, ( affiliations, stage ) in enumerate( zip( affiliations_lst, stage_lst ) ):\n",
        "    if stage == 'Final' and affiliations == affiliations: # detect NANs\n",
        "\n",
        "        institutions_lst = affiliations.split( ';' )\n",
        "\n",
        "        for institution in institutions_lst:\n",
        "            institution = institution.strip()\n",
        "            tokens = institution.split( ',' )\n",
        "\n",
        "            short_inst = ''\n",
        "            found = False\n",
        "\n",
        "            for token in tokens:\n",
        "                token = unidecode( token.strip() )\n",
        "\n",
        "                if not any( map( str.isdigit, token ) ):\n",
        "                    if not short_inst:\n",
        "                        short_inst = token                    \n",
        "                    else:\n",
        "                        short_inst = short_inst + ', ' + token                    \n",
        "\n",
        "                    if any( word in token for word in words_lst ):\n",
        "                        found = True\n",
        "\n",
        "            if found:\n",
        "                if short_inst in institutions_dic:\n",
        "                    institutions_dic[short_inst] += 1\n",
        "                else:\n",
        "                    institutions_dic[short_inst] = 1  \n",
        "            else:\n",
        "                if institution in invalid: \n",
        "                    invalid[short_inst] += 1\n",
        "                else:\n",
        "                    invalid[short_inst] = 1\n",
        "\n",
        "len( invalid ), len( institutions_dic )"
      ],
      "metadata": {
        "id": "CuqeaQKial-4",
        "colab": {
          "base_uri": "https://localhost:8080/"
        },
        "outputId": "cdc0f5d1-0258-4d29-ef51-8a96cff9ce1d"
      },
      "execution_count": 153,
      "outputs": [
        {
          "output_type": "execute_result",
          "data": {
            "text/plain": [
              "(1403, 4008)"
            ]
          },
          "metadata": {},
          "execution_count": 153
        }
      ]
    },
    {
      "cell_type": "code",
      "source": [
        "sorted_country_frac_rank = { k: v for k, v in sorted( institutions_dic.items(), key=lambda item: item[1], reverse=True ) }\n",
        "\n",
        "df_country_name_lst = []\n",
        "df_country_num_lst = []\n",
        "\n",
        "col_name = f\"Num papers out of {total_valid_papers}\"\n",
        "df_country_dic = { \n",
        "        \"Country\": df_country_name_lst,\n",
        "        col_name: df_country_num_lst\n",
        "}  \n",
        "\n",
        "for n, ( name, num ) in enumerate( sorted_country_frac_rank.items() ):\n",
        "    df_country_name_lst.append( name ) \n",
        "    df_country_num_lst.append( int(num) )\n",
        "\n",
        "df = pd.DataFrame( df_country_dic )\n",
        "df.index = df.index + 1 \n",
        "df "
      ],
      "metadata": {
        "colab": {
          "base_uri": "https://localhost:8080/",
          "height": 423
        },
        "id": "UzVnPh0QxqGX",
        "outputId": "002289b3-5729-4fe3-8b7d-d8db4cd67a97"
      },
      "execution_count": 154,
      "outputs": [
        {
          "output_type": "execute_result",
          "data": {
            "text/plain": [
              "                  Country  Num papers out of 3597\n",
              "1     State Key Labora...                   87   \n",
              "2     College of Shipb...                   48   \n",
              "3     College of Engin...                   37   \n",
              "4     Shandong Provinc...                   35   \n",
              "5     Sandia National ...                   32   \n",
              "...                   ...                  ...   \n",
              "4004  LEICI, Depto. de...                    1   \n",
              "4005  Wave Energy Rese...                    1   \n",
              "4006  Mech./Manufactur...                    1   \n",
              "4007  Department of Me...                    1   \n",
              "4008  Department of Me...                    1   \n",
              "\n",
              "[4008 rows x 2 columns]"
            ],
            "text/html": [
              "\n",
              "  <div id=\"df-3c2c5d20-0e5b-496b-8980-dcef66989da7\">\n",
              "    <div class=\"colab-df-container\">\n",
              "      <div>\n",
              "<style scoped>\n",
              "    .dataframe tbody tr th:only-of-type {\n",
              "        vertical-align: middle;\n",
              "    }\n",
              "\n",
              "    .dataframe tbody tr th {\n",
              "        vertical-align: top;\n",
              "    }\n",
              "\n",
              "    .dataframe thead th {\n",
              "        text-align: right;\n",
              "    }\n",
              "</style>\n",
              "<table border=\"1\" class=\"dataframe\">\n",
              "  <thead>\n",
              "    <tr style=\"text-align: right;\">\n",
              "      <th></th>\n",
              "      <th>Country</th>\n",
              "      <th>Num papers out of 3597</th>\n",
              "    </tr>\n",
              "  </thead>\n",
              "  <tbody>\n",
              "    <tr>\n",
              "      <th>1</th>\n",
              "      <td>State Key Labora...</td>\n",
              "      <td>87</td>\n",
              "    </tr>\n",
              "    <tr>\n",
              "      <th>2</th>\n",
              "      <td>College of Shipb...</td>\n",
              "      <td>48</td>\n",
              "    </tr>\n",
              "    <tr>\n",
              "      <th>3</th>\n",
              "      <td>College of Engin...</td>\n",
              "      <td>37</td>\n",
              "    </tr>\n",
              "    <tr>\n",
              "      <th>4</th>\n",
              "      <td>Shandong Provinc...</td>\n",
              "      <td>35</td>\n",
              "    </tr>\n",
              "    <tr>\n",
              "      <th>5</th>\n",
              "      <td>Sandia National ...</td>\n",
              "      <td>32</td>\n",
              "    </tr>\n",
              "    <tr>\n",
              "      <th>...</th>\n",
              "      <td>...</td>\n",
              "      <td>...</td>\n",
              "    </tr>\n",
              "    <tr>\n",
              "      <th>4004</th>\n",
              "      <td>LEICI, Depto. de...</td>\n",
              "      <td>1</td>\n",
              "    </tr>\n",
              "    <tr>\n",
              "      <th>4005</th>\n",
              "      <td>Wave Energy Rese...</td>\n",
              "      <td>1</td>\n",
              "    </tr>\n",
              "    <tr>\n",
              "      <th>4006</th>\n",
              "      <td>Mech./Manufactur...</td>\n",
              "      <td>1</td>\n",
              "    </tr>\n",
              "    <tr>\n",
              "      <th>4007</th>\n",
              "      <td>Department of Me...</td>\n",
              "      <td>1</td>\n",
              "    </tr>\n",
              "    <tr>\n",
              "      <th>4008</th>\n",
              "      <td>Department of Me...</td>\n",
              "      <td>1</td>\n",
              "    </tr>\n",
              "  </tbody>\n",
              "</table>\n",
              "<p>4008 rows × 2 columns</p>\n",
              "</div>\n",
              "      <button class=\"colab-df-convert\" onclick=\"convertToInteractive('df-3c2c5d20-0e5b-496b-8980-dcef66989da7')\"\n",
              "              title=\"Convert this dataframe to an interactive table.\"\n",
              "              style=\"display:none;\">\n",
              "        \n",
              "  <svg xmlns=\"http://www.w3.org/2000/svg\" height=\"24px\"viewBox=\"0 0 24 24\"\n",
              "       width=\"24px\">\n",
              "    <path d=\"M0 0h24v24H0V0z\" fill=\"none\"/>\n",
              "    <path d=\"M18.56 5.44l.94 2.06.94-2.06 2.06-.94-2.06-.94-.94-2.06-.94 2.06-2.06.94zm-11 1L8.5 8.5l.94-2.06 2.06-.94-2.06-.94L8.5 2.5l-.94 2.06-2.06.94zm10 10l.94 2.06.94-2.06 2.06-.94-2.06-.94-.94-2.06-.94 2.06-2.06.94z\"/><path d=\"M17.41 7.96l-1.37-1.37c-.4-.4-.92-.59-1.43-.59-.52 0-1.04.2-1.43.59L10.3 9.45l-7.72 7.72c-.78.78-.78 2.05 0 2.83L4 21.41c.39.39.9.59 1.41.59.51 0 1.02-.2 1.41-.59l7.78-7.78 2.81-2.81c.8-.78.8-2.07 0-2.86zM5.41 20L4 18.59l7.72-7.72 1.47 1.35L5.41 20z\"/>\n",
              "  </svg>\n",
              "      </button>\n",
              "      \n",
              "  <style>\n",
              "    .colab-df-container {\n",
              "      display:flex;\n",
              "      flex-wrap:wrap;\n",
              "      gap: 12px;\n",
              "    }\n",
              "\n",
              "    .colab-df-convert {\n",
              "      background-color: #E8F0FE;\n",
              "      border: none;\n",
              "      border-radius: 50%;\n",
              "      cursor: pointer;\n",
              "      display: none;\n",
              "      fill: #1967D2;\n",
              "      height: 32px;\n",
              "      padding: 0 0 0 0;\n",
              "      width: 32px;\n",
              "    }\n",
              "\n",
              "    .colab-df-convert:hover {\n",
              "      background-color: #E2EBFA;\n",
              "      box-shadow: 0px 1px 2px rgba(60, 64, 67, 0.3), 0px 1px 3px 1px rgba(60, 64, 67, 0.15);\n",
              "      fill: #174EA6;\n",
              "    }\n",
              "\n",
              "    [theme=dark] .colab-df-convert {\n",
              "      background-color: #3B4455;\n",
              "      fill: #D2E3FC;\n",
              "    }\n",
              "\n",
              "    [theme=dark] .colab-df-convert:hover {\n",
              "      background-color: #434B5C;\n",
              "      box-shadow: 0px 1px 3px 1px rgba(0, 0, 0, 0.15);\n",
              "      filter: drop-shadow(0px 1px 2px rgba(0, 0, 0, 0.3));\n",
              "      fill: #FFFFFF;\n",
              "    }\n",
              "  </style>\n",
              "\n",
              "      <script>\n",
              "        const buttonEl =\n",
              "          document.querySelector('#df-3c2c5d20-0e5b-496b-8980-dcef66989da7 button.colab-df-convert');\n",
              "        buttonEl.style.display =\n",
              "          google.colab.kernel.accessAllowed ? 'block' : 'none';\n",
              "\n",
              "        async function convertToInteractive(key) {\n",
              "          const element = document.querySelector('#df-3c2c5d20-0e5b-496b-8980-dcef66989da7');\n",
              "          const dataTable =\n",
              "            await google.colab.kernel.invokeFunction('convertToInteractive',\n",
              "                                                     [key], {});\n",
              "          if (!dataTable) return;\n",
              "\n",
              "          const docLinkHtml = 'Like what you see? Visit the ' +\n",
              "            '<a target=\"_blank\" href=https://colab.research.google.com/notebooks/data_table.ipynb>data table notebook</a>'\n",
              "            + ' to learn more about interactive tables.';\n",
              "          element.innerHTML = '';\n",
              "          dataTable['output_type'] = 'display_data';\n",
              "          await google.colab.output.renderOutput(dataTable, element);\n",
              "          const docLink = document.createElement('div');\n",
              "          docLink.innerHTML = docLinkHtml;\n",
              "          element.appendChild(docLink);\n",
              "        }\n",
              "      </script>\n",
              "    </div>\n",
              "  </div>\n",
              "  "
            ]
          },
          "metadata": {},
          "execution_count": 154
        }
      ]
    },
    {
      "cell_type": "code",
      "source": [],
      "metadata": {
        "id": "N77UzL-asdJB"
      },
      "execution_count": 154,
      "outputs": []
    }
  ]
}