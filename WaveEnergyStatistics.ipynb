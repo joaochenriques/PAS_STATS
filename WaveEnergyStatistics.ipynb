{
  "nbformat": 4,
  "nbformat_minor": 0,
  "metadata": {
    "colab": {
      "provenance": [],
      "include_colab_link": true
    },
    "kernelspec": {
      "name": "python3",
      "display_name": "Python 3"
    },
    "language_info": {
      "name": "python"
    }
  },
  "cells": [
    {
      "cell_type": "markdown",
      "metadata": {
        "id": "view-in-github",
        "colab_type": "text"
      },
      "source": [
        "<a href=\"https://colab.research.google.com/github/joaochenriques/WaveEnergyStatistics/blob/main/WaveEnergyStatistics.ipynb\" target=\"_parent\"><img src=\"https://colab.research.google.com/assets/colab-badge.svg\" alt=\"Open In Colab\"/></a>"
      ]
    },
    {
      "cell_type": "code",
      "execution_count": 1,
      "metadata": {
        "id": "5UYVFDSKmZ4z",
        "colab": {
          "base_uri": "https://localhost:8080/"
        },
        "outputId": "387b2297-df8d-4460-e098-ff10ca9e283f"
      },
      "outputs": [
        {
          "output_type": "stream",
          "name": "stdout",
          "text": [
            "  % Total    % Received % Xferd  Average Speed   Time    Time     Time  Current\n",
            "                                 Dload  Upload   Total   Spent    Left  Speed\n",
            "\n",
            "  0     0    0     0    0     0      0      0 --:--:-- --:--:-- --:--:--     0\n",
            "  0     0    0     0    0     0      0      0 --:--:-- --:--:-- --:--:--     0\n",
            "100  3921  100  3921    0     0  15080      0 --:--:-- --:--:-- --:--:-- 15022\n"
          ]
        }
      ],
      "source": [
        "import pandas as pd\n",
        "import numpy as np\n",
        "import matplotlib.pyplot as mpl\n",
        "import sys, pathlib\n",
        "import itertools\n",
        "from scipy import optimize\n",
        "from sortedcontainers import SortedDict\n",
        "\n",
        "from matplotlib.ticker import (MultipleLocator, FormatStrFormatter,AutoMinorLocator)\n",
        "\n",
        "import pathlib, subprocess\n",
        "\n",
        "def cmdcall( cmd ):\n",
        "    output = subprocess.getoutput( cmd )\n",
        "    print(output)\n",
        "\n",
        "if not pathlib.Path(\"mpl_utils.py\").exists():\n",
        "  cmdcall( 'curl -O https://raw.githubusercontent.com/joaochenriques/ipynb_libs/main/mpl_utils.py' )\n",
        "\n",
        "import mpl_utils as mut\n",
        "mut.config_plots()\n",
        "\n",
        "markers = ( 'o', '^', 's', 'v', 'H', 'X', 'P' )\n",
        "\n",
        "from matplotlib_inline.backend_inline import set_matplotlib_formats\n",
        "set_matplotlib_formats('svg')"
      ]
    },
    {
      "cell_type": "code",
      "source": [
        "cmdcall( 'pip install dataclassy' )\n",
        "from dataclassy import dataclass"
      ],
      "metadata": {
        "id": "-RikPqO55cJE",
        "outputId": "fca6568c-365e-4c9a-e86d-63a207033eb1",
        "colab": {
          "base_uri": "https://localhost:8080/"
        }
      },
      "execution_count": 2,
      "outputs": [
        {
          "output_type": "stream",
          "name": "stdout",
          "text": [
            "Looking in indexes: https://pypi.org/simple, https://us-python.pkg.dev/colab-wheels/public/simple/\n",
            "Collecting dataclassy\n",
            "  Downloading dataclassy-1.0.1-py3-none-any.whl (24 kB)\n",
            "Installing collected packages: dataclassy\n",
            "Successfully installed dataclassy-1.0.1\n"
          ]
        }
      ]
    },
    {
      "cell_type": "code",
      "source": [
        "cmdcall( 'pip install iso3166' )\n",
        "from iso3166 import countries\n",
        "\n",
        "country_lst = []\n",
        "for c in countries:\n",
        "    country_lst.append( c.name )"
      ],
      "metadata": {
        "id": "llW3nHzIsEiN",
        "outputId": "381b866f-05a3-4f4e-c5c4-b09fba6be597",
        "colab": {
          "base_uri": "https://localhost:8080/"
        }
      },
      "execution_count": 3,
      "outputs": [
        {
          "output_type": "stream",
          "name": "stdout",
          "text": [
            "Looking in indexes: https://pypi.org/simple, https://us-python.pkg.dev/colab-wheels/public/simple/\n",
            "Collecting iso3166\n",
            "  Downloading iso3166-2.1.1-py3-none-any.whl (9.8 kB)\n",
            "Installing collected packages: iso3166\n",
            "Successfully installed iso3166-2.1.1\n"
          ]
        }
      ]
    },
    {
      "cell_type": "code",
      "source": [
        "def left_align( df ):\n",
        "    left_aligned_df = df.style.set_properties(**{'text-align': 'left'})\n",
        "    left_aligned_df = left_aligned_df.set_table_styles(\n",
        "        [dict(selector='th', props=[('text-align', 'left')])]\n",
        "    )\n",
        "    return left_aligned_df"
      ],
      "metadata": {
        "id": "oe4vRxXeeqX-"
      },
      "execution_count": 4,
      "outputs": []
    },
    {
      "cell_type": "markdown",
      "source": [
        "# Scopus advanced search query\n",
        "\n",
        "```\n",
        "TITLE-ABS-KEY-AUTH(WAVE-ENERGY) AND PUBYEAR AFT 2003 AND DOCTYPE(ar OR re) AND\n",
        "(\n",
        "    SRCTITLE(applied-energy) OR\n",
        "    SRCTITLE(applied-ocean-research) OR\n",
        "    SRCTITLE(energy) OR\n",
        "    SRCTITLE(energy-conversion-and-management ) OR\n",
        "    SRCTITLE(energies) OR\n",
        "    SRCTITLE(ieee-transactions-on-sustainable-energy) OR\n",
        "    SRCTITLE(iet-renewable-power-generation) OR\n",
        "    SRCTITLE(international-journal-of-marine-energy ) OR\n",
        "    SRCTITLE(international-journal-of-offshore-and-polar-engineering ) OR\n",
        "    SRCTITLE(journal-of-offshore-mechanics-and-arctic-engineering) OR\n",
        "    SRCTITLE(Journal-of-Ocean-Engineering-and-Marine-Energy) OR\n",
        "    SRCTITLE(ocean-engineering) OR\n",
        "    SRCTITLE(marine-structures) OR\n",
        "    SRCTITLE(renewable-energy) OR\n",
        "    SRCTITLE(renewable-sustainable-energy-reviews) \n",
        ")\n",
        "```"
      ],
      "metadata": {
        "id": "xpVdtPzypxbh"
      }
    },
    {
      "cell_type": "code",
      "source": [
        "filename = 'scopus_20230608D.csv'\n",
        "if 'google.colab' in sys.modules and not pathlib.Path( f\"{filename}\").exists():\n",
        "    cmdcall( f'curl -O https://raw.githubusercontent.com/joaochenriques/PAS_STATS/main/{filename}' )"
      ],
      "metadata": {
        "id": "nB9IJvu6mlv-",
        "colab": {
          "base_uri": "https://localhost:8080/"
        },
        "outputId": "166a9571-ca01-4e1c-bb57-af073c9d3efa"
      },
      "execution_count": 5,
      "outputs": [
        {
          "output_type": "stream",
          "name": "stdout",
          "text": [
            "  % Total    % Received % Xferd  Average Speed   Time    Time     Time  Current\n",
            "                                 Dload  Upload   Total   Spent    Left  Speed\n",
            "\n",
            "  0     0    0     0    0     0      0      0 --:--:-- --:--:-- --:--:--     0\n",
            "100 7112k  100 7112k    0     0  14.2M      0 --:--:-- --:--:-- --:--:-- 14.2M\n"
          ]
        }
      ]
    },
    {
      "cell_type": "code",
      "source": [
        "df = pd.read_csv( filename )\n",
        "df.keys()"
      ],
      "metadata": {
        "id": "bZg8TPI2m2uo",
        "outputId": "b7857599-9160-4e01-bf69-33c6d551d8b5",
        "colab": {
          "base_uri": "https://localhost:8080/"
        }
      },
      "execution_count": 6,
      "outputs": [
        {
          "output_type": "execute_result",
          "data": {
            "text/plain": [
              "Index(['Authors', 'Author full names', 'Author(s) ID', 'Title', 'Year',\n",
              "       'Source title', 'Volume', 'Issue', 'Art. No.', 'Page start', 'Page end',\n",
              "       'Page count', 'Cited by', 'DOI', 'Link', 'Affiliations',\n",
              "       'Authors with affiliations', 'Author Keywords', 'Index Keywords',\n",
              "       'Correspondence Address', 'Document Type', 'Publication Stage',\n",
              "       'Source', 'EID'],\n",
              "      dtype='object')"
            ]
          },
          "metadata": {},
          "execution_count": 6
        }
      ]
    },
    {
      "cell_type": "code",
      "source": [
        "authors_lst = df['Authors']\n",
        "authors_ID_lst = df['Author(s) ID'] \n",
        "affiliations_lst = df['Affiliations']\n",
        "title_lst = df['Title']\n",
        "journal_lst = df['Source title']\n",
        "year_lst = df['Year']\n",
        "citations_lst = df['Cited by']\n",
        "DOI_lst = df['DOI']\n",
        "stage_lst = df['Publication Stage'] \n",
        "\n",
        "replacements_dic = {   \n",
        "    'Ireland (formerly at the University of Plymouth)': 'Ireland',\n",
        "    'Univ. Paris6': 'France',\n",
        "    'Chinese Academy of Sciences': 'China',\n",
        "    'Instituto Superior Tx000E9': 'Portugal'\n",
        "}"
      ],
      "metadata": {
        "id": "NqQTY6x5t5KB"
      },
      "execution_count": 7,
      "outputs": []
    },
    {
      "cell_type": "markdown",
      "source": [
        "# Countries ordered by percentage of the authors's country"
      ],
      "metadata": {
        "id": "EK5Xo34HS62d"
      }
    },
    {
      "cell_type": "code",
      "source": [
        "countries_frac_dic = {}\n",
        "total_valid_papers = 0\n",
        "\n",
        "for n, ( affiliations, stage ) in enumerate( zip( affiliations_lst, stage_lst ) ):\n",
        "    if stage == 'Final' and affiliations == affiliations: # detect NANs\n",
        "        total_valid_papers += 1\n",
        "\n",
        "        institutions_lst = affiliations.split( ';' )\n",
        "        frac = 1.0 / len(institutions_lst)\n",
        "\n",
        "        for institution in institutions_lst:\n",
        "            country = institution.rsplit( ',', 1 )[-1].strip()\n",
        "\n",
        "            if country in replacements_dic:\n",
        "                country = replacements_dic[country]\n",
        "\n",
        "            if not country in countries_frac_dic:\n",
        "                countries_frac_dic[country] = frac\n",
        "            else:\n",
        "                countries_frac_dic[country] += frac\n",
        "\n",
        "sorted_country_frac_rank = { k: v for k, v in sorted( countries_frac_dic.items(), key=lambda item: item[1], reverse=True ) }\n",
        "\n",
        "df_country_name_lst = []\n",
        "df_country_num_lst = []\n",
        "\n",
        "df_country_dic = { \n",
        "        \"Country\": df_country_name_lst,\n",
        "        f\"Num papers/#{total_valid_papers}\": df_country_num_lst\n",
        "}  \n",
        "\n",
        "for n, ( name, num ) in enumerate( sorted_country_frac_rank.items() ):\n",
        "    df_country_name_lst.append( name ) \n",
        "    df_country_num_lst.append( int(num) )\n",
        "\n",
        "df = pd.DataFrame( df_country_dic )\n",
        "df.index = df.index + 1 \n",
        "left_align( df.head(10) )"
      ],
      "metadata": {
        "id": "87OqHiyQTEdk",
        "outputId": "e826f9db-a3b4-46f5-e71b-aeb8e4ee5080",
        "colab": {
          "base_uri": "https://localhost:8080/",
          "height": 363
        }
      },
      "execution_count": 31,
      "outputs": [
        {
          "output_type": "execute_result",
          "data": {
            "text/plain": [
              "<pandas.io.formats.style.Styler at 0x7f7c6748f7f0>"
            ],
            "text/html": [
              "<style type=\"text/css\">\n",
              "#T_ba88b th {\n",
              "  text-align: left;\n",
              "}\n",
              "#T_ba88b_row0_col0, #T_ba88b_row0_col1, #T_ba88b_row1_col0, #T_ba88b_row1_col1, #T_ba88b_row2_col0, #T_ba88b_row2_col1, #T_ba88b_row3_col0, #T_ba88b_row3_col1, #T_ba88b_row4_col0, #T_ba88b_row4_col1, #T_ba88b_row5_col0, #T_ba88b_row5_col1, #T_ba88b_row6_col0, #T_ba88b_row6_col1, #T_ba88b_row7_col0, #T_ba88b_row7_col1, #T_ba88b_row8_col0, #T_ba88b_row8_col1, #T_ba88b_row9_col0, #T_ba88b_row9_col1 {\n",
              "  text-align: left;\n",
              "}\n",
              "</style>\n",
              "<table id=\"T_ba88b\" class=\"dataframe\">\n",
              "  <thead>\n",
              "    <tr>\n",
              "      <th class=\"blank level0\" >&nbsp;</th>\n",
              "      <th id=\"T_ba88b_level0_col0\" class=\"col_heading level0 col0\" >Country</th>\n",
              "      <th id=\"T_ba88b_level0_col1\" class=\"col_heading level0 col1\" >Num papers/#3580</th>\n",
              "    </tr>\n",
              "  </thead>\n",
              "  <tbody>\n",
              "    <tr>\n",
              "      <th id=\"T_ba88b_level0_row0\" class=\"row_heading level0 row0\" >1</th>\n",
              "      <td id=\"T_ba88b_row0_col0\" class=\"data row0 col0\" >China</td>\n",
              "      <td id=\"T_ba88b_row0_col1\" class=\"data row0 col1\" >731</td>\n",
              "    </tr>\n",
              "    <tr>\n",
              "      <th id=\"T_ba88b_level0_row1\" class=\"row_heading level0 row1\" >2</th>\n",
              "      <td id=\"T_ba88b_row1_col0\" class=\"data row1 col0\" >United Kingdom</td>\n",
              "      <td id=\"T_ba88b_row1_col1\" class=\"data row1 col1\" >369</td>\n",
              "    </tr>\n",
              "    <tr>\n",
              "      <th id=\"T_ba88b_level0_row2\" class=\"row_heading level0 row2\" >3</th>\n",
              "      <td id=\"T_ba88b_row2_col0\" class=\"data row2 col0\" >United States</td>\n",
              "      <td id=\"T_ba88b_row2_col1\" class=\"data row2 col1\" >360</td>\n",
              "    </tr>\n",
              "    <tr>\n",
              "      <th id=\"T_ba88b_level0_row3\" class=\"row_heading level0 row3\" >4</th>\n",
              "      <td id=\"T_ba88b_row3_col0\" class=\"data row3 col0\" >Portugal</td>\n",
              "      <td id=\"T_ba88b_row3_col1\" class=\"data row3 col1\" >214</td>\n",
              "    </tr>\n",
              "    <tr>\n",
              "      <th id=\"T_ba88b_level0_row4\" class=\"row_heading level0 row4\" >5</th>\n",
              "      <td id=\"T_ba88b_row4_col0\" class=\"data row4 col0\" >Spain</td>\n",
              "      <td id=\"T_ba88b_row4_col1\" class=\"data row4 col1\" >177</td>\n",
              "    </tr>\n",
              "    <tr>\n",
              "      <th id=\"T_ba88b_level0_row5\" class=\"row_heading level0 row5\" >6</th>\n",
              "      <td id=\"T_ba88b_row5_col0\" class=\"data row5 col0\" >Ireland</td>\n",
              "      <td id=\"T_ba88b_row5_col1\" class=\"data row5 col1\" >155</td>\n",
              "    </tr>\n",
              "    <tr>\n",
              "      <th id=\"T_ba88b_level0_row6\" class=\"row_heading level0 row6\" >7</th>\n",
              "      <td id=\"T_ba88b_row6_col0\" class=\"data row6 col0\" >Italy</td>\n",
              "      <td id=\"T_ba88b_row6_col1\" class=\"data row6 col1\" >152</td>\n",
              "    </tr>\n",
              "    <tr>\n",
              "      <th id=\"T_ba88b_level0_row7\" class=\"row_heading level0 row7\" >8</th>\n",
              "      <td id=\"T_ba88b_row7_col0\" class=\"data row7 col0\" >Australia</td>\n",
              "      <td id=\"T_ba88b_row7_col1\" class=\"data row7 col1\" >144</td>\n",
              "    </tr>\n",
              "    <tr>\n",
              "      <th id=\"T_ba88b_level0_row8\" class=\"row_heading level0 row8\" >9</th>\n",
              "      <td id=\"T_ba88b_row8_col0\" class=\"data row8 col0\" >India</td>\n",
              "      <td id=\"T_ba88b_row8_col1\" class=\"data row8 col1\" >140</td>\n",
              "    </tr>\n",
              "    <tr>\n",
              "      <th id=\"T_ba88b_level0_row9\" class=\"row_heading level0 row9\" >10</th>\n",
              "      <td id=\"T_ba88b_row9_col0\" class=\"data row9 col0\" >Sweden</td>\n",
              "      <td id=\"T_ba88b_row9_col1\" class=\"data row9 col1\" >103</td>\n",
              "    </tr>\n",
              "  </tbody>\n",
              "</table>\n"
            ]
          },
          "metadata": {},
          "execution_count": 31
        }
      ]
    },
    {
      "cell_type": "markdown",
      "source": [
        "# Number of papers per author, citations, and highest cited paper"
      ],
      "metadata": {
        "id": "WnsbSaBQTHGq"
      }
    },
    {
      "cell_type": "code",
      "source": [
        "@dataclass\n",
        "class data:\n",
        "    name: str = None\n",
        "    num_papers: int = 0\n",
        "    citations: int = 0"
      ],
      "metadata": {
        "id": "c98Yyl9e0DjC"
      },
      "execution_count": 9,
      "outputs": []
    },
    {
      "cell_type": "code",
      "source": [
        "papers_dic = {}\n",
        "\n",
        "for n, ( authors, authors_ID, citations, DOI, stage ) in enumerate( zip( authors_lst, authors_ID_lst, citations_lst, DOI_lst, stage_lst ) ):\n",
        "    if stage == 'Final' and authors == authors and authors_ID == authors_ID: # check NANs\n",
        "        for ( author, ID ) in zip( authors.split(';'), str( authors_ID ).split(';') ):\n",
        "            author = author.strip()\n",
        "            ID = ID.strip()\n",
        "\n",
        "            if ID in papers_dic:\n",
        "                papers_dic[ID].num_papers += 1\n",
        "                papers_dic[ID].citations += int(citations)\n",
        "            else:\n",
        "                papers_dic[ID] = data( author, 1, int(citations) )"
      ],
      "metadata": {
        "id": "ja-ZA6lGx4YW"
      },
      "execution_count": 10,
      "outputs": []
    },
    {
      "cell_type": "code",
      "source": [
        "sorted_papers_dic = { k: v for k, v in sorted( papers_dic.items(), key=lambda item: item[1].num_papers, reverse=True ) }\n",
        "\n",
        "df_authors_name_lst = []\n",
        "df_authors_num_lst = []\n",
        "\n",
        "df_authors_dic = { \n",
        "        \"Author\": df_authors_name_lst,\n",
        "        \"Num papers\": df_authors_num_lst\n",
        "}  \n",
        "\n",
        "for n, dt in enumerate( sorted_papers_dic.values() ):\n",
        "    df_authors_name_lst.append( dt.name ) \n",
        "    df_authors_num_lst.append( dt.num_papers )\n",
        "\n",
        "df = pd.DataFrame( df_authors_dic )\n",
        "df.index = df.index + 1\n",
        "\n",
        "left_align( df.head(20) )"
      ],
      "metadata": {
        "id": "-jjYjDaa49VB",
        "outputId": "14de000f-d3ac-4cba-f292-8bafb5faed73",
        "colab": {
          "base_uri": "https://localhost:8080/",
          "height": 677
        }
      },
      "execution_count": 21,
      "outputs": [
        {
          "output_type": "execute_result",
          "data": {
            "text/plain": [
              "<pandas.io.formats.style.Styler at 0x7f7c670fd090>"
            ],
            "text/html": [
              "<style type=\"text/css\">\n",
              "#T_1e666 th {\n",
              "  text-align: left;\n",
              "}\n",
              "#T_1e666_row0_col0, #T_1e666_row0_col1, #T_1e666_row1_col0, #T_1e666_row1_col1, #T_1e666_row2_col0, #T_1e666_row2_col1, #T_1e666_row3_col0, #T_1e666_row3_col1, #T_1e666_row4_col0, #T_1e666_row4_col1, #T_1e666_row5_col0, #T_1e666_row5_col1, #T_1e666_row6_col0, #T_1e666_row6_col1, #T_1e666_row7_col0, #T_1e666_row7_col1, #T_1e666_row8_col0, #T_1e666_row8_col1, #T_1e666_row9_col0, #T_1e666_row9_col1, #T_1e666_row10_col0, #T_1e666_row10_col1, #T_1e666_row11_col0, #T_1e666_row11_col1, #T_1e666_row12_col0, #T_1e666_row12_col1, #T_1e666_row13_col0, #T_1e666_row13_col1, #T_1e666_row14_col0, #T_1e666_row14_col1, #T_1e666_row15_col0, #T_1e666_row15_col1, #T_1e666_row16_col0, #T_1e666_row16_col1, #T_1e666_row17_col0, #T_1e666_row17_col1, #T_1e666_row18_col0, #T_1e666_row18_col1, #T_1e666_row19_col0, #T_1e666_row19_col1 {\n",
              "  text-align: left;\n",
              "}\n",
              "</style>\n",
              "<table id=\"T_1e666\" class=\"dataframe\">\n",
              "  <thead>\n",
              "    <tr>\n",
              "      <th class=\"blank level0\" >&nbsp;</th>\n",
              "      <th id=\"T_1e666_level0_col0\" class=\"col_heading level0 col0\" >Author</th>\n",
              "      <th id=\"T_1e666_level0_col1\" class=\"col_heading level0 col1\" >Num papers</th>\n",
              "    </tr>\n",
              "  </thead>\n",
              "  <tbody>\n",
              "    <tr>\n",
              "      <th id=\"T_1e666_level0_row0\" class=\"row_heading level0 row0\" >1</th>\n",
              "      <td id=\"T_1e666_row0_col0\" class=\"data row0 col0\" >Ringwood J.V.</td>\n",
              "      <td id=\"T_1e666_row0_col1\" class=\"data row0 col1\" >92</td>\n",
              "    </tr>\n",
              "    <tr>\n",
              "      <th id=\"T_1e666_level0_row1\" class=\"row_heading level0 row1\" >2</th>\n",
              "      <td id=\"T_1e666_row1_col0\" class=\"data row1 col0\" >Iglesias G.</td>\n",
              "      <td id=\"T_1e666_row1_col1\" class=\"data row1 col1\" >79</td>\n",
              "    </tr>\n",
              "    <tr>\n",
              "      <th id=\"T_1e666_level0_row2\" class=\"row_heading level0 row2\" >3</th>\n",
              "      <td id=\"T_1e666_row2_col0\" class=\"data row2 col0\" >Guedes Soares C.</td>\n",
              "      <td id=\"T_1e666_row2_col1\" class=\"data row2 col1\" >64</td>\n",
              "    </tr>\n",
              "    <tr>\n",
              "      <th id=\"T_1e666_level0_row3\" class=\"row_heading level0 row3\" >4</th>\n",
              "      <td id=\"T_1e666_row3_col0\" class=\"data row3 col0\" >Gato L.M.C.</td>\n",
              "      <td id=\"T_1e666_row3_col1\" class=\"data row3 col1\" >63</td>\n",
              "    </tr>\n",
              "    <tr>\n",
              "      <th id=\"T_1e666_level0_row4\" class=\"row_heading level0 row4\" >5</th>\n",
              "      <td id=\"T_1e666_row4_col0\" class=\"data row4 col0\" >Henriques J.C.C.</td>\n",
              "      <td id=\"T_1e666_row4_col1\" class=\"data row4 col1\" >62</td>\n",
              "    </tr>\n",
              "    <tr>\n",
              "      <th id=\"T_1e666_level0_row5\" class=\"row_heading level0 row5\" >6</th>\n",
              "      <td id=\"T_1e666_row5_col0\" class=\"data row5 col0\" >Falcão A.F.O.</td>\n",
              "      <td id=\"T_1e666_row5_col1\" class=\"data row5 col1\" >56</td>\n",
              "    </tr>\n",
              "    <tr>\n",
              "      <th id=\"T_1e666_level0_row6\" class=\"row_heading level0 row6\" >7</th>\n",
              "      <td id=\"T_1e666_row6_col0\" class=\"data row6 col0\" >Ning D.</td>\n",
              "      <td id=\"T_1e666_row6_col1\" class=\"data row6 col1\" >47</td>\n",
              "    </tr>\n",
              "    <tr>\n",
              "      <th id=\"T_1e666_level0_row7\" class=\"row_heading level0 row7\" >8</th>\n",
              "      <td id=\"T_1e666_row7_col0\" class=\"data row7 col0\" >Greaves D.</td>\n",
              "      <td id=\"T_1e666_row7_col1\" class=\"data row7 col1\" >45</td>\n",
              "    </tr>\n",
              "    <tr>\n",
              "      <th id=\"T_1e666_level0_row8\" class=\"row_heading level0 row8\" >9</th>\n",
              "      <td id=\"T_1e666_row8_col0\" class=\"data row8 col0\" >Leijon M.</td>\n",
              "      <td id=\"T_1e666_row8_col1\" class=\"data row8 col1\" >44</td>\n",
              "    </tr>\n",
              "    <tr>\n",
              "      <th id=\"T_1e666_level0_row9\" class=\"row_heading level0 row9\" >10</th>\n",
              "      <td id=\"T_1e666_row9_col0\" class=\"data row9 col0\" >Wang Z.L.</td>\n",
              "      <td id=\"T_1e666_row9_col1\" class=\"data row9 col1\" >42</td>\n",
              "    </tr>\n",
              "    <tr>\n",
              "      <th id=\"T_1e666_level0_row10\" class=\"row_heading level0 row10\" >11</th>\n",
              "      <td id=\"T_1e666_row10_col0\" class=\"data row10 col0\" >Shi H.</td>\n",
              "      <td id=\"T_1e666_row10_col1\" class=\"data row10 col1\" >41</td>\n",
              "    </tr>\n",
              "    <tr>\n",
              "      <th id=\"T_1e666_level0_row11\" class=\"row_heading level0 row11\" >12</th>\n",
              "      <td id=\"T_1e666_row11_col0\" class=\"data row11 col0\" >Taveira-Pinto F.</td>\n",
              "      <td id=\"T_1e666_row11_col1\" class=\"data row11 col1\" >39</td>\n",
              "    </tr>\n",
              "    <tr>\n",
              "      <th id=\"T_1e666_level0_row12\" class=\"row_heading level0 row12\" >13</th>\n",
              "      <td id=\"T_1e666_row12_col0\" class=\"data row12 col0\" >Göteman M.</td>\n",
              "      <td id=\"T_1e666_row12_col1\" class=\"data row12 col1\" >39</td>\n",
              "    </tr>\n",
              "    <tr>\n",
              "      <th id=\"T_1e666_level0_row13\" class=\"row_heading level0 row13\" >14</th>\n",
              "      <td id=\"T_1e666_row13_col0\" class=\"data row13 col0\" >Rosa Santos P.</td>\n",
              "      <td id=\"T_1e666_row13_col1\" class=\"data row13 col1\" >34</td>\n",
              "    </tr>\n",
              "    <tr>\n",
              "      <th id=\"T_1e666_level0_row14\" class=\"row_heading level0 row14\" >15</th>\n",
              "      <td id=\"T_1e666_row14_col0\" class=\"data row14 col0\" >Robertson B.</td>\n",
              "      <td id=\"T_1e666_row14_col1\" class=\"data row14 col1\" >29</td>\n",
              "    </tr>\n",
              "    <tr>\n",
              "      <th id=\"T_1e666_level0_row15\" class=\"row_heading level0 row15\" >16</th>\n",
              "      <td id=\"T_1e666_row15_col0\" class=\"data row15 col0\" >Bacelli G.</td>\n",
              "      <td id=\"T_1e666_row15_col1\" class=\"data row15 col1\" >29</td>\n",
              "    </tr>\n",
              "    <tr>\n",
              "      <th id=\"T_1e666_level0_row16\" class=\"row_heading level0 row16\" >17</th>\n",
              "      <td id=\"T_1e666_row16_col0\" class=\"data row16 col0\" >Engström J.</td>\n",
              "      <td id=\"T_1e666_row16_col1\" class=\"data row16 col1\" >28</td>\n",
              "    </tr>\n",
              "    <tr>\n",
              "      <th id=\"T_1e666_level0_row17\" class=\"row_heading level0 row17\" >18</th>\n",
              "      <td id=\"T_1e666_row17_col0\" class=\"data row17 col0\" >Sergiienko N.</td>\n",
              "      <td id=\"T_1e666_row17_col1\" class=\"data row17 col1\" >27</td>\n",
              "    </tr>\n",
              "    <tr>\n",
              "      <th id=\"T_1e666_level0_row18\" class=\"row_heading level0 row18\" >19</th>\n",
              "      <td id=\"T_1e666_row18_col0\" class=\"data row18 col0\" >Cazzolato B.</td>\n",
              "      <td id=\"T_1e666_row18_col1\" class=\"data row18 col1\" >27</td>\n",
              "    </tr>\n",
              "    <tr>\n",
              "      <th id=\"T_1e666_level0_row19\" class=\"row_heading level0 row19\" >20</th>\n",
              "      <td id=\"T_1e666_row19_col0\" class=\"data row19 col0\" >Gomes R.P.F.</td>\n",
              "      <td id=\"T_1e666_row19_col1\" class=\"data row19 col1\" >27</td>\n",
              "    </tr>\n",
              "  </tbody>\n",
              "</table>\n"
            ]
          },
          "metadata": {},
          "execution_count": 21
        }
      ]
    },
    {
      "cell_type": "code",
      "source": [
        "sorted_citations_dic = { k: v for k, v in sorted( papers_dic.items(), key=lambda item: item[1].citations, reverse=True ) }\n",
        "\n",
        "df_citations_name_lst = []\n",
        "df_citations_num_lst = []\n",
        "\n",
        "df_citations_dic = { \n",
        "        \"Author\": df_citations_name_lst,\n",
        "        \"Citations\": df_citations_num_lst\n",
        "}  \n",
        "\n",
        "for n, dt in enumerate( sorted_citations_dic.values() ):\n",
        "    df_citations_name_lst.append( dt.name ) \n",
        "    df_citations_num_lst.append( dt.citations )\n",
        "\n",
        "df = pd.DataFrame( df_citations_dic )\n",
        "df.index = df.index + 1 \n",
        "left_align( df.head(10) )"
      ],
      "metadata": {
        "id": "SG8KjEDp6A76",
        "outputId": "be3a808e-c089-4502-e7e8-d956b99cc83f",
        "colab": {
          "base_uri": "https://localhost:8080/",
          "height": 363
        }
      },
      "execution_count": 27,
      "outputs": [
        {
          "output_type": "execute_result",
          "data": {
            "text/plain": [
              "<pandas.io.formats.style.Styler at 0x7f7c6706b760>"
            ],
            "text/html": [
              "<style type=\"text/css\">\n",
              "#T_ad451 th {\n",
              "  text-align: left;\n",
              "}\n",
              "#T_ad451_row0_col0, #T_ad451_row0_col1, #T_ad451_row1_col0, #T_ad451_row1_col1, #T_ad451_row2_col0, #T_ad451_row2_col1, #T_ad451_row3_col0, #T_ad451_row3_col1, #T_ad451_row4_col0, #T_ad451_row4_col1, #T_ad451_row5_col0, #T_ad451_row5_col1, #T_ad451_row6_col0, #T_ad451_row6_col1, #T_ad451_row7_col0, #T_ad451_row7_col1, #T_ad451_row8_col0, #T_ad451_row8_col1, #T_ad451_row9_col0, #T_ad451_row9_col1 {\n",
              "  text-align: left;\n",
              "}\n",
              "</style>\n",
              "<table id=\"T_ad451\" class=\"dataframe\">\n",
              "  <thead>\n",
              "    <tr>\n",
              "      <th class=\"blank level0\" >&nbsp;</th>\n",
              "      <th id=\"T_ad451_level0_col0\" class=\"col_heading level0 col0\" >Author</th>\n",
              "      <th id=\"T_ad451_level0_col1\" class=\"col_heading level0 col1\" >Citations</th>\n",
              "    </tr>\n",
              "  </thead>\n",
              "  <tbody>\n",
              "    <tr>\n",
              "      <th id=\"T_ad451_level0_row0\" class=\"row_heading level0 row0\" >1</th>\n",
              "      <td id=\"T_ad451_row0_col0\" class=\"data row0 col0\" >Falcão A.F.O.</td>\n",
              "      <td id=\"T_ad451_row0_col1\" class=\"data row0 col1\" >4991</td>\n",
              "    </tr>\n",
              "    <tr>\n",
              "      <th id=\"T_ad451_level0_row1\" class=\"row_heading level0 row1\" >2</th>\n",
              "      <td id=\"T_ad451_row1_col0\" class=\"data row1 col0\" >Iglesias G.</td>\n",
              "      <td id=\"T_ad451_row1_col1\" class=\"data row1 col1\" >4914</td>\n",
              "    </tr>\n",
              "    <tr>\n",
              "      <th id=\"T_ad451_level0_row2\" class=\"row_heading level0 row2\" >3</th>\n",
              "      <td id=\"T_ad451_row2_col0\" class=\"data row2 col0\" >Wang Z.L.</td>\n",
              "      <td id=\"T_ad451_row2_col1\" class=\"data row2 col1\" >4696</td>\n",
              "    </tr>\n",
              "    <tr>\n",
              "      <th id=\"T_ad451_level0_row3\" class=\"row_heading level0 row3\" >4</th>\n",
              "      <td id=\"T_ad451_row3_col0\" class=\"data row3 col0\" >Ringwood J.V.</td>\n",
              "      <td id=\"T_ad451_row3_col1\" class=\"data row3 col1\" >3159</td>\n",
              "    </tr>\n",
              "    <tr>\n",
              "      <th id=\"T_ad451_level0_row4\" class=\"row_heading level0 row4\" >5</th>\n",
              "      <td id=\"T_ad451_row4_col0\" class=\"data row4 col0\" >Guedes Soares C.</td>\n",
              "      <td id=\"T_ad451_row4_col1\" class=\"data row4 col1\" >2643</td>\n",
              "    </tr>\n",
              "    <tr>\n",
              "      <th id=\"T_ad451_level0_row5\" class=\"row_heading level0 row5\" >6</th>\n",
              "      <td id=\"T_ad451_row5_col0\" class=\"data row5 col0\" >Babarit A.</td>\n",
              "      <td id=\"T_ad451_row5_col1\" class=\"data row5 col1\" >2527</td>\n",
              "    </tr>\n",
              "    <tr>\n",
              "      <th id=\"T_ad451_level0_row6\" class=\"row_heading level0 row6\" >7</th>\n",
              "      <td id=\"T_ad451_row6_col0\" class=\"data row6 col0\" >Henriques J.C.C.</td>\n",
              "      <td id=\"T_ad451_row6_col1\" class=\"data row6 col1\" >2384</td>\n",
              "    </tr>\n",
              "    <tr>\n",
              "      <th id=\"T_ad451_level0_row7\" class=\"row_heading level0 row7\" >8</th>\n",
              "      <td id=\"T_ad451_row7_col0\" class=\"data row7 col0\" >Moan T.</td>\n",
              "      <td id=\"T_ad451_row7_col1\" class=\"data row7 col1\" >2337</td>\n",
              "    </tr>\n",
              "    <tr>\n",
              "      <th id=\"T_ad451_level0_row8\" class=\"row_heading level0 row8\" >9</th>\n",
              "      <td id=\"T_ad451_row8_col0\" class=\"data row8 col0\" >Carballo R.</td>\n",
              "      <td id=\"T_ad451_row8_col1\" class=\"data row8 col1\" >2022</td>\n",
              "    </tr>\n",
              "    <tr>\n",
              "      <th id=\"T_ad451_level0_row9\" class=\"row_heading level0 row9\" >10</th>\n",
              "      <td id=\"T_ad451_row9_col0\" class=\"data row9 col0\" >Jiang T.</td>\n",
              "      <td id=\"T_ad451_row9_col1\" class=\"data row9 col1\" >1977</td>\n",
              "    </tr>\n",
              "  </tbody>\n",
              "</table>\n"
            ]
          },
          "metadata": {},
          "execution_count": 27
        }
      ]
    },
    {
      "cell_type": "code",
      "source": [
        "@dataclass\n",
        "class paper_rank:\n",
        "    authors: str = None\n",
        "    title: str = None\n",
        "    journal: str =None\n",
        "    year: int = 0\n",
        "    DOI: str = None\n",
        "    citations: int = 0"
      ],
      "metadata": {
        "id": "F44gD-KFYQNk"
      },
      "execution_count": 13,
      "outputs": []
    },
    {
      "cell_type": "code",
      "source": [
        "papers_rank_dic = {}\n",
        "\n",
        "for n, ( authors, title, journal, year, DOI, citations, stage ) in enumerate( zip( authors_lst, title_lst, journal_lst, year_lst, DOI_lst, citations_lst, stage_lst ) ):\n",
        "    if stage == 'Final' and authors == authors: # check NANs\n",
        "        papers_rank_dic[DOI] = paper_rank( authors, title, journal, year, DOI, int( citations ) )"
      ],
      "metadata": {
        "id": "ulws2MGMXGwZ"
      },
      "execution_count": 14,
      "outputs": []
    },
    {
      "cell_type": "code",
      "source": [
        "sorted_papers_rank_dic = { k: v for k, v in sorted( papers_rank_dic.items(), key=lambda item: item[1].citations, reverse=True ) }\n",
        "\n",
        "df_authors_name_lst = []\n",
        "df_title_lst = []\n",
        "df_journal_lst = []\n",
        "df_year_lst = []\n",
        "df_DOI_lst = []\n",
        "df_citations_lst = []\n",
        "\n",
        "df_papers_rank_dic = { \n",
        "        \"Authors\": df_authors_name_lst,\n",
        "        \"Title\": df_title_lst,\n",
        "        \"Journal\": df_journal_lst,\n",
        "        \"Year\": df_year_lst,\n",
        "        # \"DOI\": df_DOI_lst,\n",
        "        \"citations\": df_citations_lst\n",
        "}  \n",
        "\n",
        "for n, dt in enumerate( sorted_papers_rank_dic.values() ):\n",
        "    df_authors_name_lst.append( dt.authors ) \n",
        "    df_title_lst.append( dt.title )\n",
        "    df_journal_lst.append( dt.journal )\n",
        "    df_year_lst.append( dt.year )\n",
        "    df_DOI_lst.append( dt.DOI )\n",
        "    df_citations_lst.append( dt.citations )\n",
        "\n",
        "df = pd.DataFrame( df_papers_rank_dic )\n",
        "df.index = df.index + 1\n",
        "left_align( df.head(10) )"
      ],
      "metadata": {
        "id": "4n06BPVsXHP2",
        "outputId": "d7ad42a3-3753-4230-80a3-02e505c7c7b3",
        "colab": {
          "base_uri": "https://localhost:8080/",
          "height": 363
        }
      },
      "execution_count": 30,
      "outputs": [
        {
          "output_type": "execute_result",
          "data": {
            "text/plain": [
              "<pandas.io.formats.style.Styler at 0x7f7c97e872e0>"
            ],
            "text/html": [
              "<style type=\"text/css\">\n",
              "#T_d0298 th {\n",
              "  text-align: left;\n",
              "}\n",
              "#T_d0298_row0_col0, #T_d0298_row0_col1, #T_d0298_row0_col2, #T_d0298_row0_col3, #T_d0298_row0_col4, #T_d0298_row1_col0, #T_d0298_row1_col1, #T_d0298_row1_col2, #T_d0298_row1_col3, #T_d0298_row1_col4, #T_d0298_row2_col0, #T_d0298_row2_col1, #T_d0298_row2_col2, #T_d0298_row2_col3, #T_d0298_row2_col4, #T_d0298_row3_col0, #T_d0298_row3_col1, #T_d0298_row3_col2, #T_d0298_row3_col3, #T_d0298_row3_col4, #T_d0298_row4_col0, #T_d0298_row4_col1, #T_d0298_row4_col2, #T_d0298_row4_col3, #T_d0298_row4_col4, #T_d0298_row5_col0, #T_d0298_row5_col1, #T_d0298_row5_col2, #T_d0298_row5_col3, #T_d0298_row5_col4, #T_d0298_row6_col0, #T_d0298_row6_col1, #T_d0298_row6_col2, #T_d0298_row6_col3, #T_d0298_row6_col4, #T_d0298_row7_col0, #T_d0298_row7_col1, #T_d0298_row7_col2, #T_d0298_row7_col3, #T_d0298_row7_col4, #T_d0298_row8_col0, #T_d0298_row8_col1, #T_d0298_row8_col2, #T_d0298_row8_col3, #T_d0298_row8_col4, #T_d0298_row9_col0, #T_d0298_row9_col1, #T_d0298_row9_col2, #T_d0298_row9_col3, #T_d0298_row9_col4 {\n",
              "  text-align: left;\n",
              "}\n",
              "</style>\n",
              "<table id=\"T_d0298\" class=\"dataframe\">\n",
              "  <thead>\n",
              "    <tr>\n",
              "      <th class=\"blank level0\" >&nbsp;</th>\n",
              "      <th id=\"T_d0298_level0_col0\" class=\"col_heading level0 col0\" >Authors</th>\n",
              "      <th id=\"T_d0298_level0_col1\" class=\"col_heading level0 col1\" >Title</th>\n",
              "      <th id=\"T_d0298_level0_col2\" class=\"col_heading level0 col2\" >Journal</th>\n",
              "      <th id=\"T_d0298_level0_col3\" class=\"col_heading level0 col3\" >Year</th>\n",
              "      <th id=\"T_d0298_level0_col4\" class=\"col_heading level0 col4\" >citations</th>\n",
              "    </tr>\n",
              "  </thead>\n",
              "  <tbody>\n",
              "    <tr>\n",
              "      <th id=\"T_d0298_level0_row0\" class=\"row_heading level0 row0\" >1</th>\n",
              "      <td id=\"T_d0298_row0_col0\" class=\"data row0 col0\" >Falcão A.F.d.O.</td>\n",
              "      <td id=\"T_d0298_row0_col1\" class=\"data row0 col1\" >Wave energy utilization: A review of the technologies</td>\n",
              "      <td id=\"T_d0298_row0_col2\" class=\"data row0 col2\" >Renewable and Sustainable Energy Reviews</td>\n",
              "      <td id=\"T_d0298_row0_col3\" class=\"data row0 col3\" >2010</td>\n",
              "      <td id=\"T_d0298_row0_col4\" class=\"data row0 col4\" >2035</td>\n",
              "    </tr>\n",
              "    <tr>\n",
              "      <th id=\"T_d0298_level0_row1\" class=\"row_heading level0 row1\" >2</th>\n",
              "      <td id=\"T_d0298_row1_col0\" class=\"data row1 col0\" >Drew B.; Plummer A.R.; Sahinkaya M.N.</td>\n",
              "      <td id=\"T_d0298_row1_col1\" class=\"data row1 col1\" >A review of wave energy converter technology</td>\n",
              "      <td id=\"T_d0298_row1_col2\" class=\"data row1 col2\" >Proceedings of the Institution of Mechanical Engineers, Part A: Journal of Power and Energy</td>\n",
              "      <td id=\"T_d0298_row1_col3\" class=\"data row1 col3\" >2009</td>\n",
              "      <td id=\"T_d0298_row1_col4\" class=\"data row1 col4\" >867</td>\n",
              "    </tr>\n",
              "    <tr>\n",
              "      <th id=\"T_d0298_level0_row2\" class=\"row_heading level0 row2\" >3</th>\n",
              "      <td id=\"T_d0298_row2_col0\" class=\"data row2 col0\" >Falnes J.</td>\n",
              "      <td id=\"T_d0298_row2_col1\" class=\"data row2 col1\" >A review of wave-energy extraction</td>\n",
              "      <td id=\"T_d0298_row2_col2\" class=\"data row2 col2\" >Marine Structures</td>\n",
              "      <td id=\"T_d0298_row2_col3\" class=\"data row2 col3\" >2007</td>\n",
              "      <td id=\"T_d0298_row2_col4\" class=\"data row2 col4\" >809</td>\n",
              "    </tr>\n",
              "    <tr>\n",
              "      <th id=\"T_d0298_level0_row3\" class=\"row_heading level0 row3\" >4</th>\n",
              "      <td id=\"T_d0298_row3_col0\" class=\"data row3 col0\" >Wang Z.L.; Jiang T.; Xu L.</td>\n",
              "      <td id=\"T_d0298_row3_col1\" class=\"data row3 col1\" >Toward the blue energy dream by triboelectric nanogenerator networks</td>\n",
              "      <td id=\"T_d0298_row3_col2\" class=\"data row3 col2\" >Nano Energy</td>\n",
              "      <td id=\"T_d0298_row3_col3\" class=\"data row3 col3\" >2017</td>\n",
              "      <td id=\"T_d0298_row3_col4\" class=\"data row3 col4\" >727</td>\n",
              "    </tr>\n",
              "    <tr>\n",
              "      <th id=\"T_d0298_level0_row4\" class=\"row_heading level0 row4\" >5</th>\n",
              "      <td id=\"T_d0298_row4_col0\" class=\"data row4 col0\" >Falcão A.F.O.; Henriques J.C.C.</td>\n",
              "      <td id=\"T_d0298_row4_col1\" class=\"data row4 col1\" >Oscillating-water-column wave energy converters and air turbines: A review</td>\n",
              "      <td id=\"T_d0298_row4_col2\" class=\"data row4 col2\" >Renewable Energy</td>\n",
              "      <td id=\"T_d0298_row4_col3\" class=\"data row4 col3\" >2016</td>\n",
              "      <td id=\"T_d0298_row4_col4\" class=\"data row4 col4\" >594</td>\n",
              "    </tr>\n",
              "    <tr>\n",
              "      <th id=\"T_d0298_level0_row5\" class=\"row_heading level0 row5\" >6</th>\n",
              "      <td id=\"T_d0298_row5_col0\" class=\"data row5 col0\" >Babarit A.; Hals J.; Muliawan M.J.; Kurniawan A.; Moan T.; Krokstad J.</td>\n",
              "      <td id=\"T_d0298_row5_col1\" class=\"data row5 col1\" >Numerical benchmarking study of a selection of wave energy converters</td>\n",
              "      <td id=\"T_d0298_row5_col2\" class=\"data row5 col2\" >Renewable Energy</td>\n",
              "      <td id=\"T_d0298_row5_col3\" class=\"data row5 col3\" >2012</td>\n",
              "      <td id=\"T_d0298_row5_col4\" class=\"data row5 col4\" >551</td>\n",
              "    </tr>\n",
              "    <tr>\n",
              "      <th id=\"T_d0298_level0_row6\" class=\"row_heading level0 row6\" >7</th>\n",
              "      <td id=\"T_d0298_row6_col0\" class=\"data row6 col0\" >López I.; Andreu J.; Ceballos S.; Martínez De Alegría I.; Kortabarria I.</td>\n",
              "      <td id=\"T_d0298_row6_col1\" class=\"data row6 col1\" >Review of wave energy technologies and the necessary power-equipment</td>\n",
              "      <td id=\"T_d0298_row6_col2\" class=\"data row6 col2\" >Renewable and Sustainable Energy Reviews</td>\n",
              "      <td id=\"T_d0298_row6_col3\" class=\"data row6 col3\" >2013</td>\n",
              "      <td id=\"T_d0298_row6_col4\" class=\"data row6 col4\" >533</td>\n",
              "    </tr>\n",
              "    <tr>\n",
              "      <th id=\"T_d0298_level0_row7\" class=\"row_heading level0 row7\" >8</th>\n",
              "      <td id=\"T_d0298_row7_col0\" class=\"data row7 col0\" >Gunn K.; Stock-Williams C.</td>\n",
              "      <td id=\"T_d0298_row7_col1\" class=\"data row7 col1\" >Quantifying the global wave power resource</td>\n",
              "      <td id=\"T_d0298_row7_col2\" class=\"data row7 col2\" >Renewable Energy</td>\n",
              "      <td id=\"T_d0298_row7_col3\" class=\"data row7 col3\" >2012</td>\n",
              "      <td id=\"T_d0298_row7_col4\" class=\"data row7 col4\" >436</td>\n",
              "    </tr>\n",
              "    <tr>\n",
              "      <th id=\"T_d0298_level0_row8\" class=\"row_heading level0 row8\" >9</th>\n",
              "      <td id=\"T_d0298_row8_col0\" class=\"data row8 col0\" >Pérez-Collazo C.; Greaves D.; Iglesias G.</td>\n",
              "      <td id=\"T_d0298_row8_col1\" class=\"data row8 col1\" >A review of combined wave and offshore wind energy</td>\n",
              "      <td id=\"T_d0298_row8_col2\" class=\"data row8 col2\" >Renewable and Sustainable Energy Reviews</td>\n",
              "      <td id=\"T_d0298_row8_col3\" class=\"data row8 col3\" >2015</td>\n",
              "      <td id=\"T_d0298_row8_col4\" class=\"data row8 col4\" >403</td>\n",
              "    </tr>\n",
              "    <tr>\n",
              "      <th id=\"T_d0298_level0_row9\" class=\"row_heading level0 row9\" >10</th>\n",
              "      <td id=\"T_d0298_row9_col0\" class=\"data row9 col0\" >Hussain A.; Arif S.M.; Aslam M.</td>\n",
              "      <td id=\"T_d0298_row9_col1\" class=\"data row9 col1\" >Emerging renewable and sustainable energy technologies: State of the art</td>\n",
              "      <td id=\"T_d0298_row9_col2\" class=\"data row9 col2\" >Renewable and Sustainable Energy Reviews</td>\n",
              "      <td id=\"T_d0298_row9_col3\" class=\"data row9 col3\" >2017</td>\n",
              "      <td id=\"T_d0298_row9_col4\" class=\"data row9 col4\" >335</td>\n",
              "    </tr>\n",
              "  </tbody>\n",
              "</table>\n"
            ]
          },
          "metadata": {},
          "execution_count": 30
        }
      ]
    },
    {
      "cell_type": "code",
      "source": [],
      "metadata": {
        "id": "CuqeaQKial-4"
      },
      "execution_count": 15,
      "outputs": []
    }
  ]
}