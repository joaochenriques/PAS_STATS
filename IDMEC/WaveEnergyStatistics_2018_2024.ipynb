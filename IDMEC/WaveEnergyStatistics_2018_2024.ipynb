{
  "nbformat": 4,
  "nbformat_minor": 0,
  "metadata": {
    "colab": {
      "provenance": [],
      "include_colab_link": true
    },
    "kernelspec": {
      "name": "python3",
      "display_name": "Python 3"
    },
    "language_info": {
      "name": "python"
    }
  },
  "cells": [
    {
      "cell_type": "markdown",
      "metadata": {
        "id": "view-in-github",
        "colab_type": "text"
      },
      "source": [
        "<a href=\"https://colab.research.google.com/github/joaochenriques/WaveEnergyStatistics/blob/main/IDMEC/WaveEnergyStatistics_2018_2024.ipynb\" target=\"_parent\"><img src=\"https://colab.research.google.com/assets/colab-badge.svg\" alt=\"Open In Colab\"/></a>"
      ]
    },
    {
      "cell_type": "markdown",
      "source": [
        "# Wave energy statistics from 2019 to 2024"
      ],
      "metadata": {
        "id": "-kiE3jAe8qSr"
      }
    },
    {
      "cell_type": "code",
      "execution_count": 52,
      "metadata": {
        "id": "5UYVFDSKmZ4z"
      },
      "outputs": [],
      "source": [
        "import pandas as pd\n",
        "import numpy as np\n",
        "import matplotlib\n",
        "import matplotlib.pyplot as mpl\n",
        "import sys, pathlib\n",
        "import itertools\n",
        "from scipy import optimize\n",
        "from sortedcontainers import SortedDict, SortedSet\n",
        "from collections import OrderedDict\n",
        "\n",
        "from matplotlib.ticker import (MultipleLocator, FormatStrFormatter,AutoMinorLocator)\n",
        "\n",
        "import pathlib, subprocess\n",
        "\n",
        "def cmdcall( cmd ):\n",
        "    output = subprocess.getoutput( cmd )\n",
        "    print(output)\n",
        "\n",
        "if not pathlib.Path(\"mpl_utils.py\").exists():\n",
        "  cmdcall( 'curl -O https://raw.githubusercontent.com/joaochenriques/ipynb_libs/main/mpl_utils.py' )\n",
        "\n",
        "import mpl_utils as mut\n",
        "mut.config_plots()\n",
        "\n",
        "markers = ( 'o', '^', 's', 'v', 'H', 'X', 'P' )\n",
        "\n",
        "from matplotlib_inline.backend_inline import set_matplotlib_formats\n",
        "set_matplotlib_formats('svg')"
      ]
    },
    {
      "cell_type": "code",
      "source": [
        "cmdcall( 'wget https://github.com/MaxGhenis/random/raw/master/Roboto-Regular.ttf' )\n",
        "matplotlib.font_manager.fontManager.addfont('Roboto-Regular.ttf')\n",
        "# import matplotlib.font_manager\n",
        "# for f in matplotlib.font_manager.fontManager.ttflist:\n",
        "#     print(f.name)"
      ],
      "metadata": {
        "id": "BhkYia6GLahx",
        "outputId": "2a527e04-2946-4658-d475-f6a16ca5a73d",
        "colab": {
          "base_uri": "https://localhost:8080/"
        }
      },
      "execution_count": 2,
      "outputs": [
        {
          "output_type": "stream",
          "name": "stdout",
          "text": [
            "--2024-06-10 11:30:57--  https://github.com/MaxGhenis/random/raw/master/Roboto-Regular.ttf\n",
            "Resolving github.com (github.com)... 140.82.113.4\n",
            "Connecting to github.com (github.com)|140.82.113.4|:443... connected.\n",
            "HTTP request sent, awaiting response... 302 Found\n",
            "Location: https://raw.githubusercontent.com/MaxGhenis/random/master/Roboto-Regular.ttf [following]\n",
            "--2024-06-10 11:30:57--  https://raw.githubusercontent.com/MaxGhenis/random/master/Roboto-Regular.ttf\n",
            "Resolving raw.githubusercontent.com (raw.githubusercontent.com)... 185.199.111.133, 185.199.110.133, 185.199.108.133, ...\n",
            "Connecting to raw.githubusercontent.com (raw.githubusercontent.com)|185.199.111.133|:443... connected.\n",
            "HTTP request sent, awaiting response... 200 OK\n",
            "Length: 145348 (142K) [application/octet-stream]\n",
            "Saving to: ‘Roboto-Regular.ttf’\n",
            "\n",
            "     0K .......... .......... .......... .......... .......... 35% 4.14M 0s\n",
            "    50K .......... .......... .......... .......... .......... 70% 4.23M 0s\n",
            "   100K .......... .......... .......... .......... .         100% 5.70M=0.03s\n",
            "\n",
            "2024-06-10 11:30:58 (4.54 MB/s) - ‘Roboto-Regular.ttf’ saved [145348/145348]\n",
            "\n"
          ]
        }
      ]
    },
    {
      "cell_type": "code",
      "source": [
        "cmdcall( 'pip install pylatex' )\n",
        "from pylatex import LongTable, Tabular, MultiColumn, MultiRow, TextColor\n",
        "from pylatex.utils import bold"
      ],
      "metadata": {
        "id": "P7v1R0kr7ogk",
        "outputId": "465c9703-6a7e-46d0-e20a-7a4bc441befc",
        "colab": {
          "base_uri": "https://localhost:8080/"
        }
      },
      "execution_count": 3,
      "outputs": [
        {
          "output_type": "stream",
          "name": "stdout",
          "text": [
            "Collecting pylatex\n",
            "  Downloading PyLaTeX-1.4.2.tar.gz (59 kB)\n",
            "     ━━━━━━━━━━━━━━━━━━━━━━━━━━━━━━━━━━━━━━━━ 59.7/59.7 kB 1.3 MB/s eta 0:00:00\n",
            "  Installing build dependencies: started\n",
            "  Installing build dependencies: finished with status 'done'\n",
            "  Getting requirements to build wheel: started\n",
            "  Getting requirements to build wheel: finished with status 'done'\n",
            "  Preparing metadata (pyproject.toml): started\n",
            "  Preparing metadata (pyproject.toml): finished with status 'done'\n",
            "Collecting ordered-set (from pylatex)\n",
            "  Downloading ordered_set-4.1.0-py3-none-any.whl (7.6 kB)\n",
            "Building wheels for collected packages: pylatex\n",
            "  Building wheel for pylatex (pyproject.toml): started\n",
            "  Building wheel for pylatex (pyproject.toml): finished with status 'done'\n",
            "  Created wheel for pylatex: filename=PyLaTeX-1.4.2-py3-none-any.whl size=43561 sha256=332f6951e67a845a4ae62b986dbebb3537e98a08933290efa38a9757b4d81107\n",
            "  Stored in directory: /root/.cache/pip/wheels/a3/60/09/c6f9f98feac18da1b5fc02bd765c6b3cb9a0f75955a12b27ad\n",
            "Successfully built pylatex\n",
            "Installing collected packages: ordered-set, pylatex\n",
            "Successfully installed ordered-set-4.1.0 pylatex-1.4.2\n"
          ]
        }
      ]
    },
    {
      "cell_type": "code",
      "source": [
        "cmdcall( 'pip install font-roboto' )"
      ],
      "metadata": {
        "id": "bsr-WcMCC1CR",
        "outputId": "2abb0a00-5b6d-4d05-fe30-82c8c9c3d119",
        "colab": {
          "base_uri": "https://localhost:8080/"
        }
      },
      "execution_count": 4,
      "outputs": [
        {
          "output_type": "stream",
          "name": "stdout",
          "text": [
            "Collecting font-roboto\n",
            "  Downloading font-roboto-0.0.1.tar.gz (2.4 MB)\n",
            "     ━━━━━━━━━━━━━━━━━━━━━━━━━━━━━━━━━━━━━━━━ 2.4/2.4 MB 11.5 MB/s eta 0:00:00\n",
            "  Preparing metadata (setup.py): started\n",
            "  Preparing metadata (setup.py): finished with status 'done'\n",
            "Building wheels for collected packages: font-roboto\n",
            "  Building wheel for font-roboto (setup.py): started\n",
            "  Building wheel for font-roboto (setup.py): finished with status 'done'\n",
            "  Created wheel for font-roboto: filename=font_roboto-0.0.1-py3-none-any.whl size=2359737 sha256=e48afecfa74cd58fe6e5fee3285caf56d92a7d9007ee36549a0030df90890737\n",
            "  Stored in directory: /root/.cache/pip/wheels/a3/9e/ce/7bf12c0d9d2b230d1457d6b7c776aabdc6a01e9ab824db2462\n",
            "Successfully built font-roboto\n",
            "Installing collected packages: font-roboto\n",
            "Successfully installed font-roboto-0.0.1\n"
          ]
        }
      ]
    },
    {
      "cell_type": "code",
      "source": [
        "cmdcall( 'pip install unidecode' )\n",
        "from unidecode import unidecode"
      ],
      "metadata": {
        "colab": {
          "base_uri": "https://localhost:8080/"
        },
        "id": "MO8671tdxGps",
        "outputId": "1069c49d-fac2-453a-b509-e1fb87d2b959"
      },
      "execution_count": 5,
      "outputs": [
        {
          "output_type": "stream",
          "name": "stdout",
          "text": [
            "Collecting unidecode\n",
            "  Downloading Unidecode-1.3.8-py3-none-any.whl (235 kB)\n",
            "     ━━━━━━━━━━━━━━━━━━━━━━━━━━━━━━━━━━━━━━━━ 235.5/235.5 kB 4.7 MB/s eta 0:00:00\n",
            "Installing collected packages: unidecode\n",
            "Successfully installed unidecode-1.3.8\n"
          ]
        }
      ]
    },
    {
      "cell_type": "code",
      "source": [
        "cmdcall( 'pip install dataclassy' )\n",
        "from dataclassy import dataclass"
      ],
      "metadata": {
        "id": "-RikPqO55cJE",
        "outputId": "be8d5d1e-1400-4aa1-9da2-842fbc4726ae",
        "colab": {
          "base_uri": "https://localhost:8080/"
        }
      },
      "execution_count": 6,
      "outputs": [
        {
          "output_type": "stream",
          "name": "stdout",
          "text": [
            "Collecting dataclassy\n",
            "  Downloading dataclassy-1.0.1-py3-none-any.whl (24 kB)\n",
            "Installing collected packages: dataclassy\n",
            "Successfully installed dataclassy-1.0.1\n"
          ]
        }
      ]
    },
    {
      "cell_type": "code",
      "source": [
        "cmdcall( 'pip install iso3166' )\n",
        "from iso3166 import countries\n",
        "\n",
        "country_lst = []\n",
        "for c in countries:\n",
        "    country_lst.append( c.name )"
      ],
      "metadata": {
        "id": "llW3nHzIsEiN",
        "outputId": "08fc618b-309e-4e9d-ef9f-1b8dccbd9272",
        "colab": {
          "base_uri": "https://localhost:8080/"
        }
      },
      "execution_count": 7,
      "outputs": [
        {
          "output_type": "stream",
          "name": "stdout",
          "text": [
            "Collecting iso3166\n",
            "  Downloading iso3166-2.1.1-py3-none-any.whl (9.8 kB)\n",
            "Installing collected packages: iso3166\n",
            "Successfully installed iso3166-2.1.1\n"
          ]
        }
      ]
    },
    {
      "cell_type": "code",
      "source": [
        "def left_align( df ):\n",
        "    left_aligned_df = df.style.set_properties(**{'text-align': 'left'})\n",
        "    left_aligned_df = left_aligned_df.set_table_styles(\n",
        "        [dict(selector='th', props=[('text-align', 'left')])]\n",
        "    )\n",
        "    return left_aligned_df"
      ],
      "metadata": {
        "id": "oe4vRxXeeqX-"
      },
      "execution_count": 8,
      "outputs": []
    },
    {
      "cell_type": "code",
      "source": [
        "filename = 'scimagojr_2023.csv'\n",
        "\n",
        "if not pathlib.Path( f\"{filename}\").exists():\n",
        "   cmdcall( f'curl -O https://raw.githubusercontent.com/joaochenriques/PAS_STATS/main/{filename}' )\n",
        "\n",
        "df_Q = pd.read_csv( filename, sep=\";\" )\n",
        "\n",
        "df_Q.keys()"
      ],
      "metadata": {
        "colab": {
          "base_uri": "https://localhost:8080/"
        },
        "id": "MNIJkD9YS4_l",
        "outputId": "5f6a0783-f4ec-460a-8a5c-cd0f298b83ea"
      },
      "execution_count": 10,
      "outputs": [
        {
          "output_type": "stream",
          "name": "stdout",
          "text": [
            "  % Total    % Received % Xferd  Average Speed   Time    Time     Time  Current\n",
            "                                 Dload  Upload   Total   Spent    Left  Speed\n",
            "\n",
            "  0     0    0     0    0     0      0      0 --:--:-- --:--:-- --:--:--     0\n",
            "100 8867k  100 8867k    0     0  18.6M      0 --:--:-- --:--:-- --:--:-- 18.7M\n"
          ]
        },
        {
          "output_type": "execute_result",
          "data": {
            "text/plain": [
              "Index(['Rank', 'Sourceid', 'Title', 'Type', 'Issn', 'SJR', 'SJR Best Quartile',\n",
              "       'H index', 'Total Docs. (2023)', 'Total Docs. (3years)', 'Total Refs.',\n",
              "       'Total Cites (3years)', 'Citable Docs. (3years)',\n",
              "       'Cites / Doc. (2years)', 'Ref. / Doc.', '%Female', 'Overton', 'SDG',\n",
              "       'Country', 'Region', 'Publisher', 'Coverage', 'Categories', 'Areas'],\n",
              "      dtype='object')"
            ]
          },
          "metadata": {},
          "execution_count": 10
        }
      ]
    },
    {
      "cell_type": "code",
      "source": [
        "query = \\\n",
        "'''\n",
        "AUTHKEY ( wave-energy ) AND PUBYEAR > 2018 AND DOCTYPE ( ar OR re ) AND (\n",
        "    LIMIT-TO ( EXACTSRCTITLE , \"Nature Communications\" ) OR\n",
        "    LIMIT-TO ( EXACTSRCTITLE , \"IEEE Transactions on Sustainable Energy\" ) OR\n",
        "    LIMIT-TO ( EXACTSRCTITLE , \"Renewable and Sustainable Energy Reviews\" ) OR\n",
        "    LIMIT-TO ( EXACTSRCTITLE , \"Applied Energy\" ) OR\n",
        "    LIMIT-TO ( EXACTSRCTITLE , \"Energy Conversion and Management\" ) OR\n",
        "    LIMIT-TO ( EXACTSRCTITLE , \"Energy Conversion and Management X\" ) OR\n",
        "    LIMIT-TO ( EXACTSRCTITLE , \"IEEE Transactions on Energy Conversion\" ) OR\n",
        "    LIMIT-TO ( EXACTSRCTITLE , \"IEEE Transactions on Control Systems Technology\" ) OR\n",
        "    LIMIT-TO ( EXACTSRCTITLE , \"Energy\" ) OR\n",
        "    LIMIT-TO ( EXACTSRCTITLE , \"Renewable Energy\" ) OR\n",
        "    LIMIT-TO ( EXACTSRCTITLE , \"Sustainable Energy Technologies and Assessments\" ) OR\n",
        "    LIMIT-TO ( EXACTSRCTITLE , \"Journal of Fluid Mechanics\" ) OR\n",
        "    LIMIT-TO ( EXACTSRCTITLE , \"Coastal Engineering\" ) OR\n",
        "    LIMIT-TO ( EXACTSRCTITLE , \"Nonlinear Dynamics\" ) OR\n",
        "    LIMIT-TO ( EXACTSRCTITLE , \"Ocean Engineering\" ) OR\n",
        "    LIMIT-TO ( EXACTSRCTITLE , \"IEEE Journal of Oceanic Engineering\" ) OR\n",
        "    LIMIT-TO ( EXACTSRCTITLE , \"Applied Ocean Research\" ) OR\n",
        "    LIMIT-TO ( EXACTSRCTITLE , \"Marine Structures\" ) OR\n",
        "    LIMIT-TO ( EXACTSRCTITLE , \"Energy Reports\" ) OR\n",
        "    LIMIT-TO ( EXACTSRCTITLE , \"Journal of Fluids and Structures\" ) OR\n",
        "    LIMIT-TO ( EXACTSRCTITLE , \"Frontiers in Marine Science\" ) OR\n",
        "    LIMIT-TO ( EXACTSRCTITLE , \"Scientific Reports\" ) OR\n",
        "    LIMIT-TO ( EXACTSRCTITLE , \"Journal of Hydrodynamics\" ) OR\n",
        "    LIMIT-TO ( EXACTSRCTITLE , \"IET Renewable Power Generation\" ) OR\n",
        "    LIMIT-TO ( EXACTSRCTITLE , \"Energies\" ) OR\n",
        "    LIMIT-TO ( EXACTSRCTITLE , \"IET Electric Power Applications\" ) OR\n",
        "    LIMIT-TO ( EXACTSRCTITLE , \"Ships and Offshore Structures\" ) OR\n",
        "    LIMIT-TO ( EXACTSRCTITLE , \"Frontiers in Energy Research\" ) OR\n",
        "    LIMIT-TO ( EXACTSRCTITLE , \"Journal of Marine Science and Engineering\" ) OR\n",
        "    LIMIT-TO ( EXACTSRCTITLE , \"Journal of Offshore Mechanics and Arctic Engineering\" ) OR\n",
        "    LIMIT-TO ( EXACTSRCTITLE , \"Journal of Ocean Engineering and Marine Energy\" ) OR\n",
        "    LIMIT-TO ( EXACTSRCTITLE , \"Journal of Marine Science and Application\" ) OR\n",
        "    LIMIT-TO ( EXACTSRCTITLE , \"Fluids\" )\n",
        ")\n",
        "'''"
      ],
      "metadata": {
        "id": "rJYldm99f-FF"
      },
      "execution_count": 11,
      "outputs": []
    },
    {
      "cell_type": "code",
      "source": [
        "DB_journals = SortedSet()\n",
        "\n",
        "for line in query.split( '\\n'):\n",
        "    name = re.findall('\"([^\"]*)\"', line )\n",
        "    if name:\n",
        "        DB_journals.update( name )\n",
        "DB_journals"
      ],
      "metadata": {
        "colab": {
          "base_uri": "https://localhost:8080/"
        },
        "id": "Dg1hgaqOgKeD",
        "outputId": "f7ceb30a-0039-4a8b-d9bb-b514fe48a0b5"
      },
      "execution_count": 12,
      "outputs": [
        {
          "output_type": "execute_result",
          "data": {
            "text/plain": [
              "SortedSet(['Applied Energy', 'Applied Ocean Research', 'Coastal Engineering', 'Energies', 'Energy', 'Energy Conversion and Management', 'Energy Conversion and Management X', 'Energy Reports', 'Fluids', 'Frontiers in Energy Research', 'Frontiers in Marine Science', 'IEEE Journal of Oceanic Engineering', 'IEEE Transactions on Control Systems Technology', 'IEEE Transactions on Energy Conversion', 'IEEE Transactions on Sustainable Energy', 'IET Electric Power Applications', 'IET Renewable Power Generation', 'Journal of Fluid Mechanics', 'Journal of Fluids and Structures', 'Journal of Hydrodynamics', 'Journal of Marine Science and Application', 'Journal of Marine Science and Engineering', 'Journal of Ocean Engineering and Marine Energy', 'Journal of Offshore Mechanics and Arctic Engineering', 'Marine Structures', 'Nature Communications', 'Nonlinear Dynamics', 'Ocean Engineering', 'Renewable Energy', 'Renewable and Sustainable Energy Reviews', 'Scientific Reports', 'Ships and Offshore Structures', 'Sustainable Energy Technologies and Assessments'])"
            ]
          },
          "metadata": {},
          "execution_count": 12
        }
      ]
    },
    {
      "cell_type": "code",
      "source": [
        "DB_journals_lwr = list( map( lambda x: x.lower(), DB_journals ) )\n",
        "\n",
        "for n, ( journal, Qn ) in enumerate( zip( df_Q['Title'], df_Q['SJR Best Quartile'] ) ):\n",
        "    if journal.lower() in DB_journals_lwr and Qn < 'Q3':\n",
        "        print( f'LIMIT-TO ( EXACTSRCTITLE , \"{journal}\" ) OR ' )"
      ],
      "metadata": {
        "colab": {
          "base_uri": "https://localhost:8080/"
        },
        "id": "gzMidGyIW93K",
        "outputId": "81b2af0f-7614-45f1-ed91-afac0a4f8c7d"
      },
      "execution_count": 13,
      "outputs": [
        {
          "output_type": "stream",
          "name": "stdout",
          "text": [
            "LIMIT-TO ( EXACTSRCTITLE , \"Nature Communications\" ) OR \n",
            "LIMIT-TO ( EXACTSRCTITLE , \"IEEE Transactions on Sustainable Energy\" ) OR \n",
            "LIMIT-TO ( EXACTSRCTITLE , \"Renewable and Sustainable Energy Reviews\" ) OR \n",
            "LIMIT-TO ( EXACTSRCTITLE , \"Applied Energy\" ) OR \n",
            "LIMIT-TO ( EXACTSRCTITLE , \"Energy Conversion and Management\" ) OR \n",
            "LIMIT-TO ( EXACTSRCTITLE , \"IEEE Transactions on Energy Conversion\" ) OR \n",
            "LIMIT-TO ( EXACTSRCTITLE , \"IEEE Transactions on Control Systems Technology\" ) OR \n",
            "LIMIT-TO ( EXACTSRCTITLE , \"Energy\" ) OR \n",
            "LIMIT-TO ( EXACTSRCTITLE , \"Renewable Energy\" ) OR \n",
            "LIMIT-TO ( EXACTSRCTITLE , \"Sustainable Energy Technologies and Assessments\" ) OR \n",
            "LIMIT-TO ( EXACTSRCTITLE , \"Journal of Fluid Mechanics\" ) OR \n",
            "LIMIT-TO ( EXACTSRCTITLE , \"Coastal Engineering\" ) OR \n",
            "LIMIT-TO ( EXACTSRCTITLE , \"Nonlinear Dynamics\" ) OR \n",
            "LIMIT-TO ( EXACTSRCTITLE , \"Ocean Engineering\" ) OR \n",
            "LIMIT-TO ( EXACTSRCTITLE , \"IEEE Journal of Oceanic Engineering\" ) OR \n",
            "LIMIT-TO ( EXACTSRCTITLE , \"Applied Ocean Research\" ) OR \n",
            "LIMIT-TO ( EXACTSRCTITLE , \"Marine Structures\" ) OR \n",
            "LIMIT-TO ( EXACTSRCTITLE , \"Energy Reports\" ) OR \n",
            "LIMIT-TO ( EXACTSRCTITLE , \"Journal of Fluids and Structures\" ) OR \n",
            "LIMIT-TO ( EXACTSRCTITLE , \"Frontiers in Marine Science\" ) OR \n",
            "LIMIT-TO ( EXACTSRCTITLE , \"Scientific Reports\" ) OR \n",
            "LIMIT-TO ( EXACTSRCTITLE , \"Journal of Hydrodynamics\" ) OR \n",
            "LIMIT-TO ( EXACTSRCTITLE , \"IET Renewable Power Generation\" ) OR \n",
            "LIMIT-TO ( EXACTSRCTITLE , \"Energies\" ) OR \n",
            "LIMIT-TO ( EXACTSRCTITLE , \"IET Electric Power Applications\" ) OR \n",
            "LIMIT-TO ( EXACTSRCTITLE , \"Ships and Offshore Structures\" ) OR \n",
            "LIMIT-TO ( EXACTSRCTITLE , \"Frontiers in Energy Research\" ) OR \n",
            "LIMIT-TO ( EXACTSRCTITLE , \"Journal of Marine Science and Engineering\" ) OR \n",
            "LIMIT-TO ( EXACTSRCTITLE , \"Journal of Offshore Mechanics and Arctic Engineering\" ) OR \n",
            "LIMIT-TO ( EXACTSRCTITLE , \"Journal of Ocean Engineering and Marine Energy\" ) OR \n",
            "LIMIT-TO ( EXACTSRCTITLE , \"Journal of Marine Science and Application\" ) OR \n",
            "LIMIT-TO ( EXACTSRCTITLE , \"Fluids\" ) OR \n"
          ]
        }
      ]
    },
    {
      "cell_type": "code",
      "source": [
        "filename = 'scopus_20240610_since_2019_WE_AUTHKEY.csv'\n",
        "\n",
        "if not pathlib.Path( f\"{filename}\").exists():\n",
        "    cmdcall( f'curl -O https://raw.githubusercontent.com/joaochenriques/PAS_STATS/main/{filename}' )\n",
        "\n",
        "df = pd.read_csv( filename )"
      ],
      "metadata": {
        "id": "nB9IJvu6mlv-"
      },
      "execution_count": 20,
      "outputs": []
    },
    {
      "cell_type": "code",
      "source": [
        "authors_lst = df['Authors']\n",
        "authors_ID_lst = df['Author(s) ID']\n",
        "affiliations_lst = df['Affiliations']\n",
        "title_lst = df['Title']\n",
        "journal_lst = df['Source title']\n",
        "year_lst = df['Year']\n",
        "citations_lst = df['Cited by']\n",
        "DOI_lst = df['DOI']\n",
        "stage_lst = df['Publication Stage']\n",
        "\n",
        "replacements_dic = {\n",
        "    'Ireland (formerly at the University of Plymouth)': 'Ireland',\n",
        "    'Univ. Paris6': 'France',\n",
        "    'Chinese Academy of Sciences': 'China',\n",
        "    'Instituto Superior Tx000E9': 'Portugal'\n",
        "}\n",
        "\n",
        "df.keys()"
      ],
      "metadata": {
        "id": "NqQTY6x5t5KB",
        "colab": {
          "base_uri": "https://localhost:8080/"
        },
        "outputId": "92b0fee8-247e-4ab1-c622-cda0b2e9cb64"
      },
      "execution_count": 21,
      "outputs": [
        {
          "output_type": "execute_result",
          "data": {
            "text/plain": [
              "Index(['Authors', 'Author full names', 'Author(s) ID', 'Title', 'Year',\n",
              "       'Source title', 'Volume', 'Issue', 'Art. No.', 'Page start', 'Page end',\n",
              "       'Page count', 'Cited by', 'DOI', 'Link', 'Affiliations',\n",
              "       'Authors with affiliations', 'Correspondence Address', 'Publisher',\n",
              "       'PubMed ID', 'Document Type', 'Publication Stage', 'Open Access',\n",
              "       'Source', 'EID'],\n",
              "      dtype='object')"
            ]
          },
          "metadata": {},
          "execution_count": 21
        }
      ]
    },
    {
      "cell_type": "markdown",
      "source": [
        "# Max number of table entries"
      ],
      "metadata": {
        "id": "042vG6GmAZKQ"
      }
    },
    {
      "cell_type": "code",
      "source": [
        "max_entries = 20\n",
        "\n",
        "global_tab = {}"
      ],
      "metadata": {
        "id": "9pCqVemcAX07"
      },
      "execution_count": 16,
      "outputs": []
    },
    {
      "cell_type": "markdown",
      "source": [
        "# Countries ordered by percentage of the authors's country"
      ],
      "metadata": {
        "id": "EK5Xo34HS62d"
      }
    },
    {
      "cell_type": "code",
      "source": [
        "countries_frac_dic = {}\n",
        "total_valid_papers = 0\n",
        "\n",
        "for n, ( affiliations, stage ) in enumerate( zip( affiliations_lst, stage_lst ) ):\n",
        "    if stage == 'Final' and affiliations == affiliations: # detect NANs\n",
        "        total_valid_papers += 1\n",
        "\n",
        "        institutions_lst = affiliations.split( ';' )\n",
        "        frac = 1.0 / len(institutions_lst)\n",
        "\n",
        "        for institution in institutions_lst:\n",
        "            country = institution.rsplit( ',', 1 )[-1].strip()\n",
        "\n",
        "            if country in replacements_dic:\n",
        "                country = replacements_dic[country]\n",
        "\n",
        "            if not country in countries_frac_dic:\n",
        "                countries_frac_dic[country] = frac\n",
        "            else:\n",
        "                countries_frac_dic[country] += frac\n",
        "\n",
        "sorted_country_frac_rank = { k: v for k, v in sorted( countries_frac_dic.items(), key=lambda item: item[1], reverse=True ) }\n",
        "\n",
        "df_country_name_lst = []\n",
        "df_country_num_lst = []\n",
        "\n",
        "col_name = f\"Num papers out of {total_valid_papers}\"\n",
        "df_country_dic = {\n",
        "        \"Country\": df_country_name_lst,\n",
        "        col_name: df_country_num_lst\n",
        "}\n",
        "\n",
        "for n, ( name, num ) in enumerate( sorted_country_frac_rank.items() ):\n",
        "    if n == max_entries: break\n",
        "    df_country_name_lst.append( name )\n",
        "    df_country_num_lst.append( int(num) )\n",
        "\n",
        "df = pd.DataFrame( df_country_dic )\n",
        "df.index = df.index + 1\n",
        "df.head(10)"
      ],
      "metadata": {
        "id": "87OqHiyQTEdk",
        "outputId": "920de24f-2b63-4cd3-c2c1-0073633273de",
        "colab": {
          "base_uri": "https://localhost:8080/",
          "height": 363
        }
      },
      "execution_count": 18,
      "outputs": [
        {
          "output_type": "execute_result",
          "data": {
            "text/plain": [
              "           Country  Num papers out of 1108\n",
              "1            China                     323\n",
              "2    United States                     113\n",
              "3   United Kingdom                      88\n",
              "4         Portugal                      60\n",
              "5            Italy                      54\n",
              "6        Australia                      53\n",
              "7            Spain                      42\n",
              "8            India                      38\n",
              "9             Iran                      31\n",
              "10         Ireland                      24"
            ],
            "text/html": [
              "\n",
              "  <div id=\"df-e0e74d84-ebdb-4caf-955a-504c9505fb22\" class=\"colab-df-container\">\n",
              "    <div>\n",
              "<style scoped>\n",
              "    .dataframe tbody tr th:only-of-type {\n",
              "        vertical-align: middle;\n",
              "    }\n",
              "\n",
              "    .dataframe tbody tr th {\n",
              "        vertical-align: top;\n",
              "    }\n",
              "\n",
              "    .dataframe thead th {\n",
              "        text-align: right;\n",
              "    }\n",
              "</style>\n",
              "<table border=\"1\" class=\"dataframe\">\n",
              "  <thead>\n",
              "    <tr style=\"text-align: right;\">\n",
              "      <th></th>\n",
              "      <th>Country</th>\n",
              "      <th>Num papers out of 1108</th>\n",
              "    </tr>\n",
              "  </thead>\n",
              "  <tbody>\n",
              "    <tr>\n",
              "      <th>1</th>\n",
              "      <td>China</td>\n",
              "      <td>323</td>\n",
              "    </tr>\n",
              "    <tr>\n",
              "      <th>2</th>\n",
              "      <td>United States</td>\n",
              "      <td>113</td>\n",
              "    </tr>\n",
              "    <tr>\n",
              "      <th>3</th>\n",
              "      <td>United Kingdom</td>\n",
              "      <td>88</td>\n",
              "    </tr>\n",
              "    <tr>\n",
              "      <th>4</th>\n",
              "      <td>Portugal</td>\n",
              "      <td>60</td>\n",
              "    </tr>\n",
              "    <tr>\n",
              "      <th>5</th>\n",
              "      <td>Italy</td>\n",
              "      <td>54</td>\n",
              "    </tr>\n",
              "    <tr>\n",
              "      <th>6</th>\n",
              "      <td>Australia</td>\n",
              "      <td>53</td>\n",
              "    </tr>\n",
              "    <tr>\n",
              "      <th>7</th>\n",
              "      <td>Spain</td>\n",
              "      <td>42</td>\n",
              "    </tr>\n",
              "    <tr>\n",
              "      <th>8</th>\n",
              "      <td>India</td>\n",
              "      <td>38</td>\n",
              "    </tr>\n",
              "    <tr>\n",
              "      <th>9</th>\n",
              "      <td>Iran</td>\n",
              "      <td>31</td>\n",
              "    </tr>\n",
              "    <tr>\n",
              "      <th>10</th>\n",
              "      <td>Ireland</td>\n",
              "      <td>24</td>\n",
              "    </tr>\n",
              "  </tbody>\n",
              "</table>\n",
              "</div>\n",
              "    <div class=\"colab-df-buttons\">\n",
              "\n",
              "  <div class=\"colab-df-container\">\n",
              "    <button class=\"colab-df-convert\" onclick=\"convertToInteractive('df-e0e74d84-ebdb-4caf-955a-504c9505fb22')\"\n",
              "            title=\"Convert this dataframe to an interactive table.\"\n",
              "            style=\"display:none;\">\n",
              "\n",
              "  <svg xmlns=\"http://www.w3.org/2000/svg\" height=\"24px\" viewBox=\"0 -960 960 960\">\n",
              "    <path d=\"M120-120v-720h720v720H120Zm60-500h600v-160H180v160Zm220 220h160v-160H400v160Zm0 220h160v-160H400v160ZM180-400h160v-160H180v160Zm440 0h160v-160H620v160ZM180-180h160v-160H180v160Zm440 0h160v-160H620v160Z\"/>\n",
              "  </svg>\n",
              "    </button>\n",
              "\n",
              "  <style>\n",
              "    .colab-df-container {\n",
              "      display:flex;\n",
              "      gap: 12px;\n",
              "    }\n",
              "\n",
              "    .colab-df-convert {\n",
              "      background-color: #E8F0FE;\n",
              "      border: none;\n",
              "      border-radius: 50%;\n",
              "      cursor: pointer;\n",
              "      display: none;\n",
              "      fill: #1967D2;\n",
              "      height: 32px;\n",
              "      padding: 0 0 0 0;\n",
              "      width: 32px;\n",
              "    }\n",
              "\n",
              "    .colab-df-convert:hover {\n",
              "      background-color: #E2EBFA;\n",
              "      box-shadow: 0px 1px 2px rgba(60, 64, 67, 0.3), 0px 1px 3px 1px rgba(60, 64, 67, 0.15);\n",
              "      fill: #174EA6;\n",
              "    }\n",
              "\n",
              "    .colab-df-buttons div {\n",
              "      margin-bottom: 4px;\n",
              "    }\n",
              "\n",
              "    [theme=dark] .colab-df-convert {\n",
              "      background-color: #3B4455;\n",
              "      fill: #D2E3FC;\n",
              "    }\n",
              "\n",
              "    [theme=dark] .colab-df-convert:hover {\n",
              "      background-color: #434B5C;\n",
              "      box-shadow: 0px 1px 3px 1px rgba(0, 0, 0, 0.15);\n",
              "      filter: drop-shadow(0px 1px 2px rgba(0, 0, 0, 0.3));\n",
              "      fill: #FFFFFF;\n",
              "    }\n",
              "  </style>\n",
              "\n",
              "    <script>\n",
              "      const buttonEl =\n",
              "        document.querySelector('#df-e0e74d84-ebdb-4caf-955a-504c9505fb22 button.colab-df-convert');\n",
              "      buttonEl.style.display =\n",
              "        google.colab.kernel.accessAllowed ? 'block' : 'none';\n",
              "\n",
              "      async function convertToInteractive(key) {\n",
              "        const element = document.querySelector('#df-e0e74d84-ebdb-4caf-955a-504c9505fb22');\n",
              "        const dataTable =\n",
              "          await google.colab.kernel.invokeFunction('convertToInteractive',\n",
              "                                                    [key], {});\n",
              "        if (!dataTable) return;\n",
              "\n",
              "        const docLinkHtml = 'Like what you see? Visit the ' +\n",
              "          '<a target=\"_blank\" href=https://colab.research.google.com/notebooks/data_table.ipynb>data table notebook</a>'\n",
              "          + ' to learn more about interactive tables.';\n",
              "        element.innerHTML = '';\n",
              "        dataTable['output_type'] = 'display_data';\n",
              "        await google.colab.output.renderOutput(dataTable, element);\n",
              "        const docLink = document.createElement('div');\n",
              "        docLink.innerHTML = docLinkHtml;\n",
              "        element.appendChild(docLink);\n",
              "      }\n",
              "    </script>\n",
              "  </div>\n",
              "\n",
              "\n",
              "<div id=\"df-6876c17e-e183-44fd-9aa2-bd3beb8d6a80\">\n",
              "  <button class=\"colab-df-quickchart\" onclick=\"quickchart('df-6876c17e-e183-44fd-9aa2-bd3beb8d6a80')\"\n",
              "            title=\"Suggest charts\"\n",
              "            style=\"display:none;\">\n",
              "\n",
              "<svg xmlns=\"http://www.w3.org/2000/svg\" height=\"24px\"viewBox=\"0 0 24 24\"\n",
              "     width=\"24px\">\n",
              "    <g>\n",
              "        <path d=\"M19 3H5c-1.1 0-2 .9-2 2v14c0 1.1.9 2 2 2h14c1.1 0 2-.9 2-2V5c0-1.1-.9-2-2-2zM9 17H7v-7h2v7zm4 0h-2V7h2v10zm4 0h-2v-4h2v4z\"/>\n",
              "    </g>\n",
              "</svg>\n",
              "  </button>\n",
              "\n",
              "<style>\n",
              "  .colab-df-quickchart {\n",
              "      --bg-color: #E8F0FE;\n",
              "      --fill-color: #1967D2;\n",
              "      --hover-bg-color: #E2EBFA;\n",
              "      --hover-fill-color: #174EA6;\n",
              "      --disabled-fill-color: #AAA;\n",
              "      --disabled-bg-color: #DDD;\n",
              "  }\n",
              "\n",
              "  [theme=dark] .colab-df-quickchart {\n",
              "      --bg-color: #3B4455;\n",
              "      --fill-color: #D2E3FC;\n",
              "      --hover-bg-color: #434B5C;\n",
              "      --hover-fill-color: #FFFFFF;\n",
              "      --disabled-bg-color: #3B4455;\n",
              "      --disabled-fill-color: #666;\n",
              "  }\n",
              "\n",
              "  .colab-df-quickchart {\n",
              "    background-color: var(--bg-color);\n",
              "    border: none;\n",
              "    border-radius: 50%;\n",
              "    cursor: pointer;\n",
              "    display: none;\n",
              "    fill: var(--fill-color);\n",
              "    height: 32px;\n",
              "    padding: 0;\n",
              "    width: 32px;\n",
              "  }\n",
              "\n",
              "  .colab-df-quickchart:hover {\n",
              "    background-color: var(--hover-bg-color);\n",
              "    box-shadow: 0 1px 2px rgba(60, 64, 67, 0.3), 0 1px 3px 1px rgba(60, 64, 67, 0.15);\n",
              "    fill: var(--button-hover-fill-color);\n",
              "  }\n",
              "\n",
              "  .colab-df-quickchart-complete:disabled,\n",
              "  .colab-df-quickchart-complete:disabled:hover {\n",
              "    background-color: var(--disabled-bg-color);\n",
              "    fill: var(--disabled-fill-color);\n",
              "    box-shadow: none;\n",
              "  }\n",
              "\n",
              "  .colab-df-spinner {\n",
              "    border: 2px solid var(--fill-color);\n",
              "    border-color: transparent;\n",
              "    border-bottom-color: var(--fill-color);\n",
              "    animation:\n",
              "      spin 1s steps(1) infinite;\n",
              "  }\n",
              "\n",
              "  @keyframes spin {\n",
              "    0% {\n",
              "      border-color: transparent;\n",
              "      border-bottom-color: var(--fill-color);\n",
              "      border-left-color: var(--fill-color);\n",
              "    }\n",
              "    20% {\n",
              "      border-color: transparent;\n",
              "      border-left-color: var(--fill-color);\n",
              "      border-top-color: var(--fill-color);\n",
              "    }\n",
              "    30% {\n",
              "      border-color: transparent;\n",
              "      border-left-color: var(--fill-color);\n",
              "      border-top-color: var(--fill-color);\n",
              "      border-right-color: var(--fill-color);\n",
              "    }\n",
              "    40% {\n",
              "      border-color: transparent;\n",
              "      border-right-color: var(--fill-color);\n",
              "      border-top-color: var(--fill-color);\n",
              "    }\n",
              "    60% {\n",
              "      border-color: transparent;\n",
              "      border-right-color: var(--fill-color);\n",
              "    }\n",
              "    80% {\n",
              "      border-color: transparent;\n",
              "      border-right-color: var(--fill-color);\n",
              "      border-bottom-color: var(--fill-color);\n",
              "    }\n",
              "    90% {\n",
              "      border-color: transparent;\n",
              "      border-bottom-color: var(--fill-color);\n",
              "    }\n",
              "  }\n",
              "</style>\n",
              "\n",
              "  <script>\n",
              "    async function quickchart(key) {\n",
              "      const quickchartButtonEl =\n",
              "        document.querySelector('#' + key + ' button');\n",
              "      quickchartButtonEl.disabled = true;  // To prevent multiple clicks.\n",
              "      quickchartButtonEl.classList.add('colab-df-spinner');\n",
              "      try {\n",
              "        const charts = await google.colab.kernel.invokeFunction(\n",
              "            'suggestCharts', [key], {});\n",
              "      } catch (error) {\n",
              "        console.error('Error during call to suggestCharts:', error);\n",
              "      }\n",
              "      quickchartButtonEl.classList.remove('colab-df-spinner');\n",
              "      quickchartButtonEl.classList.add('colab-df-quickchart-complete');\n",
              "    }\n",
              "    (() => {\n",
              "      let quickchartButtonEl =\n",
              "        document.querySelector('#df-6876c17e-e183-44fd-9aa2-bd3beb8d6a80 button');\n",
              "      quickchartButtonEl.style.display =\n",
              "        google.colab.kernel.accessAllowed ? 'block' : 'none';\n",
              "    })();\n",
              "  </script>\n",
              "</div>\n",
              "    </div>\n",
              "  </div>\n"
            ],
            "application/vnd.google.colaboratory.intrinsic+json": {
              "type": "dataframe",
              "variable_name": "df",
              "summary": "{\n  \"name\": \"df\",\n  \"rows\": 20,\n  \"fields\": [\n    {\n      \"column\": \"Country\",\n      \"properties\": {\n        \"dtype\": \"string\",\n        \"num_unique_values\": 20,\n        \"samples\": [\n          \"China\",\n          \"Brazil\",\n          \"Denmark\"\n        ],\n        \"semantic_type\": \"\",\n        \"description\": \"\"\n      }\n    },\n    {\n      \"column\": \"Num papers out of 1108\",\n      \"properties\": {\n        \"dtype\": \"number\",\n        \"std\": 70,\n        \"min\": 9,\n        \"max\": 323,\n        \"num_unique_values\": 17,\n        \"samples\": [\n          323,\n          113,\n          53\n        ],\n        \"semantic_type\": \"\",\n        \"description\": \"\"\n      }\n    }\n  ]\n}"
            }
          },
          "metadata": {},
          "execution_count": 18
        }
      ]
    },
    {
      "cell_type": "markdown",
      "source": [
        "# Papers of IDMEC"
      ],
      "metadata": {
        "id": "WnsbSaBQTHGq"
      }
    },
    {
      "cell_type": "code",
      "source": [
        "Names_dic = { \"Gato\": 7004360885,\n",
        "              \"Henriques\": 36173947400,\n",
        "              \"Falcão\": 23485073200,\n",
        "              \"Carrelhas\": 57208272722,\n",
        "              \"Portillo\": 56970941300,\n",
        "              \"Gomes\": 26030969000 }\n",
        "\n",
        "@dataclass\n",
        "class data_IDMEC:\n",
        "    num_papers: int = 0\n",
        "    citations: OrderedDict = OrderedDict()\n",
        "    year: OrderedDict = OrderedDict()"
      ],
      "metadata": {
        "id": "c98Yyl9e0DjC"
      },
      "execution_count": 63,
      "outputs": []
    },
    {
      "cell_type": "code",
      "source": [
        "data_summary = data_IDMEC()\n",
        "\n",
        "for n, ( authors_ID, year, citations, DOI, stage ) in enumerate( zip( authors_ID_lst, year_lst, citations_lst, DOI_lst, stage_lst ) ):\n",
        "    if stage == 'Final' and authors_ID == authors_ID: # check NANs\n",
        "        for ID in str( authors_ID ).split(';'):\n",
        "            ID = int( ID.strip() )\n",
        "            if ID in Names_dic.values():\n",
        "                data_summary.num_papers += 1\n",
        "                if year in data_summary.year:\n",
        "                    data_summary.year[year] += 1\n",
        "                    data_summary.citations[year] += int(citations)\n",
        "                else:\n",
        "                    data_summary.year[year] = 1\n",
        "                    data_summary.citations[year] = int(citations)\n",
        "                break\n",
        "\n",
        "data_summary"
      ],
      "metadata": {
        "id": "ja-ZA6lGx4YW",
        "colab": {
          "base_uri": "https://localhost:8080/"
        },
        "outputId": "0d83f267-c8e2-4a3a-adf5-7ea6fb9c989d"
      },
      "execution_count": 64,
      "outputs": [
        {
          "output_type": "execute_result",
          "data": {
            "text/plain": [
              "data_IDMEC(num_papers=31, citations=OrderedDict([(2020, 321), (2021, 97), (2019, 28), (2023, 34), (2022, 19), (2024, 0)]), year=OrderedDict([(2020, 12), (2021, 6), (2019, 2), (2023, 8), (2022, 2), (2024, 1)]))"
            ]
          },
          "metadata": {},
          "execution_count": 64
        }
      ]
    },
    {
      "cell_type": "code",
      "source": [
        "mpl.rc('font', family='Roboto')\n",
        "\n",
        "year_dic =  OrderedDict(sorted(data_summary.year.items()))\n",
        "\n",
        "mpl.figure( 1, figsize=(1.2*6,1.2*4) )\n",
        "mpl.plot( year_dic.keys(), year_dic.values(), 'o-',\n",
        "         linewidth=2, color='#3679e0',\n",
        "         markersize=7, markerfacecolor='w', markeredgewidth=2,\n",
        "         markeredgecolor='#3679e0' )\n",
        "mpl.xlim( (2019, 2024) )\n",
        "mpl.ylim( (0, 14) )\n",
        "mpl.grid()\n",
        "mpl.xlabel( 'Year' )\n",
        "mpl.ylabel( 'Number of papers' )\n",
        "mpl.title( \"The last 5 years of publications from IDMEC\" )#.set_fontname(\"Roboto condensed\")\n",
        "\n",
        "\n",
        "mpl.gca().set_axisbelow(True)\n",
        "# mpl.gca().set_xticks( range( min( year_lst ), max( year_lst )+1, 2 ) );\n",
        "# mpl.gca().set_xticks( range( 2018, 2023+1, 2 ) );\n",
        "mpl.savefig( 'IDMEC_PubsLast5Years.pdf', bbox_inches='tight', pad_inches=0.02 )\n",
        "mpl.savefig( 'IDMEC_PubsLast5Years.svg', bbox_inches='tight', pad_inches=0.02 )\n",
        "\n",
        "# df_year_dic = {\n",
        "#     'Year': year_dic.keys(),\n",
        "#     'Num papers': year_dic.values()\n",
        "# }\n",
        "\n",
        "# df = pd.DataFrame( df_year_dic )\n",
        "# df.index = df.index + 1\n",
        "# df"
      ],
      "metadata": {
        "colab": {
          "base_uri": "https://localhost:8080/",
          "height": 487
        },
        "id": "rSMOGeYsBZks",
        "outputId": "a9925fca-75c2-4fa7-8e10-b94e596cd2c2"
      },
      "execution_count": 68,
      "outputs": [
        {
          "output_type": "display_data",
          "data": {
            "text/plain": [
              "<Figure size 576x384 with 1 Axes>"
            ],
            "image/svg+xml": "<?xml version=\"1.0\" encoding=\"utf-8\" standalone=\"no\"?>\n<!DOCTYPE svg PUBLIC \"-//W3C//DTD SVG 1.1//EN\"\n  \"http://www.w3.org/Graphics/SVG/1.1/DTD/svg11.dtd\">\n<svg xmlns:xlink=\"http://www.w3.org/1999/xlink\" width=\"496.527625pt\" height=\"350.01975pt\" viewBox=\"0 0 496.527625 350.01975\" xmlns=\"http://www.w3.org/2000/svg\" version=\"1.1\">\n <metadata>\n  <rdf:RDF xmlns:dc=\"http://purl.org/dc/elements/1.1/\" xmlns:cc=\"http://creativecommons.org/ns#\" xmlns:rdf=\"http://www.w3.org/1999/02/22-rdf-syntax-ns#\">\n   <cc:Work>\n    <dc:type rdf:resource=\"http://purl.org/dc/dcmitype/StillImage\"/>\n    <dc:date>2024-06-10T12:12:19.086130</dc:date>\n    <dc:format>image/svg+xml</dc:format>\n    <dc:creator>\n     <cc:Agent>\n      <dc:title>Matplotlib v3.7.1, https://matplotlib.org/</dc:title>\n     </cc:Agent>\n    </dc:creator>\n   </cc:Work>\n  </rdf:RDF>\n </metadata>\n <defs>\n  <style type=\"text/css\">*{stroke-linejoin: round; stroke-linecap: butt}</style>\n </defs>\n <g id=\"figure_1\">\n  <g id=\"patch_1\">\n   <path d=\"M 0 350.01975 \nL 496.527625 350.01975 \nL 496.527625 0 \nL 0 0 \nz\n\" style=\"fill: #ffffff\"/>\n  </g>\n  <g id=\"axes_1\">\n   <g id=\"patch_2\">\n    <path d=\"M 48.02275 304.4885 \nL 473.11075 304.4885 \nL 473.11075 24.5525 \nL 48.02275 24.5525 \nz\n\" style=\"fill: #ffffff\"/>\n   </g>\n   <g id=\"matplotlib.axis_1\">\n    <g id=\"xtick_1\">\n     <g id=\"line2d_1\">\n      <path d=\"M 48.02275 304.4885 \nL 48.02275 24.5525 \n\" clip-path=\"url(#p0a81049fac)\" style=\"fill: none; stroke-dasharray: 1,3; stroke-dashoffset: 0; stroke: #000000; stroke-width: 0.5\"/>\n     </g>\n     <g id=\"line2d_2\">\n      <defs>\n       <path id=\"m56c1a9e19b\" d=\"M 0 0 \nL 0 -4 \n\" style=\"stroke: #000000; stroke-width: 0.5\"/>\n      </defs>\n      <g>\n       <use xlink:href=\"#m56c1a9e19b\" x=\"48.02275\" y=\"304.4885\" style=\"stroke: #000000; stroke-width: 0.5\"/>\n      </g>\n     </g>\n     <g id=\"line2d_3\">\n      <defs>\n       <path id=\"ma0d6761943\" d=\"M 0 0 \nL 0 4 \n\" style=\"stroke: #000000; stroke-width: 0.5\"/>\n      </defs>\n      <g>\n       <use xlink:href=\"#ma0d6761943\" x=\"48.02275\" y=\"24.5525\" style=\"stroke: #000000; stroke-width: 0.5\"/>\n      </g>\n     </g>\n     <g id=\"text_1\">\n      <!-- 2019 -->\n      <g transform=\"translate(31.805875 319.45725) scale(0.144 -0.144)\">\n       <defs>\n        <path id=\"Roboto-Regular-32\" d=\"M 3319 0 \nL 369 0 \nL 369 422 \nL 1859 2078 \nQ 2259 2525 2401 2787 \nQ 2544 3050 2544 3325 \nQ 2544 3666 2345 3898 \nQ 2147 4131 1819 4131 \nQ 1347 4131 1123 3889 \nQ 900 3647 900 3209 \nL 309 3209 \nL 303 3228 \nQ 288 3816 694 4216 \nQ 1100 4616 1819 4616 \nQ 2431 4616 2795 4258 \nQ 3159 3900 3159 3347 \nQ 3159 2975 2939 2601 \nQ 2719 2228 2322 1800 \nL 1125 497 \nL 1131 481 \nL 3319 481 \nL 3319 0 \nz\n\" transform=\"scale(0.015625)\"/>\n        <path id=\"Roboto-Regular-30\" d=\"M 3250 1734 \nQ 3250 863 2864 398 \nQ 2478 -66 1806 -66 \nQ 1134 -66 743 400 \nQ 353 866 353 1734 \nL 353 2813 \nQ 353 3681 742 4148 \nQ 1131 4616 1800 4616 \nQ 2472 4616 2861 4148 \nQ 3250 3681 3250 2813 \nL 3250 1734 \nz\nM 2634 2944 \nQ 2634 3534 2420 3832 \nQ 2206 4131 1800 4131 \nQ 1394 4131 1181 3832 \nQ 969 3534 969 2944 \nL 969 1609 \nQ 969 1019 1184 717 \nQ 1400 416 1806 416 \nQ 2213 416 2423 716 \nQ 2634 1016 2634 1609 \nL 2634 2944 \nz\n\" transform=\"scale(0.015625)\"/>\n        <path id=\"Roboto-Regular-31\" d=\"M 2128 0 \nL 1513 0 \nL 1513 3950 \nL 581 3938 \nL 581 4381 \nL 2128 4550 \nL 2128 0 \nz\n\" transform=\"scale(0.015625)\"/>\n        <path id=\"Roboto-Regular-39\" d=\"M 1597 416 \nQ 2047 416 2317 756 \nQ 2588 1097 2588 1769 \nL 2588 1975 \nQ 2434 1753 2204 1639 \nQ 1975 1525 1694 1525 \nQ 1034 1525 646 1933 \nQ 259 2341 259 3056 \nQ 259 3741 670 4178 \nQ 1081 4616 1669 4616 \nQ 2381 4616 2792 4170 \nQ 3203 3725 3203 2859 \nL 3203 1775 \nQ 3203 884 2758 409 \nQ 2313 -66 1597 -66 \nQ 1356 -66 1107 -20 \nQ 859 25 663 119 \nL 756 591 \nQ 941 494 1139 455 \nQ 1338 416 1597 416 \nz\nM 1694 2006 \nQ 2034 2006 2261 2153 \nQ 2488 2300 2588 2528 \nL 2588 2922 \nQ 2588 3519 2358 3825 \nQ 2128 4131 1688 4131 \nQ 1350 4131 1112 3829 \nQ 875 3528 875 3056 \nQ 875 2588 1095 2297 \nQ 1316 2006 1694 2006 \nz\n\" transform=\"scale(0.015625)\"/>\n       </defs>\n       <use xlink:href=\"#Roboto-Regular-32\"/>\n       <use xlink:href=\"#Roboto-Regular-30\" x=\"56.298828\"/>\n       <use xlink:href=\"#Roboto-Regular-31\" x=\"112.646484\"/>\n       <use xlink:href=\"#Roboto-Regular-39\" x=\"168.945312\"/>\n      </g>\n     </g>\n    </g>\n    <g id=\"xtick_2\">\n     <g id=\"line2d_4\">\n      <path d=\"M 133.04035 304.4885 \nL 133.04035 24.5525 \n\" clip-path=\"url(#p0a81049fac)\" style=\"fill: none; stroke-dasharray: 1,3; stroke-dashoffset: 0; stroke: #000000; stroke-width: 0.5\"/>\n     </g>\n     <g id=\"line2d_5\">\n      <g>\n       <use xlink:href=\"#m56c1a9e19b\" x=\"133.04035\" y=\"304.4885\" style=\"stroke: #000000; stroke-width: 0.5\"/>\n      </g>\n     </g>\n     <g id=\"line2d_6\">\n      <g>\n       <use xlink:href=\"#ma0d6761943\" x=\"133.04035\" y=\"24.5525\" style=\"stroke: #000000; stroke-width: 0.5\"/>\n      </g>\n     </g>\n     <g id=\"text_2\">\n      <!-- 2020 -->\n      <g transform=\"translate(116.8201 319.45725) scale(0.144 -0.144)\">\n       <use xlink:href=\"#Roboto-Regular-32\"/>\n       <use xlink:href=\"#Roboto-Regular-30\" x=\"56.298828\"/>\n       <use xlink:href=\"#Roboto-Regular-32\" x=\"112.646484\"/>\n       <use xlink:href=\"#Roboto-Regular-30\" x=\"168.945312\"/>\n      </g>\n     </g>\n    </g>\n    <g id=\"xtick_3\">\n     <g id=\"line2d_7\">\n      <path d=\"M 218.05795 304.4885 \nL 218.05795 24.5525 \n\" clip-path=\"url(#p0a81049fac)\" style=\"fill: none; stroke-dasharray: 1,3; stroke-dashoffset: 0; stroke: #000000; stroke-width: 0.5\"/>\n     </g>\n     <g id=\"line2d_8\">\n      <g>\n       <use xlink:href=\"#m56c1a9e19b\" x=\"218.05795\" y=\"304.4885\" style=\"stroke: #000000; stroke-width: 0.5\"/>\n      </g>\n     </g>\n     <g id=\"line2d_9\">\n      <g>\n       <use xlink:href=\"#ma0d6761943\" x=\"218.05795\" y=\"24.5525\" style=\"stroke: #000000; stroke-width: 0.5\"/>\n      </g>\n     </g>\n     <g id=\"text_3\">\n      <!-- 2021 -->\n      <g transform=\"translate(201.841075 319.45725) scale(0.144 -0.144)\">\n       <use xlink:href=\"#Roboto-Regular-32\"/>\n       <use xlink:href=\"#Roboto-Regular-30\" x=\"56.298828\"/>\n       <use xlink:href=\"#Roboto-Regular-32\" x=\"112.646484\"/>\n       <use xlink:href=\"#Roboto-Regular-31\" x=\"168.945312\"/>\n      </g>\n     </g>\n    </g>\n    <g id=\"xtick_4\">\n     <g id=\"line2d_10\">\n      <path d=\"M 303.07555 304.4885 \nL 303.07555 24.5525 \n\" clip-path=\"url(#p0a81049fac)\" style=\"fill: none; stroke-dasharray: 1,3; stroke-dashoffset: 0; stroke: #000000; stroke-width: 0.5\"/>\n     </g>\n     <g id=\"line2d_11\">\n      <g>\n       <use xlink:href=\"#m56c1a9e19b\" x=\"303.07555\" y=\"304.4885\" style=\"stroke: #000000; stroke-width: 0.5\"/>\n      </g>\n     </g>\n     <g id=\"line2d_12\">\n      <g>\n       <use xlink:href=\"#ma0d6761943\" x=\"303.07555\" y=\"24.5525\" style=\"stroke: #000000; stroke-width: 0.5\"/>\n      </g>\n     </g>\n     <g id=\"text_4\">\n      <!-- 2022 -->\n      <g transform=\"translate(286.858675 319.45725) scale(0.144 -0.144)\">\n       <use xlink:href=\"#Roboto-Regular-32\"/>\n       <use xlink:href=\"#Roboto-Regular-30\" x=\"56.298828\"/>\n       <use xlink:href=\"#Roboto-Regular-32\" x=\"112.646484\"/>\n       <use xlink:href=\"#Roboto-Regular-32\" x=\"168.945312\"/>\n      </g>\n     </g>\n    </g>\n    <g id=\"xtick_5\">\n     <g id=\"line2d_13\">\n      <path d=\"M 388.09315 304.4885 \nL 388.09315 24.5525 \n\" clip-path=\"url(#p0a81049fac)\" style=\"fill: none; stroke-dasharray: 1,3; stroke-dashoffset: 0; stroke: #000000; stroke-width: 0.5\"/>\n     </g>\n     <g id=\"line2d_14\">\n      <g>\n       <use xlink:href=\"#m56c1a9e19b\" x=\"388.09315\" y=\"304.4885\" style=\"stroke: #000000; stroke-width: 0.5\"/>\n      </g>\n     </g>\n     <g id=\"line2d_15\">\n      <g>\n       <use xlink:href=\"#ma0d6761943\" x=\"388.09315\" y=\"24.5525\" style=\"stroke: #000000; stroke-width: 0.5\"/>\n      </g>\n     </g>\n     <g id=\"text_5\">\n      <!-- 2023 -->\n      <g transform=\"translate(371.876275 319.45725) scale(0.144 -0.144)\">\n       <defs>\n        <path id=\"Roboto-Regular-33\" d=\"M 1213 2559 \nL 1750 2559 \nQ 2159 2559 2329 2764 \nQ 2500 2969 2500 3334 \nQ 2500 3725 2306 3928 \nQ 2113 4131 1734 4131 \nQ 1375 4131 1158 3920 \nQ 941 3709 941 3359 \nL 350 3359 \nL 344 3378 \nQ 328 3894 717 4255 \nQ 1106 4616 1734 4616 \nQ 2366 4616 2741 4280 \nQ 3116 3944 3116 3322 \nQ 3116 3041 2945 2761 \nQ 2775 2481 2434 2334 \nQ 2844 2200 3014 1912 \nQ 3184 1625 3184 1269 \nQ 3184 647 2776 290 \nQ 2369 -66 1734 -66 \nQ 1113 -66 705 270 \nQ 297 606 313 1181 \nL 322 1200 \nL 909 1200 \nQ 909 841 1129 628 \nQ 1350 416 1734 416 \nQ 2125 416 2347 628 \nQ 2569 841 2569 1256 \nQ 2569 1678 2372 1878 \nQ 2175 2078 1750 2078 \nL 1213 2078 \nL 1213 2559 \nz\n\" transform=\"scale(0.015625)\"/>\n       </defs>\n       <use xlink:href=\"#Roboto-Regular-32\"/>\n       <use xlink:href=\"#Roboto-Regular-30\" x=\"56.298828\"/>\n       <use xlink:href=\"#Roboto-Regular-32\" x=\"112.646484\"/>\n       <use xlink:href=\"#Roboto-Regular-33\" x=\"168.945312\"/>\n      </g>\n     </g>\n    </g>\n    <g id=\"xtick_6\">\n     <g id=\"line2d_16\">\n      <path d=\"M 473.11075 304.4885 \nL 473.11075 24.5525 \n\" clip-path=\"url(#p0a81049fac)\" style=\"fill: none; stroke-dasharray: 1,3; stroke-dashoffset: 0; stroke: #000000; stroke-width: 0.5\"/>\n     </g>\n     <g id=\"line2d_17\">\n      <g>\n       <use xlink:href=\"#m56c1a9e19b\" x=\"473.11075\" y=\"304.4885\" style=\"stroke: #000000; stroke-width: 0.5\"/>\n      </g>\n     </g>\n     <g id=\"line2d_18\">\n      <g>\n       <use xlink:href=\"#ma0d6761943\" x=\"473.11075\" y=\"24.5525\" style=\"stroke: #000000; stroke-width: 0.5\"/>\n      </g>\n     </g>\n     <g id=\"text_6\">\n      <!-- 2024 -->\n      <g transform=\"translate(456.893875 319.45725) scale(0.144 -0.144)\">\n       <defs>\n        <path id=\"Roboto-Regular-34\" d=\"M 2828 1531 \nL 3456 1531 \nL 3456 1050 \nL 2828 1050 \nL 2828 0 \nL 2216 0 \nL 2216 1050 \nL 172 1050 \nL 172 1397 \nL 2178 4550 \nL 2828 4550 \nL 2828 1531 \nz\nM 828 1531 \nL 2216 1531 \nL 2216 3666 \nL 2197 3669 \nL 2138 3513 \nL 828 1531 \nz\n\" transform=\"scale(0.015625)\"/>\n       </defs>\n       <use xlink:href=\"#Roboto-Regular-32\"/>\n       <use xlink:href=\"#Roboto-Regular-30\" x=\"56.298828\"/>\n       <use xlink:href=\"#Roboto-Regular-32\" x=\"112.646484\"/>\n       <use xlink:href=\"#Roboto-Regular-34\" x=\"168.945312\"/>\n      </g>\n     </g>\n    </g>\n    <g id=\"text_7\">\n     <!-- Year -->\n     <g transform=\"translate(244.313 339.56975) scale(0.16 -0.16)\">\n      <defs>\n       <path id=\"Roboto-Regular-59\" d=\"M 1953 2238 \nL 3141 4550 \nL 3844 4550 \nL 2247 1600 \nL 2247 0 \nL 1634 0 \nL 1634 1641 \nL 63 4550 \nL 766 4550 \nL 1953 2238 \nz\n\" transform=\"scale(0.015625)\"/>\n       <path id=\"Roboto-Regular-65\" d=\"M 1850 -66 \nQ 1144 -66 726 404 \nQ 309 875 309 1625 \nL 309 1763 \nQ 309 2484 739 2964 \nQ 1169 3444 1756 3444 \nQ 2441 3444 2791 3031 \nQ 3141 2619 3141 1931 \nL 3141 1547 \nL 947 1547 \nL 938 1531 \nQ 947 1044 1184 730 \nQ 1422 416 1850 416 \nQ 2163 416 2398 505 \nQ 2634 594 2806 750 \nL 3047 350 \nQ 2866 172 2569 53 \nQ 2272 -66 1850 -66 \nz\nM 1756 2959 \nQ 1447 2959 1228 2698 \nQ 1009 2438 959 2044 \nL 966 2028 \nL 2525 2028 \nL 2525 2109 \nQ 2525 2472 2331 2715 \nQ 2138 2959 1756 2959 \nz\n\" transform=\"scale(0.015625)\"/>\n       <path id=\"Roboto-Regular-61\" d=\"M 2525 0 \nQ 2494 153 2476 270 \nQ 2459 388 2456 506 \nQ 2284 263 2007 98 \nQ 1731 -66 1413 -66 \nQ 884 -66 607 204 \nQ 331 475 331 950 \nQ 331 1434 723 1707 \nQ 1116 1981 1788 1981 \nL 2456 1981 \nL 2456 2316 \nQ 2456 2613 2275 2786 \nQ 2094 2959 1763 2959 \nQ 1466 2959 1280 2807 \nQ 1094 2656 1094 2444 \nL 506 2444 \nL 500 2463 \nQ 481 2831 848 3137 \nQ 1216 3444 1797 3444 \nQ 2372 3444 2722 3151 \nQ 3072 2859 3072 2309 \nL 3072 681 \nQ 3072 500 3090 331 \nQ 3109 163 3159 0 \nL 2525 0 \nz\nM 1503 450 \nQ 1838 450 2106 622 \nQ 2375 794 2456 1016 \nL 2456 1566 \nL 1766 1566 \nQ 1394 1566 1170 1378 \nQ 947 1191 947 938 \nQ 947 713 1087 581 \nQ 1228 450 1503 450 \nz\n\" transform=\"scale(0.015625)\"/>\n       <path id=\"Roboto-Regular-72\" d=\"M 2047 2838 \nL 1731 2856 \nQ 1488 2856 1320 2740 \nQ 1153 2625 1063 2416 \nL 1063 0 \nL 447 0 \nL 447 3381 \nL 997 3381 \nL 1056 2888 \nQ 1200 3150 1411 3297 \nQ 1622 3444 1897 3444 \nQ 1966 3444 2028 3433 \nQ 2091 3422 2131 3409 \nL 2047 2838 \nz\n\" transform=\"scale(0.015625)\"/>\n      </defs>\n      <use xlink:href=\"#Roboto-Regular-59\"/>\n      <use xlink:href=\"#Roboto-Regular-65\" x=\"61.035156\"/>\n      <use xlink:href=\"#Roboto-Regular-61\" x=\"113.916016\"/>\n      <use xlink:href=\"#Roboto-Regular-72\" x=\"168.896484\"/>\n     </g>\n    </g>\n   </g>\n   <g id=\"matplotlib.axis_2\">\n    <g id=\"ytick_1\">\n     <g id=\"line2d_19\">\n      <path d=\"M 48.02275 304.4885 \nL 473.11075 304.4885 \n\" clip-path=\"url(#p0a81049fac)\" style=\"fill: none; stroke-dasharray: 1,3; stroke-dashoffset: 0; stroke: #000000; stroke-width: 0.5\"/>\n     </g>\n     <g id=\"line2d_20\">\n      <defs>\n       <path id=\"mcf60385a03\" d=\"M 0 0 \nL 4 0 \n\" style=\"stroke: #000000; stroke-width: 0.5\"/>\n      </defs>\n      <g>\n       <use xlink:href=\"#mcf60385a03\" x=\"48.02275\" y=\"304.4885\" style=\"stroke: #000000; stroke-width: 0.5\"/>\n      </g>\n     </g>\n     <g id=\"line2d_21\">\n      <defs>\n       <path id=\"mb779f3ed5d\" d=\"M 0 0 \nL -4 0 \n\" style=\"stroke: #000000; stroke-width: 0.5\"/>\n      </defs>\n      <g>\n       <use xlink:href=\"#mb779f3ed5d\" x=\"473.11075\" y=\"304.4885\" style=\"stroke: #000000; stroke-width: 0.5\"/>\n      </g>\n     </g>\n     <g id=\"text_8\">\n      <!-- 0 -->\n      <g transform=\"translate(35.90925 308.510375) scale(0.144 -0.144)\">\n       <use xlink:href=\"#Roboto-Regular-30\"/>\n      </g>\n     </g>\n    </g>\n    <g id=\"ytick_2\">\n     <g id=\"line2d_22\">\n      <path d=\"M 48.02275 264.497643 \nL 473.11075 264.497643 \n\" clip-path=\"url(#p0a81049fac)\" style=\"fill: none; stroke-dasharray: 1,3; stroke-dashoffset: 0; stroke: #000000; stroke-width: 0.5\"/>\n     </g>\n     <g id=\"line2d_23\">\n      <g>\n       <use xlink:href=\"#mcf60385a03\" x=\"48.02275\" y=\"264.497643\" style=\"stroke: #000000; stroke-width: 0.5\"/>\n      </g>\n     </g>\n     <g id=\"line2d_24\">\n      <g>\n       <use xlink:href=\"#mb779f3ed5d\" x=\"473.11075\" y=\"264.497643\" style=\"stroke: #000000; stroke-width: 0.5\"/>\n      </g>\n     </g>\n     <g id=\"text_9\">\n      <!-- 2 -->\n      <g transform=\"translate(35.916 268.519518) scale(0.144 -0.144)\">\n       <use xlink:href=\"#Roboto-Regular-32\"/>\n      </g>\n     </g>\n    </g>\n    <g id=\"ytick_3\">\n     <g id=\"line2d_25\">\n      <path d=\"M 48.02275 224.506786 \nL 473.11075 224.506786 \n\" clip-path=\"url(#p0a81049fac)\" style=\"fill: none; stroke-dasharray: 1,3; stroke-dashoffset: 0; stroke: #000000; stroke-width: 0.5\"/>\n     </g>\n     <g id=\"line2d_26\">\n      <g>\n       <use xlink:href=\"#mcf60385a03\" x=\"48.02275\" y=\"224.506786\" style=\"stroke: #000000; stroke-width: 0.5\"/>\n      </g>\n     </g>\n     <g id=\"line2d_27\">\n      <g>\n       <use xlink:href=\"#mb779f3ed5d\" x=\"473.11075\" y=\"224.506786\" style=\"stroke: #000000; stroke-width: 0.5\"/>\n      </g>\n     </g>\n     <g id=\"text_10\">\n      <!-- 4 -->\n      <g transform=\"translate(35.916 228.528661) scale(0.144 -0.144)\">\n       <use xlink:href=\"#Roboto-Regular-34\"/>\n      </g>\n     </g>\n    </g>\n    <g id=\"ytick_4\">\n     <g id=\"line2d_28\">\n      <path d=\"M 48.02275 184.515929 \nL 473.11075 184.515929 \n\" clip-path=\"url(#p0a81049fac)\" style=\"fill: none; stroke-dasharray: 1,3; stroke-dashoffset: 0; stroke: #000000; stroke-width: 0.5\"/>\n     </g>\n     <g id=\"line2d_29\">\n      <g>\n       <use xlink:href=\"#mcf60385a03\" x=\"48.02275\" y=\"184.515929\" style=\"stroke: #000000; stroke-width: 0.5\"/>\n      </g>\n     </g>\n     <g id=\"line2d_30\">\n      <g>\n       <use xlink:href=\"#mb779f3ed5d\" x=\"473.11075\" y=\"184.515929\" style=\"stroke: #000000; stroke-width: 0.5\"/>\n      </g>\n     </g>\n     <g id=\"text_11\">\n      <!-- 6 -->\n      <g transform=\"translate(35.916 188.537804) scale(0.144 -0.144)\">\n       <defs>\n        <path id=\"Roboto-Regular-36\" d=\"M 2109 4616 \nQ 2344 4616 2573 4562 \nQ 2803 4509 2953 4428 \nL 2822 3956 \nQ 2669 4034 2501 4082 \nQ 2334 4131 2109 4131 \nQ 1622 4131 1323 3740 \nQ 1025 3350 1025 2722 \nL 1025 2650 \nQ 1225 2825 1483 2923 \nQ 1741 3022 2038 3022 \nQ 2647 3022 3009 2600 \nQ 3372 2178 3372 1531 \nQ 3372 825 2986 379 \nQ 2600 -66 1956 -66 \nQ 1288 -66 850 418 \nQ 413 903 413 1784 \nL 413 2653 \nQ 413 3528 900 4072 \nQ 1388 4616 2109 4616 \nz\nM 1900 2563 \nQ 1584 2563 1362 2434 \nQ 1141 2306 1025 2094 \nL 1025 1725 \nQ 1025 1097 1290 756 \nQ 1556 416 1956 416 \nQ 2334 416 2545 736 \nQ 2756 1056 2756 1531 \nQ 2756 1981 2529 2272 \nQ 2303 2563 1900 2563 \nz\n\" transform=\"scale(0.015625)\"/>\n       </defs>\n       <use xlink:href=\"#Roboto-Regular-36\"/>\n      </g>\n     </g>\n    </g>\n    <g id=\"ytick_5\">\n     <g id=\"line2d_31\">\n      <path d=\"M 48.02275 144.525071 \nL 473.11075 144.525071 \n\" clip-path=\"url(#p0a81049fac)\" style=\"fill: none; stroke-dasharray: 1,3; stroke-dashoffset: 0; stroke: #000000; stroke-width: 0.5\"/>\n     </g>\n     <g id=\"line2d_32\">\n      <g>\n       <use xlink:href=\"#mcf60385a03\" x=\"48.02275\" y=\"144.525071\" style=\"stroke: #000000; stroke-width: 0.5\"/>\n      </g>\n     </g>\n     <g id=\"line2d_33\">\n      <g>\n       <use xlink:href=\"#mb779f3ed5d\" x=\"473.11075\" y=\"144.525071\" style=\"stroke: #000000; stroke-width: 0.5\"/>\n      </g>\n     </g>\n     <g id=\"text_12\">\n      <!-- 8 -->\n      <g transform=\"translate(35.916 148.546946) scale(0.144 -0.144)\">\n       <defs>\n        <path id=\"Roboto-Regular-38\" d=\"M 3156 3363 \nQ 3156 3006 2956 2739 \nQ 2756 2472 2416 2341 \nQ 2809 2203 3045 1909 \nQ 3281 1616 3281 1231 \nQ 3281 600 2870 267 \nQ 2459 -66 1803 -66 \nQ 1134 -66 726 267 \nQ 319 600 319 1231 \nQ 319 1616 550 1909 \nQ 781 2203 1175 2341 \nQ 834 2472 640 2739 \nQ 447 3006 447 3363 \nQ 447 3963 817 4289 \nQ 1188 4616 1797 4616 \nQ 2397 4616 2776 4289 \nQ 3156 3963 3156 3363 \nz\nM 2669 1244 \nQ 2669 1619 2422 1859 \nQ 2175 2100 1797 2100 \nQ 1413 2100 1173 1859 \nQ 934 1619 934 1244 \nQ 934 856 1171 636 \nQ 1409 416 1803 416 \nQ 2188 416 2428 637 \nQ 2669 859 2669 1244 \nz\nM 2541 3350 \nQ 2541 3688 2330 3909 \nQ 2119 4131 1797 4131 \nQ 1469 4131 1266 3917 \nQ 1063 3703 1063 3350 \nQ 1063 3003 1267 2793 \nQ 1472 2584 1803 2584 \nQ 2128 2584 2334 2793 \nQ 2541 3003 2541 3350 \nz\n\" transform=\"scale(0.015625)\"/>\n       </defs>\n       <use xlink:href=\"#Roboto-Regular-38\"/>\n      </g>\n     </g>\n    </g>\n    <g id=\"ytick_6\">\n     <g id=\"line2d_34\">\n      <path d=\"M 48.02275 104.534214 \nL 473.11075 104.534214 \n\" clip-path=\"url(#p0a81049fac)\" style=\"fill: none; stroke-dasharray: 1,3; stroke-dashoffset: 0; stroke: #000000; stroke-width: 0.5\"/>\n     </g>\n     <g id=\"line2d_35\">\n      <g>\n       <use xlink:href=\"#mcf60385a03\" x=\"48.02275\" y=\"104.534214\" style=\"stroke: #000000; stroke-width: 0.5\"/>\n      </g>\n     </g>\n     <g id=\"line2d_36\">\n      <g>\n       <use xlink:href=\"#mb779f3ed5d\" x=\"473.11075\" y=\"104.534214\" style=\"stroke: #000000; stroke-width: 0.5\"/>\n      </g>\n     </g>\n     <g id=\"text_13\">\n      <!-- 10 -->\n      <g transform=\"translate(27.8025 108.556089) scale(0.144 -0.144)\">\n       <use xlink:href=\"#Roboto-Regular-31\"/>\n       <use xlink:href=\"#Roboto-Regular-30\" x=\"56.298828\"/>\n      </g>\n     </g>\n    </g>\n    <g id=\"ytick_7\">\n     <g id=\"line2d_37\">\n      <path d=\"M 48.02275 64.543357 \nL 473.11075 64.543357 \n\" clip-path=\"url(#p0a81049fac)\" style=\"fill: none; stroke-dasharray: 1,3; stroke-dashoffset: 0; stroke: #000000; stroke-width: 0.5\"/>\n     </g>\n     <g id=\"line2d_38\">\n      <g>\n       <use xlink:href=\"#mcf60385a03\" x=\"48.02275\" y=\"64.543357\" style=\"stroke: #000000; stroke-width: 0.5\"/>\n      </g>\n     </g>\n     <g id=\"line2d_39\">\n      <g>\n       <use xlink:href=\"#mb779f3ed5d\" x=\"473.11075\" y=\"64.543357\" style=\"stroke: #000000; stroke-width: 0.5\"/>\n      </g>\n     </g>\n     <g id=\"text_14\">\n      <!-- 12 -->\n      <g transform=\"translate(27.80925 68.565232) scale(0.144 -0.144)\">\n       <use xlink:href=\"#Roboto-Regular-31\"/>\n       <use xlink:href=\"#Roboto-Regular-32\" x=\"56.298828\"/>\n      </g>\n     </g>\n    </g>\n    <g id=\"ytick_8\">\n     <g id=\"line2d_40\">\n      <path d=\"M 48.02275 24.5525 \nL 473.11075 24.5525 \n\" clip-path=\"url(#p0a81049fac)\" style=\"fill: none; stroke-dasharray: 1,3; stroke-dashoffset: 0; stroke: #000000; stroke-width: 0.5\"/>\n     </g>\n     <g id=\"line2d_41\">\n      <g>\n       <use xlink:href=\"#mcf60385a03\" x=\"48.02275\" y=\"24.5525\" style=\"stroke: #000000; stroke-width: 0.5\"/>\n      </g>\n     </g>\n     <g id=\"line2d_42\">\n      <g>\n       <use xlink:href=\"#mb779f3ed5d\" x=\"473.11075\" y=\"24.5525\" style=\"stroke: #000000; stroke-width: 0.5\"/>\n      </g>\n     </g>\n     <g id=\"text_15\">\n      <!-- 14 -->\n      <g transform=\"translate(27.80925 28.574375) scale(0.144 -0.144)\">\n       <use xlink:href=\"#Roboto-Regular-31\"/>\n       <use xlink:href=\"#Roboto-Regular-34\" x=\"56.298828\"/>\n      </g>\n     </g>\n    </g>\n    <g id=\"text_16\">\n     <!-- Number of papers -->\n     <g transform=\"translate(19.5525 229.22425) rotate(-90) scale(0.16 -0.16)\">\n      <defs>\n       <path id=\"Roboto-Regular-4e\" d=\"M 4003 0 \nL 3388 0 \nL 1197 3519 \nL 1178 3513 \nL 1178 0 \nL 563 0 \nL 563 4550 \nL 1178 4550 \nL 3369 1038 \nL 3388 1044 \nL 3388 4550 \nL 4003 4550 \nL 4003 0 \nz\n\" transform=\"scale(0.015625)\"/>\n       <path id=\"Roboto-Regular-75\" d=\"M 2594 500 \nQ 2434 228 2184 81 \nQ 1934 -66 1606 -66 \nQ 1053 -66 743 287 \nQ 434 641 434 1388 \nL 434 3381 \nL 1050 3381 \nL 1050 1381 \nQ 1050 841 1209 637 \nQ 1369 434 1706 434 \nQ 2034 434 2248 567 \nQ 2463 700 2572 944 \nL 2572 3381 \nL 3188 3381 \nL 3188 0 \nL 2634 0 \nL 2594 500 \nz\n\" transform=\"scale(0.015625)\"/>\n       <path id=\"Roboto-Regular-6d\" d=\"M 997 3381 \nL 1041 2938 \nQ 1206 3178 1461 3311 \nQ 1716 3444 2053 3444 \nQ 2391 3444 2633 3287 \nQ 2875 3131 2997 2819 \nQ 3156 3106 3418 3275 \nQ 3681 3444 4031 3444 \nQ 4547 3444 4847 3089 \nQ 5147 2734 5147 2022 \nL 5147 0 \nL 4531 0 \nL 4531 2028 \nQ 4531 2528 4359 2736 \nQ 4188 2944 3847 2944 \nQ 3531 2944 3336 2725 \nQ 3141 2506 3106 2172 \nL 3106 2147 \nL 3106 0 \nL 2488 0 \nL 2488 2028 \nQ 2488 2503 2311 2723 \nQ 2134 2944 1803 2944 \nQ 1522 2944 1340 2828 \nQ 1159 2713 1063 2503 \nL 1063 0 \nL 447 0 \nL 447 3381 \nL 997 3381 \nz\n\" transform=\"scale(0.015625)\"/>\n       <path id=\"Roboto-Regular-62\" d=\"M 3334 1563 \nQ 3334 831 2982 382 \nQ 2631 -66 2016 -66 \nQ 1681 -66 1434 64 \nQ 1188 194 1025 447 \nL 950 0 \nL 447 0 \nL 447 4875 \nL 1063 4875 \nL 1063 2981 \nQ 1222 3206 1458 3325 \nQ 1694 3444 2009 3444 \nQ 2634 3444 2984 2944 \nQ 3334 2444 3334 1628 \nL 3334 1563 \nz\nM 2719 1628 \nQ 2719 2209 2505 2576 \nQ 2291 2944 1853 2944 \nQ 1569 2944 1373 2805 \nQ 1178 2666 1063 2431 \nL 1063 966 \nQ 1181 716 1373 575 \nQ 1566 434 1859 434 \nQ 2294 434 2506 743 \nQ 2719 1053 2719 1563 \nL 2719 1628 \nz\n\" transform=\"scale(0.015625)\"/>\n       <path id=\"Roboto-Regular-20\" transform=\"scale(0.015625)\"/>\n       <path id=\"Roboto-Regular-6f\" d=\"M 303 1722 \nQ 303 2472 709 2958 \nQ 1116 3444 1813 3444 \nQ 2516 3444 2923 2959 \nQ 3331 2475 3331 1722 \nL 3331 1653 \nQ 3331 897 2925 415 \nQ 2519 -66 1819 -66 \nQ 1119 -66 711 417 \nQ 303 900 303 1653 \nL 303 1722 \nz\nM 919 1653 \nQ 919 1116 1145 766 \nQ 1372 416 1819 416 \nQ 2259 416 2487 766 \nQ 2716 1116 2716 1653 \nL 2716 1722 \nQ 2716 2253 2486 2606 \nQ 2256 2959 1813 2959 \nQ 1372 2959 1145 2606 \nQ 919 2253 919 1722 \nL 919 1653 \nz\n\" transform=\"scale(0.015625)\"/>\n       <path id=\"Roboto-Regular-66\" d=\"M 703 0 \nL 703 2925 \nL 175 2925 \nL 175 3381 \nL 703 3381 \nL 703 3809 \nQ 703 4350 986 4645 \nQ 1269 4941 1775 4941 \nQ 1881 4941 1989 4923 \nQ 2097 4906 2228 4875 \nL 2153 4406 \nQ 2097 4419 2017 4428 \nQ 1938 4438 1850 4438 \nQ 1581 4438 1450 4277 \nQ 1319 4116 1319 3809 \nL 1319 3381 \nL 2022 3381 \nL 2022 2925 \nL 1319 2925 \nL 1319 0 \nL 703 0 \nz\n\" transform=\"scale(0.015625)\"/>\n       <path id=\"Roboto-Regular-70\" d=\"M 3328 1563 \nQ 3328 831 2978 382 \nQ 2628 -66 2013 -66 \nQ 1700 -66 1464 39 \nQ 1228 144 1063 353 \nL 1063 -1300 \nL 447 -1300 \nL 447 3381 \nL 919 3381 \nL 1016 2944 \nQ 1181 3188 1428 3316 \nQ 1675 3444 2003 3444 \nQ 2631 3444 2979 2945 \nQ 3328 2447 3328 1628 \nL 3328 1563 \nz\nM 2713 1628 \nQ 2713 2203 2486 2573 \nQ 2259 2944 1819 2944 \nQ 1553 2944 1365 2823 \nQ 1178 2703 1063 2494 \nL 1063 859 \nQ 1178 650 1365 533 \nQ 1553 416 1825 416 \nQ 2263 416 2488 736 \nQ 2713 1056 2713 1563 \nL 2713 1628 \nz\n\" transform=\"scale(0.015625)\"/>\n       <path id=\"Roboto-Regular-73\" d=\"M 2413 897 \nQ 2413 1100 2258 1231 \nQ 2103 1363 1672 1459 \nQ 1056 1594 745 1823 \nQ 434 2053 434 2450 \nQ 434 2863 784 3153 \nQ 1134 3444 1697 3444 \nQ 2288 3444 2636 3141 \nQ 2984 2838 2969 2403 \nL 2963 2384 \nL 2375 2384 \nQ 2375 2606 2189 2782 \nQ 2003 2959 1697 2959 \nQ 1369 2959 1209 2815 \nQ 1050 2672 1050 2469 \nQ 1050 2269 1190 2153 \nQ 1331 2038 1763 1947 \nQ 2403 1809 2715 1573 \nQ 3028 1338 3028 941 \nQ 3028 491 2664 212 \nQ 2300 -66 1713 -66 \nQ 1066 -66 694 262 \nQ 322 591 341 1028 \nL 347 1047 \nL 934 1047 \nQ 950 719 1178 567 \nQ 1406 416 1713 416 \nQ 2041 416 2227 548 \nQ 2413 681 2413 897 \nz\n\" transform=\"scale(0.015625)\"/>\n      </defs>\n      <use xlink:href=\"#Roboto-Regular-4e\"/>\n      <use xlink:href=\"#Roboto-Regular-75\" x=\"71.337891\"/>\n      <use xlink:href=\"#Roboto-Regular-6d\" x=\"128.173828\"/>\n      <use xlink:href=\"#Roboto-Regular-62\" x=\"215.576172\"/>\n      <use xlink:href=\"#Roboto-Regular-65\" x=\"272.412109\"/>\n      <use xlink:href=\"#Roboto-Regular-72\" x=\"325.292969\"/>\n      <use xlink:href=\"#Roboto-Regular-20\" x=\"359.570312\"/>\n      <use xlink:href=\"#Roboto-Regular-6f\" x=\"384.423828\"/>\n      <use xlink:href=\"#Roboto-Regular-66\" x=\"441.259766\"/>\n      <use xlink:href=\"#Roboto-Regular-20\" x=\"475.78125\"/>\n      <use xlink:href=\"#Roboto-Regular-70\" x=\"500.634766\"/>\n      <use xlink:href=\"#Roboto-Regular-61\" x=\"557.470703\"/>\n      <use xlink:href=\"#Roboto-Regular-70\" x=\"612.451172\"/>\n      <use xlink:href=\"#Roboto-Regular-65\" x=\"669.287109\"/>\n      <use xlink:href=\"#Roboto-Regular-72\" x=\"722.167969\"/>\n      <use xlink:href=\"#Roboto-Regular-73\" x=\"756.445312\"/>\n     </g>\n    </g>\n   </g>\n   <g id=\"line2d_43\">\n    <path d=\"M 48.02275 264.497643 \nL 133.04035 64.543357 \nL 218.05795 184.515929 \nL 303.07555 264.497643 \nL 388.09315 144.525071 \nL 473.11075 284.493071 \n\" clip-path=\"url(#p0a81049fac)\" style=\"fill: none; stroke: #3679e0; stroke-width: 2; stroke-linecap: square\"/>\n    <defs>\n     <path id=\"m4a2c045757\" d=\"M 0 3.5 \nC 0.928211 3.5 1.81853 3.131218 2.474874 2.474874 \nC 3.131218 1.81853 3.5 0.928211 3.5 0 \nC 3.5 -0.928211 3.131218 -1.81853 2.474874 -2.474874 \nC 1.81853 -3.131218 0.928211 -3.5 0 -3.5 \nC -0.928211 -3.5 -1.81853 -3.131218 -2.474874 -2.474874 \nC -3.131218 -1.81853 -3.5 -0.928211 -3.5 0 \nC -3.5 0.928211 -3.131218 1.81853 -2.474874 2.474874 \nC -1.81853 3.131218 -0.928211 3.5 0 3.5 \nz\n\" style=\"stroke: #3679e0; stroke-width: 2\"/>\n    </defs>\n    <g clip-path=\"url(#p0a81049fac)\">\n     <use xlink:href=\"#m4a2c045757\" x=\"48.02275\" y=\"264.497643\" style=\"fill: #ffffff; stroke: #3679e0; stroke-width: 2\"/>\n     <use xlink:href=\"#m4a2c045757\" x=\"133.04035\" y=\"64.543357\" style=\"fill: #ffffff; stroke: #3679e0; stroke-width: 2\"/>\n     <use xlink:href=\"#m4a2c045757\" x=\"218.05795\" y=\"184.515929\" style=\"fill: #ffffff; stroke: #3679e0; stroke-width: 2\"/>\n     <use xlink:href=\"#m4a2c045757\" x=\"303.07555\" y=\"264.497643\" style=\"fill: #ffffff; stroke: #3679e0; stroke-width: 2\"/>\n     <use xlink:href=\"#m4a2c045757\" x=\"388.09315\" y=\"144.525071\" style=\"fill: #ffffff; stroke: #3679e0; stroke-width: 2\"/>\n     <use xlink:href=\"#m4a2c045757\" x=\"473.11075\" y=\"284.493071\" style=\"fill: #ffffff; stroke: #3679e0; stroke-width: 2\"/>\n    </g>\n   </g>\n   <g id=\"patch_3\">\n    <path d=\"M 48.02275 304.4885 \nL 48.02275 24.5525 \n\" style=\"fill: none; stroke: #000000; stroke-linejoin: miter; stroke-linecap: square\"/>\n   </g>\n   <g id=\"patch_4\">\n    <path d=\"M 473.11075 304.4885 \nL 473.11075 24.5525 \n\" style=\"fill: none; stroke: #000000; stroke-linejoin: miter; stroke-linecap: square\"/>\n   </g>\n   <g id=\"patch_5\">\n    <path d=\"M 48.02275 304.4885 \nL 473.11075 304.4885 \n\" style=\"fill: none; stroke: #000000; stroke-linejoin: miter; stroke-linecap: square\"/>\n   </g>\n   <g id=\"patch_6\">\n    <path d=\"M 48.02275 24.5525 \nL 473.11075 24.5525 \n\" style=\"fill: none; stroke: #000000; stroke-linejoin: miter; stroke-linecap: square\"/>\n   </g>\n   <g id=\"text_17\">\n    <!-- The last 5 years of publications from IDMEC -->\n    <g transform=\"translate(102.698 19.5525) scale(0.16 -0.16)\">\n     <defs>\n      <path id=\"Roboto-Regular-54\" d=\"M 3644 4066 \nL 2181 4066 \nL 2181 0 \nL 1566 0 \nL 1566 4066 \nL 106 4066 \nL 106 4550 \nL 3644 4550 \nL 3644 4066 \nz\n\" transform=\"scale(0.015625)\"/>\n      <path id=\"Roboto-Regular-68\" d=\"M 1063 2928 \nQ 1238 3172 1492 3308 \nQ 1747 3444 2056 3444 \nQ 2597 3444 2898 3119 \nQ 3200 2794 3200 2119 \nL 3200 0 \nL 2584 0 \nL 2584 2125 \nQ 2584 2544 2404 2744 \nQ 2225 2944 1869 2944 \nQ 1613 2944 1405 2823 \nQ 1197 2703 1063 2497 \nL 1063 0 \nL 447 0 \nL 447 4875 \nL 1063 4875 \nL 1063 2928 \nz\n\" transform=\"scale(0.015625)\"/>\n      <path id=\"Roboto-Regular-6c\" d=\"M 1113 0 \nL 497 0 \nL 497 4875 \nL 1113 4875 \nL 1113 0 \nz\n\" transform=\"scale(0.015625)\"/>\n      <path id=\"Roboto-Regular-74\" d=\"M 1259 4197 \nL 1259 3381 \nL 1900 3381 \nL 1900 2925 \nL 1259 2925 \nL 1259 872 \nQ 1259 634 1357 537 \nQ 1456 441 1619 441 \nQ 1672 441 1736 453 \nQ 1800 466 1850 484 \nL 1931 63 \nQ 1863 6 1730 -30 \nQ 1597 -66 1463 -66 \nQ 1088 -66 866 161 \nQ 644 388 644 872 \nL 644 2925 \nL 106 2925 \nL 106 3381 \nL 644 3381 \nL 644 4197 \nL 1259 4197 \nz\n\" transform=\"scale(0.015625)\"/>\n      <path id=\"Roboto-Regular-35\" d=\"M 547 2053 \nL 809 4550 \nL 3088 4550 \nL 3088 4003 \nL 1331 4003 \nL 1181 2725 \nQ 1325 2831 1501 2901 \nQ 1678 2972 1909 2978 \nQ 2538 2984 2898 2568 \nQ 3259 2153 3259 1450 \nQ 3259 766 2892 350 \nQ 2525 -66 1822 -66 \nQ 1244 -66 859 250 \nQ 475 566 491 1178 \nL 497 1197 \nL 1053 1197 \nQ 1053 825 1267 620 \nQ 1481 416 1822 416 \nQ 2213 416 2428 691 \nQ 2644 966 2644 1444 \nQ 2644 1881 2425 2162 \nQ 2206 2444 1822 2444 \nQ 1459 2444 1296 2334 \nQ 1134 2225 1059 2000 \nL 547 2053 \nz\n\" transform=\"scale(0.015625)\"/>\n      <path id=\"Roboto-Regular-79\" d=\"M 1481 1253 \nL 1591 828 \nL 1609 828 \nL 2441 3381 \nL 3125 3381 \nL 1703 -519 \nQ 1575 -859 1336 -1112 \nQ 1097 -1366 691 -1366 \nQ 616 -1366 500 -1348 \nQ 384 -1331 322 -1316 \nL 384 -831 \nQ 366 -828 495 -837 \nQ 625 -847 659 -847 \nQ 856 -847 981 -672 \nQ 1106 -497 1191 -284 \nL 1338 69 \nL 81 3381 \nL 769 3381 \nL 1481 1253 \nz\n\" transform=\"scale(0.015625)\"/>\n      <path id=\"Roboto-Regular-69\" d=\"M 1113 0 \nL 497 0 \nL 497 3381 \nL 1113 3381 \nL 1113 0 \nz\nM 1113 4247 \nL 497 4247 \nL 497 4875 \nL 1113 4875 \nL 1113 4247 \nz\n\" transform=\"scale(0.015625)\"/>\n      <path id=\"Roboto-Regular-63\" d=\"M 1822 416 \nQ 2128 416 2361 605 \nQ 2594 794 2594 1069 \nL 3147 1069 \nL 3153 1050 \nQ 3169 613 2764 273 \nQ 2359 -66 1822 -66 \nQ 1084 -66 693 415 \nQ 303 897 303 1625 \nL 303 1756 \nQ 303 2478 695 2961 \nQ 1088 3444 1822 3444 \nQ 2416 3444 2792 3094 \nQ 3169 2744 3156 2234 \nL 3150 2216 \nL 2594 2216 \nQ 2594 2525 2375 2742 \nQ 2156 2959 1822 2959 \nQ 1338 2959 1130 2611 \nQ 922 2263 922 1756 \nL 922 1625 \nQ 922 1106 1128 761 \nQ 1334 416 1822 416 \nz\n\" transform=\"scale(0.015625)\"/>\n      <path id=\"Roboto-Regular-6e\" d=\"M 997 3381 \nL 1041 2878 \nQ 1209 3147 1464 3295 \nQ 1719 3444 2044 3444 \nQ 2591 3444 2891 3123 \nQ 3191 2803 3191 2134 \nL 3191 0 \nL 2575 0 \nL 2575 2122 \nQ 2575 2569 2398 2756 \nQ 2222 2944 1859 2944 \nQ 1594 2944 1389 2816 \nQ 1184 2688 1063 2466 \nL 1063 0 \nL 447 0 \nL 447 3381 \nL 997 3381 \nz\n\" transform=\"scale(0.015625)\"/>\n      <path id=\"Roboto-Regular-49\" d=\"M 1213 0 \nL 594 0 \nL 594 4550 \nL 1213 4550 \nL 1213 0 \nz\n\" transform=\"scale(0.015625)\"/>\n      <path id=\"Roboto-Regular-44\" d=\"M 563 0 \nL 563 4550 \nL 1959 4550 \nQ 2853 4550 3393 4001 \nQ 3934 3453 3934 2584 \nL 3934 1963 \nQ 3934 1091 3393 545 \nQ 2853 0 1959 0 \nL 563 0 \nz\nM 1178 4066 \nL 1178 481 \nL 1959 481 \nQ 2591 481 2955 897 \nQ 3319 1313 3319 1963 \nL 3319 2591 \nQ 3319 3234 2955 3650 \nQ 2591 4066 1959 4066 \nL 1178 4066 \nz\n\" transform=\"scale(0.015625)\"/>\n      <path id=\"Roboto-Regular-4d\" d=\"M 1350 4550 \nL 2800 853 \nL 2819 853 \nL 4269 4550 \nL 5056 4550 \nL 5056 0 \nL 4441 0 \nL 4441 1800 \nL 4503 3650 \nL 4488 3653 \nL 3013 0 \nL 2603 0 \nL 1134 3644 \nL 1119 3641 \nL 1178 1800 \nL 1178 0 \nL 563 0 \nL 563 4550 \nL 1350 4550 \nz\n\" transform=\"scale(0.015625)\"/>\n      <path id=\"Roboto-Regular-45\" d=\"M 3263 2109 \nL 1178 2109 \nL 1178 481 \nL 3581 481 \nL 3581 0 \nL 563 0 \nL 563 4550 \nL 3547 4550 \nL 3547 4066 \nL 1178 4066 \nL 1178 2594 \nL 3263 2594 \nL 3263 2109 \nz\n\" transform=\"scale(0.015625)\"/>\n      <path id=\"Roboto-Regular-43\" d=\"M 3778 1456 \nL 3784 1438 \nQ 3797 797 3334 365 \nQ 2872 -66 2113 -66 \nQ 1341 -66 855 481 \nQ 369 1028 369 1869 \nL 369 2678 \nQ 369 3519 855 4067 \nQ 1341 4616 2113 4616 \nQ 2884 4616 3340 4205 \nQ 3797 3794 3784 3116 \nL 3778 3097 \nL 3188 3097 \nQ 3188 3575 2906 3853 \nQ 2625 4131 2113 4131 \nQ 1597 4131 1290 3715 \nQ 984 3300 984 2684 \nL 984 1869 \nQ 984 1247 1290 831 \nQ 1597 416 2113 416 \nQ 2625 416 2906 692 \nQ 3188 969 3188 1456 \nL 3778 1456 \nz\n\" transform=\"scale(0.015625)\"/>\n     </defs>\n     <use xlink:href=\"#Roboto-Regular-54\"/>\n     <use xlink:href=\"#Roboto-Regular-68\" x=\"58.59375\"/>\n     <use xlink:href=\"#Roboto-Regular-65\" x=\"115.429688\"/>\n     <use xlink:href=\"#Roboto-Regular-20\" x=\"168.310547\"/>\n     <use xlink:href=\"#Roboto-Regular-6c\" x=\"193.164062\"/>\n     <use xlink:href=\"#Roboto-Regular-61\" x=\"218.359375\"/>\n     <use xlink:href=\"#Roboto-Regular-73\" x=\"273.339844\"/>\n     <use xlink:href=\"#Roboto-Regular-74\" x=\"325.634766\"/>\n     <use xlink:href=\"#Roboto-Regular-20\" x=\"360.205078\"/>\n     <use xlink:href=\"#Roboto-Regular-35\" x=\"385.058594\"/>\n     <use xlink:href=\"#Roboto-Regular-20\" x=\"441.357422\"/>\n     <use xlink:href=\"#Roboto-Regular-79\" x=\"466.210938\"/>\n     <use xlink:href=\"#Roboto-Regular-65\" x=\"516.503906\"/>\n     <use xlink:href=\"#Roboto-Regular-61\" x=\"569.384766\"/>\n     <use xlink:href=\"#Roboto-Regular-72\" x=\"624.365234\"/>\n     <use xlink:href=\"#Roboto-Regular-73\" x=\"658.642578\"/>\n     <use xlink:href=\"#Roboto-Regular-20\" x=\"710.9375\"/>\n     <use xlink:href=\"#Roboto-Regular-6f\" x=\"735.791016\"/>\n     <use xlink:href=\"#Roboto-Regular-66\" x=\"792.626953\"/>\n     <use xlink:href=\"#Roboto-Regular-20\" x=\"827.148438\"/>\n     <use xlink:href=\"#Roboto-Regular-70\" x=\"852.001953\"/>\n     <use xlink:href=\"#Roboto-Regular-75\" x=\"908.837891\"/>\n     <use xlink:href=\"#Roboto-Regular-62\" x=\"965.673828\"/>\n     <use xlink:href=\"#Roboto-Regular-6c\" x=\"1022.509766\"/>\n     <use xlink:href=\"#Roboto-Regular-69\" x=\"1047.705078\"/>\n     <use xlink:href=\"#Roboto-Regular-63\" x=\"1072.900391\"/>\n     <use xlink:href=\"#Roboto-Regular-61\" x=\"1125.976562\"/>\n     <use xlink:href=\"#Roboto-Regular-74\" x=\"1180.957031\"/>\n     <use xlink:href=\"#Roboto-Regular-69\" x=\"1215.527344\"/>\n     <use xlink:href=\"#Roboto-Regular-6f\" x=\"1240.722656\"/>\n     <use xlink:href=\"#Roboto-Regular-6e\" x=\"1297.558594\"/>\n     <use xlink:href=\"#Roboto-Regular-73\" x=\"1354.394531\"/>\n     <use xlink:href=\"#Roboto-Regular-20\" x=\"1406.689453\"/>\n     <use xlink:href=\"#Roboto-Regular-66\" x=\"1431.542969\"/>\n     <use xlink:href=\"#Roboto-Regular-72\" x=\"1466.064453\"/>\n     <use xlink:href=\"#Roboto-Regular-6f\" x=\"1500.341797\"/>\n     <use xlink:href=\"#Roboto-Regular-6d\" x=\"1557.177734\"/>\n     <use xlink:href=\"#Roboto-Regular-20\" x=\"1644.580078\"/>\n     <use xlink:href=\"#Roboto-Regular-49\" x=\"1669.433594\"/>\n     <use xlink:href=\"#Roboto-Regular-44\" x=\"1697.705078\"/>\n     <use xlink:href=\"#Roboto-Regular-4d\" x=\"1763.574219\"/>\n     <use xlink:href=\"#Roboto-Regular-45\" x=\"1851.416016\"/>\n     <use xlink:href=\"#Roboto-Regular-43\" x=\"1909.863281\"/>\n    </g>\n   </g>\n  </g>\n </g>\n <defs>\n  <clipPath id=\"p0a81049fac\">\n   <rect x=\"48.02275\" y=\"24.5525\" width=\"425.088\" height=\"279.936\"/>\n  </clipPath>\n </defs>\n</svg>\n"
          },
          "metadata": {}
        }
      ]
    },
    {
      "cell_type": "code",
      "source": [
        "mpl.rc('font', family='Roboto')\n",
        "\n",
        "year_dic =  OrderedDict(sorted(data_summary.citations.items()))\n",
        "\n",
        "mpl.figure( 1, figsize=(1.2*6,1.2*4) )\n",
        "mpl.plot( year_dic.keys(), year_dic.values(), 'o-',\n",
        "         linewidth=2, color='#3679e0',\n",
        "         markersize=7, markerfacecolor='w', markeredgewidth=2,\n",
        "         markeredgecolor='#3679e0' )\n",
        "mpl.xlim( (2019, 2024) )\n",
        "# mpl.ylim( (0, 14) )\n",
        "mpl.grid()\n",
        "mpl.xlabel( 'Year' )\n",
        "mpl.ylabel( 'Number of papers' )\n",
        "mpl.title( \"Citations of the last 5 years of publications from IDMEC\" )#.set_fontname(\"Roboto condensed\")\n",
        "\n",
        "\n",
        "mpl.gca().set_axisbelow(True)\n",
        "# mpl.gca().set_xticks( range( min( year_lst ), max( year_lst )+1, 2 ) );\n",
        "# mpl.gca().set_xticks( range( 2018, 2023+1, 2 ) );\n",
        "mpl.savefig( 'IDMEC_Citations_PubsLast5Years.pdf', bbox_inches='tight', pad_inches=0.02 )\n",
        "mpl.savefig( 'IDMEC_Citations_PubsLast5Years.svg', bbox_inches='tight', pad_inches=0.02 )\n",
        "\n",
        "# df_year_dic = {\n",
        "#     'Year': year_dic.keys(),\n",
        "#     'Num papers': year_dic.values()\n",
        "# }\n",
        "\n",
        "# df = pd.DataFrame( df_year_dic )\n",
        "# df.index = df.index + 1\n",
        "# df"
      ],
      "metadata": {
        "colab": {
          "base_uri": "https://localhost:8080/",
          "height": 487
        },
        "id": "mjUASXXMDaDl",
        "outputId": "2f2e2b19-112d-40cd-b60c-07e31d88f0d9"
      },
      "execution_count": 69,
      "outputs": [
        {
          "output_type": "display_data",
          "data": {
            "text/plain": [
              "<Figure size 576x384 with 1 Axes>"
            ],
            "image/svg+xml": "<?xml version=\"1.0\" encoding=\"utf-8\" standalone=\"no\"?>\n<!DOCTYPE svg PUBLIC \"-//W3C//DTD SVG 1.1//EN\"\n  \"http://www.w3.org/Graphics/SVG/1.1/DTD/svg11.dtd\">\n<svg xmlns:xlink=\"http://www.w3.org/1999/xlink\" width=\"504.641125pt\" height=\"350.01975pt\" viewBox=\"0 0 504.641125 350.01975\" xmlns=\"http://www.w3.org/2000/svg\" version=\"1.1\">\n <metadata>\n  <rdf:RDF xmlns:dc=\"http://purl.org/dc/elements/1.1/\" xmlns:cc=\"http://creativecommons.org/ns#\" xmlns:rdf=\"http://www.w3.org/1999/02/22-rdf-syntax-ns#\">\n   <cc:Work>\n    <dc:type rdf:resource=\"http://purl.org/dc/dcmitype/StillImage\"/>\n    <dc:date>2024-06-10T12:12:43.170499</dc:date>\n    <dc:format>image/svg+xml</dc:format>\n    <dc:creator>\n     <cc:Agent>\n      <dc:title>Matplotlib v3.7.1, https://matplotlib.org/</dc:title>\n     </cc:Agent>\n    </dc:creator>\n   </cc:Work>\n  </rdf:RDF>\n </metadata>\n <defs>\n  <style type=\"text/css\">*{stroke-linejoin: round; stroke-linecap: butt}</style>\n </defs>\n <g id=\"figure_1\">\n  <g id=\"patch_1\">\n   <path d=\"M 0 350.01975 \nL 504.641125 350.01975 \nL 504.641125 0 \nL 0 0 \nz\n\" style=\"fill: #ffffff\"/>\n  </g>\n  <g id=\"axes_1\">\n   <g id=\"patch_2\">\n    <path d=\"M 56.13625 304.4885 \nL 481.22425 304.4885 \nL 481.22425 24.5525 \nL 56.13625 24.5525 \nz\n\" style=\"fill: #ffffff\"/>\n   </g>\n   <g id=\"matplotlib.axis_1\">\n    <g id=\"xtick_1\">\n     <g id=\"line2d_1\">\n      <path d=\"M 56.13625 304.4885 \nL 56.13625 24.5525 \n\" clip-path=\"url(#pffd13bec9f)\" style=\"fill: none; stroke-dasharray: 1,3; stroke-dashoffset: 0; stroke: #000000; stroke-width: 0.5\"/>\n     </g>\n     <g id=\"line2d_2\">\n      <defs>\n       <path id=\"m1cae287db2\" d=\"M 0 0 \nL 0 -4 \n\" style=\"stroke: #000000; stroke-width: 0.5\"/>\n      </defs>\n      <g>\n       <use xlink:href=\"#m1cae287db2\" x=\"56.13625\" y=\"304.4885\" style=\"stroke: #000000; stroke-width: 0.5\"/>\n      </g>\n     </g>\n     <g id=\"line2d_3\">\n      <defs>\n       <path id=\"mf63a7afb9b\" d=\"M 0 0 \nL 0 4 \n\" style=\"stroke: #000000; stroke-width: 0.5\"/>\n      </defs>\n      <g>\n       <use xlink:href=\"#mf63a7afb9b\" x=\"56.13625\" y=\"24.5525\" style=\"stroke: #000000; stroke-width: 0.5\"/>\n      </g>\n     </g>\n     <g id=\"text_1\">\n      <!-- 2019 -->\n      <g transform=\"translate(39.919375 319.45725) scale(0.144 -0.144)\">\n       <defs>\n        <path id=\"Roboto-Regular-32\" d=\"M 3319 0 \nL 369 0 \nL 369 422 \nL 1859 2078 \nQ 2259 2525 2401 2787 \nQ 2544 3050 2544 3325 \nQ 2544 3666 2345 3898 \nQ 2147 4131 1819 4131 \nQ 1347 4131 1123 3889 \nQ 900 3647 900 3209 \nL 309 3209 \nL 303 3228 \nQ 288 3816 694 4216 \nQ 1100 4616 1819 4616 \nQ 2431 4616 2795 4258 \nQ 3159 3900 3159 3347 \nQ 3159 2975 2939 2601 \nQ 2719 2228 2322 1800 \nL 1125 497 \nL 1131 481 \nL 3319 481 \nL 3319 0 \nz\n\" transform=\"scale(0.015625)\"/>\n        <path id=\"Roboto-Regular-30\" d=\"M 3250 1734 \nQ 3250 863 2864 398 \nQ 2478 -66 1806 -66 \nQ 1134 -66 743 400 \nQ 353 866 353 1734 \nL 353 2813 \nQ 353 3681 742 4148 \nQ 1131 4616 1800 4616 \nQ 2472 4616 2861 4148 \nQ 3250 3681 3250 2813 \nL 3250 1734 \nz\nM 2634 2944 \nQ 2634 3534 2420 3832 \nQ 2206 4131 1800 4131 \nQ 1394 4131 1181 3832 \nQ 969 3534 969 2944 \nL 969 1609 \nQ 969 1019 1184 717 \nQ 1400 416 1806 416 \nQ 2213 416 2423 716 \nQ 2634 1016 2634 1609 \nL 2634 2944 \nz\n\" transform=\"scale(0.015625)\"/>\n        <path id=\"Roboto-Regular-31\" d=\"M 2128 0 \nL 1513 0 \nL 1513 3950 \nL 581 3938 \nL 581 4381 \nL 2128 4550 \nL 2128 0 \nz\n\" transform=\"scale(0.015625)\"/>\n        <path id=\"Roboto-Regular-39\" d=\"M 1597 416 \nQ 2047 416 2317 756 \nQ 2588 1097 2588 1769 \nL 2588 1975 \nQ 2434 1753 2204 1639 \nQ 1975 1525 1694 1525 \nQ 1034 1525 646 1933 \nQ 259 2341 259 3056 \nQ 259 3741 670 4178 \nQ 1081 4616 1669 4616 \nQ 2381 4616 2792 4170 \nQ 3203 3725 3203 2859 \nL 3203 1775 \nQ 3203 884 2758 409 \nQ 2313 -66 1597 -66 \nQ 1356 -66 1107 -20 \nQ 859 25 663 119 \nL 756 591 \nQ 941 494 1139 455 \nQ 1338 416 1597 416 \nz\nM 1694 2006 \nQ 2034 2006 2261 2153 \nQ 2488 2300 2588 2528 \nL 2588 2922 \nQ 2588 3519 2358 3825 \nQ 2128 4131 1688 4131 \nQ 1350 4131 1112 3829 \nQ 875 3528 875 3056 \nQ 875 2588 1095 2297 \nQ 1316 2006 1694 2006 \nz\n\" transform=\"scale(0.015625)\"/>\n       </defs>\n       <use xlink:href=\"#Roboto-Regular-32\"/>\n       <use xlink:href=\"#Roboto-Regular-30\" x=\"56.298828\"/>\n       <use xlink:href=\"#Roboto-Regular-31\" x=\"112.646484\"/>\n       <use xlink:href=\"#Roboto-Regular-39\" x=\"168.945312\"/>\n      </g>\n     </g>\n    </g>\n    <g id=\"xtick_2\">\n     <g id=\"line2d_4\">\n      <path d=\"M 141.15385 304.4885 \nL 141.15385 24.5525 \n\" clip-path=\"url(#pffd13bec9f)\" style=\"fill: none; stroke-dasharray: 1,3; stroke-dashoffset: 0; stroke: #000000; stroke-width: 0.5\"/>\n     </g>\n     <g id=\"line2d_5\">\n      <g>\n       <use xlink:href=\"#m1cae287db2\" x=\"141.15385\" y=\"304.4885\" style=\"stroke: #000000; stroke-width: 0.5\"/>\n      </g>\n     </g>\n     <g id=\"line2d_6\">\n      <g>\n       <use xlink:href=\"#mf63a7afb9b\" x=\"141.15385\" y=\"24.5525\" style=\"stroke: #000000; stroke-width: 0.5\"/>\n      </g>\n     </g>\n     <g id=\"text_2\">\n      <!-- 2020 -->\n      <g transform=\"translate(124.9336 319.45725) scale(0.144 -0.144)\">\n       <use xlink:href=\"#Roboto-Regular-32\"/>\n       <use xlink:href=\"#Roboto-Regular-30\" x=\"56.298828\"/>\n       <use xlink:href=\"#Roboto-Regular-32\" x=\"112.646484\"/>\n       <use xlink:href=\"#Roboto-Regular-30\" x=\"168.945312\"/>\n      </g>\n     </g>\n    </g>\n    <g id=\"xtick_3\">\n     <g id=\"line2d_7\">\n      <path d=\"M 226.17145 304.4885 \nL 226.17145 24.5525 \n\" clip-path=\"url(#pffd13bec9f)\" style=\"fill: none; stroke-dasharray: 1,3; stroke-dashoffset: 0; stroke: #000000; stroke-width: 0.5\"/>\n     </g>\n     <g id=\"line2d_8\">\n      <g>\n       <use xlink:href=\"#m1cae287db2\" x=\"226.17145\" y=\"304.4885\" style=\"stroke: #000000; stroke-width: 0.5\"/>\n      </g>\n     </g>\n     <g id=\"line2d_9\">\n      <g>\n       <use xlink:href=\"#mf63a7afb9b\" x=\"226.17145\" y=\"24.5525\" style=\"stroke: #000000; stroke-width: 0.5\"/>\n      </g>\n     </g>\n     <g id=\"text_3\">\n      <!-- 2021 -->\n      <g transform=\"translate(209.954575 319.45725) scale(0.144 -0.144)\">\n       <use xlink:href=\"#Roboto-Regular-32\"/>\n       <use xlink:href=\"#Roboto-Regular-30\" x=\"56.298828\"/>\n       <use xlink:href=\"#Roboto-Regular-32\" x=\"112.646484\"/>\n       <use xlink:href=\"#Roboto-Regular-31\" x=\"168.945312\"/>\n      </g>\n     </g>\n    </g>\n    <g id=\"xtick_4\">\n     <g id=\"line2d_10\">\n      <path d=\"M 311.18905 304.4885 \nL 311.18905 24.5525 \n\" clip-path=\"url(#pffd13bec9f)\" style=\"fill: none; stroke-dasharray: 1,3; stroke-dashoffset: 0; stroke: #000000; stroke-width: 0.5\"/>\n     </g>\n     <g id=\"line2d_11\">\n      <g>\n       <use xlink:href=\"#m1cae287db2\" x=\"311.18905\" y=\"304.4885\" style=\"stroke: #000000; stroke-width: 0.5\"/>\n      </g>\n     </g>\n     <g id=\"line2d_12\">\n      <g>\n       <use xlink:href=\"#mf63a7afb9b\" x=\"311.18905\" y=\"24.5525\" style=\"stroke: #000000; stroke-width: 0.5\"/>\n      </g>\n     </g>\n     <g id=\"text_4\">\n      <!-- 2022 -->\n      <g transform=\"translate(294.972175 319.45725) scale(0.144 -0.144)\">\n       <use xlink:href=\"#Roboto-Regular-32\"/>\n       <use xlink:href=\"#Roboto-Regular-30\" x=\"56.298828\"/>\n       <use xlink:href=\"#Roboto-Regular-32\" x=\"112.646484\"/>\n       <use xlink:href=\"#Roboto-Regular-32\" x=\"168.945312\"/>\n      </g>\n     </g>\n    </g>\n    <g id=\"xtick_5\">\n     <g id=\"line2d_13\">\n      <path d=\"M 396.20665 304.4885 \nL 396.20665 24.5525 \n\" clip-path=\"url(#pffd13bec9f)\" style=\"fill: none; stroke-dasharray: 1,3; stroke-dashoffset: 0; stroke: #000000; stroke-width: 0.5\"/>\n     </g>\n     <g id=\"line2d_14\">\n      <g>\n       <use xlink:href=\"#m1cae287db2\" x=\"396.20665\" y=\"304.4885\" style=\"stroke: #000000; stroke-width: 0.5\"/>\n      </g>\n     </g>\n     <g id=\"line2d_15\">\n      <g>\n       <use xlink:href=\"#mf63a7afb9b\" x=\"396.20665\" y=\"24.5525\" style=\"stroke: #000000; stroke-width: 0.5\"/>\n      </g>\n     </g>\n     <g id=\"text_5\">\n      <!-- 2023 -->\n      <g transform=\"translate(379.989775 319.45725) scale(0.144 -0.144)\">\n       <defs>\n        <path id=\"Roboto-Regular-33\" d=\"M 1213 2559 \nL 1750 2559 \nQ 2159 2559 2329 2764 \nQ 2500 2969 2500 3334 \nQ 2500 3725 2306 3928 \nQ 2113 4131 1734 4131 \nQ 1375 4131 1158 3920 \nQ 941 3709 941 3359 \nL 350 3359 \nL 344 3378 \nQ 328 3894 717 4255 \nQ 1106 4616 1734 4616 \nQ 2366 4616 2741 4280 \nQ 3116 3944 3116 3322 \nQ 3116 3041 2945 2761 \nQ 2775 2481 2434 2334 \nQ 2844 2200 3014 1912 \nQ 3184 1625 3184 1269 \nQ 3184 647 2776 290 \nQ 2369 -66 1734 -66 \nQ 1113 -66 705 270 \nQ 297 606 313 1181 \nL 322 1200 \nL 909 1200 \nQ 909 841 1129 628 \nQ 1350 416 1734 416 \nQ 2125 416 2347 628 \nQ 2569 841 2569 1256 \nQ 2569 1678 2372 1878 \nQ 2175 2078 1750 2078 \nL 1213 2078 \nL 1213 2559 \nz\n\" transform=\"scale(0.015625)\"/>\n       </defs>\n       <use xlink:href=\"#Roboto-Regular-32\"/>\n       <use xlink:href=\"#Roboto-Regular-30\" x=\"56.298828\"/>\n       <use xlink:href=\"#Roboto-Regular-32\" x=\"112.646484\"/>\n       <use xlink:href=\"#Roboto-Regular-33\" x=\"168.945312\"/>\n      </g>\n     </g>\n    </g>\n    <g id=\"xtick_6\">\n     <g id=\"line2d_16\">\n      <path d=\"M 481.22425 304.4885 \nL 481.22425 24.5525 \n\" clip-path=\"url(#pffd13bec9f)\" style=\"fill: none; stroke-dasharray: 1,3; stroke-dashoffset: 0; stroke: #000000; stroke-width: 0.5\"/>\n     </g>\n     <g id=\"line2d_17\">\n      <g>\n       <use xlink:href=\"#m1cae287db2\" x=\"481.22425\" y=\"304.4885\" style=\"stroke: #000000; stroke-width: 0.5\"/>\n      </g>\n     </g>\n     <g id=\"line2d_18\">\n      <g>\n       <use xlink:href=\"#mf63a7afb9b\" x=\"481.22425\" y=\"24.5525\" style=\"stroke: #000000; stroke-width: 0.5\"/>\n      </g>\n     </g>\n     <g id=\"text_6\">\n      <!-- 2024 -->\n      <g transform=\"translate(465.007375 319.45725) scale(0.144 -0.144)\">\n       <defs>\n        <path id=\"Roboto-Regular-34\" d=\"M 2828 1531 \nL 3456 1531 \nL 3456 1050 \nL 2828 1050 \nL 2828 0 \nL 2216 0 \nL 2216 1050 \nL 172 1050 \nL 172 1397 \nL 2178 4550 \nL 2828 4550 \nL 2828 1531 \nz\nM 828 1531 \nL 2216 1531 \nL 2216 3666 \nL 2197 3669 \nL 2138 3513 \nL 828 1531 \nz\n\" transform=\"scale(0.015625)\"/>\n       </defs>\n       <use xlink:href=\"#Roboto-Regular-32\"/>\n       <use xlink:href=\"#Roboto-Regular-30\" x=\"56.298828\"/>\n       <use xlink:href=\"#Roboto-Regular-32\" x=\"112.646484\"/>\n       <use xlink:href=\"#Roboto-Regular-34\" x=\"168.945312\"/>\n      </g>\n     </g>\n    </g>\n    <g id=\"text_7\">\n     <!-- Year -->\n     <g transform=\"translate(252.4265 339.56975) scale(0.16 -0.16)\">\n      <defs>\n       <path id=\"Roboto-Regular-59\" d=\"M 1953 2238 \nL 3141 4550 \nL 3844 4550 \nL 2247 1600 \nL 2247 0 \nL 1634 0 \nL 1634 1641 \nL 63 4550 \nL 766 4550 \nL 1953 2238 \nz\n\" transform=\"scale(0.015625)\"/>\n       <path id=\"Roboto-Regular-65\" d=\"M 1850 -66 \nQ 1144 -66 726 404 \nQ 309 875 309 1625 \nL 309 1763 \nQ 309 2484 739 2964 \nQ 1169 3444 1756 3444 \nQ 2441 3444 2791 3031 \nQ 3141 2619 3141 1931 \nL 3141 1547 \nL 947 1547 \nL 938 1531 \nQ 947 1044 1184 730 \nQ 1422 416 1850 416 \nQ 2163 416 2398 505 \nQ 2634 594 2806 750 \nL 3047 350 \nQ 2866 172 2569 53 \nQ 2272 -66 1850 -66 \nz\nM 1756 2959 \nQ 1447 2959 1228 2698 \nQ 1009 2438 959 2044 \nL 966 2028 \nL 2525 2028 \nL 2525 2109 \nQ 2525 2472 2331 2715 \nQ 2138 2959 1756 2959 \nz\n\" transform=\"scale(0.015625)\"/>\n       <path id=\"Roboto-Regular-61\" d=\"M 2525 0 \nQ 2494 153 2476 270 \nQ 2459 388 2456 506 \nQ 2284 263 2007 98 \nQ 1731 -66 1413 -66 \nQ 884 -66 607 204 \nQ 331 475 331 950 \nQ 331 1434 723 1707 \nQ 1116 1981 1788 1981 \nL 2456 1981 \nL 2456 2316 \nQ 2456 2613 2275 2786 \nQ 2094 2959 1763 2959 \nQ 1466 2959 1280 2807 \nQ 1094 2656 1094 2444 \nL 506 2444 \nL 500 2463 \nQ 481 2831 848 3137 \nQ 1216 3444 1797 3444 \nQ 2372 3444 2722 3151 \nQ 3072 2859 3072 2309 \nL 3072 681 \nQ 3072 500 3090 331 \nQ 3109 163 3159 0 \nL 2525 0 \nz\nM 1503 450 \nQ 1838 450 2106 622 \nQ 2375 794 2456 1016 \nL 2456 1566 \nL 1766 1566 \nQ 1394 1566 1170 1378 \nQ 947 1191 947 938 \nQ 947 713 1087 581 \nQ 1228 450 1503 450 \nz\n\" transform=\"scale(0.015625)\"/>\n       <path id=\"Roboto-Regular-72\" d=\"M 2047 2838 \nL 1731 2856 \nQ 1488 2856 1320 2740 \nQ 1153 2625 1063 2416 \nL 1063 0 \nL 447 0 \nL 447 3381 \nL 997 3381 \nL 1056 2888 \nQ 1200 3150 1411 3297 \nQ 1622 3444 1897 3444 \nQ 1966 3444 2028 3433 \nQ 2091 3422 2131 3409 \nL 2047 2838 \nz\n\" transform=\"scale(0.015625)\"/>\n      </defs>\n      <use xlink:href=\"#Roboto-Regular-59\"/>\n      <use xlink:href=\"#Roboto-Regular-65\" x=\"61.035156\"/>\n      <use xlink:href=\"#Roboto-Regular-61\" x=\"113.916016\"/>\n      <use xlink:href=\"#Roboto-Regular-72\" x=\"168.896484\"/>\n     </g>\n    </g>\n   </g>\n   <g id=\"matplotlib.axis_2\">\n    <g id=\"ytick_1\">\n     <g id=\"line2d_19\">\n      <path d=\"M 56.13625 304.4885 \nL 481.22425 304.4885 \n\" clip-path=\"url(#pffd13bec9f)\" style=\"fill: none; stroke-dasharray: 1,3; stroke-dashoffset: 0; stroke: #000000; stroke-width: 0.5\"/>\n     </g>\n     <g id=\"line2d_20\">\n      <defs>\n       <path id=\"m3d97e19e85\" d=\"M 0 0 \nL 4 0 \n\" style=\"stroke: #000000; stroke-width: 0.5\"/>\n      </defs>\n      <g>\n       <use xlink:href=\"#m3d97e19e85\" x=\"56.13625\" y=\"304.4885\" style=\"stroke: #000000; stroke-width: 0.5\"/>\n      </g>\n     </g>\n     <g id=\"line2d_21\">\n      <defs>\n       <path id=\"m3ce6fd120d\" d=\"M 0 0 \nL -4 0 \n\" style=\"stroke: #000000; stroke-width: 0.5\"/>\n      </defs>\n      <g>\n       <use xlink:href=\"#m3ce6fd120d\" x=\"481.22425\" y=\"304.4885\" style=\"stroke: #000000; stroke-width: 0.5\"/>\n      </g>\n     </g>\n     <g id=\"text_8\">\n      <!-- 0 -->\n      <g transform=\"translate(44.02275 308.510375) scale(0.144 -0.144)\">\n       <use xlink:href=\"#Roboto-Regular-30\"/>\n      </g>\n     </g>\n    </g>\n    <g id=\"ytick_2\">\n     <g id=\"line2d_22\">\n      <path d=\"M 56.13625 264.497643 \nL 481.22425 264.497643 \n\" clip-path=\"url(#pffd13bec9f)\" style=\"fill: none; stroke-dasharray: 1,3; stroke-dashoffset: 0; stroke: #000000; stroke-width: 0.5\"/>\n     </g>\n     <g id=\"line2d_23\">\n      <g>\n       <use xlink:href=\"#m3d97e19e85\" x=\"56.13625\" y=\"264.497643\" style=\"stroke: #000000; stroke-width: 0.5\"/>\n      </g>\n     </g>\n     <g id=\"line2d_24\">\n      <g>\n       <use xlink:href=\"#m3ce6fd120d\" x=\"481.22425\" y=\"264.497643\" style=\"stroke: #000000; stroke-width: 0.5\"/>\n      </g>\n     </g>\n     <g id=\"text_9\">\n      <!-- 50 -->\n      <g transform=\"translate(35.916 268.519518) scale(0.144 -0.144)\">\n       <defs>\n        <path id=\"Roboto-Regular-35\" d=\"M 547 2053 \nL 809 4550 \nL 3088 4550 \nL 3088 4003 \nL 1331 4003 \nL 1181 2725 \nQ 1325 2831 1501 2901 \nQ 1678 2972 1909 2978 \nQ 2538 2984 2898 2568 \nQ 3259 2153 3259 1450 \nQ 3259 766 2892 350 \nQ 2525 -66 1822 -66 \nQ 1244 -66 859 250 \nQ 475 566 491 1178 \nL 497 1197 \nL 1053 1197 \nQ 1053 825 1267 620 \nQ 1481 416 1822 416 \nQ 2213 416 2428 691 \nQ 2644 966 2644 1444 \nQ 2644 1881 2425 2162 \nQ 2206 2444 1822 2444 \nQ 1459 2444 1296 2334 \nQ 1134 2225 1059 2000 \nL 547 2053 \nz\n\" transform=\"scale(0.015625)\"/>\n       </defs>\n       <use xlink:href=\"#Roboto-Regular-35\"/>\n       <use xlink:href=\"#Roboto-Regular-30\" x=\"56.298828\"/>\n      </g>\n     </g>\n    </g>\n    <g id=\"ytick_3\">\n     <g id=\"line2d_25\">\n      <path d=\"M 56.13625 224.506786 \nL 481.22425 224.506786 \n\" clip-path=\"url(#pffd13bec9f)\" style=\"fill: none; stroke-dasharray: 1,3; stroke-dashoffset: 0; stroke: #000000; stroke-width: 0.5\"/>\n     </g>\n     <g id=\"line2d_26\">\n      <g>\n       <use xlink:href=\"#m3d97e19e85\" x=\"56.13625\" y=\"224.506786\" style=\"stroke: #000000; stroke-width: 0.5\"/>\n      </g>\n     </g>\n     <g id=\"line2d_27\">\n      <g>\n       <use xlink:href=\"#m3ce6fd120d\" x=\"481.22425\" y=\"224.506786\" style=\"stroke: #000000; stroke-width: 0.5\"/>\n      </g>\n     </g>\n     <g id=\"text_10\">\n      <!-- 100 -->\n      <g transform=\"translate(27.8025 228.528661) scale(0.144 -0.144)\">\n       <use xlink:href=\"#Roboto-Regular-31\"/>\n       <use xlink:href=\"#Roboto-Regular-30\" x=\"56.298828\"/>\n       <use xlink:href=\"#Roboto-Regular-30\" x=\"112.646484\"/>\n      </g>\n     </g>\n    </g>\n    <g id=\"ytick_4\">\n     <g id=\"line2d_28\">\n      <path d=\"M 56.13625 184.515929 \nL 481.22425 184.515929 \n\" clip-path=\"url(#pffd13bec9f)\" style=\"fill: none; stroke-dasharray: 1,3; stroke-dashoffset: 0; stroke: #000000; stroke-width: 0.5\"/>\n     </g>\n     <g id=\"line2d_29\">\n      <g>\n       <use xlink:href=\"#m3d97e19e85\" x=\"56.13625\" y=\"184.515929\" style=\"stroke: #000000; stroke-width: 0.5\"/>\n      </g>\n     </g>\n     <g id=\"line2d_30\">\n      <g>\n       <use xlink:href=\"#m3ce6fd120d\" x=\"481.22425\" y=\"184.515929\" style=\"stroke: #000000; stroke-width: 0.5\"/>\n      </g>\n     </g>\n     <g id=\"text_11\">\n      <!-- 150 -->\n      <g transform=\"translate(27.80925 188.537804) scale(0.144 -0.144)\">\n       <use xlink:href=\"#Roboto-Regular-31\"/>\n       <use xlink:href=\"#Roboto-Regular-35\" x=\"56.298828\"/>\n       <use xlink:href=\"#Roboto-Regular-30\" x=\"112.597656\"/>\n      </g>\n     </g>\n    </g>\n    <g id=\"ytick_5\">\n     <g id=\"line2d_31\">\n      <path d=\"M 56.13625 144.525071 \nL 481.22425 144.525071 \n\" clip-path=\"url(#pffd13bec9f)\" style=\"fill: none; stroke-dasharray: 1,3; stroke-dashoffset: 0; stroke: #000000; stroke-width: 0.5\"/>\n     </g>\n     <g id=\"line2d_32\">\n      <g>\n       <use xlink:href=\"#m3d97e19e85\" x=\"56.13625\" y=\"144.525071\" style=\"stroke: #000000; stroke-width: 0.5\"/>\n      </g>\n     </g>\n     <g id=\"line2d_33\">\n      <g>\n       <use xlink:href=\"#m3ce6fd120d\" x=\"481.22425\" y=\"144.525071\" style=\"stroke: #000000; stroke-width: 0.5\"/>\n      </g>\n     </g>\n     <g id=\"text_12\">\n      <!-- 200 -->\n      <g transform=\"translate(27.8025 148.546946) scale(0.144 -0.144)\">\n       <use xlink:href=\"#Roboto-Regular-32\"/>\n       <use xlink:href=\"#Roboto-Regular-30\" x=\"56.298828\"/>\n       <use xlink:href=\"#Roboto-Regular-30\" x=\"112.646484\"/>\n      </g>\n     </g>\n    </g>\n    <g id=\"ytick_6\">\n     <g id=\"line2d_34\">\n      <path d=\"M 56.13625 104.534214 \nL 481.22425 104.534214 \n\" clip-path=\"url(#pffd13bec9f)\" style=\"fill: none; stroke-dasharray: 1,3; stroke-dashoffset: 0; stroke: #000000; stroke-width: 0.5\"/>\n     </g>\n     <g id=\"line2d_35\">\n      <g>\n       <use xlink:href=\"#m3d97e19e85\" x=\"56.13625\" y=\"104.534214\" style=\"stroke: #000000; stroke-width: 0.5\"/>\n      </g>\n     </g>\n     <g id=\"line2d_36\">\n      <g>\n       <use xlink:href=\"#m3ce6fd120d\" x=\"481.22425\" y=\"104.534214\" style=\"stroke: #000000; stroke-width: 0.5\"/>\n      </g>\n     </g>\n     <g id=\"text_13\">\n      <!-- 250 -->\n      <g transform=\"translate(27.80925 108.556089) scale(0.144 -0.144)\">\n       <use xlink:href=\"#Roboto-Regular-32\"/>\n       <use xlink:href=\"#Roboto-Regular-35\" x=\"56.298828\"/>\n       <use xlink:href=\"#Roboto-Regular-30\" x=\"112.597656\"/>\n      </g>\n     </g>\n    </g>\n    <g id=\"ytick_7\">\n     <g id=\"line2d_37\">\n      <path d=\"M 56.13625 64.543357 \nL 481.22425 64.543357 \n\" clip-path=\"url(#pffd13bec9f)\" style=\"fill: none; stroke-dasharray: 1,3; stroke-dashoffset: 0; stroke: #000000; stroke-width: 0.5\"/>\n     </g>\n     <g id=\"line2d_38\">\n      <g>\n       <use xlink:href=\"#m3d97e19e85\" x=\"56.13625\" y=\"64.543357\" style=\"stroke: #000000; stroke-width: 0.5\"/>\n      </g>\n     </g>\n     <g id=\"line2d_39\">\n      <g>\n       <use xlink:href=\"#m3ce6fd120d\" x=\"481.22425\" y=\"64.543357\" style=\"stroke: #000000; stroke-width: 0.5\"/>\n      </g>\n     </g>\n     <g id=\"text_14\">\n      <!-- 300 -->\n      <g transform=\"translate(27.8025 68.565232) scale(0.144 -0.144)\">\n       <use xlink:href=\"#Roboto-Regular-33\"/>\n       <use xlink:href=\"#Roboto-Regular-30\" x=\"56.298828\"/>\n       <use xlink:href=\"#Roboto-Regular-30\" x=\"112.646484\"/>\n      </g>\n     </g>\n    </g>\n    <g id=\"ytick_8\">\n     <g id=\"line2d_40\">\n      <path d=\"M 56.13625 24.5525 \nL 481.22425 24.5525 \n\" clip-path=\"url(#pffd13bec9f)\" style=\"fill: none; stroke-dasharray: 1,3; stroke-dashoffset: 0; stroke: #000000; stroke-width: 0.5\"/>\n     </g>\n     <g id=\"line2d_41\">\n      <g>\n       <use xlink:href=\"#m3d97e19e85\" x=\"56.13625\" y=\"24.5525\" style=\"stroke: #000000; stroke-width: 0.5\"/>\n      </g>\n     </g>\n     <g id=\"line2d_42\">\n      <g>\n       <use xlink:href=\"#m3ce6fd120d\" x=\"481.22425\" y=\"24.5525\" style=\"stroke: #000000; stroke-width: 0.5\"/>\n      </g>\n     </g>\n     <g id=\"text_15\">\n      <!-- 350 -->\n      <g transform=\"translate(27.80925 28.574375) scale(0.144 -0.144)\">\n       <use xlink:href=\"#Roboto-Regular-33\"/>\n       <use xlink:href=\"#Roboto-Regular-35\" x=\"56.298828\"/>\n       <use xlink:href=\"#Roboto-Regular-30\" x=\"112.597656\"/>\n      </g>\n     </g>\n    </g>\n    <g id=\"text_16\">\n     <!-- Number of papers -->\n     <g transform=\"translate(19.5525 229.22425) rotate(-90) scale(0.16 -0.16)\">\n      <defs>\n       <path id=\"Roboto-Regular-4e\" d=\"M 4003 0 \nL 3388 0 \nL 1197 3519 \nL 1178 3513 \nL 1178 0 \nL 563 0 \nL 563 4550 \nL 1178 4550 \nL 3369 1038 \nL 3388 1044 \nL 3388 4550 \nL 4003 4550 \nL 4003 0 \nz\n\" transform=\"scale(0.015625)\"/>\n       <path id=\"Roboto-Regular-75\" d=\"M 2594 500 \nQ 2434 228 2184 81 \nQ 1934 -66 1606 -66 \nQ 1053 -66 743 287 \nQ 434 641 434 1388 \nL 434 3381 \nL 1050 3381 \nL 1050 1381 \nQ 1050 841 1209 637 \nQ 1369 434 1706 434 \nQ 2034 434 2248 567 \nQ 2463 700 2572 944 \nL 2572 3381 \nL 3188 3381 \nL 3188 0 \nL 2634 0 \nL 2594 500 \nz\n\" transform=\"scale(0.015625)\"/>\n       <path id=\"Roboto-Regular-6d\" d=\"M 997 3381 \nL 1041 2938 \nQ 1206 3178 1461 3311 \nQ 1716 3444 2053 3444 \nQ 2391 3444 2633 3287 \nQ 2875 3131 2997 2819 \nQ 3156 3106 3418 3275 \nQ 3681 3444 4031 3444 \nQ 4547 3444 4847 3089 \nQ 5147 2734 5147 2022 \nL 5147 0 \nL 4531 0 \nL 4531 2028 \nQ 4531 2528 4359 2736 \nQ 4188 2944 3847 2944 \nQ 3531 2944 3336 2725 \nQ 3141 2506 3106 2172 \nL 3106 2147 \nL 3106 0 \nL 2488 0 \nL 2488 2028 \nQ 2488 2503 2311 2723 \nQ 2134 2944 1803 2944 \nQ 1522 2944 1340 2828 \nQ 1159 2713 1063 2503 \nL 1063 0 \nL 447 0 \nL 447 3381 \nL 997 3381 \nz\n\" transform=\"scale(0.015625)\"/>\n       <path id=\"Roboto-Regular-62\" d=\"M 3334 1563 \nQ 3334 831 2982 382 \nQ 2631 -66 2016 -66 \nQ 1681 -66 1434 64 \nQ 1188 194 1025 447 \nL 950 0 \nL 447 0 \nL 447 4875 \nL 1063 4875 \nL 1063 2981 \nQ 1222 3206 1458 3325 \nQ 1694 3444 2009 3444 \nQ 2634 3444 2984 2944 \nQ 3334 2444 3334 1628 \nL 3334 1563 \nz\nM 2719 1628 \nQ 2719 2209 2505 2576 \nQ 2291 2944 1853 2944 \nQ 1569 2944 1373 2805 \nQ 1178 2666 1063 2431 \nL 1063 966 \nQ 1181 716 1373 575 \nQ 1566 434 1859 434 \nQ 2294 434 2506 743 \nQ 2719 1053 2719 1563 \nL 2719 1628 \nz\n\" transform=\"scale(0.015625)\"/>\n       <path id=\"Roboto-Regular-20\" transform=\"scale(0.015625)\"/>\n       <path id=\"Roboto-Regular-6f\" d=\"M 303 1722 \nQ 303 2472 709 2958 \nQ 1116 3444 1813 3444 \nQ 2516 3444 2923 2959 \nQ 3331 2475 3331 1722 \nL 3331 1653 \nQ 3331 897 2925 415 \nQ 2519 -66 1819 -66 \nQ 1119 -66 711 417 \nQ 303 900 303 1653 \nL 303 1722 \nz\nM 919 1653 \nQ 919 1116 1145 766 \nQ 1372 416 1819 416 \nQ 2259 416 2487 766 \nQ 2716 1116 2716 1653 \nL 2716 1722 \nQ 2716 2253 2486 2606 \nQ 2256 2959 1813 2959 \nQ 1372 2959 1145 2606 \nQ 919 2253 919 1722 \nL 919 1653 \nz\n\" transform=\"scale(0.015625)\"/>\n       <path id=\"Roboto-Regular-66\" d=\"M 703 0 \nL 703 2925 \nL 175 2925 \nL 175 3381 \nL 703 3381 \nL 703 3809 \nQ 703 4350 986 4645 \nQ 1269 4941 1775 4941 \nQ 1881 4941 1989 4923 \nQ 2097 4906 2228 4875 \nL 2153 4406 \nQ 2097 4419 2017 4428 \nQ 1938 4438 1850 4438 \nQ 1581 4438 1450 4277 \nQ 1319 4116 1319 3809 \nL 1319 3381 \nL 2022 3381 \nL 2022 2925 \nL 1319 2925 \nL 1319 0 \nL 703 0 \nz\n\" transform=\"scale(0.015625)\"/>\n       <path id=\"Roboto-Regular-70\" d=\"M 3328 1563 \nQ 3328 831 2978 382 \nQ 2628 -66 2013 -66 \nQ 1700 -66 1464 39 \nQ 1228 144 1063 353 \nL 1063 -1300 \nL 447 -1300 \nL 447 3381 \nL 919 3381 \nL 1016 2944 \nQ 1181 3188 1428 3316 \nQ 1675 3444 2003 3444 \nQ 2631 3444 2979 2945 \nQ 3328 2447 3328 1628 \nL 3328 1563 \nz\nM 2713 1628 \nQ 2713 2203 2486 2573 \nQ 2259 2944 1819 2944 \nQ 1553 2944 1365 2823 \nQ 1178 2703 1063 2494 \nL 1063 859 \nQ 1178 650 1365 533 \nQ 1553 416 1825 416 \nQ 2263 416 2488 736 \nQ 2713 1056 2713 1563 \nL 2713 1628 \nz\n\" transform=\"scale(0.015625)\"/>\n       <path id=\"Roboto-Regular-73\" d=\"M 2413 897 \nQ 2413 1100 2258 1231 \nQ 2103 1363 1672 1459 \nQ 1056 1594 745 1823 \nQ 434 2053 434 2450 \nQ 434 2863 784 3153 \nQ 1134 3444 1697 3444 \nQ 2288 3444 2636 3141 \nQ 2984 2838 2969 2403 \nL 2963 2384 \nL 2375 2384 \nQ 2375 2606 2189 2782 \nQ 2003 2959 1697 2959 \nQ 1369 2959 1209 2815 \nQ 1050 2672 1050 2469 \nQ 1050 2269 1190 2153 \nQ 1331 2038 1763 1947 \nQ 2403 1809 2715 1573 \nQ 3028 1338 3028 941 \nQ 3028 491 2664 212 \nQ 2300 -66 1713 -66 \nQ 1066 -66 694 262 \nQ 322 591 341 1028 \nL 347 1047 \nL 934 1047 \nQ 950 719 1178 567 \nQ 1406 416 1713 416 \nQ 2041 416 2227 548 \nQ 2413 681 2413 897 \nz\n\" transform=\"scale(0.015625)\"/>\n      </defs>\n      <use xlink:href=\"#Roboto-Regular-4e\"/>\n      <use xlink:href=\"#Roboto-Regular-75\" x=\"71.337891\"/>\n      <use xlink:href=\"#Roboto-Regular-6d\" x=\"128.173828\"/>\n      <use xlink:href=\"#Roboto-Regular-62\" x=\"215.576172\"/>\n      <use xlink:href=\"#Roboto-Regular-65\" x=\"272.412109\"/>\n      <use xlink:href=\"#Roboto-Regular-72\" x=\"325.292969\"/>\n      <use xlink:href=\"#Roboto-Regular-20\" x=\"359.570312\"/>\n      <use xlink:href=\"#Roboto-Regular-6f\" x=\"384.423828\"/>\n      <use xlink:href=\"#Roboto-Regular-66\" x=\"441.259766\"/>\n      <use xlink:href=\"#Roboto-Regular-20\" x=\"475.78125\"/>\n      <use xlink:href=\"#Roboto-Regular-70\" x=\"500.634766\"/>\n      <use xlink:href=\"#Roboto-Regular-61\" x=\"557.470703\"/>\n      <use xlink:href=\"#Roboto-Regular-70\" x=\"612.451172\"/>\n      <use xlink:href=\"#Roboto-Regular-65\" x=\"669.287109\"/>\n      <use xlink:href=\"#Roboto-Regular-72\" x=\"722.167969\"/>\n      <use xlink:href=\"#Roboto-Regular-73\" x=\"756.445312\"/>\n     </g>\n    </g>\n   </g>\n   <g id=\"line2d_43\">\n    <path d=\"M 56.13625 282.09362 \nL 141.15385 47.747197 \nL 226.17145 226.906237 \nL 311.18905 289.291974 \nL 396.20665 277.294717 \nL 481.22425 304.4885 \n\" clip-path=\"url(#pffd13bec9f)\" style=\"fill: none; stroke: #3679e0; stroke-width: 2; stroke-linecap: square\"/>\n    <defs>\n     <path id=\"m429a5cf2d8\" d=\"M 0 3.5 \nC 0.928211 3.5 1.81853 3.131218 2.474874 2.474874 \nC 3.131218 1.81853 3.5 0.928211 3.5 0 \nC 3.5 -0.928211 3.131218 -1.81853 2.474874 -2.474874 \nC 1.81853 -3.131218 0.928211 -3.5 0 -3.5 \nC -0.928211 -3.5 -1.81853 -3.131218 -2.474874 -2.474874 \nC -3.131218 -1.81853 -3.5 -0.928211 -3.5 0 \nC -3.5 0.928211 -3.131218 1.81853 -2.474874 2.474874 \nC -1.81853 3.131218 -0.928211 3.5 0 3.5 \nz\n\" style=\"stroke: #3679e0; stroke-width: 2\"/>\n    </defs>\n    <g clip-path=\"url(#pffd13bec9f)\">\n     <use xlink:href=\"#m429a5cf2d8\" x=\"56.13625\" y=\"282.09362\" style=\"fill: #ffffff; stroke: #3679e0; stroke-width: 2\"/>\n     <use xlink:href=\"#m429a5cf2d8\" x=\"141.15385\" y=\"47.747197\" style=\"fill: #ffffff; stroke: #3679e0; stroke-width: 2\"/>\n     <use xlink:href=\"#m429a5cf2d8\" x=\"226.17145\" y=\"226.906237\" style=\"fill: #ffffff; stroke: #3679e0; stroke-width: 2\"/>\n     <use xlink:href=\"#m429a5cf2d8\" x=\"311.18905\" y=\"289.291974\" style=\"fill: #ffffff; stroke: #3679e0; stroke-width: 2\"/>\n     <use xlink:href=\"#m429a5cf2d8\" x=\"396.20665\" y=\"277.294717\" style=\"fill: #ffffff; stroke: #3679e0; stroke-width: 2\"/>\n     <use xlink:href=\"#m429a5cf2d8\" x=\"481.22425\" y=\"304.4885\" style=\"fill: #ffffff; stroke: #3679e0; stroke-width: 2\"/>\n    </g>\n   </g>\n   <g id=\"patch_3\">\n    <path d=\"M 56.13625 304.4885 \nL 56.13625 24.5525 \n\" style=\"fill: none; stroke: #000000; stroke-linejoin: miter; stroke-linecap: square\"/>\n   </g>\n   <g id=\"patch_4\">\n    <path d=\"M 481.22425 304.4885 \nL 481.22425 24.5525 \n\" style=\"fill: none; stroke: #000000; stroke-linejoin: miter; stroke-linecap: square\"/>\n   </g>\n   <g id=\"patch_5\">\n    <path d=\"M 56.13625 304.4885 \nL 481.22425 304.4885 \n\" style=\"fill: none; stroke: #000000; stroke-linejoin: miter; stroke-linecap: square\"/>\n   </g>\n   <g id=\"patch_6\">\n    <path d=\"M 56.13625 24.5525 \nL 481.22425 24.5525 \n\" style=\"fill: none; stroke: #000000; stroke-linejoin: miter; stroke-linecap: square\"/>\n   </g>\n   <g id=\"text_17\">\n    <!-- Citations of the last 5 years of publications from IDMEC -->\n    <g transform=\"translate(69.13775 19.5525) scale(0.16 -0.16)\">\n     <defs>\n      <path id=\"Roboto-Regular-43\" d=\"M 3778 1456 \nL 3784 1438 \nQ 3797 797 3334 365 \nQ 2872 -66 2113 -66 \nQ 1341 -66 855 481 \nQ 369 1028 369 1869 \nL 369 2678 \nQ 369 3519 855 4067 \nQ 1341 4616 2113 4616 \nQ 2884 4616 3340 4205 \nQ 3797 3794 3784 3116 \nL 3778 3097 \nL 3188 3097 \nQ 3188 3575 2906 3853 \nQ 2625 4131 2113 4131 \nQ 1597 4131 1290 3715 \nQ 984 3300 984 2684 \nL 984 1869 \nQ 984 1247 1290 831 \nQ 1597 416 2113 416 \nQ 2625 416 2906 692 \nQ 3188 969 3188 1456 \nL 3778 1456 \nz\n\" transform=\"scale(0.015625)\"/>\n      <path id=\"Roboto-Regular-69\" d=\"M 1113 0 \nL 497 0 \nL 497 3381 \nL 1113 3381 \nL 1113 0 \nz\nM 1113 4247 \nL 497 4247 \nL 497 4875 \nL 1113 4875 \nL 1113 4247 \nz\n\" transform=\"scale(0.015625)\"/>\n      <path id=\"Roboto-Regular-74\" d=\"M 1259 4197 \nL 1259 3381 \nL 1900 3381 \nL 1900 2925 \nL 1259 2925 \nL 1259 872 \nQ 1259 634 1357 537 \nQ 1456 441 1619 441 \nQ 1672 441 1736 453 \nQ 1800 466 1850 484 \nL 1931 63 \nQ 1863 6 1730 -30 \nQ 1597 -66 1463 -66 \nQ 1088 -66 866 161 \nQ 644 388 644 872 \nL 644 2925 \nL 106 2925 \nL 106 3381 \nL 644 3381 \nL 644 4197 \nL 1259 4197 \nz\n\" transform=\"scale(0.015625)\"/>\n      <path id=\"Roboto-Regular-6e\" d=\"M 997 3381 \nL 1041 2878 \nQ 1209 3147 1464 3295 \nQ 1719 3444 2044 3444 \nQ 2591 3444 2891 3123 \nQ 3191 2803 3191 2134 \nL 3191 0 \nL 2575 0 \nL 2575 2122 \nQ 2575 2569 2398 2756 \nQ 2222 2944 1859 2944 \nQ 1594 2944 1389 2816 \nQ 1184 2688 1063 2466 \nL 1063 0 \nL 447 0 \nL 447 3381 \nL 997 3381 \nz\n\" transform=\"scale(0.015625)\"/>\n      <path id=\"Roboto-Regular-68\" d=\"M 1063 2928 \nQ 1238 3172 1492 3308 \nQ 1747 3444 2056 3444 \nQ 2597 3444 2898 3119 \nQ 3200 2794 3200 2119 \nL 3200 0 \nL 2584 0 \nL 2584 2125 \nQ 2584 2544 2404 2744 \nQ 2225 2944 1869 2944 \nQ 1613 2944 1405 2823 \nQ 1197 2703 1063 2497 \nL 1063 0 \nL 447 0 \nL 447 4875 \nL 1063 4875 \nL 1063 2928 \nz\n\" transform=\"scale(0.015625)\"/>\n      <path id=\"Roboto-Regular-6c\" d=\"M 1113 0 \nL 497 0 \nL 497 4875 \nL 1113 4875 \nL 1113 0 \nz\n\" transform=\"scale(0.015625)\"/>\n      <path id=\"Roboto-Regular-79\" d=\"M 1481 1253 \nL 1591 828 \nL 1609 828 \nL 2441 3381 \nL 3125 3381 \nL 1703 -519 \nQ 1575 -859 1336 -1112 \nQ 1097 -1366 691 -1366 \nQ 616 -1366 500 -1348 \nQ 384 -1331 322 -1316 \nL 384 -831 \nQ 366 -828 495 -837 \nQ 625 -847 659 -847 \nQ 856 -847 981 -672 \nQ 1106 -497 1191 -284 \nL 1338 69 \nL 81 3381 \nL 769 3381 \nL 1481 1253 \nz\n\" transform=\"scale(0.015625)\"/>\n      <path id=\"Roboto-Regular-63\" d=\"M 1822 416 \nQ 2128 416 2361 605 \nQ 2594 794 2594 1069 \nL 3147 1069 \nL 3153 1050 \nQ 3169 613 2764 273 \nQ 2359 -66 1822 -66 \nQ 1084 -66 693 415 \nQ 303 897 303 1625 \nL 303 1756 \nQ 303 2478 695 2961 \nQ 1088 3444 1822 3444 \nQ 2416 3444 2792 3094 \nQ 3169 2744 3156 2234 \nL 3150 2216 \nL 2594 2216 \nQ 2594 2525 2375 2742 \nQ 2156 2959 1822 2959 \nQ 1338 2959 1130 2611 \nQ 922 2263 922 1756 \nL 922 1625 \nQ 922 1106 1128 761 \nQ 1334 416 1822 416 \nz\n\" transform=\"scale(0.015625)\"/>\n      <path id=\"Roboto-Regular-49\" d=\"M 1213 0 \nL 594 0 \nL 594 4550 \nL 1213 4550 \nL 1213 0 \nz\n\" transform=\"scale(0.015625)\"/>\n      <path id=\"Roboto-Regular-44\" d=\"M 563 0 \nL 563 4550 \nL 1959 4550 \nQ 2853 4550 3393 4001 \nQ 3934 3453 3934 2584 \nL 3934 1963 \nQ 3934 1091 3393 545 \nQ 2853 0 1959 0 \nL 563 0 \nz\nM 1178 4066 \nL 1178 481 \nL 1959 481 \nQ 2591 481 2955 897 \nQ 3319 1313 3319 1963 \nL 3319 2591 \nQ 3319 3234 2955 3650 \nQ 2591 4066 1959 4066 \nL 1178 4066 \nz\n\" transform=\"scale(0.015625)\"/>\n      <path id=\"Roboto-Regular-4d\" d=\"M 1350 4550 \nL 2800 853 \nL 2819 853 \nL 4269 4550 \nL 5056 4550 \nL 5056 0 \nL 4441 0 \nL 4441 1800 \nL 4503 3650 \nL 4488 3653 \nL 3013 0 \nL 2603 0 \nL 1134 3644 \nL 1119 3641 \nL 1178 1800 \nL 1178 0 \nL 563 0 \nL 563 4550 \nL 1350 4550 \nz\n\" transform=\"scale(0.015625)\"/>\n      <path id=\"Roboto-Regular-45\" d=\"M 3263 2109 \nL 1178 2109 \nL 1178 481 \nL 3581 481 \nL 3581 0 \nL 563 0 \nL 563 4550 \nL 3547 4550 \nL 3547 4066 \nL 1178 4066 \nL 1178 2594 \nL 3263 2594 \nL 3263 2109 \nz\n\" transform=\"scale(0.015625)\"/>\n     </defs>\n     <use xlink:href=\"#Roboto-Regular-43\"/>\n     <use xlink:href=\"#Roboto-Regular-69\" x=\"63.330078\"/>\n     <use xlink:href=\"#Roboto-Regular-74\" x=\"88.525391\"/>\n     <use xlink:href=\"#Roboto-Regular-61\" x=\"123.095703\"/>\n     <use xlink:href=\"#Roboto-Regular-74\" x=\"178.076172\"/>\n     <use xlink:href=\"#Roboto-Regular-69\" x=\"212.646484\"/>\n     <use xlink:href=\"#Roboto-Regular-6f\" x=\"237.841797\"/>\n     <use xlink:href=\"#Roboto-Regular-6e\" x=\"294.677734\"/>\n     <use xlink:href=\"#Roboto-Regular-73\" x=\"351.513672\"/>\n     <use xlink:href=\"#Roboto-Regular-20\" x=\"403.808594\"/>\n     <use xlink:href=\"#Roboto-Regular-6f\" x=\"428.662109\"/>\n     <use xlink:href=\"#Roboto-Regular-66\" x=\"485.498047\"/>\n     <use xlink:href=\"#Roboto-Regular-20\" x=\"520.019531\"/>\n     <use xlink:href=\"#Roboto-Regular-74\" x=\"544.873047\"/>\n     <use xlink:href=\"#Roboto-Regular-68\" x=\"579.443359\"/>\n     <use xlink:href=\"#Roboto-Regular-65\" x=\"636.279297\"/>\n     <use xlink:href=\"#Roboto-Regular-20\" x=\"689.160156\"/>\n     <use xlink:href=\"#Roboto-Regular-6c\" x=\"714.013672\"/>\n     <use xlink:href=\"#Roboto-Regular-61\" x=\"739.208984\"/>\n     <use xlink:href=\"#Roboto-Regular-73\" x=\"794.189453\"/>\n     <use xlink:href=\"#Roboto-Regular-74\" x=\"846.484375\"/>\n     <use xlink:href=\"#Roboto-Regular-20\" x=\"881.054688\"/>\n     <use xlink:href=\"#Roboto-Regular-35\" x=\"905.908203\"/>\n     <use xlink:href=\"#Roboto-Regular-20\" x=\"962.207031\"/>\n     <use xlink:href=\"#Roboto-Regular-79\" x=\"987.060547\"/>\n     <use xlink:href=\"#Roboto-Regular-65\" x=\"1037.353516\"/>\n     <use xlink:href=\"#Roboto-Regular-61\" x=\"1090.234375\"/>\n     <use xlink:href=\"#Roboto-Regular-72\" x=\"1145.214844\"/>\n     <use xlink:href=\"#Roboto-Regular-73\" x=\"1179.492188\"/>\n     <use xlink:href=\"#Roboto-Regular-20\" x=\"1231.787109\"/>\n     <use xlink:href=\"#Roboto-Regular-6f\" x=\"1256.640625\"/>\n     <use xlink:href=\"#Roboto-Regular-66\" x=\"1313.476562\"/>\n     <use xlink:href=\"#Roboto-Regular-20\" x=\"1347.998047\"/>\n     <use xlink:href=\"#Roboto-Regular-70\" x=\"1372.851562\"/>\n     <use xlink:href=\"#Roboto-Regular-75\" x=\"1429.6875\"/>\n     <use xlink:href=\"#Roboto-Regular-62\" x=\"1486.523438\"/>\n     <use xlink:href=\"#Roboto-Regular-6c\" x=\"1543.359375\"/>\n     <use xlink:href=\"#Roboto-Regular-69\" x=\"1568.554688\"/>\n     <use xlink:href=\"#Roboto-Regular-63\" x=\"1593.75\"/>\n     <use xlink:href=\"#Roboto-Regular-61\" x=\"1646.826172\"/>\n     <use xlink:href=\"#Roboto-Regular-74\" x=\"1701.806641\"/>\n     <use xlink:href=\"#Roboto-Regular-69\" x=\"1736.376953\"/>\n     <use xlink:href=\"#Roboto-Regular-6f\" x=\"1761.572266\"/>\n     <use xlink:href=\"#Roboto-Regular-6e\" x=\"1818.408203\"/>\n     <use xlink:href=\"#Roboto-Regular-73\" x=\"1875.244141\"/>\n     <use xlink:href=\"#Roboto-Regular-20\" x=\"1927.539062\"/>\n     <use xlink:href=\"#Roboto-Regular-66\" x=\"1952.392578\"/>\n     <use xlink:href=\"#Roboto-Regular-72\" x=\"1986.914062\"/>\n     <use xlink:href=\"#Roboto-Regular-6f\" x=\"2021.191406\"/>\n     <use xlink:href=\"#Roboto-Regular-6d\" x=\"2078.027344\"/>\n     <use xlink:href=\"#Roboto-Regular-20\" x=\"2165.429688\"/>\n     <use xlink:href=\"#Roboto-Regular-49\" x=\"2190.283203\"/>\n     <use xlink:href=\"#Roboto-Regular-44\" x=\"2218.554688\"/>\n     <use xlink:href=\"#Roboto-Regular-4d\" x=\"2284.423828\"/>\n     <use xlink:href=\"#Roboto-Regular-45\" x=\"2372.265625\"/>\n     <use xlink:href=\"#Roboto-Regular-43\" x=\"2430.712891\"/>\n    </g>\n   </g>\n  </g>\n </g>\n <defs>\n  <clipPath id=\"pffd13bec9f\">\n   <rect x=\"56.13625\" y=\"24.5525\" width=\"425.088\" height=\"279.936\"/>\n  </clipPath>\n </defs>\n</svg>\n"
          },
          "metadata": {}
        }
      ]
    },
    {
      "cell_type": "markdown",
      "source": [
        "# Citations per author"
      ],
      "metadata": {
        "id": "O5QwcJcNjgPI"
      }
    },
    {
      "cell_type": "code",
      "source": [
        "sorted_citations_dic = { k: v for k, v in sorted( papers_dic.items(), key=lambda item: item[1].citations, reverse=True ) }\n",
        "\n",
        "df_citations_name_lst = []\n",
        "df_citations_num_lst = []\n",
        "\n",
        "df_citations_dic = {\n",
        "        \"Author\": df_citations_name_lst,\n",
        "        \"Citations\": df_citations_num_lst\n",
        "}\n",
        "\n",
        "for n, dt in enumerate( sorted_citations_dic.values() ):\n",
        "    if n == max_entries: break\n",
        "    df_citations_name_lst.append( dt.name )\n",
        "    df_citations_num_lst.append( dt.citations )\n",
        "\n",
        "df = pd.DataFrame( df_citations_dic )\n",
        "df.index = df.index + 1\n",
        "left_align( df.head(20) )"
      ],
      "metadata": {
        "id": "SG8KjEDp6A76",
        "outputId": "199a8fa3-7d8f-4a03-cfea-e64eb2ac06b9",
        "colab": {
          "base_uri": "https://localhost:8080/",
          "height": 215
        }
      },
      "execution_count": 32,
      "outputs": [
        {
          "output_type": "error",
          "ename": "NameError",
          "evalue": "name 'papers_dic' is not defined",
          "traceback": [
            "\u001b[0;31m---------------------------------------------------------------------------\u001b[0m",
            "\u001b[0;31mNameError\u001b[0m                                 Traceback (most recent call last)",
            "\u001b[0;32m<ipython-input-32-fed75de41025>\u001b[0m in \u001b[0;36m<cell line: 1>\u001b[0;34m()\u001b[0m\n\u001b[0;32m----> 1\u001b[0;31m \u001b[0msorted_citations_dic\u001b[0m \u001b[0;34m=\u001b[0m \u001b[0;34m{\u001b[0m \u001b[0mk\u001b[0m\u001b[0;34m:\u001b[0m \u001b[0mv\u001b[0m \u001b[0;32mfor\u001b[0m \u001b[0mk\u001b[0m\u001b[0;34m,\u001b[0m \u001b[0mv\u001b[0m \u001b[0;32min\u001b[0m \u001b[0msorted\u001b[0m\u001b[0;34m(\u001b[0m \u001b[0mpapers_dic\u001b[0m\u001b[0;34m.\u001b[0m\u001b[0mitems\u001b[0m\u001b[0;34m(\u001b[0m\u001b[0;34m)\u001b[0m\u001b[0;34m,\u001b[0m \u001b[0mkey\u001b[0m\u001b[0;34m=\u001b[0m\u001b[0;32mlambda\u001b[0m \u001b[0mitem\u001b[0m\u001b[0;34m:\u001b[0m \u001b[0mitem\u001b[0m\u001b[0;34m[\u001b[0m\u001b[0;36m1\u001b[0m\u001b[0;34m]\u001b[0m\u001b[0;34m.\u001b[0m\u001b[0mcitations\u001b[0m\u001b[0;34m,\u001b[0m \u001b[0mreverse\u001b[0m\u001b[0;34m=\u001b[0m\u001b[0;32mTrue\u001b[0m \u001b[0;34m)\u001b[0m \u001b[0;34m}\u001b[0m\u001b[0;34m\u001b[0m\u001b[0;34m\u001b[0m\u001b[0m\n\u001b[0m\u001b[1;32m      2\u001b[0m \u001b[0;34m\u001b[0m\u001b[0m\n\u001b[1;32m      3\u001b[0m \u001b[0mdf_citations_name_lst\u001b[0m \u001b[0;34m=\u001b[0m \u001b[0;34m[\u001b[0m\u001b[0;34m]\u001b[0m\u001b[0;34m\u001b[0m\u001b[0;34m\u001b[0m\u001b[0m\n\u001b[1;32m      4\u001b[0m \u001b[0mdf_citations_num_lst\u001b[0m \u001b[0;34m=\u001b[0m \u001b[0;34m[\u001b[0m\u001b[0;34m]\u001b[0m\u001b[0;34m\u001b[0m\u001b[0;34m\u001b[0m\u001b[0m\n\u001b[1;32m      5\u001b[0m \u001b[0;34m\u001b[0m\u001b[0m\n",
            "\u001b[0;31mNameError\u001b[0m: name 'papers_dic' is not defined"
          ]
        }
      ]
    },
    {
      "cell_type": "markdown",
      "source": [
        "# Most cited papers"
      ],
      "metadata": {
        "id": "_nTgeWkM14Nk"
      }
    },
    {
      "cell_type": "code",
      "source": [
        "@dataclass\n",
        "class paper_rank:\n",
        "    authors: str = None\n",
        "    title: str = None\n",
        "    journal: str =None\n",
        "    year: int = 0\n",
        "    DOI: str = None\n",
        "    citations: int = 0"
      ],
      "metadata": {
        "id": "F44gD-KFYQNk"
      },
      "execution_count": null,
      "outputs": []
    },
    {
      "cell_type": "code",
      "source": [
        "papers_rank_dic = {}\n",
        "\n",
        "for n, ( authors, title, journal, year, DOI, citations, stage ) in enumerate( zip( authors_lst, title_lst, journal_lst, year_lst, DOI_lst, citations_lst, stage_lst ) ):\n",
        "    if stage == 'Final' and authors == authors: # check NANs\n",
        "        papers_rank_dic[DOI] = paper_rank( authors, title, journal, year, DOI, int( citations ) )"
      ],
      "metadata": {
        "id": "ulws2MGMXGwZ"
      },
      "execution_count": null,
      "outputs": []
    },
    {
      "cell_type": "code",
      "source": [
        "sorted_papers_rank_dic = { k: v for k, v in sorted( papers_rank_dic.items(), key=lambda item: item[1].citations, reverse=True ) }\n",
        "\n",
        "df_authors_name_lst = []\n",
        "df_title_lst = []\n",
        "df_journal_lst = []\n",
        "df_year_lst = []\n",
        "df_DOI_lst = []\n",
        "df_citations_lst = []\n",
        "\n",
        "df_papers_rank_dic = {\n",
        "        \"Authors\": df_authors_name_lst,\n",
        "        \"Title\": df_title_lst,\n",
        "        \"Journal\": df_journal_lst,\n",
        "        \"Year\": df_year_lst,\n",
        "        # \"DOI\": df_DOI_lst,\n",
        "        \"citations\": df_citations_lst\n",
        "}\n",
        "\n",
        "\n",
        "for n, dt in enumerate( sorted_papers_rank_dic.values() ):\n",
        "    df_authors_name_lst.append( dt.authors )\n",
        "    df_title_lst.append( dt.title )\n",
        "    df_journal_lst.append( dt.journal )\n",
        "    df_year_lst.append( dt.year )\n",
        "    df_DOI_lst.append( dt.DOI )\n",
        "    df_citations_lst.append( dt.citations )\n",
        "\n",
        "# df_authors_name_lst[0] = 'Falcão A.F.O.'\n",
        "\n",
        "df = pd.DataFrame( df_papers_rank_dic )\n",
        "df.index = df.index + 1\n",
        "left_align( df.head(10) )"
      ],
      "metadata": {
        "id": "4n06BPVsXHP2"
      },
      "execution_count": null,
      "outputs": []
    },
    {
      "cell_type": "markdown",
      "source": [
        "# Generate plot of the papers per year"
      ],
      "metadata": {
        "id": "CPvw1Isz6pQM"
      }
    },
    {
      "cell_type": "code",
      "source": [
        "mpl.rc('font', family='Roboto')\n",
        "\n",
        "# year_dic = {i:0 for i in range( min( year_lst ), max( year_lst )+1 ) }\n",
        "year_dic = {i:0 for i in range( 2019, 2025+1 ) }\n",
        "\n",
        "for n, ( year, stage ) in enumerate( zip( year_lst, stage_lst ) ):\n",
        "    if stage == 'Final' and affiliations == affiliations: # detect NANs\n",
        "        if year > 2002:\n",
        "            year_dic[year] += 1\n",
        "\n",
        "mpl.figure( 1, figsize=(1.2*6,1.2*4) )\n",
        "mpl.plot( year_dic.keys(), year_dic.values(), 'o-',\n",
        "         linewidth=2, color='#3679e0',\n",
        "         markersize=7, markerfacecolor='w', markeredgewidth=2,\n",
        "         markeredgecolor='#3679e0' )\n",
        "mpl.xlim( (2019, 2024) )\n",
        "mpl.grid()\n",
        "mpl.xlabel( 'Year' )\n",
        "mpl.ylabel( 'Number of papers' )\n",
        "mpl.title( \"Last 5 years of publications worldwide\" )#.set_fontname(\"Roboto condensed\")\n",
        "\n",
        "\n",
        "mpl.gca().set_axisbelow(True)\n",
        "# mpl.gca().set_xticks( range( min( year_lst ), max( year_lst )+1, 2 ) );\n",
        "# mpl.gca().set_xticks( range( 2018, 2023+1, 2 ) );\n",
        "mpl.savefig( 'PubsLast5Years.pdf', bbox_inches='tight', pad_inches=0.02 )\n",
        "mpl.savefig( 'PubsLast5Years.svg', bbox_inches='tight', pad_inches=0.02 )\n",
        "\n",
        "# df_year_dic = {\n",
        "#     'Year': year_dic.keys(),\n",
        "#     'Num papers': year_dic.values()\n",
        "# }\n",
        "\n",
        "# df = pd.DataFrame( df_year_dic )\n",
        "# df.index = df.index + 1\n",
        "# df"
      ],
      "metadata": {
        "colab": {
          "base_uri": "https://localhost:8080/",
          "height": 487
        },
        "id": "gzTHr1sm6uuN",
        "outputId": "9a9647a5-7bc0-4172-d591-c85e21a65a75"
      },
      "execution_count": 70,
      "outputs": [
        {
          "output_type": "display_data",
          "data": {
            "text/plain": [
              "<Figure size 576x384 with 1 Axes>"
            ],
            "image/svg+xml": "<?xml version=\"1.0\" encoding=\"utf-8\" standalone=\"no\"?>\n<!DOCTYPE svg PUBLIC \"-//W3C//DTD SVG 1.1//EN\"\n  \"http://www.w3.org/Graphics/SVG/1.1/DTD/svg11.dtd\">\n<svg xmlns:xlink=\"http://www.w3.org/1999/xlink\" width=\"504.641125pt\" height=\"350.01975pt\" viewBox=\"0 0 504.641125 350.01975\" xmlns=\"http://www.w3.org/2000/svg\" version=\"1.1\">\n <metadata>\n  <rdf:RDF xmlns:dc=\"http://purl.org/dc/elements/1.1/\" xmlns:cc=\"http://creativecommons.org/ns#\" xmlns:rdf=\"http://www.w3.org/1999/02/22-rdf-syntax-ns#\">\n   <cc:Work>\n    <dc:type rdf:resource=\"http://purl.org/dc/dcmitype/StillImage\"/>\n    <dc:date>2024-06-10T12:15:50.046975</dc:date>\n    <dc:format>image/svg+xml</dc:format>\n    <dc:creator>\n     <cc:Agent>\n      <dc:title>Matplotlib v3.7.1, https://matplotlib.org/</dc:title>\n     </cc:Agent>\n    </dc:creator>\n   </cc:Work>\n  </rdf:RDF>\n </metadata>\n <defs>\n  <style type=\"text/css\">*{stroke-linejoin: round; stroke-linecap: butt}</style>\n </defs>\n <g id=\"figure_1\">\n  <g id=\"patch_1\">\n   <path d=\"M 0 350.01975 \nL 504.641125 350.01975 \nL 504.641125 0 \nL 0 0 \nz\n\" style=\"fill: #ffffff\"/>\n  </g>\n  <g id=\"axes_1\">\n   <g id=\"patch_2\">\n    <path d=\"M 56.13625 304.4885 \nL 481.22425 304.4885 \nL 481.22425 24.5525 \nL 56.13625 24.5525 \nz\n\" style=\"fill: #ffffff\"/>\n   </g>\n   <g id=\"matplotlib.axis_1\">\n    <g id=\"xtick_1\">\n     <g id=\"line2d_1\">\n      <path d=\"M 56.13625 304.4885 \nL 56.13625 24.5525 \n\" clip-path=\"url(#p97a6cb1e05)\" style=\"fill: none; stroke-dasharray: 1,3; stroke-dashoffset: 0; stroke: #000000; stroke-width: 0.5\"/>\n     </g>\n     <g id=\"line2d_2\">\n      <defs>\n       <path id=\"mdd8a3dd63e\" d=\"M 0 0 \nL 0 -4 \n\" style=\"stroke: #000000; stroke-width: 0.5\"/>\n      </defs>\n      <g>\n       <use xlink:href=\"#mdd8a3dd63e\" x=\"56.13625\" y=\"304.4885\" style=\"stroke: #000000; stroke-width: 0.5\"/>\n      </g>\n     </g>\n     <g id=\"line2d_3\">\n      <defs>\n       <path id=\"meadda54e2e\" d=\"M 0 0 \nL 0 4 \n\" style=\"stroke: #000000; stroke-width: 0.5\"/>\n      </defs>\n      <g>\n       <use xlink:href=\"#meadda54e2e\" x=\"56.13625\" y=\"24.5525\" style=\"stroke: #000000; stroke-width: 0.5\"/>\n      </g>\n     </g>\n     <g id=\"text_1\">\n      <!-- 2019 -->\n      <g transform=\"translate(39.919375 319.45725) scale(0.144 -0.144)\">\n       <defs>\n        <path id=\"Roboto-Regular-32\" d=\"M 3319 0 \nL 369 0 \nL 369 422 \nL 1859 2078 \nQ 2259 2525 2401 2787 \nQ 2544 3050 2544 3325 \nQ 2544 3666 2345 3898 \nQ 2147 4131 1819 4131 \nQ 1347 4131 1123 3889 \nQ 900 3647 900 3209 \nL 309 3209 \nL 303 3228 \nQ 288 3816 694 4216 \nQ 1100 4616 1819 4616 \nQ 2431 4616 2795 4258 \nQ 3159 3900 3159 3347 \nQ 3159 2975 2939 2601 \nQ 2719 2228 2322 1800 \nL 1125 497 \nL 1131 481 \nL 3319 481 \nL 3319 0 \nz\n\" transform=\"scale(0.015625)\"/>\n        <path id=\"Roboto-Regular-30\" d=\"M 3250 1734 \nQ 3250 863 2864 398 \nQ 2478 -66 1806 -66 \nQ 1134 -66 743 400 \nQ 353 866 353 1734 \nL 353 2813 \nQ 353 3681 742 4148 \nQ 1131 4616 1800 4616 \nQ 2472 4616 2861 4148 \nQ 3250 3681 3250 2813 \nL 3250 1734 \nz\nM 2634 2944 \nQ 2634 3534 2420 3832 \nQ 2206 4131 1800 4131 \nQ 1394 4131 1181 3832 \nQ 969 3534 969 2944 \nL 969 1609 \nQ 969 1019 1184 717 \nQ 1400 416 1806 416 \nQ 2213 416 2423 716 \nQ 2634 1016 2634 1609 \nL 2634 2944 \nz\n\" transform=\"scale(0.015625)\"/>\n        <path id=\"Roboto-Regular-31\" d=\"M 2128 0 \nL 1513 0 \nL 1513 3950 \nL 581 3938 \nL 581 4381 \nL 2128 4550 \nL 2128 0 \nz\n\" transform=\"scale(0.015625)\"/>\n        <path id=\"Roboto-Regular-39\" d=\"M 1597 416 \nQ 2047 416 2317 756 \nQ 2588 1097 2588 1769 \nL 2588 1975 \nQ 2434 1753 2204 1639 \nQ 1975 1525 1694 1525 \nQ 1034 1525 646 1933 \nQ 259 2341 259 3056 \nQ 259 3741 670 4178 \nQ 1081 4616 1669 4616 \nQ 2381 4616 2792 4170 \nQ 3203 3725 3203 2859 \nL 3203 1775 \nQ 3203 884 2758 409 \nQ 2313 -66 1597 -66 \nQ 1356 -66 1107 -20 \nQ 859 25 663 119 \nL 756 591 \nQ 941 494 1139 455 \nQ 1338 416 1597 416 \nz\nM 1694 2006 \nQ 2034 2006 2261 2153 \nQ 2488 2300 2588 2528 \nL 2588 2922 \nQ 2588 3519 2358 3825 \nQ 2128 4131 1688 4131 \nQ 1350 4131 1112 3829 \nQ 875 3528 875 3056 \nQ 875 2588 1095 2297 \nQ 1316 2006 1694 2006 \nz\n\" transform=\"scale(0.015625)\"/>\n       </defs>\n       <use xlink:href=\"#Roboto-Regular-32\"/>\n       <use xlink:href=\"#Roboto-Regular-30\" x=\"56.298828\"/>\n       <use xlink:href=\"#Roboto-Regular-31\" x=\"112.646484\"/>\n       <use xlink:href=\"#Roboto-Regular-39\" x=\"168.945312\"/>\n      </g>\n     </g>\n    </g>\n    <g id=\"xtick_2\">\n     <g id=\"line2d_4\">\n      <path d=\"M 141.15385 304.4885 \nL 141.15385 24.5525 \n\" clip-path=\"url(#p97a6cb1e05)\" style=\"fill: none; stroke-dasharray: 1,3; stroke-dashoffset: 0; stroke: #000000; stroke-width: 0.5\"/>\n     </g>\n     <g id=\"line2d_5\">\n      <g>\n       <use xlink:href=\"#mdd8a3dd63e\" x=\"141.15385\" y=\"304.4885\" style=\"stroke: #000000; stroke-width: 0.5\"/>\n      </g>\n     </g>\n     <g id=\"line2d_6\">\n      <g>\n       <use xlink:href=\"#meadda54e2e\" x=\"141.15385\" y=\"24.5525\" style=\"stroke: #000000; stroke-width: 0.5\"/>\n      </g>\n     </g>\n     <g id=\"text_2\">\n      <!-- 2020 -->\n      <g transform=\"translate(124.9336 319.45725) scale(0.144 -0.144)\">\n       <use xlink:href=\"#Roboto-Regular-32\"/>\n       <use xlink:href=\"#Roboto-Regular-30\" x=\"56.298828\"/>\n       <use xlink:href=\"#Roboto-Regular-32\" x=\"112.646484\"/>\n       <use xlink:href=\"#Roboto-Regular-30\" x=\"168.945312\"/>\n      </g>\n     </g>\n    </g>\n    <g id=\"xtick_3\">\n     <g id=\"line2d_7\">\n      <path d=\"M 226.17145 304.4885 \nL 226.17145 24.5525 \n\" clip-path=\"url(#p97a6cb1e05)\" style=\"fill: none; stroke-dasharray: 1,3; stroke-dashoffset: 0; stroke: #000000; stroke-width: 0.5\"/>\n     </g>\n     <g id=\"line2d_8\">\n      <g>\n       <use xlink:href=\"#mdd8a3dd63e\" x=\"226.17145\" y=\"304.4885\" style=\"stroke: #000000; stroke-width: 0.5\"/>\n      </g>\n     </g>\n     <g id=\"line2d_9\">\n      <g>\n       <use xlink:href=\"#meadda54e2e\" x=\"226.17145\" y=\"24.5525\" style=\"stroke: #000000; stroke-width: 0.5\"/>\n      </g>\n     </g>\n     <g id=\"text_3\">\n      <!-- 2021 -->\n      <g transform=\"translate(209.954575 319.45725) scale(0.144 -0.144)\">\n       <use xlink:href=\"#Roboto-Regular-32\"/>\n       <use xlink:href=\"#Roboto-Regular-30\" x=\"56.298828\"/>\n       <use xlink:href=\"#Roboto-Regular-32\" x=\"112.646484\"/>\n       <use xlink:href=\"#Roboto-Regular-31\" x=\"168.945312\"/>\n      </g>\n     </g>\n    </g>\n    <g id=\"xtick_4\">\n     <g id=\"line2d_10\">\n      <path d=\"M 311.18905 304.4885 \nL 311.18905 24.5525 \n\" clip-path=\"url(#p97a6cb1e05)\" style=\"fill: none; stroke-dasharray: 1,3; stroke-dashoffset: 0; stroke: #000000; stroke-width: 0.5\"/>\n     </g>\n     <g id=\"line2d_11\">\n      <g>\n       <use xlink:href=\"#mdd8a3dd63e\" x=\"311.18905\" y=\"304.4885\" style=\"stroke: #000000; stroke-width: 0.5\"/>\n      </g>\n     </g>\n     <g id=\"line2d_12\">\n      <g>\n       <use xlink:href=\"#meadda54e2e\" x=\"311.18905\" y=\"24.5525\" style=\"stroke: #000000; stroke-width: 0.5\"/>\n      </g>\n     </g>\n     <g id=\"text_4\">\n      <!-- 2022 -->\n      <g transform=\"translate(294.972175 319.45725) scale(0.144 -0.144)\">\n       <use xlink:href=\"#Roboto-Regular-32\"/>\n       <use xlink:href=\"#Roboto-Regular-30\" x=\"56.298828\"/>\n       <use xlink:href=\"#Roboto-Regular-32\" x=\"112.646484\"/>\n       <use xlink:href=\"#Roboto-Regular-32\" x=\"168.945312\"/>\n      </g>\n     </g>\n    </g>\n    <g id=\"xtick_5\">\n     <g id=\"line2d_13\">\n      <path d=\"M 396.20665 304.4885 \nL 396.20665 24.5525 \n\" clip-path=\"url(#p97a6cb1e05)\" style=\"fill: none; stroke-dasharray: 1,3; stroke-dashoffset: 0; stroke: #000000; stroke-width: 0.5\"/>\n     </g>\n     <g id=\"line2d_14\">\n      <g>\n       <use xlink:href=\"#mdd8a3dd63e\" x=\"396.20665\" y=\"304.4885\" style=\"stroke: #000000; stroke-width: 0.5\"/>\n      </g>\n     </g>\n     <g id=\"line2d_15\">\n      <g>\n       <use xlink:href=\"#meadda54e2e\" x=\"396.20665\" y=\"24.5525\" style=\"stroke: #000000; stroke-width: 0.5\"/>\n      </g>\n     </g>\n     <g id=\"text_5\">\n      <!-- 2023 -->\n      <g transform=\"translate(379.989775 319.45725) scale(0.144 -0.144)\">\n       <defs>\n        <path id=\"Roboto-Regular-33\" d=\"M 1213 2559 \nL 1750 2559 \nQ 2159 2559 2329 2764 \nQ 2500 2969 2500 3334 \nQ 2500 3725 2306 3928 \nQ 2113 4131 1734 4131 \nQ 1375 4131 1158 3920 \nQ 941 3709 941 3359 \nL 350 3359 \nL 344 3378 \nQ 328 3894 717 4255 \nQ 1106 4616 1734 4616 \nQ 2366 4616 2741 4280 \nQ 3116 3944 3116 3322 \nQ 3116 3041 2945 2761 \nQ 2775 2481 2434 2334 \nQ 2844 2200 3014 1912 \nQ 3184 1625 3184 1269 \nQ 3184 647 2776 290 \nQ 2369 -66 1734 -66 \nQ 1113 -66 705 270 \nQ 297 606 313 1181 \nL 322 1200 \nL 909 1200 \nQ 909 841 1129 628 \nQ 1350 416 1734 416 \nQ 2125 416 2347 628 \nQ 2569 841 2569 1256 \nQ 2569 1678 2372 1878 \nQ 2175 2078 1750 2078 \nL 1213 2078 \nL 1213 2559 \nz\n\" transform=\"scale(0.015625)\"/>\n       </defs>\n       <use xlink:href=\"#Roboto-Regular-32\"/>\n       <use xlink:href=\"#Roboto-Regular-30\" x=\"56.298828\"/>\n       <use xlink:href=\"#Roboto-Regular-32\" x=\"112.646484\"/>\n       <use xlink:href=\"#Roboto-Regular-33\" x=\"168.945312\"/>\n      </g>\n     </g>\n    </g>\n    <g id=\"xtick_6\">\n     <g id=\"line2d_16\">\n      <path d=\"M 481.22425 304.4885 \nL 481.22425 24.5525 \n\" clip-path=\"url(#p97a6cb1e05)\" style=\"fill: none; stroke-dasharray: 1,3; stroke-dashoffset: 0; stroke: #000000; stroke-width: 0.5\"/>\n     </g>\n     <g id=\"line2d_17\">\n      <g>\n       <use xlink:href=\"#mdd8a3dd63e\" x=\"481.22425\" y=\"304.4885\" style=\"stroke: #000000; stroke-width: 0.5\"/>\n      </g>\n     </g>\n     <g id=\"line2d_18\">\n      <g>\n       <use xlink:href=\"#meadda54e2e\" x=\"481.22425\" y=\"24.5525\" style=\"stroke: #000000; stroke-width: 0.5\"/>\n      </g>\n     </g>\n     <g id=\"text_6\">\n      <!-- 2024 -->\n      <g transform=\"translate(465.007375 319.45725) scale(0.144 -0.144)\">\n       <defs>\n        <path id=\"Roboto-Regular-34\" d=\"M 2828 1531 \nL 3456 1531 \nL 3456 1050 \nL 2828 1050 \nL 2828 0 \nL 2216 0 \nL 2216 1050 \nL 172 1050 \nL 172 1397 \nL 2178 4550 \nL 2828 4550 \nL 2828 1531 \nz\nM 828 1531 \nL 2216 1531 \nL 2216 3666 \nL 2197 3669 \nL 2138 3513 \nL 828 1531 \nz\n\" transform=\"scale(0.015625)\"/>\n       </defs>\n       <use xlink:href=\"#Roboto-Regular-32\"/>\n       <use xlink:href=\"#Roboto-Regular-30\" x=\"56.298828\"/>\n       <use xlink:href=\"#Roboto-Regular-32\" x=\"112.646484\"/>\n       <use xlink:href=\"#Roboto-Regular-34\" x=\"168.945312\"/>\n      </g>\n     </g>\n    </g>\n    <g id=\"text_7\">\n     <!-- Year -->\n     <g transform=\"translate(252.4265 339.56975) scale(0.16 -0.16)\">\n      <defs>\n       <path id=\"Roboto-Regular-59\" d=\"M 1953 2238 \nL 3141 4550 \nL 3844 4550 \nL 2247 1600 \nL 2247 0 \nL 1634 0 \nL 1634 1641 \nL 63 4550 \nL 766 4550 \nL 1953 2238 \nz\n\" transform=\"scale(0.015625)\"/>\n       <path id=\"Roboto-Regular-65\" d=\"M 1850 -66 \nQ 1144 -66 726 404 \nQ 309 875 309 1625 \nL 309 1763 \nQ 309 2484 739 2964 \nQ 1169 3444 1756 3444 \nQ 2441 3444 2791 3031 \nQ 3141 2619 3141 1931 \nL 3141 1547 \nL 947 1547 \nL 938 1531 \nQ 947 1044 1184 730 \nQ 1422 416 1850 416 \nQ 2163 416 2398 505 \nQ 2634 594 2806 750 \nL 3047 350 \nQ 2866 172 2569 53 \nQ 2272 -66 1850 -66 \nz\nM 1756 2959 \nQ 1447 2959 1228 2698 \nQ 1009 2438 959 2044 \nL 966 2028 \nL 2525 2028 \nL 2525 2109 \nQ 2525 2472 2331 2715 \nQ 2138 2959 1756 2959 \nz\n\" transform=\"scale(0.015625)\"/>\n       <path id=\"Roboto-Regular-61\" d=\"M 2525 0 \nQ 2494 153 2476 270 \nQ 2459 388 2456 506 \nQ 2284 263 2007 98 \nQ 1731 -66 1413 -66 \nQ 884 -66 607 204 \nQ 331 475 331 950 \nQ 331 1434 723 1707 \nQ 1116 1981 1788 1981 \nL 2456 1981 \nL 2456 2316 \nQ 2456 2613 2275 2786 \nQ 2094 2959 1763 2959 \nQ 1466 2959 1280 2807 \nQ 1094 2656 1094 2444 \nL 506 2444 \nL 500 2463 \nQ 481 2831 848 3137 \nQ 1216 3444 1797 3444 \nQ 2372 3444 2722 3151 \nQ 3072 2859 3072 2309 \nL 3072 681 \nQ 3072 500 3090 331 \nQ 3109 163 3159 0 \nL 2525 0 \nz\nM 1503 450 \nQ 1838 450 2106 622 \nQ 2375 794 2456 1016 \nL 2456 1566 \nL 1766 1566 \nQ 1394 1566 1170 1378 \nQ 947 1191 947 938 \nQ 947 713 1087 581 \nQ 1228 450 1503 450 \nz\n\" transform=\"scale(0.015625)\"/>\n       <path id=\"Roboto-Regular-72\" d=\"M 2047 2838 \nL 1731 2856 \nQ 1488 2856 1320 2740 \nQ 1153 2625 1063 2416 \nL 1063 0 \nL 447 0 \nL 447 3381 \nL 997 3381 \nL 1056 2888 \nQ 1200 3150 1411 3297 \nQ 1622 3444 1897 3444 \nQ 1966 3444 2028 3433 \nQ 2091 3422 2131 3409 \nL 2047 2838 \nz\n\" transform=\"scale(0.015625)\"/>\n      </defs>\n      <use xlink:href=\"#Roboto-Regular-59\"/>\n      <use xlink:href=\"#Roboto-Regular-65\" x=\"61.035156\"/>\n      <use xlink:href=\"#Roboto-Regular-61\" x=\"113.916016\"/>\n      <use xlink:href=\"#Roboto-Regular-72\" x=\"168.896484\"/>\n     </g>\n    </g>\n   </g>\n   <g id=\"matplotlib.axis_2\">\n    <g id=\"ytick_1\">\n     <g id=\"line2d_19\">\n      <path d=\"M 56.13625 304.4885 \nL 481.22425 304.4885 \n\" clip-path=\"url(#p97a6cb1e05)\" style=\"fill: none; stroke-dasharray: 1,3; stroke-dashoffset: 0; stroke: #000000; stroke-width: 0.5\"/>\n     </g>\n     <g id=\"line2d_20\">\n      <defs>\n       <path id=\"m39f8eca8fa\" d=\"M 0 0 \nL 4 0 \n\" style=\"stroke: #000000; stroke-width: 0.5\"/>\n      </defs>\n      <g>\n       <use xlink:href=\"#m39f8eca8fa\" x=\"56.13625\" y=\"304.4885\" style=\"stroke: #000000; stroke-width: 0.5\"/>\n      </g>\n     </g>\n     <g id=\"line2d_21\">\n      <defs>\n       <path id=\"m692f0b1834\" d=\"M 0 0 \nL -4 0 \n\" style=\"stroke: #000000; stroke-width: 0.5\"/>\n      </defs>\n      <g>\n       <use xlink:href=\"#m692f0b1834\" x=\"481.22425\" y=\"304.4885\" style=\"stroke: #000000; stroke-width: 0.5\"/>\n      </g>\n     </g>\n     <g id=\"text_8\">\n      <!-- 0 -->\n      <g transform=\"translate(44.02275 308.510375) scale(0.144 -0.144)\">\n       <use xlink:href=\"#Roboto-Regular-30\"/>\n      </g>\n     </g>\n    </g>\n    <g id=\"ytick_2\">\n     <g id=\"line2d_22\">\n      <path d=\"M 56.13625 248.5013 \nL 481.22425 248.5013 \n\" clip-path=\"url(#p97a6cb1e05)\" style=\"fill: none; stroke-dasharray: 1,3; stroke-dashoffset: 0; stroke: #000000; stroke-width: 0.5\"/>\n     </g>\n     <g id=\"line2d_23\">\n      <g>\n       <use xlink:href=\"#m39f8eca8fa\" x=\"56.13625\" y=\"248.5013\" style=\"stroke: #000000; stroke-width: 0.5\"/>\n      </g>\n     </g>\n     <g id=\"line2d_24\">\n      <g>\n       <use xlink:href=\"#m692f0b1834\" x=\"481.22425\" y=\"248.5013\" style=\"stroke: #000000; stroke-width: 0.5\"/>\n      </g>\n     </g>\n     <g id=\"text_9\">\n      <!-- 50 -->\n      <g transform=\"translate(35.916 252.523175) scale(0.144 -0.144)\">\n       <defs>\n        <path id=\"Roboto-Regular-35\" d=\"M 547 2053 \nL 809 4550 \nL 3088 4550 \nL 3088 4003 \nL 1331 4003 \nL 1181 2725 \nQ 1325 2831 1501 2901 \nQ 1678 2972 1909 2978 \nQ 2538 2984 2898 2568 \nQ 3259 2153 3259 1450 \nQ 3259 766 2892 350 \nQ 2525 -66 1822 -66 \nQ 1244 -66 859 250 \nQ 475 566 491 1178 \nL 497 1197 \nL 1053 1197 \nQ 1053 825 1267 620 \nQ 1481 416 1822 416 \nQ 2213 416 2428 691 \nQ 2644 966 2644 1444 \nQ 2644 1881 2425 2162 \nQ 2206 2444 1822 2444 \nQ 1459 2444 1296 2334 \nQ 1134 2225 1059 2000 \nL 547 2053 \nz\n\" transform=\"scale(0.015625)\"/>\n       </defs>\n       <use xlink:href=\"#Roboto-Regular-35\"/>\n       <use xlink:href=\"#Roboto-Regular-30\" x=\"56.298828\"/>\n      </g>\n     </g>\n    </g>\n    <g id=\"ytick_3\">\n     <g id=\"line2d_25\">\n      <path d=\"M 56.13625 192.5141 \nL 481.22425 192.5141 \n\" clip-path=\"url(#p97a6cb1e05)\" style=\"fill: none; stroke-dasharray: 1,3; stroke-dashoffset: 0; stroke: #000000; stroke-width: 0.5\"/>\n     </g>\n     <g id=\"line2d_26\">\n      <g>\n       <use xlink:href=\"#m39f8eca8fa\" x=\"56.13625\" y=\"192.5141\" style=\"stroke: #000000; stroke-width: 0.5\"/>\n      </g>\n     </g>\n     <g id=\"line2d_27\">\n      <g>\n       <use xlink:href=\"#m692f0b1834\" x=\"481.22425\" y=\"192.5141\" style=\"stroke: #000000; stroke-width: 0.5\"/>\n      </g>\n     </g>\n     <g id=\"text_10\">\n      <!-- 100 -->\n      <g transform=\"translate(27.8025 196.535975) scale(0.144 -0.144)\">\n       <use xlink:href=\"#Roboto-Regular-31\"/>\n       <use xlink:href=\"#Roboto-Regular-30\" x=\"56.298828\"/>\n       <use xlink:href=\"#Roboto-Regular-30\" x=\"112.646484\"/>\n      </g>\n     </g>\n    </g>\n    <g id=\"ytick_4\">\n     <g id=\"line2d_28\">\n      <path d=\"M 56.13625 136.5269 \nL 481.22425 136.5269 \n\" clip-path=\"url(#p97a6cb1e05)\" style=\"fill: none; stroke-dasharray: 1,3; stroke-dashoffset: 0; stroke: #000000; stroke-width: 0.5\"/>\n     </g>\n     <g id=\"line2d_29\">\n      <g>\n       <use xlink:href=\"#m39f8eca8fa\" x=\"56.13625\" y=\"136.5269\" style=\"stroke: #000000; stroke-width: 0.5\"/>\n      </g>\n     </g>\n     <g id=\"line2d_30\">\n      <g>\n       <use xlink:href=\"#m692f0b1834\" x=\"481.22425\" y=\"136.5269\" style=\"stroke: #000000; stroke-width: 0.5\"/>\n      </g>\n     </g>\n     <g id=\"text_11\">\n      <!-- 150 -->\n      <g transform=\"translate(27.80925 140.548775) scale(0.144 -0.144)\">\n       <use xlink:href=\"#Roboto-Regular-31\"/>\n       <use xlink:href=\"#Roboto-Regular-35\" x=\"56.298828\"/>\n       <use xlink:href=\"#Roboto-Regular-30\" x=\"112.597656\"/>\n      </g>\n     </g>\n    </g>\n    <g id=\"ytick_5\">\n     <g id=\"line2d_31\">\n      <path d=\"M 56.13625 80.5397 \nL 481.22425 80.5397 \n\" clip-path=\"url(#p97a6cb1e05)\" style=\"fill: none; stroke-dasharray: 1,3; stroke-dashoffset: 0; stroke: #000000; stroke-width: 0.5\"/>\n     </g>\n     <g id=\"line2d_32\">\n      <g>\n       <use xlink:href=\"#m39f8eca8fa\" x=\"56.13625\" y=\"80.5397\" style=\"stroke: #000000; stroke-width: 0.5\"/>\n      </g>\n     </g>\n     <g id=\"line2d_33\">\n      <g>\n       <use xlink:href=\"#m692f0b1834\" x=\"481.22425\" y=\"80.5397\" style=\"stroke: #000000; stroke-width: 0.5\"/>\n      </g>\n     </g>\n     <g id=\"text_12\">\n      <!-- 200 -->\n      <g transform=\"translate(27.8025 84.561575) scale(0.144 -0.144)\">\n       <use xlink:href=\"#Roboto-Regular-32\"/>\n       <use xlink:href=\"#Roboto-Regular-30\" x=\"56.298828\"/>\n       <use xlink:href=\"#Roboto-Regular-30\" x=\"112.646484\"/>\n      </g>\n     </g>\n    </g>\n    <g id=\"ytick_6\">\n     <g id=\"line2d_34\">\n      <path d=\"M 56.13625 24.5525 \nL 481.22425 24.5525 \n\" clip-path=\"url(#p97a6cb1e05)\" style=\"fill: none; stroke-dasharray: 1,3; stroke-dashoffset: 0; stroke: #000000; stroke-width: 0.5\"/>\n     </g>\n     <g id=\"line2d_35\">\n      <g>\n       <use xlink:href=\"#m39f8eca8fa\" x=\"56.13625\" y=\"24.5525\" style=\"stroke: #000000; stroke-width: 0.5\"/>\n      </g>\n     </g>\n     <g id=\"line2d_36\">\n      <g>\n       <use xlink:href=\"#m692f0b1834\" x=\"481.22425\" y=\"24.5525\" style=\"stroke: #000000; stroke-width: 0.5\"/>\n      </g>\n     </g>\n     <g id=\"text_13\">\n      <!-- 250 -->\n      <g transform=\"translate(27.80925 28.574375) scale(0.144 -0.144)\">\n       <use xlink:href=\"#Roboto-Regular-32\"/>\n       <use xlink:href=\"#Roboto-Regular-35\" x=\"56.298828\"/>\n       <use xlink:href=\"#Roboto-Regular-30\" x=\"112.597656\"/>\n      </g>\n     </g>\n    </g>\n    <g id=\"text_14\">\n     <!-- Number of papers -->\n     <g transform=\"translate(19.5525 229.22425) rotate(-90) scale(0.16 -0.16)\">\n      <defs>\n       <path id=\"Roboto-Regular-4e\" d=\"M 4003 0 \nL 3388 0 \nL 1197 3519 \nL 1178 3513 \nL 1178 0 \nL 563 0 \nL 563 4550 \nL 1178 4550 \nL 3369 1038 \nL 3388 1044 \nL 3388 4550 \nL 4003 4550 \nL 4003 0 \nz\n\" transform=\"scale(0.015625)\"/>\n       <path id=\"Roboto-Regular-75\" d=\"M 2594 500 \nQ 2434 228 2184 81 \nQ 1934 -66 1606 -66 \nQ 1053 -66 743 287 \nQ 434 641 434 1388 \nL 434 3381 \nL 1050 3381 \nL 1050 1381 \nQ 1050 841 1209 637 \nQ 1369 434 1706 434 \nQ 2034 434 2248 567 \nQ 2463 700 2572 944 \nL 2572 3381 \nL 3188 3381 \nL 3188 0 \nL 2634 0 \nL 2594 500 \nz\n\" transform=\"scale(0.015625)\"/>\n       <path id=\"Roboto-Regular-6d\" d=\"M 997 3381 \nL 1041 2938 \nQ 1206 3178 1461 3311 \nQ 1716 3444 2053 3444 \nQ 2391 3444 2633 3287 \nQ 2875 3131 2997 2819 \nQ 3156 3106 3418 3275 \nQ 3681 3444 4031 3444 \nQ 4547 3444 4847 3089 \nQ 5147 2734 5147 2022 \nL 5147 0 \nL 4531 0 \nL 4531 2028 \nQ 4531 2528 4359 2736 \nQ 4188 2944 3847 2944 \nQ 3531 2944 3336 2725 \nQ 3141 2506 3106 2172 \nL 3106 2147 \nL 3106 0 \nL 2488 0 \nL 2488 2028 \nQ 2488 2503 2311 2723 \nQ 2134 2944 1803 2944 \nQ 1522 2944 1340 2828 \nQ 1159 2713 1063 2503 \nL 1063 0 \nL 447 0 \nL 447 3381 \nL 997 3381 \nz\n\" transform=\"scale(0.015625)\"/>\n       <path id=\"Roboto-Regular-62\" d=\"M 3334 1563 \nQ 3334 831 2982 382 \nQ 2631 -66 2016 -66 \nQ 1681 -66 1434 64 \nQ 1188 194 1025 447 \nL 950 0 \nL 447 0 \nL 447 4875 \nL 1063 4875 \nL 1063 2981 \nQ 1222 3206 1458 3325 \nQ 1694 3444 2009 3444 \nQ 2634 3444 2984 2944 \nQ 3334 2444 3334 1628 \nL 3334 1563 \nz\nM 2719 1628 \nQ 2719 2209 2505 2576 \nQ 2291 2944 1853 2944 \nQ 1569 2944 1373 2805 \nQ 1178 2666 1063 2431 \nL 1063 966 \nQ 1181 716 1373 575 \nQ 1566 434 1859 434 \nQ 2294 434 2506 743 \nQ 2719 1053 2719 1563 \nL 2719 1628 \nz\n\" transform=\"scale(0.015625)\"/>\n       <path id=\"Roboto-Regular-20\" transform=\"scale(0.015625)\"/>\n       <path id=\"Roboto-Regular-6f\" d=\"M 303 1722 \nQ 303 2472 709 2958 \nQ 1116 3444 1813 3444 \nQ 2516 3444 2923 2959 \nQ 3331 2475 3331 1722 \nL 3331 1653 \nQ 3331 897 2925 415 \nQ 2519 -66 1819 -66 \nQ 1119 -66 711 417 \nQ 303 900 303 1653 \nL 303 1722 \nz\nM 919 1653 \nQ 919 1116 1145 766 \nQ 1372 416 1819 416 \nQ 2259 416 2487 766 \nQ 2716 1116 2716 1653 \nL 2716 1722 \nQ 2716 2253 2486 2606 \nQ 2256 2959 1813 2959 \nQ 1372 2959 1145 2606 \nQ 919 2253 919 1722 \nL 919 1653 \nz\n\" transform=\"scale(0.015625)\"/>\n       <path id=\"Roboto-Regular-66\" d=\"M 703 0 \nL 703 2925 \nL 175 2925 \nL 175 3381 \nL 703 3381 \nL 703 3809 \nQ 703 4350 986 4645 \nQ 1269 4941 1775 4941 \nQ 1881 4941 1989 4923 \nQ 2097 4906 2228 4875 \nL 2153 4406 \nQ 2097 4419 2017 4428 \nQ 1938 4438 1850 4438 \nQ 1581 4438 1450 4277 \nQ 1319 4116 1319 3809 \nL 1319 3381 \nL 2022 3381 \nL 2022 2925 \nL 1319 2925 \nL 1319 0 \nL 703 0 \nz\n\" transform=\"scale(0.015625)\"/>\n       <path id=\"Roboto-Regular-70\" d=\"M 3328 1563 \nQ 3328 831 2978 382 \nQ 2628 -66 2013 -66 \nQ 1700 -66 1464 39 \nQ 1228 144 1063 353 \nL 1063 -1300 \nL 447 -1300 \nL 447 3381 \nL 919 3381 \nL 1016 2944 \nQ 1181 3188 1428 3316 \nQ 1675 3444 2003 3444 \nQ 2631 3444 2979 2945 \nQ 3328 2447 3328 1628 \nL 3328 1563 \nz\nM 2713 1628 \nQ 2713 2203 2486 2573 \nQ 2259 2944 1819 2944 \nQ 1553 2944 1365 2823 \nQ 1178 2703 1063 2494 \nL 1063 859 \nQ 1178 650 1365 533 \nQ 1553 416 1825 416 \nQ 2263 416 2488 736 \nQ 2713 1056 2713 1563 \nL 2713 1628 \nz\n\" transform=\"scale(0.015625)\"/>\n       <path id=\"Roboto-Regular-73\" d=\"M 2413 897 \nQ 2413 1100 2258 1231 \nQ 2103 1363 1672 1459 \nQ 1056 1594 745 1823 \nQ 434 2053 434 2450 \nQ 434 2863 784 3153 \nQ 1134 3444 1697 3444 \nQ 2288 3444 2636 3141 \nQ 2984 2838 2969 2403 \nL 2963 2384 \nL 2375 2384 \nQ 2375 2606 2189 2782 \nQ 2003 2959 1697 2959 \nQ 1369 2959 1209 2815 \nQ 1050 2672 1050 2469 \nQ 1050 2269 1190 2153 \nQ 1331 2038 1763 1947 \nQ 2403 1809 2715 1573 \nQ 3028 1338 3028 941 \nQ 3028 491 2664 212 \nQ 2300 -66 1713 -66 \nQ 1066 -66 694 262 \nQ 322 591 341 1028 \nL 347 1047 \nL 934 1047 \nQ 950 719 1178 567 \nQ 1406 416 1713 416 \nQ 2041 416 2227 548 \nQ 2413 681 2413 897 \nz\n\" transform=\"scale(0.015625)\"/>\n      </defs>\n      <use xlink:href=\"#Roboto-Regular-4e\"/>\n      <use xlink:href=\"#Roboto-Regular-75\" x=\"71.337891\"/>\n      <use xlink:href=\"#Roboto-Regular-6d\" x=\"128.173828\"/>\n      <use xlink:href=\"#Roboto-Regular-62\" x=\"215.576172\"/>\n      <use xlink:href=\"#Roboto-Regular-65\" x=\"272.412109\"/>\n      <use xlink:href=\"#Roboto-Regular-72\" x=\"325.292969\"/>\n      <use xlink:href=\"#Roboto-Regular-20\" x=\"359.570312\"/>\n      <use xlink:href=\"#Roboto-Regular-6f\" x=\"384.423828\"/>\n      <use xlink:href=\"#Roboto-Regular-66\" x=\"441.259766\"/>\n      <use xlink:href=\"#Roboto-Regular-20\" x=\"475.78125\"/>\n      <use xlink:href=\"#Roboto-Regular-70\" x=\"500.634766\"/>\n      <use xlink:href=\"#Roboto-Regular-61\" x=\"557.470703\"/>\n      <use xlink:href=\"#Roboto-Regular-70\" x=\"612.451172\"/>\n      <use xlink:href=\"#Roboto-Regular-65\" x=\"669.287109\"/>\n      <use xlink:href=\"#Roboto-Regular-72\" x=\"722.167969\"/>\n      <use xlink:href=\"#Roboto-Regular-73\" x=\"756.445312\"/>\n     </g>\n    </g>\n   </g>\n   <g id=\"line2d_37\">\n    <path d=\"M 56.13625 151.083572 \nL 141.15385 87.258164 \nL 226.17145 118.610996 \nL 311.18905 43.588148 \nL 396.20665 51.426356 \nL 481.22425 134.287412 \nL 505.641125 183.168805 \n\" clip-path=\"url(#p97a6cb1e05)\" style=\"fill: none; stroke: #3679e0; stroke-width: 2; stroke-linecap: square\"/>\n    <defs>\n     <path id=\"me03d80b1f4\" d=\"M 0 3.5 \nC 0.928211 3.5 1.81853 3.131218 2.474874 2.474874 \nC 3.131218 1.81853 3.5 0.928211 3.5 0 \nC 3.5 -0.928211 3.131218 -1.81853 2.474874 -2.474874 \nC 1.81853 -3.131218 0.928211 -3.5 0 -3.5 \nC -0.928211 -3.5 -1.81853 -3.131218 -2.474874 -2.474874 \nC -3.131218 -1.81853 -3.5 -0.928211 -3.5 0 \nC -3.5 0.928211 -3.131218 1.81853 -2.474874 2.474874 \nC -1.81853 3.131218 -0.928211 3.5 0 3.5 \nz\n\" style=\"stroke: #3679e0; stroke-width: 2\"/>\n    </defs>\n    <g clip-path=\"url(#p97a6cb1e05)\">\n     <use xlink:href=\"#me03d80b1f4\" x=\"56.13625\" y=\"151.083572\" style=\"fill: #ffffff; stroke: #3679e0; stroke-width: 2\"/>\n     <use xlink:href=\"#me03d80b1f4\" x=\"141.15385\" y=\"87.258164\" style=\"fill: #ffffff; stroke: #3679e0; stroke-width: 2\"/>\n     <use xlink:href=\"#me03d80b1f4\" x=\"226.17145\" y=\"118.610996\" style=\"fill: #ffffff; stroke: #3679e0; stroke-width: 2\"/>\n     <use xlink:href=\"#me03d80b1f4\" x=\"311.18905\" y=\"43.588148\" style=\"fill: #ffffff; stroke: #3679e0; stroke-width: 2\"/>\n     <use xlink:href=\"#me03d80b1f4\" x=\"396.20665\" y=\"51.426356\" style=\"fill: #ffffff; stroke: #3679e0; stroke-width: 2\"/>\n     <use xlink:href=\"#me03d80b1f4\" x=\"481.22425\" y=\"134.287412\" style=\"fill: #ffffff; stroke: #3679e0; stroke-width: 2\"/>\n     <use xlink:href=\"#me03d80b1f4\" x=\"566.24185\" y=\"304.4885\" style=\"fill: #ffffff; stroke: #3679e0; stroke-width: 2\"/>\n    </g>\n   </g>\n   <g id=\"patch_3\">\n    <path d=\"M 56.13625 304.4885 \nL 56.13625 24.5525 \n\" style=\"fill: none; stroke: #000000; stroke-linejoin: miter; stroke-linecap: square\"/>\n   </g>\n   <g id=\"patch_4\">\n    <path d=\"M 481.22425 304.4885 \nL 481.22425 24.5525 \n\" style=\"fill: none; stroke: #000000; stroke-linejoin: miter; stroke-linecap: square\"/>\n   </g>\n   <g id=\"patch_5\">\n    <path d=\"M 56.13625 304.4885 \nL 481.22425 304.4885 \n\" style=\"fill: none; stroke: #000000; stroke-linejoin: miter; stroke-linecap: square\"/>\n   </g>\n   <g id=\"patch_6\">\n    <path d=\"M 56.13625 24.5525 \nL 481.22425 24.5525 \n\" style=\"fill: none; stroke: #000000; stroke-linejoin: miter; stroke-linecap: square\"/>\n   </g>\n   <g id=\"text_15\">\n    <!-- Last 5 years of publications worldwide -->\n    <g transform=\"translate(130.53775 19.5525) scale(0.16 -0.16)\">\n     <defs>\n      <path id=\"Roboto-Regular-4c\" d=\"M 1178 481 \nL 3331 481 \nL 3331 0 \nL 563 0 \nL 563 4550 \nL 1178 4550 \nL 1178 481 \nz\n\" transform=\"scale(0.015625)\"/>\n      <path id=\"Roboto-Regular-74\" d=\"M 1259 4197 \nL 1259 3381 \nL 1900 3381 \nL 1900 2925 \nL 1259 2925 \nL 1259 872 \nQ 1259 634 1357 537 \nQ 1456 441 1619 441 \nQ 1672 441 1736 453 \nQ 1800 466 1850 484 \nL 1931 63 \nQ 1863 6 1730 -30 \nQ 1597 -66 1463 -66 \nQ 1088 -66 866 161 \nQ 644 388 644 872 \nL 644 2925 \nL 106 2925 \nL 106 3381 \nL 644 3381 \nL 644 4197 \nL 1259 4197 \nz\n\" transform=\"scale(0.015625)\"/>\n      <path id=\"Roboto-Regular-79\" d=\"M 1481 1253 \nL 1591 828 \nL 1609 828 \nL 2441 3381 \nL 3125 3381 \nL 1703 -519 \nQ 1575 -859 1336 -1112 \nQ 1097 -1366 691 -1366 \nQ 616 -1366 500 -1348 \nQ 384 -1331 322 -1316 \nL 384 -831 \nQ 366 -828 495 -837 \nQ 625 -847 659 -847 \nQ 856 -847 981 -672 \nQ 1106 -497 1191 -284 \nL 1338 69 \nL 81 3381 \nL 769 3381 \nL 1481 1253 \nz\n\" transform=\"scale(0.015625)\"/>\n      <path id=\"Roboto-Regular-6c\" d=\"M 1113 0 \nL 497 0 \nL 497 4875 \nL 1113 4875 \nL 1113 0 \nz\n\" transform=\"scale(0.015625)\"/>\n      <path id=\"Roboto-Regular-69\" d=\"M 1113 0 \nL 497 0 \nL 497 3381 \nL 1113 3381 \nL 1113 0 \nz\nM 1113 4247 \nL 497 4247 \nL 497 4875 \nL 1113 4875 \nL 1113 4247 \nz\n\" transform=\"scale(0.015625)\"/>\n      <path id=\"Roboto-Regular-63\" d=\"M 1822 416 \nQ 2128 416 2361 605 \nQ 2594 794 2594 1069 \nL 3147 1069 \nL 3153 1050 \nQ 3169 613 2764 273 \nQ 2359 -66 1822 -66 \nQ 1084 -66 693 415 \nQ 303 897 303 1625 \nL 303 1756 \nQ 303 2478 695 2961 \nQ 1088 3444 1822 3444 \nQ 2416 3444 2792 3094 \nQ 3169 2744 3156 2234 \nL 3150 2216 \nL 2594 2216 \nQ 2594 2525 2375 2742 \nQ 2156 2959 1822 2959 \nQ 1338 2959 1130 2611 \nQ 922 2263 922 1756 \nL 922 1625 \nQ 922 1106 1128 761 \nQ 1334 416 1822 416 \nz\n\" transform=\"scale(0.015625)\"/>\n      <path id=\"Roboto-Regular-6e\" d=\"M 997 3381 \nL 1041 2878 \nQ 1209 3147 1464 3295 \nQ 1719 3444 2044 3444 \nQ 2591 3444 2891 3123 \nQ 3191 2803 3191 2134 \nL 3191 0 \nL 2575 0 \nL 2575 2122 \nQ 2575 2569 2398 2756 \nQ 2222 2944 1859 2944 \nQ 1594 2944 1389 2816 \nQ 1184 2688 1063 2466 \nL 1063 0 \nL 447 0 \nL 447 3381 \nL 997 3381 \nz\n\" transform=\"scale(0.015625)\"/>\n      <path id=\"Roboto-Regular-77\" d=\"M 1313 1231 \nL 1384 822 \nL 1403 822 \nL 1491 1231 \nL 2166 3381 \nL 2659 3381 \nL 3338 1231 \nL 3434 775 \nL 3453 775 \nL 3544 1231 \nL 4075 3381 \nL 4688 3381 \nL 3706 0 \nL 3209 0 \nL 2556 2059 \nL 2416 2634 \nL 2397 2631 \nL 2263 2059 \nL 1619 0 \nL 1122 0 \nL 141 3381 \nL 753 3381 \nL 1313 1231 \nz\n\" transform=\"scale(0.015625)\"/>\n      <path id=\"Roboto-Regular-64\" d=\"M 306 1628 \nQ 306 2444 654 2944 \nQ 1003 3444 1631 3444 \nQ 1928 3444 2158 3334 \nQ 2388 3225 2550 3016 \nL 2550 4875 \nL 3166 4875 \nL 3166 0 \nL 2663 0 \nL 2591 416 \nQ 2425 178 2184 56 \nQ 1944 -66 1625 -66 \nQ 1006 -66 656 382 \nQ 306 831 306 1563 \nL 306 1628 \nz\nM 922 1563 \nQ 922 1050 1131 742 \nQ 1341 434 1781 434 \nQ 2056 434 2243 559 \nQ 2431 684 2550 909 \nL 2550 2488 \nQ 2431 2697 2242 2820 \nQ 2053 2944 1788 2944 \nQ 1344 2944 1133 2578 \nQ 922 2213 922 1628 \nL 922 1563 \nz\n\" transform=\"scale(0.015625)\"/>\n     </defs>\n     <use xlink:href=\"#Roboto-Regular-4c\"/>\n     <use xlink:href=\"#Roboto-Regular-61\" x=\"54.003906\"/>\n     <use xlink:href=\"#Roboto-Regular-73\" x=\"108.984375\"/>\n     <use xlink:href=\"#Roboto-Regular-74\" x=\"161.279297\"/>\n     <use xlink:href=\"#Roboto-Regular-20\" x=\"195.849609\"/>\n     <use xlink:href=\"#Roboto-Regular-35\" x=\"220.703125\"/>\n     <use xlink:href=\"#Roboto-Regular-20\" x=\"277.001953\"/>\n     <use xlink:href=\"#Roboto-Regular-79\" x=\"301.855469\"/>\n     <use xlink:href=\"#Roboto-Regular-65\" x=\"352.148438\"/>\n     <use xlink:href=\"#Roboto-Regular-61\" x=\"405.029297\"/>\n     <use xlink:href=\"#Roboto-Regular-72\" x=\"460.009766\"/>\n     <use xlink:href=\"#Roboto-Regular-73\" x=\"494.287109\"/>\n     <use xlink:href=\"#Roboto-Regular-20\" x=\"546.582031\"/>\n     <use xlink:href=\"#Roboto-Regular-6f\" x=\"571.435547\"/>\n     <use xlink:href=\"#Roboto-Regular-66\" x=\"628.271484\"/>\n     <use xlink:href=\"#Roboto-Regular-20\" x=\"662.792969\"/>\n     <use xlink:href=\"#Roboto-Regular-70\" x=\"687.646484\"/>\n     <use xlink:href=\"#Roboto-Regular-75\" x=\"744.482422\"/>\n     <use xlink:href=\"#Roboto-Regular-62\" x=\"801.318359\"/>\n     <use xlink:href=\"#Roboto-Regular-6c\" x=\"858.154297\"/>\n     <use xlink:href=\"#Roboto-Regular-69\" x=\"883.349609\"/>\n     <use xlink:href=\"#Roboto-Regular-63\" x=\"908.544922\"/>\n     <use xlink:href=\"#Roboto-Regular-61\" x=\"961.621094\"/>\n     <use xlink:href=\"#Roboto-Regular-74\" x=\"1016.601562\"/>\n     <use xlink:href=\"#Roboto-Regular-69\" x=\"1051.171875\"/>\n     <use xlink:href=\"#Roboto-Regular-6f\" x=\"1076.367188\"/>\n     <use xlink:href=\"#Roboto-Regular-6e\" x=\"1133.203125\"/>\n     <use xlink:href=\"#Roboto-Regular-73\" x=\"1190.039062\"/>\n     <use xlink:href=\"#Roboto-Regular-20\" x=\"1242.333984\"/>\n     <use xlink:href=\"#Roboto-Regular-77\" x=\"1267.1875\"/>\n     <use xlink:href=\"#Roboto-Regular-6f\" x=\"1342.871094\"/>\n     <use xlink:href=\"#Roboto-Regular-72\" x=\"1399.707031\"/>\n     <use xlink:href=\"#Roboto-Regular-6c\" x=\"1433.984375\"/>\n     <use xlink:href=\"#Roboto-Regular-64\" x=\"1459.179688\"/>\n     <use xlink:href=\"#Roboto-Regular-77\" x=\"1516.015625\"/>\n     <use xlink:href=\"#Roboto-Regular-69\" x=\"1591.699219\"/>\n     <use xlink:href=\"#Roboto-Regular-64\" x=\"1616.894531\"/>\n     <use xlink:href=\"#Roboto-Regular-65\" x=\"1673.730469\"/>\n    </g>\n   </g>\n  </g>\n </g>\n <defs>\n  <clipPath id=\"p97a6cb1e05\">\n   <rect x=\"56.13625\" y=\"24.5525\" width=\"425.088\" height=\"279.936\"/>\n  </clipPath>\n </defs>\n</svg>\n"
          },
          "metadata": {}
        }
      ]
    },
    {
      "cell_type": "code",
      "source": [],
      "metadata": {
        "id": "-jI7dbaRmlQi"
      },
      "execution_count": null,
      "outputs": []
    }
  ]
}