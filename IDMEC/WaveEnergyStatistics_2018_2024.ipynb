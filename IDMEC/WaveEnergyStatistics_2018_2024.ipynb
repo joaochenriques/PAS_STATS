{
  "nbformat": 4,
  "nbformat_minor": 0,
  "metadata": {
    "colab": {
      "provenance": [],
      "include_colab_link": true
    },
    "kernelspec": {
      "name": "python3",
      "display_name": "Python 3"
    },
    "language_info": {
      "name": "python"
    }
  },
  "cells": [
    {
      "cell_type": "markdown",
      "metadata": {
        "id": "view-in-github",
        "colab_type": "text"
      },
      "source": [
        "<a href=\"https://colab.research.google.com/github/joaochenriques/WaveEnergyStatistics/blob/main/IDMEC/WaveEnergyStatistics_2018_2024.ipynb\" target=\"_parent\"><img src=\"https://colab.research.google.com/assets/colab-badge.svg\" alt=\"Open In Colab\"/></a>"
      ]
    },
    {
      "cell_type": "markdown",
      "source": [
        "# Wave energy statistics from 2019 to 2024"
      ],
      "metadata": {
        "id": "-kiE3jAe8qSr"
      }
    },
    {
      "cell_type": "code",
      "execution_count": 9,
      "metadata": {
        "id": "5UYVFDSKmZ4z"
      },
      "outputs": [],
      "source": [
        "import pandas as pd\n",
        "import numpy as np\n",
        "import matplotlib\n",
        "import matplotlib.pyplot as mpl\n",
        "import sys, pathlib\n",
        "import itertools\n",
        "from scipy import optimize\n",
        "from sortedcontainers import SortedDict, SortedSet\n",
        "from collections import OrderedDict\n",
        "\n",
        "from matplotlib.ticker import (MultipleLocator, FormatStrFormatter,AutoMinorLocator)\n",
        "\n",
        "import pathlib, subprocess\n",
        "\n",
        "def cmdcall( cmd ):\n",
        "    output = subprocess.getoutput( cmd )\n",
        "    print(output)\n",
        "\n",
        "if not pathlib.Path(\"mpl_utils.py\").exists():\n",
        "  cmdcall( 'curl -O https://raw.githubusercontent.com/joaochenriques/ipynb_libs/main/mpl_utils.py' )\n",
        "\n",
        "import mpl_utils as mut\n",
        "mut.config_plots()\n",
        "\n",
        "markers = ( 'o', '^', 's', 'v', 'H', 'X', 'P' )\n",
        "\n",
        "from matplotlib_inline.backend_inline import set_matplotlib_formats\n",
        "set_matplotlib_formats('svg')"
      ]
    },
    {
      "cell_type": "code",
      "source": [
        "cmdcall( 'wget https://github.com/MaxGhenis/random/raw/master/Roboto-Regular.ttf' )\n",
        "matplotlib.font_manager.fontManager.addfont('Roboto-Regular.ttf')\n",
        "# import matplotlib.font_manager\n",
        "# for f in matplotlib.font_manager.fontManager.ttflist:\n",
        "#     print(f.name)"
      ],
      "metadata": {
        "id": "BhkYia6GLahx",
        "outputId": "91d2e9e6-985e-4479-cdc6-d68d38effa8e",
        "colab": {
          "base_uri": "https://localhost:8080/"
        }
      },
      "execution_count": 10,
      "outputs": [
        {
          "output_type": "stream",
          "name": "stdout",
          "text": [
            "--2024-06-10 14:20:53--  https://github.com/MaxGhenis/random/raw/master/Roboto-Regular.ttf\n",
            "Resolving github.com (github.com)... 140.82.114.3\n",
            "Connecting to github.com (github.com)|140.82.114.3|:443... connected.\n",
            "HTTP request sent, awaiting response... 302 Found\n",
            "Location: https://raw.githubusercontent.com/MaxGhenis/random/master/Roboto-Regular.ttf [following]\n",
            "--2024-06-10 14:20:53--  https://raw.githubusercontent.com/MaxGhenis/random/master/Roboto-Regular.ttf\n",
            "Resolving raw.githubusercontent.com (raw.githubusercontent.com)... 185.199.108.133, 185.199.109.133, 185.199.110.133, ...\n",
            "Connecting to raw.githubusercontent.com (raw.githubusercontent.com)|185.199.108.133|:443... connected.\n",
            "HTTP request sent, awaiting response... 200 OK\n",
            "Length: 145348 (142K) [application/octet-stream]\n",
            "Saving to: ‘Roboto-Regular.ttf.1’\n",
            "\n",
            "     0K .......... .......... .......... .......... .......... 35% 4.13M 0s\n",
            "    50K .......... .......... .......... .......... .......... 70% 3.74M 0s\n",
            "   100K .......... .......... .......... .......... .         100% 6.13M=0.03s\n",
            "\n",
            "2024-06-10 14:20:53 (4.39 MB/s) - ‘Roboto-Regular.ttf.1’ saved [145348/145348]\n",
            "\n"
          ]
        }
      ]
    },
    {
      "cell_type": "code",
      "source": [
        "cmdcall( 'pip install pylatex' )\n",
        "from pylatex import LongTable, Tabular, MultiColumn, MultiRow, TextColor\n",
        "from pylatex.utils import bold"
      ],
      "metadata": {
        "id": "P7v1R0kr7ogk",
        "outputId": "376b0ecf-981a-4070-aec0-9920a4e75c8a",
        "colab": {
          "base_uri": "https://localhost:8080/"
        }
      },
      "execution_count": 11,
      "outputs": [
        {
          "output_type": "stream",
          "name": "stdout",
          "text": [
            "Requirement already satisfied: pylatex in /usr/local/lib/python3.10/dist-packages (1.4.2)\n",
            "Requirement already satisfied: ordered-set in /usr/local/lib/python3.10/dist-packages (from pylatex) (4.1.0)\n"
          ]
        }
      ]
    },
    {
      "cell_type": "code",
      "source": [
        "cmdcall( 'pip install font-roboto' )"
      ],
      "metadata": {
        "id": "bsr-WcMCC1CR",
        "outputId": "193a5bf0-dc85-4ba4-9618-d982d8c84823",
        "colab": {
          "base_uri": "https://localhost:8080/"
        }
      },
      "execution_count": 12,
      "outputs": [
        {
          "output_type": "stream",
          "name": "stdout",
          "text": [
            "Requirement already satisfied: font-roboto in /usr/local/lib/python3.10/dist-packages (0.0.1)\n"
          ]
        }
      ]
    },
    {
      "cell_type": "code",
      "source": [
        "cmdcall( 'pip install unidecode' )\n",
        "from unidecode import unidecode"
      ],
      "metadata": {
        "colab": {
          "base_uri": "https://localhost:8080/"
        },
        "id": "MO8671tdxGps",
        "outputId": "a26d91a1-fa9e-41fb-b362-2d1d491839b8"
      },
      "execution_count": 13,
      "outputs": [
        {
          "output_type": "stream",
          "name": "stdout",
          "text": [
            "Requirement already satisfied: unidecode in /usr/local/lib/python3.10/dist-packages (1.3.8)\n"
          ]
        }
      ]
    },
    {
      "cell_type": "code",
      "source": [
        "cmdcall( 'pip install dataclassy' )\n",
        "from dataclassy import dataclass"
      ],
      "metadata": {
        "id": "-RikPqO55cJE",
        "outputId": "7948e1e7-081b-4555-9ae1-d8747fb879c3",
        "colab": {
          "base_uri": "https://localhost:8080/"
        }
      },
      "execution_count": 14,
      "outputs": [
        {
          "output_type": "stream",
          "name": "stdout",
          "text": [
            "Requirement already satisfied: dataclassy in /usr/local/lib/python3.10/dist-packages (1.0.1)\n"
          ]
        }
      ]
    },
    {
      "cell_type": "code",
      "source": [
        "SCOPUS_query = \\\n",
        "'''\n",
        "PUBYEAR > 2017 AND DOCTYPE ( ar OR re ) AND (\n",
        "    LIMIT-TO ( PREFNAMEAUID , \"Henriques, J.C.C.#36173947400\" ) OR\n",
        "    LIMIT-TO ( PREFNAMEAUID , \"Gato, L.M.C.#7004360885\" ) OR\n",
        "    LIMIT-TO ( PREFNAMEAUID , \"Gomes, R.P.F.#26030969000\" ) )\n",
        "'''"
      ],
      "metadata": {
        "id": "YinJRKsAjgz8"
      },
      "execution_count": null,
      "outputs": []
    },
    {
      "cell_type": "code",
      "source": [
        "filename = 'scimagojr_2023.csv'\n",
        "\n",
        "if not pathlib.Path( f\"{filename}\").exists():\n",
        "   cmdcall( f'curl -O https://raw.githubusercontent.com/joaochenriques/PAS_STATS/main/{filename}' )\n",
        "\n",
        "df_Q = pd.read_csv( filename, sep=\";\" )\n",
        "\n",
        "df_Q.keys()"
      ],
      "metadata": {
        "colab": {
          "base_uri": "https://localhost:8080/"
        },
        "id": "MNIJkD9YS4_l",
        "outputId": "32cf5a5d-1ad1-4250-8e1c-d6c3bf98bd6d"
      },
      "execution_count": 15,
      "outputs": [
        {
          "output_type": "stream",
          "name": "stdout",
          "text": [
            "  % Total    % Received % Xferd  Average Speed   Time    Time     Time  Current\n",
            "                                 Dload  Upload   Total   Spent    Left  Speed\n",
            "\n",
            "  0     0    0     0    0     0      0      0 --:--:-- --:--:-- --:--:--     0\n",
            "  0 8867k    0  7970    0     0  13341      0  0:11:20 --:--:--  0:11:20 13327\n",
            "100 8867k  100 8867k    0     0  12.1M      0 --:--:-- --:--:-- --:--:-- 12.1M\n"
          ]
        },
        {
          "output_type": "execute_result",
          "data": {
            "text/plain": [
              "Index(['Rank', 'Sourceid', 'Title', 'Type', 'Issn', 'SJR', 'SJR Best Quartile',\n",
              "       'H index', 'Total Docs. (2023)', 'Total Docs. (3years)', 'Total Refs.',\n",
              "       'Total Cites (3years)', 'Citable Docs. (3years)',\n",
              "       'Cites / Doc. (2years)', 'Ref. / Doc.', '%Female', 'Overton', 'SDG',\n",
              "       'Country', 'Region', 'Publisher', 'Coverage', 'Categories', 'Areas'],\n",
              "      dtype='object')"
            ]
          },
          "metadata": {},
          "execution_count": 15
        }
      ]
    },
    {
      "cell_type": "code",
      "source": [
        "filename = 'scopus_IDMEC_2018_2023.csv'\n",
        "\n",
        "if not pathlib.Path( f\"{filename}\").exists():\n",
        "    cmdcall( f'curl -O https://raw.githubusercontent.com/joaochenriques/PAS_STATS/main/IDMEC/{filename}' )\n",
        "\n",
        "df = pd.read_csv( filename )\n",
        "\n",
        "df.keys()"
      ],
      "metadata": {
        "id": "nB9IJvu6mlv-",
        "outputId": "ff883deb-2fa1-44a8-e400-e3ac24eeccfa",
        "colab": {
          "base_uri": "https://localhost:8080/"
        }
      },
      "execution_count": 102,
      "outputs": [
        {
          "output_type": "stream",
          "name": "stdout",
          "text": [
            "  % Total    % Received % Xferd  Average Speed   Time    Time     Time  Current\n",
            "                                 Dload  Upload   Total   Spent    Left  Speed\n",
            "\n",
            "  0     0    0     0    0     0      0      0 --:--:-- --:--:-- --:--:--     0\n",
            "100 84486  100 84486    0     0   309k      0 --:--:-- --:--:-- --:--:--  310k\n"
          ]
        },
        {
          "output_type": "execute_result",
          "data": {
            "text/plain": [
              "Index(['Authors', 'Author full names', 'Author(s) ID', 'Title', 'Year',\n",
              "       'Source title', 'Volume', 'Issue', 'Art. No.', 'Page start', 'Page end',\n",
              "       'Page count', 'Cited by', 'DOI', 'Link', 'Affiliations',\n",
              "       'Authors with affiliations', 'Correspondence Address', 'PubMed ID',\n",
              "       'Document Type', 'Publication Stage', 'Open Access', 'Source', 'EID'],\n",
              "      dtype='object')"
            ]
          },
          "metadata": {},
          "execution_count": 102
        }
      ]
    },
    {
      "cell_type": "code",
      "source": [
        "DB_journals_lwr = SortedDict()\n",
        "\n",
        "for journal in df['Source title']:\n",
        "    DB_journals_lwr[ journal.lower() ] = 0\n",
        "\n",
        "for journal in DB_journals_lwr:\n",
        "    print( journal )"
      ],
      "metadata": {
        "id": "SdZra02ekJkx",
        "outputId": "029ca48e-512f-456d-b6e2-5eec3acf6625",
        "colab": {
          "base_uri": "https://localhost:8080/"
        }
      },
      "execution_count": 103,
      "outputs": [
        {
          "output_type": "stream",
          "name": "stdout",
          "text": [
            "applied energy\n",
            "applied ocean research\n",
            "energy\n",
            "energy conversion and management\n",
            "energy conversion and management: x\n",
            "ieee transactions on energy conversion\n",
            "ieee transactions on sustainable energy\n",
            "iet renewable power generation\n",
            "international marine energy journal\n",
            "journal of marine science and engineering\n",
            "journal of ocean engineering and marine energy\n",
            "nonlinear dynamics\n",
            "ocean engineering\n",
            "renewable and sustainable energy reviews\n",
            "renewable energy\n"
          ]
        }
      ]
    },
    {
      "cell_type": "code",
      "source": [
        "@dataclass\n",
        "class Jdata:\n",
        "    Title: str\n",
        "    Quartil: str\n",
        "    num: int\n",
        "\n",
        "Journal_data = SortedDict()\n",
        "Pubs_Quartil = SortedDict( {'Q1':0, 'Q2':0, 'Q3':0 })\n",
        "\n",
        "for n, ( _journal, Qn ) in enumerate( zip( df_Q['Title'], df_Q['SJR Best Quartile'] ) ):\n",
        "    Q_journal = _journal.lower()\n",
        "    for DB_journal in DB_journals_lwr:\n",
        "        if Q_journal.lower() == DB_journal:\n",
        "            Journal_data[ Q_journal ] = Jdata( _journal, Qn, 0 )\n",
        "\n",
        "for journal in df['Source title']:\n",
        "    Journal_data[ journal.lower() ].num += 1\n",
        "\n",
        "for journal in Journal_data.values():\n",
        "    print( f'{journal.Quartil} | {journal.num:2d} -> {journal.Title}' )\n",
        "    Pubs_Quartil[journal.Quartil] += journal.num\n",
        "\n",
        "Pubs_Quartil"
      ],
      "metadata": {
        "id": "HrkYRwOfjr1I",
        "outputId": "918ecd84-e3d1-481a-9da9-57e024640a66",
        "colab": {
          "base_uri": "https://localhost:8080/"
        }
      },
      "execution_count": 104,
      "outputs": [
        {
          "output_type": "stream",
          "name": "stdout",
          "text": [
            "Q1 |  5 -> Applied Energy\n",
            "Q1 |  2 -> Applied Ocean Research\n",
            "Q1 | 10 -> Energy\n",
            "Q1 |  5 -> Energy Conversion and Management\n",
            "Q1 |  2 -> Energy Conversion and Management: X\n",
            "Q1 |  1 -> IEEE Transactions on Energy Conversion\n",
            "Q1 |  1 -> IEEE Transactions on Sustainable Energy\n",
            "Q2 |  2 -> IET Renewable Power Generation\n",
            "Q3 |  1 -> International Marine Energy Journal\n",
            "Q2 |  1 -> Journal of Marine Science and Engineering\n",
            "Q2 |  1 -> Journal of Ocean Engineering and Marine Energy\n",
            "Q1 |  1 -> Nonlinear Dynamics\n",
            "Q1 |  2 -> Ocean Engineering\n",
            "Q1 |  8 -> Renewable and Sustainable Energy Reviews\n",
            "Q1 | 11 -> Renewable Energy\n"
          ]
        },
        {
          "output_type": "execute_result",
          "data": {
            "text/plain": [
              "SortedDict({'Q1': 48, 'Q2': 4, 'Q3': 1})"
            ]
          },
          "metadata": {},
          "execution_count": 104
        }
      ]
    },
    {
      "cell_type": "code",
      "source": [
        "@dataclass\n",
        "class data_IDMEC:\n",
        "    num_papers: int = 0\n",
        "    citations: OrderedDict = OrderedDict( { y:0 for y in range(2018, 2024 ) } )\n",
        "    year: OrderedDict = OrderedDict( { y:0 for y in range(2018, 2024 ) } )\n",
        "\n",
        "data_summary = data_IDMEC()\n",
        "\n",
        "for year, citations in zip( df['Year'], df['Cited by'] ):\n",
        "    if year == 2024: continue\n",
        "    data_summary.year[year] += 1\n",
        "    data_summary.citations[year] += int(citations)\n",
        "\n",
        "sum( data_summary.year.values() )"
      ],
      "metadata": {
        "id": "c98Yyl9e0DjC",
        "outputId": "48614b4b-d7c3-415c-f851-afd00e940b3f",
        "colab": {
          "base_uri": "https://localhost:8080/"
        }
      },
      "execution_count": 115,
      "outputs": [
        {
          "output_type": "execute_result",
          "data": {
            "text/plain": [
              "50"
            ]
          },
          "metadata": {},
          "execution_count": 115
        }
      ]
    },
    {
      "cell_type": "code",
      "source": [
        "mpl.rc('font', family='Roboto')\n",
        "\n",
        "year_dic =  OrderedDict(sorted(data_summary.year.items()))\n",
        "media = sum( data_summary.year.values() ) / 5\n",
        "\n",
        "mpl.figure( 1, figsize=(1.2*6,1.2*4) )\n",
        "mpl.plot( year_dic.keys(), year_dic.values(), 'o-',\n",
        "         linewidth=2, color='#3679e0',\n",
        "         markersize=7, markerfacecolor='w', markeredgewidth=2,\n",
        "         markeredgecolor='#3679e0', label='Número de artigos' )\n",
        "mpl.hlines( media, 2018, 2023, color='r', label=f\"média = {media:.1f}\" )\n",
        "mpl.grid()\n",
        "mpl.xlabel( 'Ano' )\n",
        "# mpl.ylabel( 'Número of papers' )\n",
        "mpl.title( \"Publicações nos últimos 5 anos\" )\n",
        "mpl.gca().set_axisbelow(True)\n",
        "mpl.xlim( (2018-0.2, 2023+.2) )\n",
        "mpl.ylim( (0, 14) )\n",
        "mpl.legend(loc='lower right')\n",
        "mpl.gca().set_xticks( range( 2018, 2023+1, 1 ) );\n",
        "mpl.savefig( 'IDMEC_PubsLast5Years.svg', bbox_inches='tight', pad_inches=0.02 )"
      ],
      "metadata": {
        "colab": {
          "base_uri": "https://localhost:8080/",
          "height": 487
        },
        "id": "rSMOGeYsBZks",
        "outputId": "abb28768-e5cb-4035-94f2-cd19885a80ec"
      },
      "execution_count": 131,
      "outputs": [
        {
          "output_type": "display_data",
          "data": {
            "text/plain": [
              "<Figure size 576x384 with 1 Axes>"
            ],
            "image/svg+xml": "<?xml version=\"1.0\" encoding=\"utf-8\" standalone=\"no\"?>\n<!DOCTYPE svg PUBLIC \"-//W3C//DTD SVG 1.1//EN\"\n  \"http://www.w3.org/Graphics/SVG/1.1/DTD/svg11.dtd\">\n<svg xmlns:xlink=\"http://www.w3.org/1999/xlink\" width=\"460.181125pt\" height=\"349.88475pt\" viewBox=\"0 0 460.181125 349.88475\" xmlns=\"http://www.w3.org/2000/svg\" version=\"1.1\">\n <metadata>\n  <rdf:RDF xmlns:dc=\"http://purl.org/dc/elements/1.1/\" xmlns:cc=\"http://creativecommons.org/ns#\" xmlns:rdf=\"http://www.w3.org/1999/02/22-rdf-syntax-ns#\">\n   <cc:Work>\n    <dc:type rdf:resource=\"http://purl.org/dc/dcmitype/StillImage\"/>\n    <dc:date>2024-06-10T15:36:13.078561</dc:date>\n    <dc:format>image/svg+xml</dc:format>\n    <dc:creator>\n     <cc:Agent>\n      <dc:title>Matplotlib v3.7.1, https://matplotlib.org/</dc:title>\n     </cc:Agent>\n    </dc:creator>\n   </cc:Work>\n  </rdf:RDF>\n </metadata>\n <defs>\n  <style type=\"text/css\">*{stroke-linejoin: round; stroke-linecap: butt}</style>\n </defs>\n <g id=\"figure_1\">\n  <g id=\"patch_1\">\n   <path d=\"M 0 349.88475 \nL 460.181125 349.88475 \nL 460.181125 0 \nL 0 0 \nz\n\" style=\"fill: #ffffff\"/>\n  </g>\n  <g id=\"axes_1\">\n   <g id=\"patch_2\">\n    <path d=\"M 27.42025 304.3535 \nL 452.50825 304.3535 \nL 452.50825 24.4175 \nL 27.42025 24.4175 \nz\n\" style=\"fill: #ffffff\"/>\n   </g>\n   <g id=\"matplotlib.axis_1\">\n    <g id=\"xtick_1\">\n     <g id=\"line2d_1\">\n      <path d=\"M 43.16425 304.3535 \nL 43.16425 24.4175 \n\" clip-path=\"url(#p64babb9fa8)\" style=\"fill: none; stroke-dasharray: 1,3; stroke-dashoffset: 0; stroke: #000000; stroke-width: 0.5\"/>\n     </g>\n     <g id=\"line2d_2\">\n      <defs>\n       <path id=\"mf4efc4e830\" d=\"M 0 0 \nL 0 -4 \n\" style=\"stroke: #000000; stroke-width: 0.5\"/>\n      </defs>\n      <g>\n       <use xlink:href=\"#mf4efc4e830\" x=\"43.16425\" y=\"304.3535\" style=\"stroke: #000000; stroke-width: 0.5\"/>\n      </g>\n     </g>\n     <g id=\"line2d_3\">\n      <defs>\n       <path id=\"m570b83bb0e\" d=\"M 0 0 \nL 0 4 \n\" style=\"stroke: #000000; stroke-width: 0.5\"/>\n      </defs>\n      <g>\n       <use xlink:href=\"#m570b83bb0e\" x=\"43.16425\" y=\"24.4175\" style=\"stroke: #000000; stroke-width: 0.5\"/>\n      </g>\n     </g>\n     <g id=\"text_1\">\n      <!-- 2018 -->\n      <g transform=\"translate(26.947375 319.32225) scale(0.144 -0.144)\">\n       <defs>\n        <path id=\"Roboto-Regular-32\" d=\"M 3319 0 \nL 369 0 \nL 369 422 \nL 1859 2078 \nQ 2259 2525 2401 2787 \nQ 2544 3050 2544 3325 \nQ 2544 3666 2345 3898 \nQ 2147 4131 1819 4131 \nQ 1347 4131 1123 3889 \nQ 900 3647 900 3209 \nL 309 3209 \nL 303 3228 \nQ 288 3816 694 4216 \nQ 1100 4616 1819 4616 \nQ 2431 4616 2795 4258 \nQ 3159 3900 3159 3347 \nQ 3159 2975 2939 2601 \nQ 2719 2228 2322 1800 \nL 1125 497 \nL 1131 481 \nL 3319 481 \nL 3319 0 \nz\n\" transform=\"scale(0.015625)\"/>\n        <path id=\"Roboto-Regular-30\" d=\"M 3250 1734 \nQ 3250 863 2864 398 \nQ 2478 -66 1806 -66 \nQ 1134 -66 743 400 \nQ 353 866 353 1734 \nL 353 2813 \nQ 353 3681 742 4148 \nQ 1131 4616 1800 4616 \nQ 2472 4616 2861 4148 \nQ 3250 3681 3250 2813 \nL 3250 1734 \nz\nM 2634 2944 \nQ 2634 3534 2420 3832 \nQ 2206 4131 1800 4131 \nQ 1394 4131 1181 3832 \nQ 969 3534 969 2944 \nL 969 1609 \nQ 969 1019 1184 717 \nQ 1400 416 1806 416 \nQ 2213 416 2423 716 \nQ 2634 1016 2634 1609 \nL 2634 2944 \nz\n\" transform=\"scale(0.015625)\"/>\n        <path id=\"Roboto-Regular-31\" d=\"M 2128 0 \nL 1513 0 \nL 1513 3950 \nL 581 3938 \nL 581 4381 \nL 2128 4550 \nL 2128 0 \nz\n\" transform=\"scale(0.015625)\"/>\n        <path id=\"Roboto-Regular-38\" d=\"M 3156 3363 \nQ 3156 3006 2956 2739 \nQ 2756 2472 2416 2341 \nQ 2809 2203 3045 1909 \nQ 3281 1616 3281 1231 \nQ 3281 600 2870 267 \nQ 2459 -66 1803 -66 \nQ 1134 -66 726 267 \nQ 319 600 319 1231 \nQ 319 1616 550 1909 \nQ 781 2203 1175 2341 \nQ 834 2472 640 2739 \nQ 447 3006 447 3363 \nQ 447 3963 817 4289 \nQ 1188 4616 1797 4616 \nQ 2397 4616 2776 4289 \nQ 3156 3963 3156 3363 \nz\nM 2669 1244 \nQ 2669 1619 2422 1859 \nQ 2175 2100 1797 2100 \nQ 1413 2100 1173 1859 \nQ 934 1619 934 1244 \nQ 934 856 1171 636 \nQ 1409 416 1803 416 \nQ 2188 416 2428 637 \nQ 2669 859 2669 1244 \nz\nM 2541 3350 \nQ 2541 3688 2330 3909 \nQ 2119 4131 1797 4131 \nQ 1469 4131 1266 3917 \nQ 1063 3703 1063 3350 \nQ 1063 3003 1267 2793 \nQ 1472 2584 1803 2584 \nQ 2128 2584 2334 2793 \nQ 2541 3003 2541 3350 \nz\n\" transform=\"scale(0.015625)\"/>\n       </defs>\n       <use xlink:href=\"#Roboto-Regular-32\"/>\n       <use xlink:href=\"#Roboto-Regular-30\" x=\"56.298828\"/>\n       <use xlink:href=\"#Roboto-Regular-31\" x=\"112.646484\"/>\n       <use xlink:href=\"#Roboto-Regular-38\" x=\"168.945312\"/>\n      </g>\n     </g>\n    </g>\n    <g id=\"xtick_2\">\n     <g id=\"line2d_4\">\n      <path d=\"M 121.88425 304.3535 \nL 121.88425 24.4175 \n\" clip-path=\"url(#p64babb9fa8)\" style=\"fill: none; stroke-dasharray: 1,3; stroke-dashoffset: 0; stroke: #000000; stroke-width: 0.5\"/>\n     </g>\n     <g id=\"line2d_5\">\n      <g>\n       <use xlink:href=\"#mf4efc4e830\" x=\"121.88425\" y=\"304.3535\" style=\"stroke: #000000; stroke-width: 0.5\"/>\n      </g>\n     </g>\n     <g id=\"line2d_6\">\n      <g>\n       <use xlink:href=\"#m570b83bb0e\" x=\"121.88425\" y=\"24.4175\" style=\"stroke: #000000; stroke-width: 0.5\"/>\n      </g>\n     </g>\n     <g id=\"text_2\">\n      <!-- 2019 -->\n      <g transform=\"translate(105.667375 319.32225) scale(0.144 -0.144)\">\n       <defs>\n        <path id=\"Roboto-Regular-39\" d=\"M 1597 416 \nQ 2047 416 2317 756 \nQ 2588 1097 2588 1769 \nL 2588 1975 \nQ 2434 1753 2204 1639 \nQ 1975 1525 1694 1525 \nQ 1034 1525 646 1933 \nQ 259 2341 259 3056 \nQ 259 3741 670 4178 \nQ 1081 4616 1669 4616 \nQ 2381 4616 2792 4170 \nQ 3203 3725 3203 2859 \nL 3203 1775 \nQ 3203 884 2758 409 \nQ 2313 -66 1597 -66 \nQ 1356 -66 1107 -20 \nQ 859 25 663 119 \nL 756 591 \nQ 941 494 1139 455 \nQ 1338 416 1597 416 \nz\nM 1694 2006 \nQ 2034 2006 2261 2153 \nQ 2488 2300 2588 2528 \nL 2588 2922 \nQ 2588 3519 2358 3825 \nQ 2128 4131 1688 4131 \nQ 1350 4131 1112 3829 \nQ 875 3528 875 3056 \nQ 875 2588 1095 2297 \nQ 1316 2006 1694 2006 \nz\n\" transform=\"scale(0.015625)\"/>\n       </defs>\n       <use xlink:href=\"#Roboto-Regular-32\"/>\n       <use xlink:href=\"#Roboto-Regular-30\" x=\"56.298828\"/>\n       <use xlink:href=\"#Roboto-Regular-31\" x=\"112.646484\"/>\n       <use xlink:href=\"#Roboto-Regular-39\" x=\"168.945312\"/>\n      </g>\n     </g>\n    </g>\n    <g id=\"xtick_3\">\n     <g id=\"line2d_7\">\n      <path d=\"M 200.60425 304.3535 \nL 200.60425 24.4175 \n\" clip-path=\"url(#p64babb9fa8)\" style=\"fill: none; stroke-dasharray: 1,3; stroke-dashoffset: 0; stroke: #000000; stroke-width: 0.5\"/>\n     </g>\n     <g id=\"line2d_8\">\n      <g>\n       <use xlink:href=\"#mf4efc4e830\" x=\"200.60425\" y=\"304.3535\" style=\"stroke: #000000; stroke-width: 0.5\"/>\n      </g>\n     </g>\n     <g id=\"line2d_9\">\n      <g>\n       <use xlink:href=\"#m570b83bb0e\" x=\"200.60425\" y=\"24.4175\" style=\"stroke: #000000; stroke-width: 0.5\"/>\n      </g>\n     </g>\n     <g id=\"text_3\">\n      <!-- 2020 -->\n      <g transform=\"translate(184.384 319.32225) scale(0.144 -0.144)\">\n       <use xlink:href=\"#Roboto-Regular-32\"/>\n       <use xlink:href=\"#Roboto-Regular-30\" x=\"56.298828\"/>\n       <use xlink:href=\"#Roboto-Regular-32\" x=\"112.646484\"/>\n       <use xlink:href=\"#Roboto-Regular-30\" x=\"168.945312\"/>\n      </g>\n     </g>\n    </g>\n    <g id=\"xtick_4\">\n     <g id=\"line2d_10\">\n      <path d=\"M 279.32425 304.3535 \nL 279.32425 24.4175 \n\" clip-path=\"url(#p64babb9fa8)\" style=\"fill: none; stroke-dasharray: 1,3; stroke-dashoffset: 0; stroke: #000000; stroke-width: 0.5\"/>\n     </g>\n     <g id=\"line2d_11\">\n      <g>\n       <use xlink:href=\"#mf4efc4e830\" x=\"279.32425\" y=\"304.3535\" style=\"stroke: #000000; stroke-width: 0.5\"/>\n      </g>\n     </g>\n     <g id=\"line2d_12\">\n      <g>\n       <use xlink:href=\"#m570b83bb0e\" x=\"279.32425\" y=\"24.4175\" style=\"stroke: #000000; stroke-width: 0.5\"/>\n      </g>\n     </g>\n     <g id=\"text_4\">\n      <!-- 2021 -->\n      <g transform=\"translate(263.107375 319.32225) scale(0.144 -0.144)\">\n       <use xlink:href=\"#Roboto-Regular-32\"/>\n       <use xlink:href=\"#Roboto-Regular-30\" x=\"56.298828\"/>\n       <use xlink:href=\"#Roboto-Regular-32\" x=\"112.646484\"/>\n       <use xlink:href=\"#Roboto-Regular-31\" x=\"168.945312\"/>\n      </g>\n     </g>\n    </g>\n    <g id=\"xtick_5\">\n     <g id=\"line2d_13\">\n      <path d=\"M 358.04425 304.3535 \nL 358.04425 24.4175 \n\" clip-path=\"url(#p64babb9fa8)\" style=\"fill: none; stroke-dasharray: 1,3; stroke-dashoffset: 0; stroke: #000000; stroke-width: 0.5\"/>\n     </g>\n     <g id=\"line2d_14\">\n      <g>\n       <use xlink:href=\"#mf4efc4e830\" x=\"358.04425\" y=\"304.3535\" style=\"stroke: #000000; stroke-width: 0.5\"/>\n      </g>\n     </g>\n     <g id=\"line2d_15\">\n      <g>\n       <use xlink:href=\"#m570b83bb0e\" x=\"358.04425\" y=\"24.4175\" style=\"stroke: #000000; stroke-width: 0.5\"/>\n      </g>\n     </g>\n     <g id=\"text_5\">\n      <!-- 2022 -->\n      <g transform=\"translate(341.827375 319.32225) scale(0.144 -0.144)\">\n       <use xlink:href=\"#Roboto-Regular-32\"/>\n       <use xlink:href=\"#Roboto-Regular-30\" x=\"56.298828\"/>\n       <use xlink:href=\"#Roboto-Regular-32\" x=\"112.646484\"/>\n       <use xlink:href=\"#Roboto-Regular-32\" x=\"168.945312\"/>\n      </g>\n     </g>\n    </g>\n    <g id=\"xtick_6\">\n     <g id=\"line2d_16\">\n      <path d=\"M 436.76425 304.3535 \nL 436.76425 24.4175 \n\" clip-path=\"url(#p64babb9fa8)\" style=\"fill: none; stroke-dasharray: 1,3; stroke-dashoffset: 0; stroke: #000000; stroke-width: 0.5\"/>\n     </g>\n     <g id=\"line2d_17\">\n      <g>\n       <use xlink:href=\"#mf4efc4e830\" x=\"436.76425\" y=\"304.3535\" style=\"stroke: #000000; stroke-width: 0.5\"/>\n      </g>\n     </g>\n     <g id=\"line2d_18\">\n      <g>\n       <use xlink:href=\"#m570b83bb0e\" x=\"436.76425\" y=\"24.4175\" style=\"stroke: #000000; stroke-width: 0.5\"/>\n      </g>\n     </g>\n     <g id=\"text_6\">\n      <!-- 2023 -->\n      <g transform=\"translate(420.547375 319.32225) scale(0.144 -0.144)\">\n       <defs>\n        <path id=\"Roboto-Regular-33\" d=\"M 1213 2559 \nL 1750 2559 \nQ 2159 2559 2329 2764 \nQ 2500 2969 2500 3334 \nQ 2500 3725 2306 3928 \nQ 2113 4131 1734 4131 \nQ 1375 4131 1158 3920 \nQ 941 3709 941 3359 \nL 350 3359 \nL 344 3378 \nQ 328 3894 717 4255 \nQ 1106 4616 1734 4616 \nQ 2366 4616 2741 4280 \nQ 3116 3944 3116 3322 \nQ 3116 3041 2945 2761 \nQ 2775 2481 2434 2334 \nQ 2844 2200 3014 1912 \nQ 3184 1625 3184 1269 \nQ 3184 647 2776 290 \nQ 2369 -66 1734 -66 \nQ 1113 -66 705 270 \nQ 297 606 313 1181 \nL 322 1200 \nL 909 1200 \nQ 909 841 1129 628 \nQ 1350 416 1734 416 \nQ 2125 416 2347 628 \nQ 2569 841 2569 1256 \nQ 2569 1678 2372 1878 \nQ 2175 2078 1750 2078 \nL 1213 2078 \nL 1213 2559 \nz\n\" transform=\"scale(0.015625)\"/>\n       </defs>\n       <use xlink:href=\"#Roboto-Regular-32\"/>\n       <use xlink:href=\"#Roboto-Regular-30\" x=\"56.298828\"/>\n       <use xlink:href=\"#Roboto-Regular-32\" x=\"112.646484\"/>\n       <use xlink:href=\"#Roboto-Regular-33\" x=\"168.945312\"/>\n      </g>\n     </g>\n    </g>\n    <g id=\"text_7\">\n     <!-- Ano -->\n     <g transform=\"translate(225.68925 339.43475) scale(0.16 -0.16)\">\n      <defs>\n       <path id=\"Roboto-Regular-41\" d=\"M 3028 1172 \nL 1122 1172 \nL 691 0 \nL 63 0 \nL 1822 4550 \nL 2350 4550 \nL 4081 0 \nL 3453 0 \nL 3028 1172 \nz\nM 1313 1688 \nL 2844 1688 \nL 2094 3759 \nL 2075 3759 \nL 1313 1688 \nz\n\" transform=\"scale(0.015625)\"/>\n       <path id=\"Roboto-Regular-6e\" d=\"M 997 3381 \nL 1041 2878 \nQ 1209 3147 1464 3295 \nQ 1719 3444 2044 3444 \nQ 2591 3444 2891 3123 \nQ 3191 2803 3191 2134 \nL 3191 0 \nL 2575 0 \nL 2575 2122 \nQ 2575 2569 2398 2756 \nQ 2222 2944 1859 2944 \nQ 1594 2944 1389 2816 \nQ 1184 2688 1063 2466 \nL 1063 0 \nL 447 0 \nL 447 3381 \nL 997 3381 \nz\n\" transform=\"scale(0.015625)\"/>\n       <path id=\"Roboto-Regular-6f\" d=\"M 303 1722 \nQ 303 2472 709 2958 \nQ 1116 3444 1813 3444 \nQ 2516 3444 2923 2959 \nQ 3331 2475 3331 1722 \nL 3331 1653 \nQ 3331 897 2925 415 \nQ 2519 -66 1819 -66 \nQ 1119 -66 711 417 \nQ 303 900 303 1653 \nL 303 1722 \nz\nM 919 1653 \nQ 919 1116 1145 766 \nQ 1372 416 1819 416 \nQ 2259 416 2487 766 \nQ 2716 1116 2716 1653 \nL 2716 1722 \nQ 2716 2253 2486 2606 \nQ 2256 2959 1813 2959 \nQ 1372 2959 1145 2606 \nQ 919 2253 919 1722 \nL 919 1653 \nz\n\" transform=\"scale(0.015625)\"/>\n      </defs>\n      <use xlink:href=\"#Roboto-Regular-41\"/>\n      <use xlink:href=\"#Roboto-Regular-6e\" x=\"64.746094\"/>\n      <use xlink:href=\"#Roboto-Regular-6f\" x=\"121.582031\"/>\n     </g>\n    </g>\n   </g>\n   <g id=\"matplotlib.axis_2\">\n    <g id=\"ytick_1\">\n     <g id=\"line2d_19\">\n      <path d=\"M 27.42025 304.3535 \nL 452.50825 304.3535 \n\" clip-path=\"url(#p64babb9fa8)\" style=\"fill: none; stroke-dasharray: 1,3; stroke-dashoffset: 0; stroke: #000000; stroke-width: 0.5\"/>\n     </g>\n     <g id=\"line2d_20\">\n      <defs>\n       <path id=\"m7a58e623c4\" d=\"M 0 0 \nL 4 0 \n\" style=\"stroke: #000000; stroke-width: 0.5\"/>\n      </defs>\n      <g>\n       <use xlink:href=\"#m7a58e623c4\" x=\"27.42025\" y=\"304.3535\" style=\"stroke: #000000; stroke-width: 0.5\"/>\n      </g>\n     </g>\n     <g id=\"line2d_21\">\n      <defs>\n       <path id=\"me64f3fd322\" d=\"M 0 0 \nL -4 0 \n\" style=\"stroke: #000000; stroke-width: 0.5\"/>\n      </defs>\n      <g>\n       <use xlink:href=\"#me64f3fd322\" x=\"452.50825\" y=\"304.3535\" style=\"stroke: #000000; stroke-width: 0.5\"/>\n      </g>\n     </g>\n     <g id=\"text_8\">\n      <!-- 0 -->\n      <g transform=\"translate(15.30675 308.375375) scale(0.144 -0.144)\">\n       <use xlink:href=\"#Roboto-Regular-30\"/>\n      </g>\n     </g>\n    </g>\n    <g id=\"ytick_2\">\n     <g id=\"line2d_22\">\n      <path d=\"M 27.42025 264.362643 \nL 452.50825 264.362643 \n\" clip-path=\"url(#p64babb9fa8)\" style=\"fill: none; stroke-dasharray: 1,3; stroke-dashoffset: 0; stroke: #000000; stroke-width: 0.5\"/>\n     </g>\n     <g id=\"line2d_23\">\n      <g>\n       <use xlink:href=\"#m7a58e623c4\" x=\"27.42025\" y=\"264.362643\" style=\"stroke: #000000; stroke-width: 0.5\"/>\n      </g>\n     </g>\n     <g id=\"line2d_24\">\n      <g>\n       <use xlink:href=\"#me64f3fd322\" x=\"452.50825\" y=\"264.362643\" style=\"stroke: #000000; stroke-width: 0.5\"/>\n      </g>\n     </g>\n     <g id=\"text_9\">\n      <!-- 2 -->\n      <g transform=\"translate(15.3135 268.384518) scale(0.144 -0.144)\">\n       <use xlink:href=\"#Roboto-Regular-32\"/>\n      </g>\n     </g>\n    </g>\n    <g id=\"ytick_3\">\n     <g id=\"line2d_25\">\n      <path d=\"M 27.42025 224.371786 \nL 452.50825 224.371786 \n\" clip-path=\"url(#p64babb9fa8)\" style=\"fill: none; stroke-dasharray: 1,3; stroke-dashoffset: 0; stroke: #000000; stroke-width: 0.5\"/>\n     </g>\n     <g id=\"line2d_26\">\n      <g>\n       <use xlink:href=\"#m7a58e623c4\" x=\"27.42025\" y=\"224.371786\" style=\"stroke: #000000; stroke-width: 0.5\"/>\n      </g>\n     </g>\n     <g id=\"line2d_27\">\n      <g>\n       <use xlink:href=\"#me64f3fd322\" x=\"452.50825\" y=\"224.371786\" style=\"stroke: #000000; stroke-width: 0.5\"/>\n      </g>\n     </g>\n     <g id=\"text_10\">\n      <!-- 4 -->\n      <g transform=\"translate(15.3135 228.393661) scale(0.144 -0.144)\">\n       <defs>\n        <path id=\"Roboto-Regular-34\" d=\"M 2828 1531 \nL 3456 1531 \nL 3456 1050 \nL 2828 1050 \nL 2828 0 \nL 2216 0 \nL 2216 1050 \nL 172 1050 \nL 172 1397 \nL 2178 4550 \nL 2828 4550 \nL 2828 1531 \nz\nM 828 1531 \nL 2216 1531 \nL 2216 3666 \nL 2197 3669 \nL 2138 3513 \nL 828 1531 \nz\n\" transform=\"scale(0.015625)\"/>\n       </defs>\n       <use xlink:href=\"#Roboto-Regular-34\"/>\n      </g>\n     </g>\n    </g>\n    <g id=\"ytick_4\">\n     <g id=\"line2d_28\">\n      <path d=\"M 27.42025 184.380929 \nL 452.50825 184.380929 \n\" clip-path=\"url(#p64babb9fa8)\" style=\"fill: none; stroke-dasharray: 1,3; stroke-dashoffset: 0; stroke: #000000; stroke-width: 0.5\"/>\n     </g>\n     <g id=\"line2d_29\">\n      <g>\n       <use xlink:href=\"#m7a58e623c4\" x=\"27.42025\" y=\"184.380929\" style=\"stroke: #000000; stroke-width: 0.5\"/>\n      </g>\n     </g>\n     <g id=\"line2d_30\">\n      <g>\n       <use xlink:href=\"#me64f3fd322\" x=\"452.50825\" y=\"184.380929\" style=\"stroke: #000000; stroke-width: 0.5\"/>\n      </g>\n     </g>\n     <g id=\"text_11\">\n      <!-- 6 -->\n      <g transform=\"translate(15.3135 188.402804) scale(0.144 -0.144)\">\n       <defs>\n        <path id=\"Roboto-Regular-36\" d=\"M 2109 4616 \nQ 2344 4616 2573 4562 \nQ 2803 4509 2953 4428 \nL 2822 3956 \nQ 2669 4034 2501 4082 \nQ 2334 4131 2109 4131 \nQ 1622 4131 1323 3740 \nQ 1025 3350 1025 2722 \nL 1025 2650 \nQ 1225 2825 1483 2923 \nQ 1741 3022 2038 3022 \nQ 2647 3022 3009 2600 \nQ 3372 2178 3372 1531 \nQ 3372 825 2986 379 \nQ 2600 -66 1956 -66 \nQ 1288 -66 850 418 \nQ 413 903 413 1784 \nL 413 2653 \nQ 413 3528 900 4072 \nQ 1388 4616 2109 4616 \nz\nM 1900 2563 \nQ 1584 2563 1362 2434 \nQ 1141 2306 1025 2094 \nL 1025 1725 \nQ 1025 1097 1290 756 \nQ 1556 416 1956 416 \nQ 2334 416 2545 736 \nQ 2756 1056 2756 1531 \nQ 2756 1981 2529 2272 \nQ 2303 2563 1900 2563 \nz\n\" transform=\"scale(0.015625)\"/>\n       </defs>\n       <use xlink:href=\"#Roboto-Regular-36\"/>\n      </g>\n     </g>\n    </g>\n    <g id=\"ytick_5\">\n     <g id=\"line2d_31\">\n      <path d=\"M 27.42025 144.390071 \nL 452.50825 144.390071 \n\" clip-path=\"url(#p64babb9fa8)\" style=\"fill: none; stroke-dasharray: 1,3; stroke-dashoffset: 0; stroke: #000000; stroke-width: 0.5\"/>\n     </g>\n     <g id=\"line2d_32\">\n      <g>\n       <use xlink:href=\"#m7a58e623c4\" x=\"27.42025\" y=\"144.390071\" style=\"stroke: #000000; stroke-width: 0.5\"/>\n      </g>\n     </g>\n     <g id=\"line2d_33\">\n      <g>\n       <use xlink:href=\"#me64f3fd322\" x=\"452.50825\" y=\"144.390071\" style=\"stroke: #000000; stroke-width: 0.5\"/>\n      </g>\n     </g>\n     <g id=\"text_12\">\n      <!-- 8 -->\n      <g transform=\"translate(15.3135 148.411946) scale(0.144 -0.144)\">\n       <use xlink:href=\"#Roboto-Regular-38\"/>\n      </g>\n     </g>\n    </g>\n    <g id=\"ytick_6\">\n     <g id=\"line2d_34\">\n      <path d=\"M 27.42025 104.399214 \nL 452.50825 104.399214 \n\" clip-path=\"url(#p64babb9fa8)\" style=\"fill: none; stroke-dasharray: 1,3; stroke-dashoffset: 0; stroke: #000000; stroke-width: 0.5\"/>\n     </g>\n     <g id=\"line2d_35\">\n      <g>\n       <use xlink:href=\"#m7a58e623c4\" x=\"27.42025\" y=\"104.399214\" style=\"stroke: #000000; stroke-width: 0.5\"/>\n      </g>\n     </g>\n     <g id=\"line2d_36\">\n      <g>\n       <use xlink:href=\"#me64f3fd322\" x=\"452.50825\" y=\"104.399214\" style=\"stroke: #000000; stroke-width: 0.5\"/>\n      </g>\n     </g>\n     <g id=\"text_13\">\n      <!-- 10 -->\n      <g transform=\"translate(7.2 108.421089) scale(0.144 -0.144)\">\n       <use xlink:href=\"#Roboto-Regular-31\"/>\n       <use xlink:href=\"#Roboto-Regular-30\" x=\"56.298828\"/>\n      </g>\n     </g>\n    </g>\n    <g id=\"ytick_7\">\n     <g id=\"line2d_37\">\n      <path d=\"M 27.42025 64.408357 \nL 452.50825 64.408357 \n\" clip-path=\"url(#p64babb9fa8)\" style=\"fill: none; stroke-dasharray: 1,3; stroke-dashoffset: 0; stroke: #000000; stroke-width: 0.5\"/>\n     </g>\n     <g id=\"line2d_38\">\n      <g>\n       <use xlink:href=\"#m7a58e623c4\" x=\"27.42025\" y=\"64.408357\" style=\"stroke: #000000; stroke-width: 0.5\"/>\n      </g>\n     </g>\n     <g id=\"line2d_39\">\n      <g>\n       <use xlink:href=\"#me64f3fd322\" x=\"452.50825\" y=\"64.408357\" style=\"stroke: #000000; stroke-width: 0.5\"/>\n      </g>\n     </g>\n     <g id=\"text_14\">\n      <!-- 12 -->\n      <g transform=\"translate(7.20675 68.430232) scale(0.144 -0.144)\">\n       <use xlink:href=\"#Roboto-Regular-31\"/>\n       <use xlink:href=\"#Roboto-Regular-32\" x=\"56.298828\"/>\n      </g>\n     </g>\n    </g>\n    <g id=\"ytick_8\">\n     <g id=\"line2d_40\">\n      <path d=\"M 27.42025 24.4175 \nL 452.50825 24.4175 \n\" clip-path=\"url(#p64babb9fa8)\" style=\"fill: none; stroke-dasharray: 1,3; stroke-dashoffset: 0; stroke: #000000; stroke-width: 0.5\"/>\n     </g>\n     <g id=\"line2d_41\">\n      <g>\n       <use xlink:href=\"#m7a58e623c4\" x=\"27.42025\" y=\"24.4175\" style=\"stroke: #000000; stroke-width: 0.5\"/>\n      </g>\n     </g>\n     <g id=\"line2d_42\">\n      <g>\n       <use xlink:href=\"#me64f3fd322\" x=\"452.50825\" y=\"24.4175\" style=\"stroke: #000000; stroke-width: 0.5\"/>\n      </g>\n     </g>\n     <g id=\"text_15\">\n      <!-- 14 -->\n      <g transform=\"translate(7.20675 28.439375) scale(0.144 -0.144)\">\n       <use xlink:href=\"#Roboto-Regular-31\"/>\n       <use xlink:href=\"#Roboto-Regular-34\" x=\"56.298828\"/>\n      </g>\n     </g>\n    </g>\n   </g>\n   <g id=\"line2d_43\">\n    <path d=\"M 43.16425 264.362643 \nL 121.88425 164.3855 \nL 200.60425 64.408357 \nL 279.32425 64.408357 \nL 358.04425 204.376357 \nL 436.76425 64.408357 \n\" clip-path=\"url(#p64babb9fa8)\" style=\"fill: none; stroke: #3679e0; stroke-width: 2; stroke-linecap: square\"/>\n    <defs>\n     <path id=\"m9f5005b184\" d=\"M 0 3.5 \nC 0.928211 3.5 1.81853 3.131218 2.474874 2.474874 \nC 3.131218 1.81853 3.5 0.928211 3.5 0 \nC 3.5 -0.928211 3.131218 -1.81853 2.474874 -2.474874 \nC 1.81853 -3.131218 0.928211 -3.5 0 -3.5 \nC -0.928211 -3.5 -1.81853 -3.131218 -2.474874 -2.474874 \nC -3.131218 -1.81853 -3.5 -0.928211 -3.5 0 \nC -3.5 0.928211 -3.131218 1.81853 -2.474874 2.474874 \nC -1.81853 3.131218 -0.928211 3.5 0 3.5 \nz\n\" style=\"stroke: #3679e0; stroke-width: 2\"/>\n    </defs>\n    <g clip-path=\"url(#p64babb9fa8)\">\n     <use xlink:href=\"#m9f5005b184\" x=\"43.16425\" y=\"264.362643\" style=\"fill: #ffffff; stroke: #3679e0; stroke-width: 2\"/>\n     <use xlink:href=\"#m9f5005b184\" x=\"121.88425\" y=\"164.3855\" style=\"fill: #ffffff; stroke: #3679e0; stroke-width: 2\"/>\n     <use xlink:href=\"#m9f5005b184\" x=\"200.60425\" y=\"64.408357\" style=\"fill: #ffffff; stroke: #3679e0; stroke-width: 2\"/>\n     <use xlink:href=\"#m9f5005b184\" x=\"279.32425\" y=\"64.408357\" style=\"fill: #ffffff; stroke: #3679e0; stroke-width: 2\"/>\n     <use xlink:href=\"#m9f5005b184\" x=\"358.04425\" y=\"204.376357\" style=\"fill: #ffffff; stroke: #3679e0; stroke-width: 2\"/>\n     <use xlink:href=\"#m9f5005b184\" x=\"436.76425\" y=\"64.408357\" style=\"fill: #ffffff; stroke: #3679e0; stroke-width: 2\"/>\n    </g>\n   </g>\n   <g id=\"LineCollection_1\">\n    <path d=\"M 43.16425 104.399214 \nL 436.76425 104.399214 \n\" clip-path=\"url(#p64babb9fa8)\" style=\"fill: none; stroke: #ff0000; stroke-width: 1.5\"/>\n   </g>\n   <g id=\"patch_3\">\n    <path d=\"M 27.42025 304.3535 \nL 27.42025 24.4175 \n\" style=\"fill: none; stroke: #000000; stroke-linejoin: miter; stroke-linecap: square\"/>\n   </g>\n   <g id=\"patch_4\">\n    <path d=\"M 452.50825 304.3535 \nL 452.50825 24.4175 \n\" style=\"fill: none; stroke: #000000; stroke-linejoin: miter; stroke-linecap: square\"/>\n   </g>\n   <g id=\"patch_5\">\n    <path d=\"M 27.42025 304.3535 \nL 452.50825 304.3535 \n\" style=\"fill: none; stroke: #000000; stroke-linejoin: miter; stroke-linecap: square\"/>\n   </g>\n   <g id=\"patch_6\">\n    <path d=\"M 27.42025 24.4175 \nL 452.50825 24.4175 \n\" style=\"fill: none; stroke: #000000; stroke-linejoin: miter; stroke-linecap: square\"/>\n   </g>\n   <g id=\"text_16\">\n    <!-- Publicações nos últimos 5 anos -->\n    <g transform=\"translate(125.37425 19.4175) scale(0.16 -0.16)\">\n     <defs>\n      <path id=\"Roboto-Regular-50\" d=\"M 1178 1825 \nL 1178 0 \nL 563 0 \nL 563 4550 \nL 2303 4550 \nQ 3031 4550 3434 4175 \nQ 3838 3800 3838 3188 \nQ 3838 2566 3434 2195 \nQ 3031 1825 2303 1825 \nL 1178 1825 \nz\nM 1178 2306 \nL 2303 2306 \nQ 2766 2306 2994 2554 \nQ 3222 2803 3222 3181 \nQ 3222 3559 2992 3812 \nQ 2763 4066 2303 4066 \nL 1178 4066 \nL 1178 2306 \nz\n\" transform=\"scale(0.015625)\"/>\n      <path id=\"Roboto-Regular-75\" d=\"M 2594 500 \nQ 2434 228 2184 81 \nQ 1934 -66 1606 -66 \nQ 1053 -66 743 287 \nQ 434 641 434 1388 \nL 434 3381 \nL 1050 3381 \nL 1050 1381 \nQ 1050 841 1209 637 \nQ 1369 434 1706 434 \nQ 2034 434 2248 567 \nQ 2463 700 2572 944 \nL 2572 3381 \nL 3188 3381 \nL 3188 0 \nL 2634 0 \nL 2594 500 \nz\n\" transform=\"scale(0.015625)\"/>\n      <path id=\"Roboto-Regular-62\" d=\"M 3334 1563 \nQ 3334 831 2982 382 \nQ 2631 -66 2016 -66 \nQ 1681 -66 1434 64 \nQ 1188 194 1025 447 \nL 950 0 \nL 447 0 \nL 447 4875 \nL 1063 4875 \nL 1063 2981 \nQ 1222 3206 1458 3325 \nQ 1694 3444 2009 3444 \nQ 2634 3444 2984 2944 \nQ 3334 2444 3334 1628 \nL 3334 1563 \nz\nM 2719 1628 \nQ 2719 2209 2505 2576 \nQ 2291 2944 1853 2944 \nQ 1569 2944 1373 2805 \nQ 1178 2666 1063 2431 \nL 1063 966 \nQ 1181 716 1373 575 \nQ 1566 434 1859 434 \nQ 2294 434 2506 743 \nQ 2719 1053 2719 1563 \nL 2719 1628 \nz\n\" transform=\"scale(0.015625)\"/>\n      <path id=\"Roboto-Regular-6c\" d=\"M 1113 0 \nL 497 0 \nL 497 4875 \nL 1113 4875 \nL 1113 0 \nz\n\" transform=\"scale(0.015625)\"/>\n      <path id=\"Roboto-Regular-69\" d=\"M 1113 0 \nL 497 0 \nL 497 3381 \nL 1113 3381 \nL 1113 0 \nz\nM 1113 4247 \nL 497 4247 \nL 497 4875 \nL 1113 4875 \nL 1113 4247 \nz\n\" transform=\"scale(0.015625)\"/>\n      <path id=\"Roboto-Regular-63\" d=\"M 1822 416 \nQ 2128 416 2361 605 \nQ 2594 794 2594 1069 \nL 3147 1069 \nL 3153 1050 \nQ 3169 613 2764 273 \nQ 2359 -66 1822 -66 \nQ 1084 -66 693 415 \nQ 303 897 303 1625 \nL 303 1756 \nQ 303 2478 695 2961 \nQ 1088 3444 1822 3444 \nQ 2416 3444 2792 3094 \nQ 3169 2744 3156 2234 \nL 3150 2216 \nL 2594 2216 \nQ 2594 2525 2375 2742 \nQ 2156 2959 1822 2959 \nQ 1338 2959 1130 2611 \nQ 922 2263 922 1756 \nL 922 1625 \nQ 922 1106 1128 761 \nQ 1334 416 1822 416 \nz\n\" transform=\"scale(0.015625)\"/>\n      <path id=\"Roboto-Regular-61\" d=\"M 2525 0 \nQ 2494 153 2476 270 \nQ 2459 388 2456 506 \nQ 2284 263 2007 98 \nQ 1731 -66 1413 -66 \nQ 884 -66 607 204 \nQ 331 475 331 950 \nQ 331 1434 723 1707 \nQ 1116 1981 1788 1981 \nL 2456 1981 \nL 2456 2316 \nQ 2456 2613 2275 2786 \nQ 2094 2959 1763 2959 \nQ 1466 2959 1280 2807 \nQ 1094 2656 1094 2444 \nL 506 2444 \nL 500 2463 \nQ 481 2831 848 3137 \nQ 1216 3444 1797 3444 \nQ 2372 3444 2722 3151 \nQ 3072 2859 3072 2309 \nL 3072 681 \nQ 3072 500 3090 331 \nQ 3109 163 3159 0 \nL 2525 0 \nz\nM 1503 450 \nQ 1838 450 2106 622 \nQ 2375 794 2456 1016 \nL 2456 1566 \nL 1766 1566 \nQ 1394 1566 1170 1378 \nQ 947 1191 947 938 \nQ 947 713 1087 581 \nQ 1228 450 1503 450 \nz\n\" transform=\"scale(0.015625)\"/>\n      <path id=\"Roboto-Regular-e7\" d=\"M 1822 416 \nQ 2128 416 2361 605 \nQ 2594 794 2594 1069 \nL 3147 1069 \nL 3153 1050 \nQ 3169 613 2764 273 \nQ 2359 -66 1822 -66 \nQ 1084 -66 693 415 \nQ 303 897 303 1625 \nL 303 1756 \nQ 303 2478 695 2961 \nQ 1088 3444 1822 3444 \nQ 2416 3444 2792 3094 \nQ 3169 2744 3156 2234 \nL 3150 2216 \nL 2594 2216 \nQ 2594 2525 2375 2742 \nQ 2156 2959 1822 2959 \nQ 1338 2959 1130 2611 \nQ 922 2263 922 1756 \nL 922 1625 \nQ 922 1106 1128 761 \nQ 1334 416 1822 416 \nz\nM 1913 0 \nL 1875 -163 \nQ 2078 -197 2212 -325 \nQ 2347 -453 2347 -703 \nQ 2347 -1003 2100 -1181 \nQ 1853 -1359 1394 -1359 \nL 1372 -1019 \nQ 1597 -1019 1734 -942 \nQ 1872 -866 1872 -713 \nQ 1872 -563 1759 -503 \nQ 1647 -444 1375 -422 \nL 1475 0 \nL 1913 0 \nz\n\" transform=\"scale(0.015625)\"/>\n      <path id=\"Roboto-Regular-f5\" d=\"M 303 1722 \nQ 303 2472 709 2958 \nQ 1116 3444 1813 3444 \nQ 2516 3444 2923 2959 \nQ 3331 2475 3331 1722 \nL 3331 1653 \nQ 3331 897 2925 415 \nQ 2519 -66 1819 -66 \nQ 1119 -66 711 417 \nQ 303 900 303 1653 \nL 303 1722 \nz\nM 919 1653 \nQ 919 1116 1145 766 \nQ 1372 416 1819 416 \nQ 2259 416 2487 766 \nQ 2716 1116 2716 1653 \nL 2716 1722 \nQ 2716 2253 2486 2606 \nQ 2256 2959 1813 2959 \nQ 1372 2959 1145 2606 \nQ 919 2253 919 1722 \nL 919 1653 \nz\nM 2903 4787 \nQ 2903 4494 2717 4290 \nQ 2531 4087 2250 4087 \nQ 2028 4087 1787 4232 \nQ 1546 4378 1387 4378 \nQ 1253 4378 1162 4276 \nQ 1071 4175 1071 4031 \nL 734 4112 \nQ 734 4403 918 4617 \nQ 1103 4831 1387 4831 \nQ 1562 4831 1824 4684 \nQ 2087 4537 2250 4537 \nQ 2378 4537 2471 4639 \nQ 2565 4741 2565 4887 \nL 2903 4787 \nz\n\" transform=\"scale(0.015625)\"/>\n      <path id=\"Roboto-Regular-65\" d=\"M 1850 -66 \nQ 1144 -66 726 404 \nQ 309 875 309 1625 \nL 309 1763 \nQ 309 2484 739 2964 \nQ 1169 3444 1756 3444 \nQ 2441 3444 2791 3031 \nQ 3141 2619 3141 1931 \nL 3141 1547 \nL 947 1547 \nL 938 1531 \nQ 947 1044 1184 730 \nQ 1422 416 1850 416 \nQ 2163 416 2398 505 \nQ 2634 594 2806 750 \nL 3047 350 \nQ 2866 172 2569 53 \nQ 2272 -66 1850 -66 \nz\nM 1756 2959 \nQ 1447 2959 1228 2698 \nQ 1009 2438 959 2044 \nL 966 2028 \nL 2525 2028 \nL 2525 2109 \nQ 2525 2472 2331 2715 \nQ 2138 2959 1756 2959 \nz\n\" transform=\"scale(0.015625)\"/>\n      <path id=\"Roboto-Regular-73\" d=\"M 2413 897 \nQ 2413 1100 2258 1231 \nQ 2103 1363 1672 1459 \nQ 1056 1594 745 1823 \nQ 434 2053 434 2450 \nQ 434 2863 784 3153 \nQ 1134 3444 1697 3444 \nQ 2288 3444 2636 3141 \nQ 2984 2838 2969 2403 \nL 2963 2384 \nL 2375 2384 \nQ 2375 2606 2189 2782 \nQ 2003 2959 1697 2959 \nQ 1369 2959 1209 2815 \nQ 1050 2672 1050 2469 \nQ 1050 2269 1190 2153 \nQ 1331 2038 1763 1947 \nQ 2403 1809 2715 1573 \nQ 3028 1338 3028 941 \nQ 3028 491 2664 212 \nQ 2300 -66 1713 -66 \nQ 1066 -66 694 262 \nQ 322 591 341 1028 \nL 347 1047 \nL 934 1047 \nQ 950 719 1178 567 \nQ 1406 416 1713 416 \nQ 2041 416 2227 548 \nQ 2413 681 2413 897 \nz\n\" transform=\"scale(0.015625)\"/>\n      <path id=\"Roboto-Regular-20\" transform=\"scale(0.015625)\"/>\n      <path id=\"Roboto-Regular-fa\" d=\"M 2594 500 \nQ 2434 228 2184 81 \nQ 1934 -66 1606 -66 \nQ 1053 -66 743 287 \nQ 434 641 434 1388 \nL 434 3381 \nL 1050 3381 \nL 1050 1381 \nQ 1050 841 1209 637 \nQ 1369 434 1706 434 \nQ 2034 434 2248 567 \nQ 2463 700 2572 944 \nL 2572 3381 \nL 3188 3381 \nL 3188 0 \nL 2634 0 \nL 2594 500 \nz\nM 2108 4616 \nL 2826 4616 \nL 2833 4597 \nL 1989 3784 \nL 1529 3784 \nL 2108 4616 \nz\n\" transform=\"scale(0.015625)\"/>\n      <path id=\"Roboto-Regular-74\" d=\"M 1259 4197 \nL 1259 3381 \nL 1900 3381 \nL 1900 2925 \nL 1259 2925 \nL 1259 872 \nQ 1259 634 1357 537 \nQ 1456 441 1619 441 \nQ 1672 441 1736 453 \nQ 1800 466 1850 484 \nL 1931 63 \nQ 1863 6 1730 -30 \nQ 1597 -66 1463 -66 \nQ 1088 -66 866 161 \nQ 644 388 644 872 \nL 644 2925 \nL 106 2925 \nL 106 3381 \nL 644 3381 \nL 644 4197 \nL 1259 4197 \nz\n\" transform=\"scale(0.015625)\"/>\n      <path id=\"Roboto-Regular-6d\" d=\"M 997 3381 \nL 1041 2938 \nQ 1206 3178 1461 3311 \nQ 1716 3444 2053 3444 \nQ 2391 3444 2633 3287 \nQ 2875 3131 2997 2819 \nQ 3156 3106 3418 3275 \nQ 3681 3444 4031 3444 \nQ 4547 3444 4847 3089 \nQ 5147 2734 5147 2022 \nL 5147 0 \nL 4531 0 \nL 4531 2028 \nQ 4531 2528 4359 2736 \nQ 4188 2944 3847 2944 \nQ 3531 2944 3336 2725 \nQ 3141 2506 3106 2172 \nL 3106 2147 \nL 3106 0 \nL 2488 0 \nL 2488 2028 \nQ 2488 2503 2311 2723 \nQ 2134 2944 1803 2944 \nQ 1522 2944 1340 2828 \nQ 1159 2713 1063 2503 \nL 1063 0 \nL 447 0 \nL 447 3381 \nL 997 3381 \nz\n\" transform=\"scale(0.015625)\"/>\n      <path id=\"Roboto-Regular-35\" d=\"M 547 2053 \nL 809 4550 \nL 3088 4550 \nL 3088 4003 \nL 1331 4003 \nL 1181 2725 \nQ 1325 2831 1501 2901 \nQ 1678 2972 1909 2978 \nQ 2538 2984 2898 2568 \nQ 3259 2153 3259 1450 \nQ 3259 766 2892 350 \nQ 2525 -66 1822 -66 \nQ 1244 -66 859 250 \nQ 475 566 491 1178 \nL 497 1197 \nL 1053 1197 \nQ 1053 825 1267 620 \nQ 1481 416 1822 416 \nQ 2213 416 2428 691 \nQ 2644 966 2644 1444 \nQ 2644 1881 2425 2162 \nQ 2206 2444 1822 2444 \nQ 1459 2444 1296 2334 \nQ 1134 2225 1059 2000 \nL 547 2053 \nz\n\" transform=\"scale(0.015625)\"/>\n     </defs>\n     <use xlink:href=\"#Roboto-Regular-50\"/>\n     <use xlink:href=\"#Roboto-Regular-75\" x=\"64.0625\"/>\n     <use xlink:href=\"#Roboto-Regular-62\" x=\"120.898438\"/>\n     <use xlink:href=\"#Roboto-Regular-6c\" x=\"177.734375\"/>\n     <use xlink:href=\"#Roboto-Regular-69\" x=\"202.929688\"/>\n     <use xlink:href=\"#Roboto-Regular-63\" x=\"228.125\"/>\n     <use xlink:href=\"#Roboto-Regular-61\" x=\"281.201172\"/>\n     <use xlink:href=\"#Roboto-Regular-e7\" x=\"336.181641\"/>\n     <use xlink:href=\"#Roboto-Regular-f5\" x=\"389.257812\"/>\n     <use xlink:href=\"#Roboto-Regular-65\" x=\"446.09375\"/>\n     <use xlink:href=\"#Roboto-Regular-73\" x=\"498.974609\"/>\n     <use xlink:href=\"#Roboto-Regular-20\" x=\"551.269531\"/>\n     <use xlink:href=\"#Roboto-Regular-6e\" x=\"576.123047\"/>\n     <use xlink:href=\"#Roboto-Regular-6f\" x=\"632.958984\"/>\n     <use xlink:href=\"#Roboto-Regular-73\" x=\"689.794922\"/>\n     <use xlink:href=\"#Roboto-Regular-20\" x=\"742.089844\"/>\n     <use xlink:href=\"#Roboto-Regular-fa\" x=\"766.943359\"/>\n     <use xlink:href=\"#Roboto-Regular-6c\" x=\"823.779297\"/>\n     <use xlink:href=\"#Roboto-Regular-74\" x=\"848.974609\"/>\n     <use xlink:href=\"#Roboto-Regular-69\" x=\"883.544922\"/>\n     <use xlink:href=\"#Roboto-Regular-6d\" x=\"908.740234\"/>\n     <use xlink:href=\"#Roboto-Regular-6f\" x=\"996.142578\"/>\n     <use xlink:href=\"#Roboto-Regular-73\" x=\"1052.978516\"/>\n     <use xlink:href=\"#Roboto-Regular-20\" x=\"1105.273438\"/>\n     <use xlink:href=\"#Roboto-Regular-35\" x=\"1130.126953\"/>\n     <use xlink:href=\"#Roboto-Regular-20\" x=\"1186.425781\"/>\n     <use xlink:href=\"#Roboto-Regular-61\" x=\"1211.279297\"/>\n     <use xlink:href=\"#Roboto-Regular-6e\" x=\"1266.259766\"/>\n     <use xlink:href=\"#Roboto-Regular-6f\" x=\"1323.095703\"/>\n     <use xlink:href=\"#Roboto-Regular-73\" x=\"1379.931641\"/>\n    </g>\n   </g>\n   <g id=\"legend_1\">\n    <g id=\"patch_7\">\n     <path d=\"M 273.36325 297.1535 \nL 445.30825 297.1535 \nL 445.30825 250.4975 \nL 273.36325 250.4975 \nz\n\" style=\"fill: #ffffff; stroke: #000000; stroke-linejoin: miter\"/>\n    </g>\n    <g id=\"line2d_44\">\n     <path d=\"M 283.44325 262.18625 \nL 303.60325 262.18625 \n\" style=\"fill: none; stroke: #3679e0; stroke-width: 2; stroke-linecap: square\"/>\n     <g>\n      <use xlink:href=\"#m9f5005b184\" x=\"283.44325\" y=\"262.18625\" style=\"fill: #ffffff; stroke: #3679e0; stroke-width: 2\"/>\n      <use xlink:href=\"#m9f5005b184\" x=\"303.60325\" y=\"262.18625\" style=\"fill: #ffffff; stroke: #3679e0; stroke-width: 2\"/>\n     </g>\n    </g>\n    <g id=\"text_17\">\n     <!-- Número de artigos -->\n     <g transform=\"translate(319.44325 267.22625) scale(0.144 -0.144)\">\n      <defs>\n       <path id=\"Roboto-Regular-4e\" d=\"M 4003 0 \nL 3388 0 \nL 1197 3519 \nL 1178 3513 \nL 1178 0 \nL 563 0 \nL 563 4550 \nL 1178 4550 \nL 3369 1038 \nL 3388 1044 \nL 3388 4550 \nL 4003 4550 \nL 4003 0 \nz\n\" transform=\"scale(0.015625)\"/>\n       <path id=\"Roboto-Regular-72\" d=\"M 2047 2838 \nL 1731 2856 \nQ 1488 2856 1320 2740 \nQ 1153 2625 1063 2416 \nL 1063 0 \nL 447 0 \nL 447 3381 \nL 997 3381 \nL 1056 2888 \nQ 1200 3150 1411 3297 \nQ 1622 3444 1897 3444 \nQ 1966 3444 2028 3433 \nQ 2091 3422 2131 3409 \nL 2047 2838 \nz\n\" transform=\"scale(0.015625)\"/>\n       <path id=\"Roboto-Regular-64\" d=\"M 306 1628 \nQ 306 2444 654 2944 \nQ 1003 3444 1631 3444 \nQ 1928 3444 2158 3334 \nQ 2388 3225 2550 3016 \nL 2550 4875 \nL 3166 4875 \nL 3166 0 \nL 2663 0 \nL 2591 416 \nQ 2425 178 2184 56 \nQ 1944 -66 1625 -66 \nQ 1006 -66 656 382 \nQ 306 831 306 1563 \nL 306 1628 \nz\nM 922 1563 \nQ 922 1050 1131 742 \nQ 1341 434 1781 434 \nQ 2056 434 2243 559 \nQ 2431 684 2550 909 \nL 2550 2488 \nQ 2431 2697 2242 2820 \nQ 2053 2944 1788 2944 \nQ 1344 2944 1133 2578 \nQ 922 2213 922 1628 \nL 922 1563 \nz\n\" transform=\"scale(0.015625)\"/>\n       <path id=\"Roboto-Regular-67\" d=\"M 313 1628 \nQ 313 2444 669 2944 \nQ 1025 3444 1653 3444 \nQ 1975 3444 2219 3314 \nQ 2463 3184 2625 2941 \nL 2700 3381 \nL 3191 3381 \nL 3191 -19 \nQ 3191 -669 2812 -1017 \nQ 2434 -1366 1722 -1366 \nQ 1478 -1366 1195 -1298 \nQ 913 -1231 697 -1116 \nL 853 -638 \nQ 1019 -731 1253 -789 \nQ 1488 -847 1716 -847 \nQ 2166 -847 2370 -642 \nQ 2575 -438 2575 -19 \nL 2575 363 \nQ 2409 150 2178 42 \nQ 1947 -66 1647 -66 \nQ 1025 -66 669 384 \nQ 313 834 313 1563 \nL 313 1628 \nz\nM 928 1563 \nQ 928 1053 1143 743 \nQ 1359 434 1800 434 \nQ 2078 434 2265 561 \nQ 2453 688 2575 919 \nL 2575 2475 \nQ 2456 2691 2265 2817 \nQ 2075 2944 1806 2944 \nQ 1366 2944 1147 2575 \nQ 928 2206 928 1628 \nL 928 1563 \nz\n\" transform=\"scale(0.015625)\"/>\n      </defs>\n      <use xlink:href=\"#Roboto-Regular-4e\"/>\n      <use xlink:href=\"#Roboto-Regular-fa\" x=\"71.337891\"/>\n      <use xlink:href=\"#Roboto-Regular-6d\" x=\"128.173828\"/>\n      <use xlink:href=\"#Roboto-Regular-65\" x=\"215.576172\"/>\n      <use xlink:href=\"#Roboto-Regular-72\" x=\"268.457031\"/>\n      <use xlink:href=\"#Roboto-Regular-6f\" x=\"302.734375\"/>\n      <use xlink:href=\"#Roboto-Regular-20\" x=\"359.570312\"/>\n      <use xlink:href=\"#Roboto-Regular-64\" x=\"384.423828\"/>\n      <use xlink:href=\"#Roboto-Regular-65\" x=\"441.259766\"/>\n      <use xlink:href=\"#Roboto-Regular-20\" x=\"494.140625\"/>\n      <use xlink:href=\"#Roboto-Regular-61\" x=\"518.994141\"/>\n      <use xlink:href=\"#Roboto-Regular-72\" x=\"573.974609\"/>\n      <use xlink:href=\"#Roboto-Regular-74\" x=\"608.251953\"/>\n      <use xlink:href=\"#Roboto-Regular-69\" x=\"642.822266\"/>\n      <use xlink:href=\"#Roboto-Regular-67\" x=\"668.017578\"/>\n      <use xlink:href=\"#Roboto-Regular-6f\" x=\"724.853516\"/>\n      <use xlink:href=\"#Roboto-Regular-73\" x=\"781.689453\"/>\n     </g>\n    </g>\n    <g id=\"line2d_45\">\n     <path d=\"M 283.44325 283.4285 \nL 293.52325 283.4285 \nL 303.60325 283.4285 \n\" style=\"fill: none; stroke: #ff0000; stroke-width: 1.5\"/>\n    </g>\n    <g id=\"text_18\">\n     <!-- média = 10.0 -->\n     <g transform=\"translate(319.44325 288.4685) scale(0.144 -0.144)\">\n      <defs>\n       <path id=\"Roboto-Regular-e9\" d=\"M 1850 -66 \nQ 1144 -66 726 404 \nQ 309 875 309 1625 \nL 309 1763 \nQ 309 2484 739 2964 \nQ 1169 3444 1756 3444 \nQ 2441 3444 2791 3031 \nQ 3141 2619 3141 1931 \nL 3141 1547 \nL 947 1547 \nL 938 1531 \nQ 947 1044 1184 730 \nQ 1422 416 1850 416 \nQ 2163 416 2398 505 \nQ 2634 594 2806 750 \nL 3047 350 \nQ 2866 172 2569 53 \nQ 2272 -66 1850 -66 \nz\nM 1756 2959 \nQ 1447 2959 1228 2698 \nQ 1009 2438 959 2044 \nL 966 2028 \nL 2525 2028 \nL 2525 2109 \nQ 2525 2472 2331 2715 \nQ 2138 2959 1756 2959 \nz\nM 2044 4680 \nL 2762 4680 \nL 2769 4661 \nL 1925 3848 \nL 1465 3848 \nL 2044 4680 \nz\n\" transform=\"scale(0.015625)\"/>\n       <path id=\"Roboto-Regular-3d\" d=\"M 3081 2572 \nL 475 2572 \nL 475 3084 \nL 3081 3084 \nL 3081 2572 \nz\nM 3081 1272 \nL 475 1272 \nL 475 1784 \nL 3081 1784 \nL 3081 1272 \nz\n\" transform=\"scale(0.015625)\"/>\n       <path id=\"Roboto-Regular-2e\" d=\"M 1119 0 \nL 503 0 \nL 503 631 \nL 1119 631 \nL 1119 0 \nz\n\" transform=\"scale(0.015625)\"/>\n      </defs>\n      <use xlink:href=\"#Roboto-Regular-6d\"/>\n      <use xlink:href=\"#Roboto-Regular-e9\" x=\"87.402344\"/>\n      <use xlink:href=\"#Roboto-Regular-64\" x=\"140.283203\"/>\n      <use xlink:href=\"#Roboto-Regular-69\" x=\"197.119141\"/>\n      <use xlink:href=\"#Roboto-Regular-61\" x=\"222.314453\"/>\n      <use xlink:href=\"#Roboto-Regular-20\" x=\"277.294922\"/>\n      <use xlink:href=\"#Roboto-Regular-3d\" x=\"302.148438\"/>\n      <use xlink:href=\"#Roboto-Regular-20\" x=\"358.447266\"/>\n      <use xlink:href=\"#Roboto-Regular-31\" x=\"383.300781\"/>\n      <use xlink:href=\"#Roboto-Regular-30\" x=\"439.599609\"/>\n      <use xlink:href=\"#Roboto-Regular-2e\" x=\"495.947266\"/>\n      <use xlink:href=\"#Roboto-Regular-30\" x=\"522.705078\"/>\n     </g>\n    </g>\n   </g>\n  </g>\n </g>\n <defs>\n  <clipPath id=\"p64babb9fa8\">\n   <rect x=\"27.42025\" y=\"24.4175\" width=\"425.088\" height=\"279.936\"/>\n  </clipPath>\n </defs>\n</svg>\n"
          },
          "metadata": {}
        }
      ]
    },
    {
      "cell_type": "code",
      "source": [
        "mpl.rc('font', family='Roboto')\n",
        "\n",
        "year_dic =  OrderedDict(sorted(data_summary.citations.items()))\n",
        "media = sum( data_summary.citations.values() ) / 5.0\n",
        "\n",
        "mpl.figure( 1, figsize=(1.2*6,1.2*4) )\n",
        "mpl.plot( year_dic.keys(), year_dic.values(), 'o-',\n",
        "         linewidth=2, color='#3679e0',\n",
        "         markersize=7, markerfacecolor='w', markeredgewidth=2,\n",
        "         markeredgecolor='#3679e0', label='Número de citações' )\n",
        "mpl.hlines( media, 2018, 2023, color='r', label=f\"média = {media:.1f}\" )\n",
        "mpl.xlim( (2018-0.2, 2023+.2) )\n",
        "mpl.ylim( (0, 350) )\n",
        "mpl.legend(loc='lower left')\n",
        "mpl.grid()\n",
        "mpl.xlabel( 'Ano' )\n",
        "mpl.title( \"Citações das publicações dos últimos 5 anos\" )\n",
        "mpl.gca().set_axisbelow(True)\n",
        "mpl.savefig( 'IDMEC_Citations_PubsLast5Years.svg', bbox_inches='tight', pad_inches=0.02 )"
      ],
      "metadata": {
        "colab": {
          "base_uri": "https://localhost:8080/",
          "height": 487
        },
        "id": "mjUASXXMDaDl",
        "outputId": "b6a08c3a-adf6-43d9-969a-a091e78d2b41"
      },
      "execution_count": 135,
      "outputs": [
        {
          "output_type": "display_data",
          "data": {
            "text/plain": [
              "<Figure size 576x384 with 1 Axes>"
            ],
            "image/svg+xml": "<?xml version=\"1.0\" encoding=\"utf-8\" standalone=\"no\"?>\n<!DOCTYPE svg PUBLIC \"-//W3C//DTD SVG 1.1//EN\"\n  \"http://www.w3.org/Graphics/SVG/1.1/DTD/svg11.dtd\">\n<svg xmlns:xlink=\"http://www.w3.org/1999/xlink\" width=\"468.294625pt\" height=\"349.88475pt\" viewBox=\"0 0 468.294625 349.88475\" xmlns=\"http://www.w3.org/2000/svg\" version=\"1.1\">\n <metadata>\n  <rdf:RDF xmlns:dc=\"http://purl.org/dc/elements/1.1/\" xmlns:cc=\"http://creativecommons.org/ns#\" xmlns:rdf=\"http://www.w3.org/1999/02/22-rdf-syntax-ns#\">\n   <cc:Work>\n    <dc:type rdf:resource=\"http://purl.org/dc/dcmitype/StillImage\"/>\n    <dc:date>2024-06-10T15:37:47.799292</dc:date>\n    <dc:format>image/svg+xml</dc:format>\n    <dc:creator>\n     <cc:Agent>\n      <dc:title>Matplotlib v3.7.1, https://matplotlib.org/</dc:title>\n     </cc:Agent>\n    </dc:creator>\n   </cc:Work>\n  </rdf:RDF>\n </metadata>\n <defs>\n  <style type=\"text/css\">*{stroke-linejoin: round; stroke-linecap: butt}</style>\n </defs>\n <g id=\"figure_1\">\n  <g id=\"patch_1\">\n   <path d=\"M 0 349.88475 \nL 468.294625 349.88475 \nL 468.294625 0 \nL 0 0 \nz\n\" style=\"fill: #ffffff\"/>\n  </g>\n  <g id=\"axes_1\">\n   <g id=\"patch_2\">\n    <path d=\"M 35.53375 304.3535 \nL 460.62175 304.3535 \nL 460.62175 24.4175 \nL 35.53375 24.4175 \nz\n\" style=\"fill: #ffffff\"/>\n   </g>\n   <g id=\"matplotlib.axis_1\">\n    <g id=\"xtick_1\">\n     <g id=\"line2d_1\">\n      <path d=\"M 51.27775 304.3535 \nL 51.27775 24.4175 \n\" clip-path=\"url(#p7b6d272197)\" style=\"fill: none; stroke-dasharray: 1,3; stroke-dashoffset: 0; stroke: #000000; stroke-width: 0.5\"/>\n     </g>\n     <g id=\"line2d_2\">\n      <defs>\n       <path id=\"me1503d03b2\" d=\"M 0 0 \nL 0 -4 \n\" style=\"stroke: #000000; stroke-width: 0.5\"/>\n      </defs>\n      <g>\n       <use xlink:href=\"#me1503d03b2\" x=\"51.27775\" y=\"304.3535\" style=\"stroke: #000000; stroke-width: 0.5\"/>\n      </g>\n     </g>\n     <g id=\"line2d_3\">\n      <defs>\n       <path id=\"m980ce874ee\" d=\"M 0 0 \nL 0 4 \n\" style=\"stroke: #000000; stroke-width: 0.5\"/>\n      </defs>\n      <g>\n       <use xlink:href=\"#m980ce874ee\" x=\"51.27775\" y=\"24.4175\" style=\"stroke: #000000; stroke-width: 0.5\"/>\n      </g>\n     </g>\n     <g id=\"text_1\">\n      <!-- 2018 -->\n      <g transform=\"translate(35.060875 319.32225) scale(0.144 -0.144)\">\n       <defs>\n        <path id=\"Roboto-Regular-32\" d=\"M 3319 0 \nL 369 0 \nL 369 422 \nL 1859 2078 \nQ 2259 2525 2401 2787 \nQ 2544 3050 2544 3325 \nQ 2544 3666 2345 3898 \nQ 2147 4131 1819 4131 \nQ 1347 4131 1123 3889 \nQ 900 3647 900 3209 \nL 309 3209 \nL 303 3228 \nQ 288 3816 694 4216 \nQ 1100 4616 1819 4616 \nQ 2431 4616 2795 4258 \nQ 3159 3900 3159 3347 \nQ 3159 2975 2939 2601 \nQ 2719 2228 2322 1800 \nL 1125 497 \nL 1131 481 \nL 3319 481 \nL 3319 0 \nz\n\" transform=\"scale(0.015625)\"/>\n        <path id=\"Roboto-Regular-30\" d=\"M 3250 1734 \nQ 3250 863 2864 398 \nQ 2478 -66 1806 -66 \nQ 1134 -66 743 400 \nQ 353 866 353 1734 \nL 353 2813 \nQ 353 3681 742 4148 \nQ 1131 4616 1800 4616 \nQ 2472 4616 2861 4148 \nQ 3250 3681 3250 2813 \nL 3250 1734 \nz\nM 2634 2944 \nQ 2634 3534 2420 3832 \nQ 2206 4131 1800 4131 \nQ 1394 4131 1181 3832 \nQ 969 3534 969 2944 \nL 969 1609 \nQ 969 1019 1184 717 \nQ 1400 416 1806 416 \nQ 2213 416 2423 716 \nQ 2634 1016 2634 1609 \nL 2634 2944 \nz\n\" transform=\"scale(0.015625)\"/>\n        <path id=\"Roboto-Regular-31\" d=\"M 2128 0 \nL 1513 0 \nL 1513 3950 \nL 581 3938 \nL 581 4381 \nL 2128 4550 \nL 2128 0 \nz\n\" transform=\"scale(0.015625)\"/>\n        <path id=\"Roboto-Regular-38\" d=\"M 3156 3363 \nQ 3156 3006 2956 2739 \nQ 2756 2472 2416 2341 \nQ 2809 2203 3045 1909 \nQ 3281 1616 3281 1231 \nQ 3281 600 2870 267 \nQ 2459 -66 1803 -66 \nQ 1134 -66 726 267 \nQ 319 600 319 1231 \nQ 319 1616 550 1909 \nQ 781 2203 1175 2341 \nQ 834 2472 640 2739 \nQ 447 3006 447 3363 \nQ 447 3963 817 4289 \nQ 1188 4616 1797 4616 \nQ 2397 4616 2776 4289 \nQ 3156 3963 3156 3363 \nz\nM 2669 1244 \nQ 2669 1619 2422 1859 \nQ 2175 2100 1797 2100 \nQ 1413 2100 1173 1859 \nQ 934 1619 934 1244 \nQ 934 856 1171 636 \nQ 1409 416 1803 416 \nQ 2188 416 2428 637 \nQ 2669 859 2669 1244 \nz\nM 2541 3350 \nQ 2541 3688 2330 3909 \nQ 2119 4131 1797 4131 \nQ 1469 4131 1266 3917 \nQ 1063 3703 1063 3350 \nQ 1063 3003 1267 2793 \nQ 1472 2584 1803 2584 \nQ 2128 2584 2334 2793 \nQ 2541 3003 2541 3350 \nz\n\" transform=\"scale(0.015625)\"/>\n       </defs>\n       <use xlink:href=\"#Roboto-Regular-32\"/>\n       <use xlink:href=\"#Roboto-Regular-30\" x=\"56.298828\"/>\n       <use xlink:href=\"#Roboto-Regular-31\" x=\"112.646484\"/>\n       <use xlink:href=\"#Roboto-Regular-38\" x=\"168.945312\"/>\n      </g>\n     </g>\n    </g>\n    <g id=\"xtick_2\">\n     <g id=\"line2d_4\">\n      <path d=\"M 129.99775 304.3535 \nL 129.99775 24.4175 \n\" clip-path=\"url(#p7b6d272197)\" style=\"fill: none; stroke-dasharray: 1,3; stroke-dashoffset: 0; stroke: #000000; stroke-width: 0.5\"/>\n     </g>\n     <g id=\"line2d_5\">\n      <g>\n       <use xlink:href=\"#me1503d03b2\" x=\"129.99775\" y=\"304.3535\" style=\"stroke: #000000; stroke-width: 0.5\"/>\n      </g>\n     </g>\n     <g id=\"line2d_6\">\n      <g>\n       <use xlink:href=\"#m980ce874ee\" x=\"129.99775\" y=\"24.4175\" style=\"stroke: #000000; stroke-width: 0.5\"/>\n      </g>\n     </g>\n     <g id=\"text_2\">\n      <!-- 2019 -->\n      <g transform=\"translate(113.780875 319.32225) scale(0.144 -0.144)\">\n       <defs>\n        <path id=\"Roboto-Regular-39\" d=\"M 1597 416 \nQ 2047 416 2317 756 \nQ 2588 1097 2588 1769 \nL 2588 1975 \nQ 2434 1753 2204 1639 \nQ 1975 1525 1694 1525 \nQ 1034 1525 646 1933 \nQ 259 2341 259 3056 \nQ 259 3741 670 4178 \nQ 1081 4616 1669 4616 \nQ 2381 4616 2792 4170 \nQ 3203 3725 3203 2859 \nL 3203 1775 \nQ 3203 884 2758 409 \nQ 2313 -66 1597 -66 \nQ 1356 -66 1107 -20 \nQ 859 25 663 119 \nL 756 591 \nQ 941 494 1139 455 \nQ 1338 416 1597 416 \nz\nM 1694 2006 \nQ 2034 2006 2261 2153 \nQ 2488 2300 2588 2528 \nL 2588 2922 \nQ 2588 3519 2358 3825 \nQ 2128 4131 1688 4131 \nQ 1350 4131 1112 3829 \nQ 875 3528 875 3056 \nQ 875 2588 1095 2297 \nQ 1316 2006 1694 2006 \nz\n\" transform=\"scale(0.015625)\"/>\n       </defs>\n       <use xlink:href=\"#Roboto-Regular-32\"/>\n       <use xlink:href=\"#Roboto-Regular-30\" x=\"56.298828\"/>\n       <use xlink:href=\"#Roboto-Regular-31\" x=\"112.646484\"/>\n       <use xlink:href=\"#Roboto-Regular-39\" x=\"168.945312\"/>\n      </g>\n     </g>\n    </g>\n    <g id=\"xtick_3\">\n     <g id=\"line2d_7\">\n      <path d=\"M 208.71775 304.3535 \nL 208.71775 24.4175 \n\" clip-path=\"url(#p7b6d272197)\" style=\"fill: none; stroke-dasharray: 1,3; stroke-dashoffset: 0; stroke: #000000; stroke-width: 0.5\"/>\n     </g>\n     <g id=\"line2d_8\">\n      <g>\n       <use xlink:href=\"#me1503d03b2\" x=\"208.71775\" y=\"304.3535\" style=\"stroke: #000000; stroke-width: 0.5\"/>\n      </g>\n     </g>\n     <g id=\"line2d_9\">\n      <g>\n       <use xlink:href=\"#m980ce874ee\" x=\"208.71775\" y=\"24.4175\" style=\"stroke: #000000; stroke-width: 0.5\"/>\n      </g>\n     </g>\n     <g id=\"text_3\">\n      <!-- 2020 -->\n      <g transform=\"translate(192.4975 319.32225) scale(0.144 -0.144)\">\n       <use xlink:href=\"#Roboto-Regular-32\"/>\n       <use xlink:href=\"#Roboto-Regular-30\" x=\"56.298828\"/>\n       <use xlink:href=\"#Roboto-Regular-32\" x=\"112.646484\"/>\n       <use xlink:href=\"#Roboto-Regular-30\" x=\"168.945312\"/>\n      </g>\n     </g>\n    </g>\n    <g id=\"xtick_4\">\n     <g id=\"line2d_10\">\n      <path d=\"M 287.43775 304.3535 \nL 287.43775 24.4175 \n\" clip-path=\"url(#p7b6d272197)\" style=\"fill: none; stroke-dasharray: 1,3; stroke-dashoffset: 0; stroke: #000000; stroke-width: 0.5\"/>\n     </g>\n     <g id=\"line2d_11\">\n      <g>\n       <use xlink:href=\"#me1503d03b2\" x=\"287.43775\" y=\"304.3535\" style=\"stroke: #000000; stroke-width: 0.5\"/>\n      </g>\n     </g>\n     <g id=\"line2d_12\">\n      <g>\n       <use xlink:href=\"#m980ce874ee\" x=\"287.43775\" y=\"24.4175\" style=\"stroke: #000000; stroke-width: 0.5\"/>\n      </g>\n     </g>\n     <g id=\"text_4\">\n      <!-- 2021 -->\n      <g transform=\"translate(271.220875 319.32225) scale(0.144 -0.144)\">\n       <use xlink:href=\"#Roboto-Regular-32\"/>\n       <use xlink:href=\"#Roboto-Regular-30\" x=\"56.298828\"/>\n       <use xlink:href=\"#Roboto-Regular-32\" x=\"112.646484\"/>\n       <use xlink:href=\"#Roboto-Regular-31\" x=\"168.945312\"/>\n      </g>\n     </g>\n    </g>\n    <g id=\"xtick_5\">\n     <g id=\"line2d_13\">\n      <path d=\"M 366.15775 304.3535 \nL 366.15775 24.4175 \n\" clip-path=\"url(#p7b6d272197)\" style=\"fill: none; stroke-dasharray: 1,3; stroke-dashoffset: 0; stroke: #000000; stroke-width: 0.5\"/>\n     </g>\n     <g id=\"line2d_14\">\n      <g>\n       <use xlink:href=\"#me1503d03b2\" x=\"366.15775\" y=\"304.3535\" style=\"stroke: #000000; stroke-width: 0.5\"/>\n      </g>\n     </g>\n     <g id=\"line2d_15\">\n      <g>\n       <use xlink:href=\"#m980ce874ee\" x=\"366.15775\" y=\"24.4175\" style=\"stroke: #000000; stroke-width: 0.5\"/>\n      </g>\n     </g>\n     <g id=\"text_5\">\n      <!-- 2022 -->\n      <g transform=\"translate(349.940875 319.32225) scale(0.144 -0.144)\">\n       <use xlink:href=\"#Roboto-Regular-32\"/>\n       <use xlink:href=\"#Roboto-Regular-30\" x=\"56.298828\"/>\n       <use xlink:href=\"#Roboto-Regular-32\" x=\"112.646484\"/>\n       <use xlink:href=\"#Roboto-Regular-32\" x=\"168.945312\"/>\n      </g>\n     </g>\n    </g>\n    <g id=\"xtick_6\">\n     <g id=\"line2d_16\">\n      <path d=\"M 444.87775 304.3535 \nL 444.87775 24.4175 \n\" clip-path=\"url(#p7b6d272197)\" style=\"fill: none; stroke-dasharray: 1,3; stroke-dashoffset: 0; stroke: #000000; stroke-width: 0.5\"/>\n     </g>\n     <g id=\"line2d_17\">\n      <g>\n       <use xlink:href=\"#me1503d03b2\" x=\"444.87775\" y=\"304.3535\" style=\"stroke: #000000; stroke-width: 0.5\"/>\n      </g>\n     </g>\n     <g id=\"line2d_18\">\n      <g>\n       <use xlink:href=\"#m980ce874ee\" x=\"444.87775\" y=\"24.4175\" style=\"stroke: #000000; stroke-width: 0.5\"/>\n      </g>\n     </g>\n     <g id=\"text_6\">\n      <!-- 2023 -->\n      <g transform=\"translate(428.660875 319.32225) scale(0.144 -0.144)\">\n       <defs>\n        <path id=\"Roboto-Regular-33\" d=\"M 1213 2559 \nL 1750 2559 \nQ 2159 2559 2329 2764 \nQ 2500 2969 2500 3334 \nQ 2500 3725 2306 3928 \nQ 2113 4131 1734 4131 \nQ 1375 4131 1158 3920 \nQ 941 3709 941 3359 \nL 350 3359 \nL 344 3378 \nQ 328 3894 717 4255 \nQ 1106 4616 1734 4616 \nQ 2366 4616 2741 4280 \nQ 3116 3944 3116 3322 \nQ 3116 3041 2945 2761 \nQ 2775 2481 2434 2334 \nQ 2844 2200 3014 1912 \nQ 3184 1625 3184 1269 \nQ 3184 647 2776 290 \nQ 2369 -66 1734 -66 \nQ 1113 -66 705 270 \nQ 297 606 313 1181 \nL 322 1200 \nL 909 1200 \nQ 909 841 1129 628 \nQ 1350 416 1734 416 \nQ 2125 416 2347 628 \nQ 2569 841 2569 1256 \nQ 2569 1678 2372 1878 \nQ 2175 2078 1750 2078 \nL 1213 2078 \nL 1213 2559 \nz\n\" transform=\"scale(0.015625)\"/>\n       </defs>\n       <use xlink:href=\"#Roboto-Regular-32\"/>\n       <use xlink:href=\"#Roboto-Regular-30\" x=\"56.298828\"/>\n       <use xlink:href=\"#Roboto-Regular-32\" x=\"112.646484\"/>\n       <use xlink:href=\"#Roboto-Regular-33\" x=\"168.945312\"/>\n      </g>\n     </g>\n    </g>\n    <g id=\"text_7\">\n     <!-- Ano -->\n     <g transform=\"translate(233.80275 339.43475) scale(0.16 -0.16)\">\n      <defs>\n       <path id=\"Roboto-Regular-41\" d=\"M 3028 1172 \nL 1122 1172 \nL 691 0 \nL 63 0 \nL 1822 4550 \nL 2350 4550 \nL 4081 0 \nL 3453 0 \nL 3028 1172 \nz\nM 1313 1688 \nL 2844 1688 \nL 2094 3759 \nL 2075 3759 \nL 1313 1688 \nz\n\" transform=\"scale(0.015625)\"/>\n       <path id=\"Roboto-Regular-6e\" d=\"M 997 3381 \nL 1041 2878 \nQ 1209 3147 1464 3295 \nQ 1719 3444 2044 3444 \nQ 2591 3444 2891 3123 \nQ 3191 2803 3191 2134 \nL 3191 0 \nL 2575 0 \nL 2575 2122 \nQ 2575 2569 2398 2756 \nQ 2222 2944 1859 2944 \nQ 1594 2944 1389 2816 \nQ 1184 2688 1063 2466 \nL 1063 0 \nL 447 0 \nL 447 3381 \nL 997 3381 \nz\n\" transform=\"scale(0.015625)\"/>\n       <path id=\"Roboto-Regular-6f\" d=\"M 303 1722 \nQ 303 2472 709 2958 \nQ 1116 3444 1813 3444 \nQ 2516 3444 2923 2959 \nQ 3331 2475 3331 1722 \nL 3331 1653 \nQ 3331 897 2925 415 \nQ 2519 -66 1819 -66 \nQ 1119 -66 711 417 \nQ 303 900 303 1653 \nL 303 1722 \nz\nM 919 1653 \nQ 919 1116 1145 766 \nQ 1372 416 1819 416 \nQ 2259 416 2487 766 \nQ 2716 1116 2716 1653 \nL 2716 1722 \nQ 2716 2253 2486 2606 \nQ 2256 2959 1813 2959 \nQ 1372 2959 1145 2606 \nQ 919 2253 919 1722 \nL 919 1653 \nz\n\" transform=\"scale(0.015625)\"/>\n      </defs>\n      <use xlink:href=\"#Roboto-Regular-41\"/>\n      <use xlink:href=\"#Roboto-Regular-6e\" x=\"64.746094\"/>\n      <use xlink:href=\"#Roboto-Regular-6f\" x=\"121.582031\"/>\n     </g>\n    </g>\n   </g>\n   <g id=\"matplotlib.axis_2\">\n    <g id=\"ytick_1\">\n     <g id=\"line2d_19\">\n      <path d=\"M 35.53375 304.3535 \nL 460.62175 304.3535 \n\" clip-path=\"url(#p7b6d272197)\" style=\"fill: none; stroke-dasharray: 1,3; stroke-dashoffset: 0; stroke: #000000; stroke-width: 0.5\"/>\n     </g>\n     <g id=\"line2d_20\">\n      <defs>\n       <path id=\"m467ee4b2a8\" d=\"M 0 0 \nL 4 0 \n\" style=\"stroke: #000000; stroke-width: 0.5\"/>\n      </defs>\n      <g>\n       <use xlink:href=\"#m467ee4b2a8\" x=\"35.53375\" y=\"304.3535\" style=\"stroke: #000000; stroke-width: 0.5\"/>\n      </g>\n     </g>\n     <g id=\"line2d_21\">\n      <defs>\n       <path id=\"m7832579a91\" d=\"M 0 0 \nL -4 0 \n\" style=\"stroke: #000000; stroke-width: 0.5\"/>\n      </defs>\n      <g>\n       <use xlink:href=\"#m7832579a91\" x=\"460.62175\" y=\"304.3535\" style=\"stroke: #000000; stroke-width: 0.5\"/>\n      </g>\n     </g>\n     <g id=\"text_8\">\n      <!-- 0 -->\n      <g transform=\"translate(23.42025 308.375375) scale(0.144 -0.144)\">\n       <use xlink:href=\"#Roboto-Regular-30\"/>\n      </g>\n     </g>\n    </g>\n    <g id=\"ytick_2\">\n     <g id=\"line2d_22\">\n      <path d=\"M 35.53375 264.362643 \nL 460.62175 264.362643 \n\" clip-path=\"url(#p7b6d272197)\" style=\"fill: none; stroke-dasharray: 1,3; stroke-dashoffset: 0; stroke: #000000; stroke-width: 0.5\"/>\n     </g>\n     <g id=\"line2d_23\">\n      <g>\n       <use xlink:href=\"#m467ee4b2a8\" x=\"35.53375\" y=\"264.362643\" style=\"stroke: #000000; stroke-width: 0.5\"/>\n      </g>\n     </g>\n     <g id=\"line2d_24\">\n      <g>\n       <use xlink:href=\"#m7832579a91\" x=\"460.62175\" y=\"264.362643\" style=\"stroke: #000000; stroke-width: 0.5\"/>\n      </g>\n     </g>\n     <g id=\"text_9\">\n      <!-- 50 -->\n      <g transform=\"translate(15.3135 268.384518) scale(0.144 -0.144)\">\n       <defs>\n        <path id=\"Roboto-Regular-35\" d=\"M 547 2053 \nL 809 4550 \nL 3088 4550 \nL 3088 4003 \nL 1331 4003 \nL 1181 2725 \nQ 1325 2831 1501 2901 \nQ 1678 2972 1909 2978 \nQ 2538 2984 2898 2568 \nQ 3259 2153 3259 1450 \nQ 3259 766 2892 350 \nQ 2525 -66 1822 -66 \nQ 1244 -66 859 250 \nQ 475 566 491 1178 \nL 497 1197 \nL 1053 1197 \nQ 1053 825 1267 620 \nQ 1481 416 1822 416 \nQ 2213 416 2428 691 \nQ 2644 966 2644 1444 \nQ 2644 1881 2425 2162 \nQ 2206 2444 1822 2444 \nQ 1459 2444 1296 2334 \nQ 1134 2225 1059 2000 \nL 547 2053 \nz\n\" transform=\"scale(0.015625)\"/>\n       </defs>\n       <use xlink:href=\"#Roboto-Regular-35\"/>\n       <use xlink:href=\"#Roboto-Regular-30\" x=\"56.298828\"/>\n      </g>\n     </g>\n    </g>\n    <g id=\"ytick_3\">\n     <g id=\"line2d_25\">\n      <path d=\"M 35.53375 224.371786 \nL 460.62175 224.371786 \n\" clip-path=\"url(#p7b6d272197)\" style=\"fill: none; stroke-dasharray: 1,3; stroke-dashoffset: 0; stroke: #000000; stroke-width: 0.5\"/>\n     </g>\n     <g id=\"line2d_26\">\n      <g>\n       <use xlink:href=\"#m467ee4b2a8\" x=\"35.53375\" y=\"224.371786\" style=\"stroke: #000000; stroke-width: 0.5\"/>\n      </g>\n     </g>\n     <g id=\"line2d_27\">\n      <g>\n       <use xlink:href=\"#m7832579a91\" x=\"460.62175\" y=\"224.371786\" style=\"stroke: #000000; stroke-width: 0.5\"/>\n      </g>\n     </g>\n     <g id=\"text_10\">\n      <!-- 100 -->\n      <g transform=\"translate(7.2 228.393661) scale(0.144 -0.144)\">\n       <use xlink:href=\"#Roboto-Regular-31\"/>\n       <use xlink:href=\"#Roboto-Regular-30\" x=\"56.298828\"/>\n       <use xlink:href=\"#Roboto-Regular-30\" x=\"112.646484\"/>\n      </g>\n     </g>\n    </g>\n    <g id=\"ytick_4\">\n     <g id=\"line2d_28\">\n      <path d=\"M 35.53375 184.380929 \nL 460.62175 184.380929 \n\" clip-path=\"url(#p7b6d272197)\" style=\"fill: none; stroke-dasharray: 1,3; stroke-dashoffset: 0; stroke: #000000; stroke-width: 0.5\"/>\n     </g>\n     <g id=\"line2d_29\">\n      <g>\n       <use xlink:href=\"#m467ee4b2a8\" x=\"35.53375\" y=\"184.380929\" style=\"stroke: #000000; stroke-width: 0.5\"/>\n      </g>\n     </g>\n     <g id=\"line2d_30\">\n      <g>\n       <use xlink:href=\"#m7832579a91\" x=\"460.62175\" y=\"184.380929\" style=\"stroke: #000000; stroke-width: 0.5\"/>\n      </g>\n     </g>\n     <g id=\"text_11\">\n      <!-- 150 -->\n      <g transform=\"translate(7.20675 188.402804) scale(0.144 -0.144)\">\n       <use xlink:href=\"#Roboto-Regular-31\"/>\n       <use xlink:href=\"#Roboto-Regular-35\" x=\"56.298828\"/>\n       <use xlink:href=\"#Roboto-Regular-30\" x=\"112.597656\"/>\n      </g>\n     </g>\n    </g>\n    <g id=\"ytick_5\">\n     <g id=\"line2d_31\">\n      <path d=\"M 35.53375 144.390071 \nL 460.62175 144.390071 \n\" clip-path=\"url(#p7b6d272197)\" style=\"fill: none; stroke-dasharray: 1,3; stroke-dashoffset: 0; stroke: #000000; stroke-width: 0.5\"/>\n     </g>\n     <g id=\"line2d_32\">\n      <g>\n       <use xlink:href=\"#m467ee4b2a8\" x=\"35.53375\" y=\"144.390071\" style=\"stroke: #000000; stroke-width: 0.5\"/>\n      </g>\n     </g>\n     <g id=\"line2d_33\">\n      <g>\n       <use xlink:href=\"#m7832579a91\" x=\"460.62175\" y=\"144.390071\" style=\"stroke: #000000; stroke-width: 0.5\"/>\n      </g>\n     </g>\n     <g id=\"text_12\">\n      <!-- 200 -->\n      <g transform=\"translate(7.2 148.411946) scale(0.144 -0.144)\">\n       <use xlink:href=\"#Roboto-Regular-32\"/>\n       <use xlink:href=\"#Roboto-Regular-30\" x=\"56.298828\"/>\n       <use xlink:href=\"#Roboto-Regular-30\" x=\"112.646484\"/>\n      </g>\n     </g>\n    </g>\n    <g id=\"ytick_6\">\n     <g id=\"line2d_34\">\n      <path d=\"M 35.53375 104.399214 \nL 460.62175 104.399214 \n\" clip-path=\"url(#p7b6d272197)\" style=\"fill: none; stroke-dasharray: 1,3; stroke-dashoffset: 0; stroke: #000000; stroke-width: 0.5\"/>\n     </g>\n     <g id=\"line2d_35\">\n      <g>\n       <use xlink:href=\"#m467ee4b2a8\" x=\"35.53375\" y=\"104.399214\" style=\"stroke: #000000; stroke-width: 0.5\"/>\n      </g>\n     </g>\n     <g id=\"line2d_36\">\n      <g>\n       <use xlink:href=\"#m7832579a91\" x=\"460.62175\" y=\"104.399214\" style=\"stroke: #000000; stroke-width: 0.5\"/>\n      </g>\n     </g>\n     <g id=\"text_13\">\n      <!-- 250 -->\n      <g transform=\"translate(7.20675 108.421089) scale(0.144 -0.144)\">\n       <use xlink:href=\"#Roboto-Regular-32\"/>\n       <use xlink:href=\"#Roboto-Regular-35\" x=\"56.298828\"/>\n       <use xlink:href=\"#Roboto-Regular-30\" x=\"112.597656\"/>\n      </g>\n     </g>\n    </g>\n    <g id=\"ytick_7\">\n     <g id=\"line2d_37\">\n      <path d=\"M 35.53375 64.408357 \nL 460.62175 64.408357 \n\" clip-path=\"url(#p7b6d272197)\" style=\"fill: none; stroke-dasharray: 1,3; stroke-dashoffset: 0; stroke: #000000; stroke-width: 0.5\"/>\n     </g>\n     <g id=\"line2d_38\">\n      <g>\n       <use xlink:href=\"#m467ee4b2a8\" x=\"35.53375\" y=\"64.408357\" style=\"stroke: #000000; stroke-width: 0.5\"/>\n      </g>\n     </g>\n     <g id=\"line2d_39\">\n      <g>\n       <use xlink:href=\"#m7832579a91\" x=\"460.62175\" y=\"64.408357\" style=\"stroke: #000000; stroke-width: 0.5\"/>\n      </g>\n     </g>\n     <g id=\"text_14\">\n      <!-- 300 -->\n      <g transform=\"translate(7.2 68.430232) scale(0.144 -0.144)\">\n       <use xlink:href=\"#Roboto-Regular-33\"/>\n       <use xlink:href=\"#Roboto-Regular-30\" x=\"56.298828\"/>\n       <use xlink:href=\"#Roboto-Regular-30\" x=\"112.646484\"/>\n      </g>\n     </g>\n    </g>\n    <g id=\"ytick_8\">\n     <g id=\"line2d_40\">\n      <path d=\"M 35.53375 24.4175 \nL 460.62175 24.4175 \n\" clip-path=\"url(#p7b6d272197)\" style=\"fill: none; stroke-dasharray: 1,3; stroke-dashoffset: 0; stroke: #000000; stroke-width: 0.5\"/>\n     </g>\n     <g id=\"line2d_41\">\n      <g>\n       <use xlink:href=\"#m467ee4b2a8\" x=\"35.53375\" y=\"24.4175\" style=\"stroke: #000000; stroke-width: 0.5\"/>\n      </g>\n     </g>\n     <g id=\"line2d_42\">\n      <g>\n       <use xlink:href=\"#m7832579a91\" x=\"460.62175\" y=\"24.4175\" style=\"stroke: #000000; stroke-width: 0.5\"/>\n      </g>\n     </g>\n     <g id=\"text_15\">\n      <!-- 350 -->\n      <g transform=\"translate(7.20675 28.439375) scale(0.144 -0.144)\">\n       <use xlink:href=\"#Roboto-Regular-33\"/>\n       <use xlink:href=\"#Roboto-Regular-35\" x=\"56.298828\"/>\n       <use xlink:href=\"#Roboto-Regular-30\" x=\"112.597656\"/>\n      </g>\n     </g>\n    </g>\n   </g>\n   <g id=\"line2d_43\">\n    <path d=\"M 51.27775 221.172517 \nL 129.99775 117.996106 \nL 208.71775 33.215489 \nL 287.43775 174.783123 \nL 366.15775 258.763923 \nL 444.87775 265.962277 \n\" clip-path=\"url(#p7b6d272197)\" style=\"fill: none; stroke: #3679e0; stroke-width: 2; stroke-linecap: square\"/>\n    <defs>\n     <path id=\"m80c6d47d4e\" d=\"M 0 3.5 \nC 0.928211 3.5 1.81853 3.131218 2.474874 2.474874 \nC 3.131218 1.81853 3.5 0.928211 3.5 0 \nC 3.5 -0.928211 3.131218 -1.81853 2.474874 -2.474874 \nC 1.81853 -3.131218 0.928211 -3.5 0 -3.5 \nC -0.928211 -3.5 -1.81853 -3.131218 -2.474874 -2.474874 \nC -3.131218 -1.81853 -3.5 -0.928211 -3.5 0 \nC -3.5 0.928211 -3.131218 1.81853 -2.474874 2.474874 \nC -1.81853 3.131218 -0.928211 3.5 0 3.5 \nz\n\" style=\"stroke: #3679e0; stroke-width: 2\"/>\n    </defs>\n    <g clip-path=\"url(#p7b6d272197)\">\n     <use xlink:href=\"#m80c6d47d4e\" x=\"51.27775\" y=\"221.172517\" style=\"fill: #ffffff; stroke: #3679e0; stroke-width: 2\"/>\n     <use xlink:href=\"#m80c6d47d4e\" x=\"129.99775\" y=\"117.996106\" style=\"fill: #ffffff; stroke: #3679e0; stroke-width: 2\"/>\n     <use xlink:href=\"#m80c6d47d4e\" x=\"208.71775\" y=\"33.215489\" style=\"fill: #ffffff; stroke: #3679e0; stroke-width: 2\"/>\n     <use xlink:href=\"#m80c6d47d4e\" x=\"287.43775\" y=\"174.783123\" style=\"fill: #ffffff; stroke: #3679e0; stroke-width: 2\"/>\n     <use xlink:href=\"#m80c6d47d4e\" x=\"366.15775\" y=\"258.763923\" style=\"fill: #ffffff; stroke: #3679e0; stroke-width: 2\"/>\n     <use xlink:href=\"#m80c6d47d4e\" x=\"444.87775\" y=\"265.962277\" style=\"fill: #ffffff; stroke: #3679e0; stroke-width: 2\"/>\n    </g>\n   </g>\n   <g id=\"LineCollection_1\">\n    <path d=\"M 51.27775 153.507987 \nL 444.87775 153.507987 \n\" clip-path=\"url(#p7b6d272197)\" style=\"fill: none; stroke: #ff0000; stroke-width: 1.5\"/>\n   </g>\n   <g id=\"patch_3\">\n    <path d=\"M 35.53375 304.3535 \nL 35.53375 24.4175 \n\" style=\"fill: none; stroke: #000000; stroke-linejoin: miter; stroke-linecap: square\"/>\n   </g>\n   <g id=\"patch_4\">\n    <path d=\"M 460.62175 304.3535 \nL 460.62175 24.4175 \n\" style=\"fill: none; stroke: #000000; stroke-linejoin: miter; stroke-linecap: square\"/>\n   </g>\n   <g id=\"patch_5\">\n    <path d=\"M 35.53375 304.3535 \nL 460.62175 304.3535 \n\" style=\"fill: none; stroke: #000000; stroke-linejoin: miter; stroke-linecap: square\"/>\n   </g>\n   <g id=\"patch_6\">\n    <path d=\"M 35.53375 24.4175 \nL 460.62175 24.4175 \n\" style=\"fill: none; stroke: #000000; stroke-linejoin: miter; stroke-linecap: square\"/>\n   </g>\n   <g id=\"text_16\">\n    <!-- Citações das publicações dos últimos 5 anos -->\n    <g transform=\"translate(85.50275 19.4175) scale(0.16 -0.16)\">\n     <defs>\n      <path id=\"Roboto-Regular-43\" d=\"M 3778 1456 \nL 3784 1438 \nQ 3797 797 3334 365 \nQ 2872 -66 2113 -66 \nQ 1341 -66 855 481 \nQ 369 1028 369 1869 \nL 369 2678 \nQ 369 3519 855 4067 \nQ 1341 4616 2113 4616 \nQ 2884 4616 3340 4205 \nQ 3797 3794 3784 3116 \nL 3778 3097 \nL 3188 3097 \nQ 3188 3575 2906 3853 \nQ 2625 4131 2113 4131 \nQ 1597 4131 1290 3715 \nQ 984 3300 984 2684 \nL 984 1869 \nQ 984 1247 1290 831 \nQ 1597 416 2113 416 \nQ 2625 416 2906 692 \nQ 3188 969 3188 1456 \nL 3778 1456 \nz\n\" transform=\"scale(0.015625)\"/>\n      <path id=\"Roboto-Regular-69\" d=\"M 1113 0 \nL 497 0 \nL 497 3381 \nL 1113 3381 \nL 1113 0 \nz\nM 1113 4247 \nL 497 4247 \nL 497 4875 \nL 1113 4875 \nL 1113 4247 \nz\n\" transform=\"scale(0.015625)\"/>\n      <path id=\"Roboto-Regular-74\" d=\"M 1259 4197 \nL 1259 3381 \nL 1900 3381 \nL 1900 2925 \nL 1259 2925 \nL 1259 872 \nQ 1259 634 1357 537 \nQ 1456 441 1619 441 \nQ 1672 441 1736 453 \nQ 1800 466 1850 484 \nL 1931 63 \nQ 1863 6 1730 -30 \nQ 1597 -66 1463 -66 \nQ 1088 -66 866 161 \nQ 644 388 644 872 \nL 644 2925 \nL 106 2925 \nL 106 3381 \nL 644 3381 \nL 644 4197 \nL 1259 4197 \nz\n\" transform=\"scale(0.015625)\"/>\n      <path id=\"Roboto-Regular-61\" d=\"M 2525 0 \nQ 2494 153 2476 270 \nQ 2459 388 2456 506 \nQ 2284 263 2007 98 \nQ 1731 -66 1413 -66 \nQ 884 -66 607 204 \nQ 331 475 331 950 \nQ 331 1434 723 1707 \nQ 1116 1981 1788 1981 \nL 2456 1981 \nL 2456 2316 \nQ 2456 2613 2275 2786 \nQ 2094 2959 1763 2959 \nQ 1466 2959 1280 2807 \nQ 1094 2656 1094 2444 \nL 506 2444 \nL 500 2463 \nQ 481 2831 848 3137 \nQ 1216 3444 1797 3444 \nQ 2372 3444 2722 3151 \nQ 3072 2859 3072 2309 \nL 3072 681 \nQ 3072 500 3090 331 \nQ 3109 163 3159 0 \nL 2525 0 \nz\nM 1503 450 \nQ 1838 450 2106 622 \nQ 2375 794 2456 1016 \nL 2456 1566 \nL 1766 1566 \nQ 1394 1566 1170 1378 \nQ 947 1191 947 938 \nQ 947 713 1087 581 \nQ 1228 450 1503 450 \nz\n\" transform=\"scale(0.015625)\"/>\n      <path id=\"Roboto-Regular-e7\" d=\"M 1822 416 \nQ 2128 416 2361 605 \nQ 2594 794 2594 1069 \nL 3147 1069 \nL 3153 1050 \nQ 3169 613 2764 273 \nQ 2359 -66 1822 -66 \nQ 1084 -66 693 415 \nQ 303 897 303 1625 \nL 303 1756 \nQ 303 2478 695 2961 \nQ 1088 3444 1822 3444 \nQ 2416 3444 2792 3094 \nQ 3169 2744 3156 2234 \nL 3150 2216 \nL 2594 2216 \nQ 2594 2525 2375 2742 \nQ 2156 2959 1822 2959 \nQ 1338 2959 1130 2611 \nQ 922 2263 922 1756 \nL 922 1625 \nQ 922 1106 1128 761 \nQ 1334 416 1822 416 \nz\nM 1913 0 \nL 1875 -163 \nQ 2078 -197 2212 -325 \nQ 2347 -453 2347 -703 \nQ 2347 -1003 2100 -1181 \nQ 1853 -1359 1394 -1359 \nL 1372 -1019 \nQ 1597 -1019 1734 -942 \nQ 1872 -866 1872 -713 \nQ 1872 -563 1759 -503 \nQ 1647 -444 1375 -422 \nL 1475 0 \nL 1913 0 \nz\n\" transform=\"scale(0.015625)\"/>\n      <path id=\"Roboto-Regular-f5\" d=\"M 303 1722 \nQ 303 2472 709 2958 \nQ 1116 3444 1813 3444 \nQ 2516 3444 2923 2959 \nQ 3331 2475 3331 1722 \nL 3331 1653 \nQ 3331 897 2925 415 \nQ 2519 -66 1819 -66 \nQ 1119 -66 711 417 \nQ 303 900 303 1653 \nL 303 1722 \nz\nM 919 1653 \nQ 919 1116 1145 766 \nQ 1372 416 1819 416 \nQ 2259 416 2487 766 \nQ 2716 1116 2716 1653 \nL 2716 1722 \nQ 2716 2253 2486 2606 \nQ 2256 2959 1813 2959 \nQ 1372 2959 1145 2606 \nQ 919 2253 919 1722 \nL 919 1653 \nz\nM 2903 4787 \nQ 2903 4494 2717 4290 \nQ 2531 4087 2250 4087 \nQ 2028 4087 1787 4232 \nQ 1546 4378 1387 4378 \nQ 1253 4378 1162 4276 \nQ 1071 4175 1071 4031 \nL 734 4112 \nQ 734 4403 918 4617 \nQ 1103 4831 1387 4831 \nQ 1562 4831 1824 4684 \nQ 2087 4537 2250 4537 \nQ 2378 4537 2471 4639 \nQ 2565 4741 2565 4887 \nL 2903 4787 \nz\n\" transform=\"scale(0.015625)\"/>\n      <path id=\"Roboto-Regular-65\" d=\"M 1850 -66 \nQ 1144 -66 726 404 \nQ 309 875 309 1625 \nL 309 1763 \nQ 309 2484 739 2964 \nQ 1169 3444 1756 3444 \nQ 2441 3444 2791 3031 \nQ 3141 2619 3141 1931 \nL 3141 1547 \nL 947 1547 \nL 938 1531 \nQ 947 1044 1184 730 \nQ 1422 416 1850 416 \nQ 2163 416 2398 505 \nQ 2634 594 2806 750 \nL 3047 350 \nQ 2866 172 2569 53 \nQ 2272 -66 1850 -66 \nz\nM 1756 2959 \nQ 1447 2959 1228 2698 \nQ 1009 2438 959 2044 \nL 966 2028 \nL 2525 2028 \nL 2525 2109 \nQ 2525 2472 2331 2715 \nQ 2138 2959 1756 2959 \nz\n\" transform=\"scale(0.015625)\"/>\n      <path id=\"Roboto-Regular-73\" d=\"M 2413 897 \nQ 2413 1100 2258 1231 \nQ 2103 1363 1672 1459 \nQ 1056 1594 745 1823 \nQ 434 2053 434 2450 \nQ 434 2863 784 3153 \nQ 1134 3444 1697 3444 \nQ 2288 3444 2636 3141 \nQ 2984 2838 2969 2403 \nL 2963 2384 \nL 2375 2384 \nQ 2375 2606 2189 2782 \nQ 2003 2959 1697 2959 \nQ 1369 2959 1209 2815 \nQ 1050 2672 1050 2469 \nQ 1050 2269 1190 2153 \nQ 1331 2038 1763 1947 \nQ 2403 1809 2715 1573 \nQ 3028 1338 3028 941 \nQ 3028 491 2664 212 \nQ 2300 -66 1713 -66 \nQ 1066 -66 694 262 \nQ 322 591 341 1028 \nL 347 1047 \nL 934 1047 \nQ 950 719 1178 567 \nQ 1406 416 1713 416 \nQ 2041 416 2227 548 \nQ 2413 681 2413 897 \nz\n\" transform=\"scale(0.015625)\"/>\n      <path id=\"Roboto-Regular-20\" transform=\"scale(0.015625)\"/>\n      <path id=\"Roboto-Regular-64\" d=\"M 306 1628 \nQ 306 2444 654 2944 \nQ 1003 3444 1631 3444 \nQ 1928 3444 2158 3334 \nQ 2388 3225 2550 3016 \nL 2550 4875 \nL 3166 4875 \nL 3166 0 \nL 2663 0 \nL 2591 416 \nQ 2425 178 2184 56 \nQ 1944 -66 1625 -66 \nQ 1006 -66 656 382 \nQ 306 831 306 1563 \nL 306 1628 \nz\nM 922 1563 \nQ 922 1050 1131 742 \nQ 1341 434 1781 434 \nQ 2056 434 2243 559 \nQ 2431 684 2550 909 \nL 2550 2488 \nQ 2431 2697 2242 2820 \nQ 2053 2944 1788 2944 \nQ 1344 2944 1133 2578 \nQ 922 2213 922 1628 \nL 922 1563 \nz\n\" transform=\"scale(0.015625)\"/>\n      <path id=\"Roboto-Regular-70\" d=\"M 3328 1563 \nQ 3328 831 2978 382 \nQ 2628 -66 2013 -66 \nQ 1700 -66 1464 39 \nQ 1228 144 1063 353 \nL 1063 -1300 \nL 447 -1300 \nL 447 3381 \nL 919 3381 \nL 1016 2944 \nQ 1181 3188 1428 3316 \nQ 1675 3444 2003 3444 \nQ 2631 3444 2979 2945 \nQ 3328 2447 3328 1628 \nL 3328 1563 \nz\nM 2713 1628 \nQ 2713 2203 2486 2573 \nQ 2259 2944 1819 2944 \nQ 1553 2944 1365 2823 \nQ 1178 2703 1063 2494 \nL 1063 859 \nQ 1178 650 1365 533 \nQ 1553 416 1825 416 \nQ 2263 416 2488 736 \nQ 2713 1056 2713 1563 \nL 2713 1628 \nz\n\" transform=\"scale(0.015625)\"/>\n      <path id=\"Roboto-Regular-75\" d=\"M 2594 500 \nQ 2434 228 2184 81 \nQ 1934 -66 1606 -66 \nQ 1053 -66 743 287 \nQ 434 641 434 1388 \nL 434 3381 \nL 1050 3381 \nL 1050 1381 \nQ 1050 841 1209 637 \nQ 1369 434 1706 434 \nQ 2034 434 2248 567 \nQ 2463 700 2572 944 \nL 2572 3381 \nL 3188 3381 \nL 3188 0 \nL 2634 0 \nL 2594 500 \nz\n\" transform=\"scale(0.015625)\"/>\n      <path id=\"Roboto-Regular-62\" d=\"M 3334 1563 \nQ 3334 831 2982 382 \nQ 2631 -66 2016 -66 \nQ 1681 -66 1434 64 \nQ 1188 194 1025 447 \nL 950 0 \nL 447 0 \nL 447 4875 \nL 1063 4875 \nL 1063 2981 \nQ 1222 3206 1458 3325 \nQ 1694 3444 2009 3444 \nQ 2634 3444 2984 2944 \nQ 3334 2444 3334 1628 \nL 3334 1563 \nz\nM 2719 1628 \nQ 2719 2209 2505 2576 \nQ 2291 2944 1853 2944 \nQ 1569 2944 1373 2805 \nQ 1178 2666 1063 2431 \nL 1063 966 \nQ 1181 716 1373 575 \nQ 1566 434 1859 434 \nQ 2294 434 2506 743 \nQ 2719 1053 2719 1563 \nL 2719 1628 \nz\n\" transform=\"scale(0.015625)\"/>\n      <path id=\"Roboto-Regular-6c\" d=\"M 1113 0 \nL 497 0 \nL 497 4875 \nL 1113 4875 \nL 1113 0 \nz\n\" transform=\"scale(0.015625)\"/>\n      <path id=\"Roboto-Regular-63\" d=\"M 1822 416 \nQ 2128 416 2361 605 \nQ 2594 794 2594 1069 \nL 3147 1069 \nL 3153 1050 \nQ 3169 613 2764 273 \nQ 2359 -66 1822 -66 \nQ 1084 -66 693 415 \nQ 303 897 303 1625 \nL 303 1756 \nQ 303 2478 695 2961 \nQ 1088 3444 1822 3444 \nQ 2416 3444 2792 3094 \nQ 3169 2744 3156 2234 \nL 3150 2216 \nL 2594 2216 \nQ 2594 2525 2375 2742 \nQ 2156 2959 1822 2959 \nQ 1338 2959 1130 2611 \nQ 922 2263 922 1756 \nL 922 1625 \nQ 922 1106 1128 761 \nQ 1334 416 1822 416 \nz\n\" transform=\"scale(0.015625)\"/>\n      <path id=\"Roboto-Regular-fa\" d=\"M 2594 500 \nQ 2434 228 2184 81 \nQ 1934 -66 1606 -66 \nQ 1053 -66 743 287 \nQ 434 641 434 1388 \nL 434 3381 \nL 1050 3381 \nL 1050 1381 \nQ 1050 841 1209 637 \nQ 1369 434 1706 434 \nQ 2034 434 2248 567 \nQ 2463 700 2572 944 \nL 2572 3381 \nL 3188 3381 \nL 3188 0 \nL 2634 0 \nL 2594 500 \nz\nM 2108 4616 \nL 2826 4616 \nL 2833 4597 \nL 1989 3784 \nL 1529 3784 \nL 2108 4616 \nz\n\" transform=\"scale(0.015625)\"/>\n      <path id=\"Roboto-Regular-6d\" d=\"M 997 3381 \nL 1041 2938 \nQ 1206 3178 1461 3311 \nQ 1716 3444 2053 3444 \nQ 2391 3444 2633 3287 \nQ 2875 3131 2997 2819 \nQ 3156 3106 3418 3275 \nQ 3681 3444 4031 3444 \nQ 4547 3444 4847 3089 \nQ 5147 2734 5147 2022 \nL 5147 0 \nL 4531 0 \nL 4531 2028 \nQ 4531 2528 4359 2736 \nQ 4188 2944 3847 2944 \nQ 3531 2944 3336 2725 \nQ 3141 2506 3106 2172 \nL 3106 2147 \nL 3106 0 \nL 2488 0 \nL 2488 2028 \nQ 2488 2503 2311 2723 \nQ 2134 2944 1803 2944 \nQ 1522 2944 1340 2828 \nQ 1159 2713 1063 2503 \nL 1063 0 \nL 447 0 \nL 447 3381 \nL 997 3381 \nz\n\" transform=\"scale(0.015625)\"/>\n     </defs>\n     <use xlink:href=\"#Roboto-Regular-43\"/>\n     <use xlink:href=\"#Roboto-Regular-69\" x=\"63.330078\"/>\n     <use xlink:href=\"#Roboto-Regular-74\" x=\"88.525391\"/>\n     <use xlink:href=\"#Roboto-Regular-61\" x=\"123.095703\"/>\n     <use xlink:href=\"#Roboto-Regular-e7\" x=\"178.076172\"/>\n     <use xlink:href=\"#Roboto-Regular-f5\" x=\"231.152344\"/>\n     <use xlink:href=\"#Roboto-Regular-65\" x=\"287.988281\"/>\n     <use xlink:href=\"#Roboto-Regular-73\" x=\"340.869141\"/>\n     <use xlink:href=\"#Roboto-Regular-20\" x=\"393.164062\"/>\n     <use xlink:href=\"#Roboto-Regular-64\" x=\"418.017578\"/>\n     <use xlink:href=\"#Roboto-Regular-61\" x=\"474.853516\"/>\n     <use xlink:href=\"#Roboto-Regular-73\" x=\"529.833984\"/>\n     <use xlink:href=\"#Roboto-Regular-20\" x=\"582.128906\"/>\n     <use xlink:href=\"#Roboto-Regular-70\" x=\"606.982422\"/>\n     <use xlink:href=\"#Roboto-Regular-75\" x=\"663.818359\"/>\n     <use xlink:href=\"#Roboto-Regular-62\" x=\"720.654297\"/>\n     <use xlink:href=\"#Roboto-Regular-6c\" x=\"777.490234\"/>\n     <use xlink:href=\"#Roboto-Regular-69\" x=\"802.685547\"/>\n     <use xlink:href=\"#Roboto-Regular-63\" x=\"827.880859\"/>\n     <use xlink:href=\"#Roboto-Regular-61\" x=\"880.957031\"/>\n     <use xlink:href=\"#Roboto-Regular-e7\" x=\"935.9375\"/>\n     <use xlink:href=\"#Roboto-Regular-f5\" x=\"989.013672\"/>\n     <use xlink:href=\"#Roboto-Regular-65\" x=\"1045.849609\"/>\n     <use xlink:href=\"#Roboto-Regular-73\" x=\"1098.730469\"/>\n     <use xlink:href=\"#Roboto-Regular-20\" x=\"1151.025391\"/>\n     <use xlink:href=\"#Roboto-Regular-64\" x=\"1175.878906\"/>\n     <use xlink:href=\"#Roboto-Regular-6f\" x=\"1232.714844\"/>\n     <use xlink:href=\"#Roboto-Regular-73\" x=\"1289.550781\"/>\n     <use xlink:href=\"#Roboto-Regular-20\" x=\"1341.845703\"/>\n     <use xlink:href=\"#Roboto-Regular-fa\" x=\"1366.699219\"/>\n     <use xlink:href=\"#Roboto-Regular-6c\" x=\"1423.535156\"/>\n     <use xlink:href=\"#Roboto-Regular-74\" x=\"1448.730469\"/>\n     <use xlink:href=\"#Roboto-Regular-69\" x=\"1483.300781\"/>\n     <use xlink:href=\"#Roboto-Regular-6d\" x=\"1508.496094\"/>\n     <use xlink:href=\"#Roboto-Regular-6f\" x=\"1595.898438\"/>\n     <use xlink:href=\"#Roboto-Regular-73\" x=\"1652.734375\"/>\n     <use xlink:href=\"#Roboto-Regular-20\" x=\"1705.029297\"/>\n     <use xlink:href=\"#Roboto-Regular-35\" x=\"1729.882812\"/>\n     <use xlink:href=\"#Roboto-Regular-20\" x=\"1786.181641\"/>\n     <use xlink:href=\"#Roboto-Regular-61\" x=\"1811.035156\"/>\n     <use xlink:href=\"#Roboto-Regular-6e\" x=\"1866.015625\"/>\n     <use xlink:href=\"#Roboto-Regular-6f\" x=\"1922.851562\"/>\n     <use xlink:href=\"#Roboto-Regular-73\" x=\"1979.6875\"/>\n    </g>\n   </g>\n   <g id=\"legend_1\">\n    <g id=\"patch_7\">\n     <path d=\"M 42.73375 297.1535 \nL 224.45725 297.1535 \nL 224.45725 250.48625 \nL 42.73375 250.48625 \nz\n\" style=\"fill: #ffffff; stroke: #000000; stroke-linejoin: miter\"/>\n    </g>\n    <g id=\"line2d_44\">\n     <path d=\"M 52.81375 262.202 \nL 72.97375 262.202 \n\" style=\"fill: none; stroke: #3679e0; stroke-width: 2; stroke-linecap: square\"/>\n     <g>\n      <use xlink:href=\"#m80c6d47d4e\" x=\"52.81375\" y=\"262.202\" style=\"fill: #ffffff; stroke: #3679e0; stroke-width: 2\"/>\n      <use xlink:href=\"#m80c6d47d4e\" x=\"72.97375\" y=\"262.202\" style=\"fill: #ffffff; stroke: #3679e0; stroke-width: 2\"/>\n     </g>\n    </g>\n    <g id=\"text_17\">\n     <!-- Número de citações -->\n     <g transform=\"translate(88.81375 267.242) scale(0.144 -0.144)\">\n      <defs>\n       <path id=\"Roboto-Regular-4e\" d=\"M 4003 0 \nL 3388 0 \nL 1197 3519 \nL 1178 3513 \nL 1178 0 \nL 563 0 \nL 563 4550 \nL 1178 4550 \nL 3369 1038 \nL 3388 1044 \nL 3388 4550 \nL 4003 4550 \nL 4003 0 \nz\n\" transform=\"scale(0.015625)\"/>\n       <path id=\"Roboto-Regular-72\" d=\"M 2047 2838 \nL 1731 2856 \nQ 1488 2856 1320 2740 \nQ 1153 2625 1063 2416 \nL 1063 0 \nL 447 0 \nL 447 3381 \nL 997 3381 \nL 1056 2888 \nQ 1200 3150 1411 3297 \nQ 1622 3444 1897 3444 \nQ 1966 3444 2028 3433 \nQ 2091 3422 2131 3409 \nL 2047 2838 \nz\n\" transform=\"scale(0.015625)\"/>\n      </defs>\n      <use xlink:href=\"#Roboto-Regular-4e\"/>\n      <use xlink:href=\"#Roboto-Regular-fa\" x=\"71.337891\"/>\n      <use xlink:href=\"#Roboto-Regular-6d\" x=\"128.173828\"/>\n      <use xlink:href=\"#Roboto-Regular-65\" x=\"215.576172\"/>\n      <use xlink:href=\"#Roboto-Regular-72\" x=\"268.457031\"/>\n      <use xlink:href=\"#Roboto-Regular-6f\" x=\"302.734375\"/>\n      <use xlink:href=\"#Roboto-Regular-20\" x=\"359.570312\"/>\n      <use xlink:href=\"#Roboto-Regular-64\" x=\"384.423828\"/>\n      <use xlink:href=\"#Roboto-Regular-65\" x=\"441.259766\"/>\n      <use xlink:href=\"#Roboto-Regular-20\" x=\"494.140625\"/>\n      <use xlink:href=\"#Roboto-Regular-63\" x=\"518.994141\"/>\n      <use xlink:href=\"#Roboto-Regular-69\" x=\"572.070312\"/>\n      <use xlink:href=\"#Roboto-Regular-74\" x=\"597.265625\"/>\n      <use xlink:href=\"#Roboto-Regular-61\" x=\"631.835938\"/>\n      <use xlink:href=\"#Roboto-Regular-e7\" x=\"686.816406\"/>\n      <use xlink:href=\"#Roboto-Regular-f5\" x=\"739.892578\"/>\n      <use xlink:href=\"#Roboto-Regular-65\" x=\"796.728516\"/>\n      <use xlink:href=\"#Roboto-Regular-73\" x=\"849.609375\"/>\n     </g>\n    </g>\n    <g id=\"line2d_45\">\n     <path d=\"M 52.81375 283.4285 \nL 62.89375 283.4285 \nL 72.97375 283.4285 \n\" style=\"fill: none; stroke: #ff0000; stroke-width: 1.5\"/>\n    </g>\n    <g id=\"text_18\">\n     <!-- média = 188.6 -->\n     <g transform=\"translate(88.81375 288.4685) scale(0.144 -0.144)\">\n      <defs>\n       <path id=\"Roboto-Regular-e9\" d=\"M 1850 -66 \nQ 1144 -66 726 404 \nQ 309 875 309 1625 \nL 309 1763 \nQ 309 2484 739 2964 \nQ 1169 3444 1756 3444 \nQ 2441 3444 2791 3031 \nQ 3141 2619 3141 1931 \nL 3141 1547 \nL 947 1547 \nL 938 1531 \nQ 947 1044 1184 730 \nQ 1422 416 1850 416 \nQ 2163 416 2398 505 \nQ 2634 594 2806 750 \nL 3047 350 \nQ 2866 172 2569 53 \nQ 2272 -66 1850 -66 \nz\nM 1756 2959 \nQ 1447 2959 1228 2698 \nQ 1009 2438 959 2044 \nL 966 2028 \nL 2525 2028 \nL 2525 2109 \nQ 2525 2472 2331 2715 \nQ 2138 2959 1756 2959 \nz\nM 2044 4680 \nL 2762 4680 \nL 2769 4661 \nL 1925 3848 \nL 1465 3848 \nL 2044 4680 \nz\n\" transform=\"scale(0.015625)\"/>\n       <path id=\"Roboto-Regular-3d\" d=\"M 3081 2572 \nL 475 2572 \nL 475 3084 \nL 3081 3084 \nL 3081 2572 \nz\nM 3081 1272 \nL 475 1272 \nL 475 1784 \nL 3081 1784 \nL 3081 1272 \nz\n\" transform=\"scale(0.015625)\"/>\n       <path id=\"Roboto-Regular-2e\" d=\"M 1119 0 \nL 503 0 \nL 503 631 \nL 1119 631 \nL 1119 0 \nz\n\" transform=\"scale(0.015625)\"/>\n       <path id=\"Roboto-Regular-36\" d=\"M 2109 4616 \nQ 2344 4616 2573 4562 \nQ 2803 4509 2953 4428 \nL 2822 3956 \nQ 2669 4034 2501 4082 \nQ 2334 4131 2109 4131 \nQ 1622 4131 1323 3740 \nQ 1025 3350 1025 2722 \nL 1025 2650 \nQ 1225 2825 1483 2923 \nQ 1741 3022 2038 3022 \nQ 2647 3022 3009 2600 \nQ 3372 2178 3372 1531 \nQ 3372 825 2986 379 \nQ 2600 -66 1956 -66 \nQ 1288 -66 850 418 \nQ 413 903 413 1784 \nL 413 2653 \nQ 413 3528 900 4072 \nQ 1388 4616 2109 4616 \nz\nM 1900 2563 \nQ 1584 2563 1362 2434 \nQ 1141 2306 1025 2094 \nL 1025 1725 \nQ 1025 1097 1290 756 \nQ 1556 416 1956 416 \nQ 2334 416 2545 736 \nQ 2756 1056 2756 1531 \nQ 2756 1981 2529 2272 \nQ 2303 2563 1900 2563 \nz\n\" transform=\"scale(0.015625)\"/>\n      </defs>\n      <use xlink:href=\"#Roboto-Regular-6d\"/>\n      <use xlink:href=\"#Roboto-Regular-e9\" x=\"87.402344\"/>\n      <use xlink:href=\"#Roboto-Regular-64\" x=\"140.283203\"/>\n      <use xlink:href=\"#Roboto-Regular-69\" x=\"197.119141\"/>\n      <use xlink:href=\"#Roboto-Regular-61\" x=\"222.314453\"/>\n      <use xlink:href=\"#Roboto-Regular-20\" x=\"277.294922\"/>\n      <use xlink:href=\"#Roboto-Regular-3d\" x=\"302.148438\"/>\n      <use xlink:href=\"#Roboto-Regular-20\" x=\"358.447266\"/>\n      <use xlink:href=\"#Roboto-Regular-31\" x=\"383.300781\"/>\n      <use xlink:href=\"#Roboto-Regular-38\" x=\"439.599609\"/>\n      <use xlink:href=\"#Roboto-Regular-38\" x=\"495.898438\"/>\n      <use xlink:href=\"#Roboto-Regular-2e\" x=\"552.197266\"/>\n      <use xlink:href=\"#Roboto-Regular-36\" x=\"578.955078\"/>\n     </g>\n    </g>\n   </g>\n  </g>\n </g>\n <defs>\n  <clipPath id=\"p7b6d272197\">\n   <rect x=\"35.53375\" y=\"24.4175\" width=\"425.088\" height=\"279.936\"/>\n  </clipPath>\n </defs>\n</svg>\n"
          },
          "metadata": {}
        }
      ]
    },
    {
      "cell_type": "code",
      "source": [],
      "metadata": {
        "id": "SppFzUX9u3yU"
      },
      "execution_count": 108,
      "outputs": []
    }
  ]
}