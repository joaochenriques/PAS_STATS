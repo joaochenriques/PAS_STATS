{
  "nbformat": 4,
  "nbformat_minor": 0,
  "metadata": {
    "colab": {
      "provenance": [],
      "include_colab_link": true
    },
    "kernelspec": {
      "name": "python3",
      "display_name": "Python 3"
    },
    "language_info": {
      "name": "python"
    }
  },
  "cells": [
    {
      "cell_type": "markdown",
      "metadata": {
        "id": "view-in-github",
        "colab_type": "text"
      },
      "source": [
        "<a href=\"https://colab.research.google.com/github/joaochenriques/WaveEnergyStatistics/blob/main/WaveEnergyStatistics_IST_PAS.ipynb\" target=\"_parent\"><img src=\"https://colab.research.google.com/assets/colab-badge.svg\" alt=\"Open In Colab\"/></a>"
      ]
    },
    {
      "cell_type": "markdown",
      "source": [
        "# Wave energy statistics from 2002 to 2024"
      ],
      "metadata": {
        "id": "-kiE3jAe8qSr"
      }
    },
    {
      "cell_type": "code",
      "execution_count": 20,
      "metadata": {
        "id": "5UYVFDSKmZ4z"
      },
      "outputs": [],
      "source": [
        "import pandas as pd\n",
        "import numpy as np\n",
        "import matplotlib\n",
        "import matplotlib.pyplot as mpl\n",
        "import sys, pathlib\n",
        "import itertools\n",
        "from scipy import optimize\n",
        "from sortedcontainers import SortedDict, SortedSet\n",
        "import re\n",
        "\n",
        "from matplotlib.ticker import (MultipleLocator, FormatStrFormatter,AutoMinorLocator)\n",
        "\n",
        "import pathlib, subprocess\n",
        "\n",
        "def cmdcall( cmd ):\n",
        "    output = subprocess.getoutput( cmd )\n",
        "    print(output)\n",
        "\n",
        "if not pathlib.Path(\"mpl_utils.py\").exists():\n",
        "  cmdcall( 'curl -O https://raw.githubusercontent.com/joaochenriques/ipynb_libs/main/mpl_utils.py' )\n",
        "\n",
        "import mpl_utils as mut\n",
        "mut.config_plots()\n",
        "\n",
        "markers = ( 'o', '^', 's', 'v', 'H', 'X', 'P' )\n",
        "\n",
        "from matplotlib_inline.backend_inline import set_matplotlib_formats\n",
        "set_matplotlib_formats('svg')"
      ]
    },
    {
      "cell_type": "code",
      "source": [
        "cmdcall( 'wget https://github.com/MaxGhenis/random/raw/master/Roboto-Regular.ttf' )\n",
        "matplotlib.font_manager.fontManager.addfont('Roboto-Regular.ttf')\n",
        "# import matplotlib.font_manager\n",
        "# for f in matplotlib.font_manager.fontManager.ttflist:\n",
        "#     print(f.name)"
      ],
      "metadata": {
        "id": "BhkYia6GLahx",
        "outputId": "1bf755ee-b2c5-4f02-d481-a846f56bf3b1",
        "colab": {
          "base_uri": "https://localhost:8080/"
        }
      },
      "execution_count": 21,
      "outputs": [
        {
          "output_type": "stream",
          "name": "stdout",
          "text": [
            "--2024-09-14 20:09:14--  https://github.com/MaxGhenis/random/raw/master/Roboto-Regular.ttf\n",
            "Resolving github.com (github.com)... 140.82.116.3\n",
            "Connecting to github.com (github.com)|140.82.116.3|:443... connected.\n",
            "HTTP request sent, awaiting response... 302 Found\n",
            "Location: https://raw.githubusercontent.com/MaxGhenis/random/master/Roboto-Regular.ttf [following]\n",
            "--2024-09-14 20:09:14--  https://raw.githubusercontent.com/MaxGhenis/random/master/Roboto-Regular.ttf\n",
            "Resolving raw.githubusercontent.com (raw.githubusercontent.com)... 185.199.111.133, 185.199.109.133, 185.199.110.133, ...\n",
            "Connecting to raw.githubusercontent.com (raw.githubusercontent.com)|185.199.111.133|:443... connected.\n",
            "HTTP request sent, awaiting response... 200 OK\n",
            "Length: 145348 (142K) [application/octet-stream]\n",
            "Saving to: ‘Roboto-Regular.ttf.1’\n",
            "\n",
            "     0K .......... .......... .......... .......... .......... 35% 3.24M 0s\n",
            "    50K .......... .......... .......... .......... .......... 70% 23.8M 0s\n",
            "   100K .......... .......... .......... .......... .         100% 7.77M=0.02s\n",
            "\n",
            "2024-09-14 20:09:14 (6.19 MB/s) - ‘Roboto-Regular.ttf.1’ saved [145348/145348]\n",
            "\n"
          ]
        }
      ]
    },
    {
      "cell_type": "code",
      "source": [
        "cmdcall( 'pip install pylatex' )\n",
        "from pylatex import LongTable, Tabular, MultiColumn, MultiRow, TextColor\n",
        "from pylatex.utils import bold"
      ],
      "metadata": {
        "id": "P7v1R0kr7ogk",
        "outputId": "91cb6f9d-17b5-4a01-84b0-d32d68b9ccef",
        "colab": {
          "base_uri": "https://localhost:8080/"
        }
      },
      "execution_count": 22,
      "outputs": [
        {
          "output_type": "stream",
          "name": "stdout",
          "text": [
            "Requirement already satisfied: pylatex in /usr/local/lib/python3.10/dist-packages (1.4.2)\n",
            "Requirement already satisfied: ordered-set in /usr/local/lib/python3.10/dist-packages (from pylatex) (4.1.0)\n"
          ]
        }
      ]
    },
    {
      "cell_type": "code",
      "source": [
        "cmdcall( 'pip install font-roboto' )"
      ],
      "metadata": {
        "id": "bsr-WcMCC1CR",
        "outputId": "226e673c-3be9-4c95-aa4a-cd95ab232a7a",
        "colab": {
          "base_uri": "https://localhost:8080/"
        }
      },
      "execution_count": 23,
      "outputs": [
        {
          "output_type": "stream",
          "name": "stdout",
          "text": [
            "Requirement already satisfied: font-roboto in /usr/local/lib/python3.10/dist-packages (0.0.1)\n"
          ]
        }
      ]
    },
    {
      "cell_type": "code",
      "source": [
        "cmdcall( 'pip install unidecode' )\n",
        "from unidecode import unidecode"
      ],
      "metadata": {
        "colab": {
          "base_uri": "https://localhost:8080/"
        },
        "id": "MO8671tdxGps",
        "outputId": "cad83923-6bd2-47d4-e077-fff87958364b"
      },
      "execution_count": 24,
      "outputs": [
        {
          "output_type": "stream",
          "name": "stdout",
          "text": [
            "Requirement already satisfied: unidecode in /usr/local/lib/python3.10/dist-packages (1.3.8)\n"
          ]
        }
      ]
    },
    {
      "cell_type": "code",
      "source": [
        "cmdcall( 'pip install dataclassy' )\n",
        "from dataclassy import dataclass"
      ],
      "metadata": {
        "id": "-RikPqO55cJE",
        "outputId": "9866a0f9-667d-4035-e053-13f0214674db",
        "colab": {
          "base_uri": "https://localhost:8080/"
        }
      },
      "execution_count": 25,
      "outputs": [
        {
          "output_type": "stream",
          "name": "stdout",
          "text": [
            "Requirement already satisfied: dataclassy in /usr/local/lib/python3.10/dist-packages (1.0.1)\n"
          ]
        }
      ]
    },
    {
      "cell_type": "code",
      "source": [
        "cmdcall( 'pip install iso3166' )\n",
        "from iso3166 import countries\n",
        "\n",
        "country_lst = []\n",
        "for c in countries:\n",
        "    country_lst.append( c.name )"
      ],
      "metadata": {
        "id": "llW3nHzIsEiN",
        "outputId": "11281651-360a-4a1e-e5f4-f8e078b887d9",
        "colab": {
          "base_uri": "https://localhost:8080/"
        }
      },
      "execution_count": 26,
      "outputs": [
        {
          "output_type": "stream",
          "name": "stdout",
          "text": [
            "Requirement already satisfied: iso3166 in /usr/local/lib/python3.10/dist-packages (2.1.1)\n"
          ]
        }
      ]
    },
    {
      "cell_type": "code",
      "source": [
        "def left_align( df ):\n",
        "    left_aligned_df = df.style.set_properties(**{'text-align': 'left'})\n",
        "    left_aligned_df = left_aligned_df.set_table_styles(\n",
        "        [dict(selector='th', props=[('text-align', 'left')])]\n",
        "    )\n",
        "    return left_aligned_df"
      ],
      "metadata": {
        "id": "oe4vRxXeeqX-"
      },
      "execution_count": 27,
      "outputs": []
    },
    {
      "cell_type": "code",
      "source": [
        "filename = 'scimagojr 2023.csv'\n",
        "\n",
        "#if not pathlib.Path( f\"{filename}\").exists():\n",
        "#    cmdcall( f'curl -O https://raw.githubusercontent.com/joaochenriques/PAS_STATS/main/{filename}' )\n",
        "\n",
        "df_Q = pd.read_csv( filename, sep=\";\" )\n",
        "\n",
        "df_Q.keys()"
      ],
      "metadata": {
        "colab": {
          "base_uri": "https://localhost:8080/"
        },
        "id": "MNIJkD9YS4_l",
        "outputId": "a4305351-4c5c-4cb0-a364-a99c47e975f7"
      },
      "execution_count": 28,
      "outputs": [
        {
          "output_type": "execute_result",
          "data": {
            "text/plain": [
              "Index(['Rank', 'Sourceid', 'Title', 'Type', 'Issn', 'SJR', 'SJR Best Quartile',\n",
              "       'H index', 'Total Docs. (2023)', 'Total Docs. (3years)', 'Total Refs.',\n",
              "       'Total Cites (3years)', 'Citable Docs. (3years)',\n",
              "       'Cites / Doc. (2years)', 'Ref. / Doc.', '%Female', 'Overton', 'SDG',\n",
              "       'Country', 'Region', 'Publisher', 'Coverage', 'Categories', 'Areas'],\n",
              "      dtype='object')"
            ]
          },
          "metadata": {},
          "execution_count": 28
        }
      ]
    },
    {
      "cell_type": "code",
      "source": [
        "query = \\\n",
        "'''\n",
        "AUTHKEY ( wave-energy ) AND PUBYEAR > 2018 AND DOCTYPE ( ar OR re ) AND (\n",
        "    LIMIT-TO ( EXACTSRCTITLE , \"Nature Communications\" ) OR\n",
        "    LIMIT-TO ( EXACTSRCTITLE , \"IEEE Transactions on Sustainable Energy\" ) OR\n",
        "    LIMIT-TO ( EXACTSRCTITLE , \"Renewable and Sustainable Energy Reviews\" ) OR\n",
        "    LIMIT-TO ( EXACTSRCTITLE , \"Applied Energy\" ) OR\n",
        "    LIMIT-TO ( EXACTSRCTITLE , \"Energy Conversion and Management\" ) OR\n",
        "    LIMIT-TO ( EXACTSRCTITLE , \"Energy Conversion and Management X\" ) OR\n",
        "    LIMIT-TO ( EXACTSRCTITLE , \"IEEE Transactions on Energy Conversion\" ) OR\n",
        "    LIMIT-TO ( EXACTSRCTITLE , \"IEEE Transactions on Control Systems Technology\" ) OR\n",
        "    LIMIT-TO ( EXACTSRCTITLE , \"Energy\" ) OR\n",
        "    LIMIT-TO ( EXACTSRCTITLE , \"Renewable Energy\" ) OR\n",
        "    LIMIT-TO ( EXACTSRCTITLE , \"Sustainable Energy Technologies and Assessments\" ) OR\n",
        "    LIMIT-TO ( EXACTSRCTITLE , \"Journal of Fluid Mechanics\" ) OR\n",
        "    LIMIT-TO ( EXACTSRCTITLE , \"Coastal Engineering\" ) OR\n",
        "    LIMIT-TO ( EXACTSRCTITLE , \"Nonlinear Dynamics\" ) OR\n",
        "    LIMIT-TO ( EXACTSRCTITLE , \"Ocean Engineering\" ) OR\n",
        "    LIMIT-TO ( EXACTSRCTITLE , \"IEEE Journal of Oceanic Engineering\" ) OR\n",
        "    LIMIT-TO ( EXACTSRCTITLE , \"Applied Ocean Research\" ) OR\n",
        "    LIMIT-TO ( EXACTSRCTITLE , \"Marine Structures\" ) OR\n",
        "    LIMIT-TO ( EXACTSRCTITLE , \"Energy Reports\" ) OR\n",
        "    LIMIT-TO ( EXACTSRCTITLE , \"Journal of Fluids and Structures\" ) OR\n",
        "    LIMIT-TO ( EXACTSRCTITLE , \"Frontiers in Marine Science\" ) OR\n",
        "    LIMIT-TO ( EXACTSRCTITLE , \"Scientific Reports\" ) OR\n",
        "    LIMIT-TO ( EXACTSRCTITLE , \"Journal of Hydrodynamics\" ) OR\n",
        "    LIMIT-TO ( EXACTSRCTITLE , \"IET Renewable Power Generation\" ) OR\n",
        "    LIMIT-TO ( EXACTSRCTITLE , \"Energies\" ) OR\n",
        "    LIMIT-TO ( EXACTSRCTITLE , \"IET Electric Power Applications\" ) OR\n",
        "    LIMIT-TO ( EXACTSRCTITLE , \"Ships and Offshore Structures\" ) OR\n",
        "    LIMIT-TO ( EXACTSRCTITLE , \"Frontiers in Energy Research\" ) OR\n",
        "    LIMIT-TO ( EXACTSRCTITLE , \"Journal of Marine Science and Engineering\" ) OR\n",
        "    LIMIT-TO ( EXACTSRCTITLE , \"Journal of Offshore Mechanics and Arctic Engineering\" ) OR\n",
        "    LIMIT-TO ( EXACTSRCTITLE , \"Journal of Ocean Engineering and Marine Energy\" ) OR\n",
        "    LIMIT-TO ( EXACTSRCTITLE , \"Journal of Marine Science and Application\" ) OR\n",
        "    LIMIT-TO ( EXACTSRCTITLE , \"Fluids\" )\n",
        ")\n",
        "'''"
      ],
      "metadata": {
        "id": "rJYldm99f-FF"
      },
      "execution_count": 29,
      "outputs": []
    },
    {
      "cell_type": "code",
      "source": [
        "DB_journals = SortedSet()\n",
        "\n",
        "for line in query.split( '\\n'):\n",
        "    name = re.findall('\"([^\"]*)\"', line )\n",
        "    if name:\n",
        "        DB_journals.update( name )\n",
        "DB_journals"
      ],
      "metadata": {
        "colab": {
          "base_uri": "https://localhost:8080/"
        },
        "id": "Dg1hgaqOgKeD",
        "outputId": "b101ab8a-131a-4093-93b5-ea40b32a4e35"
      },
      "execution_count": 30,
      "outputs": [
        {
          "output_type": "execute_result",
          "data": {
            "text/plain": [
              "SortedSet(['Applied Energy', 'Applied Ocean Research', 'Coastal Engineering', 'Energies', 'Energy', 'Energy Conversion and Management', 'Energy Conversion and Management X', 'Energy Reports', 'Fluids', 'Frontiers in Energy Research', 'Frontiers in Marine Science', 'IEEE Journal of Oceanic Engineering', 'IEEE Transactions on Control Systems Technology', 'IEEE Transactions on Energy Conversion', 'IEEE Transactions on Sustainable Energy', 'IET Electric Power Applications', 'IET Renewable Power Generation', 'Journal of Fluid Mechanics', 'Journal of Fluids and Structures', 'Journal of Hydrodynamics', 'Journal of Marine Science and Application', 'Journal of Marine Science and Engineering', 'Journal of Ocean Engineering and Marine Energy', 'Journal of Offshore Mechanics and Arctic Engineering', 'Marine Structures', 'Nature Communications', 'Nonlinear Dynamics', 'Ocean Engineering', 'Renewable Energy', 'Renewable and Sustainable Energy Reviews', 'Scientific Reports', 'Ships and Offshore Structures', 'Sustainable Energy Technologies and Assessments'])"
            ]
          },
          "metadata": {},
          "execution_count": 30
        }
      ]
    },
    {
      "cell_type": "code",
      "source": [
        "DB_journals_lwr = list( map( lambda x: x.lower(), DB_journals ) )\n",
        "\n",
        "for n, ( journal, Qn ) in enumerate( zip( df_Q['Title'], df_Q['SJR Best Quartile'] ) ):\n",
        "    if journal.lower() in DB_journals_lwr and Qn < 'Q3':\n",
        "        print( f'LIMIT-TO ( EXACTSRCTITLE , \"{journal}\" ) OR ' )"
      ],
      "metadata": {
        "colab": {
          "base_uri": "https://localhost:8080/"
        },
        "id": "gzMidGyIW93K",
        "outputId": "a2f5bb2c-b4ff-4816-bbb3-94e1a35121e3"
      },
      "execution_count": 31,
      "outputs": [
        {
          "output_type": "stream",
          "name": "stdout",
          "text": [
            "LIMIT-TO ( EXACTSRCTITLE , \"Nature Communications\" ) OR \n",
            "LIMIT-TO ( EXACTSRCTITLE , \"IEEE Transactions on Sustainable Energy\" ) OR \n",
            "LIMIT-TO ( EXACTSRCTITLE , \"Renewable and Sustainable Energy Reviews\" ) OR \n",
            "LIMIT-TO ( EXACTSRCTITLE , \"Applied Energy\" ) OR \n",
            "LIMIT-TO ( EXACTSRCTITLE , \"Energy Conversion and Management\" ) OR \n",
            "LIMIT-TO ( EXACTSRCTITLE , \"IEEE Transactions on Energy Conversion\" ) OR \n",
            "LIMIT-TO ( EXACTSRCTITLE , \"IEEE Transactions on Control Systems Technology\" ) OR \n",
            "LIMIT-TO ( EXACTSRCTITLE , \"Energy\" ) OR \n",
            "LIMIT-TO ( EXACTSRCTITLE , \"Renewable Energy\" ) OR \n",
            "LIMIT-TO ( EXACTSRCTITLE , \"Sustainable Energy Technologies and Assessments\" ) OR \n",
            "LIMIT-TO ( EXACTSRCTITLE , \"Journal of Fluid Mechanics\" ) OR \n",
            "LIMIT-TO ( EXACTSRCTITLE , \"Coastal Engineering\" ) OR \n",
            "LIMIT-TO ( EXACTSRCTITLE , \"Nonlinear Dynamics\" ) OR \n",
            "LIMIT-TO ( EXACTSRCTITLE , \"Ocean Engineering\" ) OR \n",
            "LIMIT-TO ( EXACTSRCTITLE , \"IEEE Journal of Oceanic Engineering\" ) OR \n",
            "LIMIT-TO ( EXACTSRCTITLE , \"Applied Ocean Research\" ) OR \n",
            "LIMIT-TO ( EXACTSRCTITLE , \"Marine Structures\" ) OR \n",
            "LIMIT-TO ( EXACTSRCTITLE , \"Energy Reports\" ) OR \n",
            "LIMIT-TO ( EXACTSRCTITLE , \"Journal of Fluids and Structures\" ) OR \n",
            "LIMIT-TO ( EXACTSRCTITLE , \"Frontiers in Marine Science\" ) OR \n",
            "LIMIT-TO ( EXACTSRCTITLE , \"Scientific Reports\" ) OR \n",
            "LIMIT-TO ( EXACTSRCTITLE , \"Journal of Hydrodynamics\" ) OR \n",
            "LIMIT-TO ( EXACTSRCTITLE , \"IET Renewable Power Generation\" ) OR \n",
            "LIMIT-TO ( EXACTSRCTITLE , \"Energies\" ) OR \n",
            "LIMIT-TO ( EXACTSRCTITLE , \"IET Electric Power Applications\" ) OR \n",
            "LIMIT-TO ( EXACTSRCTITLE , \"Ships and Offshore Structures\" ) OR \n",
            "LIMIT-TO ( EXACTSRCTITLE , \"Frontiers in Energy Research\" ) OR \n",
            "LIMIT-TO ( EXACTSRCTITLE , \"Journal of Marine Science and Engineering\" ) OR \n",
            "LIMIT-TO ( EXACTSRCTITLE , \"Journal of Offshore Mechanics and Arctic Engineering\" ) OR \n",
            "LIMIT-TO ( EXACTSRCTITLE , \"Journal of Ocean Engineering and Marine Energy\" ) OR \n",
            "LIMIT-TO ( EXACTSRCTITLE , \"Journal of Marine Science and Application\" ) OR \n",
            "LIMIT-TO ( EXACTSRCTITLE , \"Fluids\" ) OR \n"
          ]
        }
      ]
    },
    {
      "cell_type": "code",
      "source": [
        "filename = 'scopus_20240914_since_2003.csv'\n",
        "\n",
        "if not pathlib.Path( f\"{filename}\").exists():\n",
        "    cmdcall( f'curl -O https://raw.githubusercontent.com/joaochenriques/PAS_STATS/main/{filename}' )\n",
        "\n",
        "df = pd.read_csv( filename )"
      ],
      "metadata": {
        "id": "nB9IJvu6mlv-"
      },
      "execution_count": 32,
      "outputs": []
    },
    {
      "cell_type": "code",
      "source": [
        "authors_lst = df['Authors']\n",
        "authors_ID_lst = df['Author(s) ID']\n",
        "affiliations_lst = df['Affiliations']\n",
        "title_lst = df['Title']\n",
        "journal_lst = df['Source title']\n",
        "year_lst = df['Year']\n",
        "citations_lst = df['Cited by']\n",
        "DOI_lst = df['DOI']\n",
        "stage_lst = df['Publication Stage']\n",
        "\n",
        "replacements_dic = {\n",
        "    'Ireland (formerly at the University of Plymouth)': 'Ireland',\n",
        "    'Univ. Paris6': 'France',\n",
        "    'Chinese Academy of Sciences': 'China',\n",
        "    'Instituto Superior Tx000E9': 'Portugal'\n",
        "}"
      ],
      "metadata": {
        "id": "NqQTY6x5t5KB"
      },
      "execution_count": 33,
      "outputs": []
    },
    {
      "cell_type": "markdown",
      "source": [
        "# Max number of table entries"
      ],
      "metadata": {
        "id": "042vG6GmAZKQ"
      }
    },
    {
      "cell_type": "code",
      "source": [
        "max_entries = 20\n",
        "\n",
        "global_tab = {}"
      ],
      "metadata": {
        "id": "9pCqVemcAX07"
      },
      "execution_count": 34,
      "outputs": []
    },
    {
      "cell_type": "markdown",
      "source": [
        "# Countries ordered by percentage of the authors's country"
      ],
      "metadata": {
        "id": "EK5Xo34HS62d"
      }
    },
    {
      "cell_type": "code",
      "source": [
        "countries_frac_dic = {}\n",
        "total_valid_papers = 0\n",
        "\n",
        "for n, ( affiliations, stage ) in enumerate( zip( affiliations_lst, stage_lst ) ):\n",
        "    if stage == 'Final' and affiliations == affiliations: # detect NANs\n",
        "        total_valid_papers += 1\n",
        "\n",
        "        institutions_lst = affiliations.split( ';' )\n",
        "        frac = 1.0 / len(institutions_lst)\n",
        "\n",
        "        for institution in institutions_lst:\n",
        "            country = institution.rsplit( ',', 1 )[-1].strip()\n",
        "\n",
        "            if country in replacements_dic:\n",
        "                country = replacements_dic[country]\n",
        "\n",
        "            if not country in countries_frac_dic:\n",
        "                countries_frac_dic[country] = frac\n",
        "            else:\n",
        "                countries_frac_dic[country] += frac\n",
        "\n",
        "sorted_country_frac_rank = { k: v for k, v in sorted( countries_frac_dic.items(), key=lambda item: item[1], reverse=True ) }\n",
        "\n",
        "df_country_name_lst = []\n",
        "df_country_num_lst = []\n",
        "\n",
        "col_name = f\"Num papers out of {total_valid_papers}\"\n",
        "df_country_dic = {\n",
        "        \"Country\": df_country_name_lst,\n",
        "        col_name: df_country_num_lst\n",
        "}\n",
        "\n",
        "for n, ( name, num ) in enumerate( sorted_country_frac_rank.items() ):\n",
        "    if n == max_entries: break\n",
        "    df_country_name_lst.append( name )\n",
        "    df_country_num_lst.append( int(num) )\n",
        "\n",
        "df = pd.DataFrame( df_country_dic )\n",
        "df.index = df.index + 1\n",
        "df.head(20)"
      ],
      "metadata": {
        "id": "87OqHiyQTEdk",
        "outputId": "d311647f-b501-41b9-cc5a-2e374338a07f",
        "colab": {
          "base_uri": "https://localhost:8080/",
          "height": 676
        }
      },
      "execution_count": 35,
      "outputs": [
        {
          "output_type": "execute_result",
          "data": {
            "text/plain": [
              "           Country  Num papers out of 3088\n",
              "1            China                     710\n",
              "2    United States                     300\n",
              "3   United Kingdom                     290\n",
              "4         Portugal                     173\n",
              "5            Italy                     163\n",
              "6            Spain                     159\n",
              "7        Australia                     146\n",
              "8            India                     116\n",
              "9          Ireland                      82\n",
              "10     South Korea                      72\n",
              "11            Iran                      69\n",
              "12          Sweden                      65\n",
              "13          France                      64\n",
              "14           Japan                      57\n",
              "15         Denmark                      47\n",
              "16          Turkey                      44\n",
              "17          Greece                      39\n",
              "18     Netherlands                      39\n",
              "19          Canada                      37\n",
              "20          Taiwan                      37"
            ],
            "text/html": [
              "\n",
              "  <div id=\"df-015b323b-df59-447f-837a-c937536f2bce\" class=\"colab-df-container\">\n",
              "    <div>\n",
              "<style scoped>\n",
              "    .dataframe tbody tr th:only-of-type {\n",
              "        vertical-align: middle;\n",
              "    }\n",
              "\n",
              "    .dataframe tbody tr th {\n",
              "        vertical-align: top;\n",
              "    }\n",
              "\n",
              "    .dataframe thead th {\n",
              "        text-align: right;\n",
              "    }\n",
              "</style>\n",
              "<table border=\"1\" class=\"dataframe\">\n",
              "  <thead>\n",
              "    <tr style=\"text-align: right;\">\n",
              "      <th></th>\n",
              "      <th>Country</th>\n",
              "      <th>Num papers out of 3088</th>\n",
              "    </tr>\n",
              "  </thead>\n",
              "  <tbody>\n",
              "    <tr>\n",
              "      <th>1</th>\n",
              "      <td>China</td>\n",
              "      <td>710</td>\n",
              "    </tr>\n",
              "    <tr>\n",
              "      <th>2</th>\n",
              "      <td>United States</td>\n",
              "      <td>300</td>\n",
              "    </tr>\n",
              "    <tr>\n",
              "      <th>3</th>\n",
              "      <td>United Kingdom</td>\n",
              "      <td>290</td>\n",
              "    </tr>\n",
              "    <tr>\n",
              "      <th>4</th>\n",
              "      <td>Portugal</td>\n",
              "      <td>173</td>\n",
              "    </tr>\n",
              "    <tr>\n",
              "      <th>5</th>\n",
              "      <td>Italy</td>\n",
              "      <td>163</td>\n",
              "    </tr>\n",
              "    <tr>\n",
              "      <th>6</th>\n",
              "      <td>Spain</td>\n",
              "      <td>159</td>\n",
              "    </tr>\n",
              "    <tr>\n",
              "      <th>7</th>\n",
              "      <td>Australia</td>\n",
              "      <td>146</td>\n",
              "    </tr>\n",
              "    <tr>\n",
              "      <th>8</th>\n",
              "      <td>India</td>\n",
              "      <td>116</td>\n",
              "    </tr>\n",
              "    <tr>\n",
              "      <th>9</th>\n",
              "      <td>Ireland</td>\n",
              "      <td>82</td>\n",
              "    </tr>\n",
              "    <tr>\n",
              "      <th>10</th>\n",
              "      <td>South Korea</td>\n",
              "      <td>72</td>\n",
              "    </tr>\n",
              "    <tr>\n",
              "      <th>11</th>\n",
              "      <td>Iran</td>\n",
              "      <td>69</td>\n",
              "    </tr>\n",
              "    <tr>\n",
              "      <th>12</th>\n",
              "      <td>Sweden</td>\n",
              "      <td>65</td>\n",
              "    </tr>\n",
              "    <tr>\n",
              "      <th>13</th>\n",
              "      <td>France</td>\n",
              "      <td>64</td>\n",
              "    </tr>\n",
              "    <tr>\n",
              "      <th>14</th>\n",
              "      <td>Japan</td>\n",
              "      <td>57</td>\n",
              "    </tr>\n",
              "    <tr>\n",
              "      <th>15</th>\n",
              "      <td>Denmark</td>\n",
              "      <td>47</td>\n",
              "    </tr>\n",
              "    <tr>\n",
              "      <th>16</th>\n",
              "      <td>Turkey</td>\n",
              "      <td>44</td>\n",
              "    </tr>\n",
              "    <tr>\n",
              "      <th>17</th>\n",
              "      <td>Greece</td>\n",
              "      <td>39</td>\n",
              "    </tr>\n",
              "    <tr>\n",
              "      <th>18</th>\n",
              "      <td>Netherlands</td>\n",
              "      <td>39</td>\n",
              "    </tr>\n",
              "    <tr>\n",
              "      <th>19</th>\n",
              "      <td>Canada</td>\n",
              "      <td>37</td>\n",
              "    </tr>\n",
              "    <tr>\n",
              "      <th>20</th>\n",
              "      <td>Taiwan</td>\n",
              "      <td>37</td>\n",
              "    </tr>\n",
              "  </tbody>\n",
              "</table>\n",
              "</div>\n",
              "    <div class=\"colab-df-buttons\">\n",
              "\n",
              "  <div class=\"colab-df-container\">\n",
              "    <button class=\"colab-df-convert\" onclick=\"convertToInteractive('df-015b323b-df59-447f-837a-c937536f2bce')\"\n",
              "            title=\"Convert this dataframe to an interactive table.\"\n",
              "            style=\"display:none;\">\n",
              "\n",
              "  <svg xmlns=\"http://www.w3.org/2000/svg\" height=\"24px\" viewBox=\"0 -960 960 960\">\n",
              "    <path d=\"M120-120v-720h720v720H120Zm60-500h600v-160H180v160Zm220 220h160v-160H400v160Zm0 220h160v-160H400v160ZM180-400h160v-160H180v160Zm440 0h160v-160H620v160ZM180-180h160v-160H180v160Zm440 0h160v-160H620v160Z\"/>\n",
              "  </svg>\n",
              "    </button>\n",
              "\n",
              "  <style>\n",
              "    .colab-df-container {\n",
              "      display:flex;\n",
              "      gap: 12px;\n",
              "    }\n",
              "\n",
              "    .colab-df-convert {\n",
              "      background-color: #E8F0FE;\n",
              "      border: none;\n",
              "      border-radius: 50%;\n",
              "      cursor: pointer;\n",
              "      display: none;\n",
              "      fill: #1967D2;\n",
              "      height: 32px;\n",
              "      padding: 0 0 0 0;\n",
              "      width: 32px;\n",
              "    }\n",
              "\n",
              "    .colab-df-convert:hover {\n",
              "      background-color: #E2EBFA;\n",
              "      box-shadow: 0px 1px 2px rgba(60, 64, 67, 0.3), 0px 1px 3px 1px rgba(60, 64, 67, 0.15);\n",
              "      fill: #174EA6;\n",
              "    }\n",
              "\n",
              "    .colab-df-buttons div {\n",
              "      margin-bottom: 4px;\n",
              "    }\n",
              "\n",
              "    [theme=dark] .colab-df-convert {\n",
              "      background-color: #3B4455;\n",
              "      fill: #D2E3FC;\n",
              "    }\n",
              "\n",
              "    [theme=dark] .colab-df-convert:hover {\n",
              "      background-color: #434B5C;\n",
              "      box-shadow: 0px 1px 3px 1px rgba(0, 0, 0, 0.15);\n",
              "      filter: drop-shadow(0px 1px 2px rgba(0, 0, 0, 0.3));\n",
              "      fill: #FFFFFF;\n",
              "    }\n",
              "  </style>\n",
              "\n",
              "    <script>\n",
              "      const buttonEl =\n",
              "        document.querySelector('#df-015b323b-df59-447f-837a-c937536f2bce button.colab-df-convert');\n",
              "      buttonEl.style.display =\n",
              "        google.colab.kernel.accessAllowed ? 'block' : 'none';\n",
              "\n",
              "      async function convertToInteractive(key) {\n",
              "        const element = document.querySelector('#df-015b323b-df59-447f-837a-c937536f2bce');\n",
              "        const dataTable =\n",
              "          await google.colab.kernel.invokeFunction('convertToInteractive',\n",
              "                                                    [key], {});\n",
              "        if (!dataTable) return;\n",
              "\n",
              "        const docLinkHtml = 'Like what you see? Visit the ' +\n",
              "          '<a target=\"_blank\" href=https://colab.research.google.com/notebooks/data_table.ipynb>data table notebook</a>'\n",
              "          + ' to learn more about interactive tables.';\n",
              "        element.innerHTML = '';\n",
              "        dataTable['output_type'] = 'display_data';\n",
              "        await google.colab.output.renderOutput(dataTable, element);\n",
              "        const docLink = document.createElement('div');\n",
              "        docLink.innerHTML = docLinkHtml;\n",
              "        element.appendChild(docLink);\n",
              "      }\n",
              "    </script>\n",
              "  </div>\n",
              "\n",
              "\n",
              "<div id=\"df-c03e6363-747e-4e19-a9b2-78739b1c09d8\">\n",
              "  <button class=\"colab-df-quickchart\" onclick=\"quickchart('df-c03e6363-747e-4e19-a9b2-78739b1c09d8')\"\n",
              "            title=\"Suggest charts\"\n",
              "            style=\"display:none;\">\n",
              "\n",
              "<svg xmlns=\"http://www.w3.org/2000/svg\" height=\"24px\"viewBox=\"0 0 24 24\"\n",
              "     width=\"24px\">\n",
              "    <g>\n",
              "        <path d=\"M19 3H5c-1.1 0-2 .9-2 2v14c0 1.1.9 2 2 2h14c1.1 0 2-.9 2-2V5c0-1.1-.9-2-2-2zM9 17H7v-7h2v7zm4 0h-2V7h2v10zm4 0h-2v-4h2v4z\"/>\n",
              "    </g>\n",
              "</svg>\n",
              "  </button>\n",
              "\n",
              "<style>\n",
              "  .colab-df-quickchart {\n",
              "      --bg-color: #E8F0FE;\n",
              "      --fill-color: #1967D2;\n",
              "      --hover-bg-color: #E2EBFA;\n",
              "      --hover-fill-color: #174EA6;\n",
              "      --disabled-fill-color: #AAA;\n",
              "      --disabled-bg-color: #DDD;\n",
              "  }\n",
              "\n",
              "  [theme=dark] .colab-df-quickchart {\n",
              "      --bg-color: #3B4455;\n",
              "      --fill-color: #D2E3FC;\n",
              "      --hover-bg-color: #434B5C;\n",
              "      --hover-fill-color: #FFFFFF;\n",
              "      --disabled-bg-color: #3B4455;\n",
              "      --disabled-fill-color: #666;\n",
              "  }\n",
              "\n",
              "  .colab-df-quickchart {\n",
              "    background-color: var(--bg-color);\n",
              "    border: none;\n",
              "    border-radius: 50%;\n",
              "    cursor: pointer;\n",
              "    display: none;\n",
              "    fill: var(--fill-color);\n",
              "    height: 32px;\n",
              "    padding: 0;\n",
              "    width: 32px;\n",
              "  }\n",
              "\n",
              "  .colab-df-quickchart:hover {\n",
              "    background-color: var(--hover-bg-color);\n",
              "    box-shadow: 0 1px 2px rgba(60, 64, 67, 0.3), 0 1px 3px 1px rgba(60, 64, 67, 0.15);\n",
              "    fill: var(--button-hover-fill-color);\n",
              "  }\n",
              "\n",
              "  .colab-df-quickchart-complete:disabled,\n",
              "  .colab-df-quickchart-complete:disabled:hover {\n",
              "    background-color: var(--disabled-bg-color);\n",
              "    fill: var(--disabled-fill-color);\n",
              "    box-shadow: none;\n",
              "  }\n",
              "\n",
              "  .colab-df-spinner {\n",
              "    border: 2px solid var(--fill-color);\n",
              "    border-color: transparent;\n",
              "    border-bottom-color: var(--fill-color);\n",
              "    animation:\n",
              "      spin 1s steps(1) infinite;\n",
              "  }\n",
              "\n",
              "  @keyframes spin {\n",
              "    0% {\n",
              "      border-color: transparent;\n",
              "      border-bottom-color: var(--fill-color);\n",
              "      border-left-color: var(--fill-color);\n",
              "    }\n",
              "    20% {\n",
              "      border-color: transparent;\n",
              "      border-left-color: var(--fill-color);\n",
              "      border-top-color: var(--fill-color);\n",
              "    }\n",
              "    30% {\n",
              "      border-color: transparent;\n",
              "      border-left-color: var(--fill-color);\n",
              "      border-top-color: var(--fill-color);\n",
              "      border-right-color: var(--fill-color);\n",
              "    }\n",
              "    40% {\n",
              "      border-color: transparent;\n",
              "      border-right-color: var(--fill-color);\n",
              "      border-top-color: var(--fill-color);\n",
              "    }\n",
              "    60% {\n",
              "      border-color: transparent;\n",
              "      border-right-color: var(--fill-color);\n",
              "    }\n",
              "    80% {\n",
              "      border-color: transparent;\n",
              "      border-right-color: var(--fill-color);\n",
              "      border-bottom-color: var(--fill-color);\n",
              "    }\n",
              "    90% {\n",
              "      border-color: transparent;\n",
              "      border-bottom-color: var(--fill-color);\n",
              "    }\n",
              "  }\n",
              "</style>\n",
              "\n",
              "  <script>\n",
              "    async function quickchart(key) {\n",
              "      const quickchartButtonEl =\n",
              "        document.querySelector('#' + key + ' button');\n",
              "      quickchartButtonEl.disabled = true;  // To prevent multiple clicks.\n",
              "      quickchartButtonEl.classList.add('colab-df-spinner');\n",
              "      try {\n",
              "        const charts = await google.colab.kernel.invokeFunction(\n",
              "            'suggestCharts', [key], {});\n",
              "      } catch (error) {\n",
              "        console.error('Error during call to suggestCharts:', error);\n",
              "      }\n",
              "      quickchartButtonEl.classList.remove('colab-df-spinner');\n",
              "      quickchartButtonEl.classList.add('colab-df-quickchart-complete');\n",
              "    }\n",
              "    (() => {\n",
              "      let quickchartButtonEl =\n",
              "        document.querySelector('#df-c03e6363-747e-4e19-a9b2-78739b1c09d8 button');\n",
              "      quickchartButtonEl.style.display =\n",
              "        google.colab.kernel.accessAllowed ? 'block' : 'none';\n",
              "    })();\n",
              "  </script>\n",
              "</div>\n",
              "\n",
              "    </div>\n",
              "  </div>\n"
            ],
            "application/vnd.google.colaboratory.intrinsic+json": {
              "type": "dataframe",
              "variable_name": "df",
              "summary": "{\n  \"name\": \"df\",\n  \"rows\": 20,\n  \"fields\": [\n    {\n      \"column\": \"Country\",\n      \"properties\": {\n        \"dtype\": \"string\",\n        \"num_unique_values\": 20,\n        \"samples\": [\n          \"China\",\n          \"Netherlands\",\n          \"Turkey\"\n        ],\n        \"semantic_type\": \"\",\n        \"description\": \"\"\n      }\n    },\n    {\n      \"column\": \"Num papers out of 3088\",\n      \"properties\": {\n        \"dtype\": \"number\",\n        \"std\": 156,\n        \"min\": 37,\n        \"max\": 710,\n        \"num_unique_values\": 18,\n        \"samples\": [\n          710,\n          300,\n          82\n        ],\n        \"semantic_type\": \"\",\n        \"description\": \"\"\n      }\n    }\n  ]\n}"
            }
          },
          "metadata": {},
          "execution_count": 35
        }
      ]
    },
    {
      "cell_type": "markdown",
      "source": [
        "# Papers per author"
      ],
      "metadata": {
        "id": "WnsbSaBQTHGq"
      }
    },
    {
      "cell_type": "code",
      "source": [
        "@dataclass\n",
        "class data:\n",
        "    name: str = None\n",
        "    num_papers: int = 0\n",
        "    citations: int = 0"
      ],
      "metadata": {
        "id": "c98Yyl9e0DjC"
      },
      "execution_count": 36,
      "outputs": []
    },
    {
      "cell_type": "code",
      "source": [
        "papers_dic = {}\n",
        "\n",
        "for n, ( authors, authors_ID, citations, DOI, stage ) in enumerate( zip( authors_lst, authors_ID_lst, citations_lst, DOI_lst, stage_lst ) ):\n",
        "    if stage == 'Final' and authors == authors and authors_ID == authors_ID: # check NANs\n",
        "        for ( author, ID ) in zip( authors.split(';'), str( authors_ID ).split(';') ):\n",
        "            author = author.strip()\n",
        "            ID = ID.strip()\n",
        "\n",
        "            if ID in papers_dic:\n",
        "                papers_dic[ID].num_papers += 1\n",
        "                papers_dic[ID].citations += int(citations)\n",
        "            else:\n",
        "                papers_dic[ID] = data( author, 1, int(citations) )"
      ],
      "metadata": {
        "id": "ja-ZA6lGx4YW"
      },
      "execution_count": 37,
      "outputs": []
    },
    {
      "cell_type": "code",
      "source": [
        "sorted_papers_dic = { k: v for k, v in sorted( papers_dic.items(), key=lambda item: item[1].num_papers, reverse=True ) }\n",
        "\n",
        "df_authors_name_lst = []\n",
        "df_authors_num_lst = []\n",
        "\n",
        "df_authors_dic = {\n",
        "        \"Author\": df_authors_name_lst,\n",
        "        \"Num papers\": df_authors_num_lst\n",
        "}\n",
        "\n",
        "for n, dt in enumerate( sorted_papers_dic.values() ):\n",
        "    if n == max_entries: break\n",
        "    df_authors_name_lst.append( dt.name )\n",
        "    df_authors_num_lst.append( dt.num_papers )\n",
        "\n",
        "\n",
        "df = pd.DataFrame( df_authors_dic )\n",
        "df.index = df.index + 1\n",
        "\n",
        "left_align( df.head(20) )"
      ],
      "metadata": {
        "id": "-jjYjDaa49VB",
        "outputId": "370162a9-888f-45f8-b14d-cbddd66c97cb",
        "colab": {
          "base_uri": "https://localhost:8080/",
          "height": 676
        }
      },
      "execution_count": 38,
      "outputs": [
        {
          "output_type": "execute_result",
          "data": {
            "text/plain": [
              "<pandas.io.formats.style.Styler at 0x7ccb73e99f00>"
            ],
            "text/html": [
              "<style type=\"text/css\">\n",
              "#T_f090a th {\n",
              "  text-align: left;\n",
              "}\n",
              "#T_f090a_row0_col0, #T_f090a_row0_col1, #T_f090a_row1_col0, #T_f090a_row1_col1, #T_f090a_row2_col0, #T_f090a_row2_col1, #T_f090a_row3_col0, #T_f090a_row3_col1, #T_f090a_row4_col0, #T_f090a_row4_col1, #T_f090a_row5_col0, #T_f090a_row5_col1, #T_f090a_row6_col0, #T_f090a_row6_col1, #T_f090a_row7_col0, #T_f090a_row7_col1, #T_f090a_row8_col0, #T_f090a_row8_col1, #T_f090a_row9_col0, #T_f090a_row9_col1, #T_f090a_row10_col0, #T_f090a_row10_col1, #T_f090a_row11_col0, #T_f090a_row11_col1, #T_f090a_row12_col0, #T_f090a_row12_col1, #T_f090a_row13_col0, #T_f090a_row13_col1, #T_f090a_row14_col0, #T_f090a_row14_col1, #T_f090a_row15_col0, #T_f090a_row15_col1, #T_f090a_row16_col0, #T_f090a_row16_col1, #T_f090a_row17_col0, #T_f090a_row17_col1, #T_f090a_row18_col0, #T_f090a_row18_col1, #T_f090a_row19_col0, #T_f090a_row19_col1 {\n",
              "  text-align: left;\n",
              "}\n",
              "</style>\n",
              "<table id=\"T_f090a\" class=\"dataframe\">\n",
              "  <thead>\n",
              "    <tr>\n",
              "      <th class=\"blank level0\" >&nbsp;</th>\n",
              "      <th id=\"T_f090a_level0_col0\" class=\"col_heading level0 col0\" >Author</th>\n",
              "      <th id=\"T_f090a_level0_col1\" class=\"col_heading level0 col1\" >Num papers</th>\n",
              "    </tr>\n",
              "  </thead>\n",
              "  <tbody>\n",
              "    <tr>\n",
              "      <th id=\"T_f090a_level0_row0\" class=\"row_heading level0 row0\" >1</th>\n",
              "      <td id=\"T_f090a_row0_col0\" class=\"data row0 col0\" >Guedes Soares C.</td>\n",
              "      <td id=\"T_f090a_row0_col1\" class=\"data row0 col1\" >63</td>\n",
              "    </tr>\n",
              "    <tr>\n",
              "      <th id=\"T_f090a_level0_row1\" class=\"row_heading level0 row1\" >2</th>\n",
              "      <td id=\"T_f090a_row1_col0\" class=\"data row1 col0\" >Shi H.</td>\n",
              "      <td id=\"T_f090a_row1_col1\" class=\"data row1 col1\" >54</td>\n",
              "    </tr>\n",
              "    <tr>\n",
              "      <th id=\"T_f090a_level0_row2\" class=\"row_heading level0 row2\" >3</th>\n",
              "      <td id=\"T_f090a_row2_col0\" class=\"data row2 col0\" >Iglesias G.</td>\n",
              "      <td id=\"T_f090a_row2_col1\" class=\"data row2 col1\" >53</td>\n",
              "    </tr>\n",
              "    <tr>\n",
              "      <th id=\"T_f090a_level0_row3\" class=\"row_heading level0 row3\" >4</th>\n",
              "      <td id=\"T_f090a_row3_col0\" class=\"data row3 col0\" >Gato L.M.C.</td>\n",
              "      <td id=\"T_f090a_row3_col1\" class=\"data row3 col1\" >48</td>\n",
              "    </tr>\n",
              "    <tr>\n",
              "      <th id=\"T_f090a_level0_row4\" class=\"row_heading level0 row4\" >5</th>\n",
              "      <td id=\"T_f090a_row4_col0\" class=\"data row4 col0\" >Ringwood J.V.</td>\n",
              "      <td id=\"T_f090a_row4_col1\" class=\"data row4 col1\" >45</td>\n",
              "    </tr>\n",
              "    <tr>\n",
              "      <th id=\"T_f090a_level0_row5\" class=\"row_heading level0 row5\" >6</th>\n",
              "      <td id=\"T_f090a_row5_col0\" class=\"data row5 col0\" >Henriques J.C.C.</td>\n",
              "      <td id=\"T_f090a_row5_col1\" class=\"data row5 col1\" >43</td>\n",
              "    </tr>\n",
              "    <tr>\n",
              "      <th id=\"T_f090a_level0_row6\" class=\"row_heading level0 row6\" >7</th>\n",
              "      <td id=\"T_f090a_row6_col0\" class=\"data row6 col0\" >Falcão A.F.O.</td>\n",
              "      <td id=\"T_f090a_row6_col1\" class=\"data row6 col1\" >39</td>\n",
              "    </tr>\n",
              "    <tr>\n",
              "      <th id=\"T_f090a_level0_row7\" class=\"row_heading level0 row7\" >8</th>\n",
              "      <td id=\"T_f090a_row7_col0\" class=\"data row7 col0\" >Greaves D.</td>\n",
              "      <td id=\"T_f090a_row7_col1\" class=\"data row7 col1\" >37</td>\n",
              "    </tr>\n",
              "    <tr>\n",
              "      <th id=\"T_f090a_level0_row8\" class=\"row_heading level0 row8\" >9</th>\n",
              "      <td id=\"T_f090a_row8_col0\" class=\"data row8 col0\" >Ning D.</td>\n",
              "      <td id=\"T_f090a_row8_col1\" class=\"data row8 col1\" >33</td>\n",
              "    </tr>\n",
              "    <tr>\n",
              "      <th id=\"T_f090a_level0_row9\" class=\"row_heading level0 row9\" >10</th>\n",
              "      <td id=\"T_f090a_row9_col0\" class=\"data row9 col0\" >Göteman M.</td>\n",
              "      <td id=\"T_f090a_row9_col1\" class=\"data row9 col1\" >33</td>\n",
              "    </tr>\n",
              "    <tr>\n",
              "      <th id=\"T_f090a_level0_row10\" class=\"row_heading level0 row10\" >11</th>\n",
              "      <td id=\"T_f090a_row10_col0\" class=\"data row10 col0\" >Taveira-Pinto F.</td>\n",
              "      <td id=\"T_f090a_row10_col1\" class=\"data row10 col1\" >32</td>\n",
              "    </tr>\n",
              "    <tr>\n",
              "      <th id=\"T_f090a_level0_row11\" class=\"row_heading level0 row11\" >12</th>\n",
              "      <td id=\"T_f090a_row11_col0\" class=\"data row11 col0\" >Cao F.</td>\n",
              "      <td id=\"T_f090a_row11_col1\" class=\"data row11 col1\" >31</td>\n",
              "    </tr>\n",
              "    <tr>\n",
              "      <th id=\"T_f090a_level0_row12\" class=\"row_heading level0 row12\" >13</th>\n",
              "      <td id=\"T_f090a_row12_col0\" class=\"data row12 col0\" >Sergiienko N.Y.</td>\n",
              "      <td id=\"T_f090a_row12_col1\" class=\"data row12 col1\" >27</td>\n",
              "    </tr>\n",
              "    <tr>\n",
              "      <th id=\"T_f090a_level0_row13\" class=\"row_heading level0 row13\" >14</th>\n",
              "      <td id=\"T_f090a_row13_col0\" class=\"data row13 col0\" >Santos P.R.</td>\n",
              "      <td id=\"T_f090a_row13_col1\" class=\"data row13 col1\" >26</td>\n",
              "    </tr>\n",
              "    <tr>\n",
              "      <th id=\"T_f090a_level0_row14\" class=\"row_heading level0 row14\" >15</th>\n",
              "      <td id=\"T_f090a_row14_col0\" class=\"data row14 col0\" >Robertson B.</td>\n",
              "      <td id=\"T_f090a_row14_col1\" class=\"data row14 col1\" >26</td>\n",
              "    </tr>\n",
              "    <tr>\n",
              "      <th id=\"T_f090a_level0_row15\" class=\"row_heading level0 row15\" >16</th>\n",
              "      <td id=\"T_f090a_row15_col0\" class=\"data row15 col0\" >Zheng S.</td>\n",
              "      <td id=\"T_f090a_row15_col1\" class=\"data row15 col1\" >26</td>\n",
              "    </tr>\n",
              "    <tr>\n",
              "      <th id=\"T_f090a_level0_row16\" class=\"row_heading level0 row16\" >17</th>\n",
              "      <td id=\"T_f090a_row16_col0\" class=\"data row16 col0\" >Zhang Y.</td>\n",
              "      <td id=\"T_f090a_row16_col1\" class=\"data row16 col1\" >25</td>\n",
              "    </tr>\n",
              "    <tr>\n",
              "      <th id=\"T_f090a_level0_row17\" class=\"row_heading level0 row17\" >18</th>\n",
              "      <td id=\"T_f090a_row17_col0\" class=\"data row17 col0\" >Cazzolato B.</td>\n",
              "      <td id=\"T_f090a_row17_col1\" class=\"data row17 col1\" >25</td>\n",
              "    </tr>\n",
              "    <tr>\n",
              "      <th id=\"T_f090a_level0_row18\" class=\"row_heading level0 row18\" >19</th>\n",
              "      <td id=\"T_f090a_row18_col0\" class=\"data row18 col0\" >Johanning L.</td>\n",
              "      <td id=\"T_f090a_row18_col1\" class=\"data row18 col1\" >25</td>\n",
              "    </tr>\n",
              "    <tr>\n",
              "      <th id=\"T_f090a_level0_row19\" class=\"row_heading level0 row19\" >20</th>\n",
              "      <td id=\"T_f090a_row19_col0\" class=\"data row19 col0\" >Ning D.-Z.</td>\n",
              "      <td id=\"T_f090a_row19_col1\" class=\"data row19 col1\" >24</td>\n",
              "    </tr>\n",
              "  </tbody>\n",
              "</table>\n"
            ]
          },
          "metadata": {},
          "execution_count": 38
        }
      ]
    },
    {
      "cell_type": "markdown",
      "source": [
        "# Citations per author"
      ],
      "metadata": {
        "id": "O5QwcJcNjgPI"
      }
    },
    {
      "cell_type": "code",
      "source": [
        "sorted_citations_dic = { k: v for k, v in sorted( papers_dic.items(), key=lambda item: item[1].citations, reverse=True ) }\n",
        "\n",
        "df_citations_name_lst = []\n",
        "df_citations_num_lst = []\n",
        "\n",
        "df_citations_dic = {\n",
        "        \"Author\": df_citations_name_lst,\n",
        "        \"Citations\": df_citations_num_lst\n",
        "}\n",
        "\n",
        "for n, dt in enumerate( sorted_citations_dic.values() ):\n",
        "    if n == max_entries: break\n",
        "    df_citations_name_lst.append( dt.name )\n",
        "    df_citations_num_lst.append( dt.citations )\n",
        "\n",
        "df = pd.DataFrame( df_citations_dic )\n",
        "df.index = df.index + 1\n",
        "left_align( df.head(20) )"
      ],
      "metadata": {
        "id": "SG8KjEDp6A76",
        "outputId": "ffe312a0-c5de-474a-b7c1-3f92d57c4641",
        "colab": {
          "base_uri": "https://localhost:8080/",
          "height": 676
        }
      },
      "execution_count": 39,
      "outputs": [
        {
          "output_type": "execute_result",
          "data": {
            "text/plain": [
              "<pandas.io.formats.style.Styler at 0x7ccb7401b580>"
            ],
            "text/html": [
              "<style type=\"text/css\">\n",
              "#T_cf690 th {\n",
              "  text-align: left;\n",
              "}\n",
              "#T_cf690_row0_col0, #T_cf690_row0_col1, #T_cf690_row1_col0, #T_cf690_row1_col1, #T_cf690_row2_col0, #T_cf690_row2_col1, #T_cf690_row3_col0, #T_cf690_row3_col1, #T_cf690_row4_col0, #T_cf690_row4_col1, #T_cf690_row5_col0, #T_cf690_row5_col1, #T_cf690_row6_col0, #T_cf690_row6_col1, #T_cf690_row7_col0, #T_cf690_row7_col1, #T_cf690_row8_col0, #T_cf690_row8_col1, #T_cf690_row9_col0, #T_cf690_row9_col1, #T_cf690_row10_col0, #T_cf690_row10_col1, #T_cf690_row11_col0, #T_cf690_row11_col1, #T_cf690_row12_col0, #T_cf690_row12_col1, #T_cf690_row13_col0, #T_cf690_row13_col1, #T_cf690_row14_col0, #T_cf690_row14_col1, #T_cf690_row15_col0, #T_cf690_row15_col1, #T_cf690_row16_col0, #T_cf690_row16_col1, #T_cf690_row17_col0, #T_cf690_row17_col1, #T_cf690_row18_col0, #T_cf690_row18_col1, #T_cf690_row19_col0, #T_cf690_row19_col1 {\n",
              "  text-align: left;\n",
              "}\n",
              "</style>\n",
              "<table id=\"T_cf690\" class=\"dataframe\">\n",
              "  <thead>\n",
              "    <tr>\n",
              "      <th class=\"blank level0\" >&nbsp;</th>\n",
              "      <th id=\"T_cf690_level0_col0\" class=\"col_heading level0 col0\" >Author</th>\n",
              "      <th id=\"T_cf690_level0_col1\" class=\"col_heading level0 col1\" >Citations</th>\n",
              "    </tr>\n",
              "  </thead>\n",
              "  <tbody>\n",
              "    <tr>\n",
              "      <th id=\"T_cf690_level0_row0\" class=\"row_heading level0 row0\" >1</th>\n",
              "      <td id=\"T_cf690_row0_col0\" class=\"data row0 col0\" >Iglesias G.</td>\n",
              "      <td id=\"T_cf690_row0_col1\" class=\"data row0 col1\" >3679</td>\n",
              "    </tr>\n",
              "    <tr>\n",
              "      <th id=\"T_cf690_level0_row1\" class=\"row_heading level0 row1\" >2</th>\n",
              "      <td id=\"T_cf690_row1_col0\" class=\"data row1 col0\" >Guedes Soares C.</td>\n",
              "      <td id=\"T_cf690_row1_col1\" class=\"data row1 col1\" >3039</td>\n",
              "    </tr>\n",
              "    <tr>\n",
              "      <th id=\"T_cf690_level0_row2\" class=\"row_heading level0 row2\" >3</th>\n",
              "      <td id=\"T_cf690_row2_col0\" class=\"data row2 col0\" >Falcão A.F.O.</td>\n",
              "      <td id=\"T_cf690_row2_col1\" class=\"data row2 col1\" >2799</td>\n",
              "    </tr>\n",
              "    <tr>\n",
              "      <th id=\"T_cf690_level0_row3\" class=\"row_heading level0 row3\" >4</th>\n",
              "      <td id=\"T_cf690_row3_col0\" class=\"data row3 col0\" >Babarit A.</td>\n",
              "      <td id=\"T_cf690_row3_col1\" class=\"data row3 col1\" >2615</td>\n",
              "    </tr>\n",
              "    <tr>\n",
              "      <th id=\"T_cf690_level0_row4\" class=\"row_heading level0 row4\" >5</th>\n",
              "      <td id=\"T_cf690_row4_col0\" class=\"data row4 col0\" >Henriques J.C.C.</td>\n",
              "      <td id=\"T_cf690_row4_col1\" class=\"data row4 col1\" >2285</td>\n",
              "    </tr>\n",
              "    <tr>\n",
              "      <th id=\"T_cf690_level0_row5\" class=\"row_heading level0 row5\" >6</th>\n",
              "      <td id=\"T_cf690_row5_col0\" class=\"data row5 col0\" >Moan T.</td>\n",
              "      <td id=\"T_cf690_row5_col1\" class=\"data row5 col1\" >2040</td>\n",
              "    </tr>\n",
              "    <tr>\n",
              "      <th id=\"T_cf690_level0_row6\" class=\"row_heading level0 row6\" >7</th>\n",
              "      <td id=\"T_cf690_row6_col0\" class=\"data row6 col0\" >Gato L.M.C.</td>\n",
              "      <td id=\"T_cf690_row6_col1\" class=\"data row6 col1\" >1911</td>\n",
              "    </tr>\n",
              "    <tr>\n",
              "      <th id=\"T_cf690_level0_row7\" class=\"row_heading level0 row7\" >8</th>\n",
              "      <td id=\"T_cf690_row7_col0\" class=\"data row7 col0\" >Carballo R.</td>\n",
              "      <td id=\"T_cf690_row7_col1\" class=\"data row7 col1\" >1815</td>\n",
              "    </tr>\n",
              "    <tr>\n",
              "      <th id=\"T_cf690_level0_row8\" class=\"row_heading level0 row8\" >9</th>\n",
              "      <td id=\"T_cf690_row8_col0\" class=\"data row8 col0\" >Ringwood J.V.</td>\n",
              "      <td id=\"T_cf690_row8_col1\" class=\"data row8 col1\" >1736</td>\n",
              "    </tr>\n",
              "    <tr>\n",
              "      <th id=\"T_cf690_level0_row9\" class=\"row_heading level0 row9\" >10</th>\n",
              "      <td id=\"T_cf690_row9_col0\" class=\"data row9 col0\" >Ning D.-Z.</td>\n",
              "      <td id=\"T_cf690_row9_col1\" class=\"data row9 col1\" >1736</td>\n",
              "    </tr>\n",
              "    <tr>\n",
              "      <th id=\"T_cf690_level0_row10\" class=\"row_heading level0 row10\" >11</th>\n",
              "      <td id=\"T_cf690_row10_col0\" class=\"data row10 col0\" >Greaves D.</td>\n",
              "      <td id=\"T_cf690_row10_col1\" class=\"data row10 col1\" >1429</td>\n",
              "    </tr>\n",
              "    <tr>\n",
              "      <th id=\"T_cf690_level0_row11\" class=\"row_heading level0 row11\" >12</th>\n",
              "      <td id=\"T_cf690_row11_col0\" class=\"data row11 col0\" >Vicinanza D.</td>\n",
              "      <td id=\"T_cf690_row11_col1\" class=\"data row11 col1\" >1428</td>\n",
              "    </tr>\n",
              "    <tr>\n",
              "      <th id=\"T_cf690_level0_row12\" class=\"row_heading level0 row12\" >13</th>\n",
              "      <td id=\"T_cf690_row12_col0\" class=\"data row12 col0\" >Rusu E.</td>\n",
              "      <td id=\"T_cf690_row12_col1\" class=\"data row12 col1\" >1386</td>\n",
              "    </tr>\n",
              "    <tr>\n",
              "      <th id=\"T_cf690_level0_row13\" class=\"row_heading level0 row13\" >14</th>\n",
              "      <td id=\"T_cf690_row13_col0\" class=\"data row13 col0\" >Gomes R.P.F.</td>\n",
              "      <td id=\"T_cf690_row13_col1\" class=\"data row13 col1\" >1205</td>\n",
              "    </tr>\n",
              "    <tr>\n",
              "      <th id=\"T_cf690_level0_row14\" class=\"row_heading level0 row14\" >15</th>\n",
              "      <td id=\"T_cf690_row14_col0\" class=\"data row14 col0\" >Leijon M.</td>\n",
              "      <td id=\"T_cf690_row14_col1\" class=\"data row14 col1\" >1173</td>\n",
              "    </tr>\n",
              "    <tr>\n",
              "      <th id=\"T_cf690_level0_row15\" class=\"row_heading level0 row15\" >16</th>\n",
              "      <td id=\"T_cf690_row15_col0\" class=\"data row15 col0\" >Losada I.J.</td>\n",
              "      <td id=\"T_cf690_row15_col1\" class=\"data row15 col1\" >1164</td>\n",
              "    </tr>\n",
              "    <tr>\n",
              "      <th id=\"T_cf690_level0_row16\" class=\"row_heading level0 row16\" >17</th>\n",
              "      <td id=\"T_cf690_row16_col0\" class=\"data row16 col0\" >Yan Y.</td>\n",
              "      <td id=\"T_cf690_row16_col1\" class=\"data row16 col1\" >1082</td>\n",
              "    </tr>\n",
              "    <tr>\n",
              "      <th id=\"T_cf690_level0_row17\" class=\"row_heading level0 row17\" >18</th>\n",
              "      <td id=\"T_cf690_row17_col0\" class=\"data row17 col0\" >Xie G.</td>\n",
              "      <td id=\"T_cf690_row17_col1\" class=\"data row17 col1\" >1082</td>\n",
              "    </tr>\n",
              "    <tr>\n",
              "      <th id=\"T_cf690_level0_row18\" class=\"row_heading level0 row18\" >19</th>\n",
              "      <td id=\"T_cf690_row18_col0\" class=\"data row18 col0\" >Lavery M.P.J.</td>\n",
              "      <td id=\"T_cf690_row18_col1\" class=\"data row18 col1\" >1082</td>\n",
              "    </tr>\n",
              "    <tr>\n",
              "      <th id=\"T_cf690_level0_row19\" class=\"row_heading level0 row19\" >20</th>\n",
              "      <td id=\"T_cf690_row19_col0\" class=\"data row19 col0\" >Huang H.</td>\n",
              "      <td id=\"T_cf690_row19_col1\" class=\"data row19 col1\" >1082</td>\n",
              "    </tr>\n",
              "  </tbody>\n",
              "</table>\n"
            ]
          },
          "metadata": {},
          "execution_count": 39
        }
      ]
    },
    {
      "cell_type": "markdown",
      "source": [
        "# Most cited papers"
      ],
      "metadata": {
        "id": "_nTgeWkM14Nk"
      }
    },
    {
      "cell_type": "code",
      "source": [
        "@dataclass\n",
        "class paper_rank:\n",
        "    authors: str = None\n",
        "    title: str = None\n",
        "    journal: str =None\n",
        "    year: int = 0\n",
        "    DOI: str = None\n",
        "    citations: int = 0"
      ],
      "metadata": {
        "id": "F44gD-KFYQNk"
      },
      "execution_count": 40,
      "outputs": []
    },
    {
      "cell_type": "code",
      "source": [
        "papers_rank_dic = {}\n",
        "\n",
        "for n, ( authors, title, journal, year, DOI, citations, stage ) in enumerate( zip( authors_lst, title_lst, journal_lst, year_lst, DOI_lst, citations_lst, stage_lst ) ):\n",
        "    if stage == 'Final' and authors == authors: # check NANs\n",
        "        papers_rank_dic[DOI] = paper_rank( authors, title, journal, year, DOI, int( citations ) )"
      ],
      "metadata": {
        "id": "ulws2MGMXGwZ"
      },
      "execution_count": 41,
      "outputs": []
    },
    {
      "cell_type": "code",
      "source": [
        "sorted_papers_rank_dic = { k: v for k, v in sorted( papers_rank_dic.items(), key=lambda item: item[1].citations, reverse=True ) }\n",
        "\n",
        "df_authors_name_lst = []\n",
        "df_title_lst = []\n",
        "df_journal_lst = []\n",
        "df_year_lst = []\n",
        "df_DOI_lst = []\n",
        "df_citations_lst = []\n",
        "\n",
        "df_papers_rank_dic = {\n",
        "        \"Authors\": df_authors_name_lst,\n",
        "        \"Title\": df_title_lst,\n",
        "        \"Journal\": df_journal_lst,\n",
        "        \"Year\": df_year_lst,\n",
        "        # \"DOI\": df_DOI_lst,\n",
        "        \"citations\": df_citations_lst\n",
        "}\n",
        "\n",
        "\n",
        "for n, dt in enumerate( sorted_papers_rank_dic.values() ):\n",
        "    df_authors_name_lst.append( dt.authors )\n",
        "    df_title_lst.append( dt.title )\n",
        "    df_journal_lst.append( dt.journal )\n",
        "    df_year_lst.append( dt.year )\n",
        "    df_DOI_lst.append( dt.DOI )\n",
        "    df_citations_lst.append( dt.citations )\n",
        "\n",
        "# df_authors_name_lst[0] = 'Falcão A.F.O.'\n",
        "\n",
        "df = pd.DataFrame( df_papers_rank_dic )\n",
        "df.index = df.index + 1\n",
        "left_align( df.head(10) )"
      ],
      "metadata": {
        "id": "4n06BPVsXHP2",
        "outputId": "0608d0b3-ba32-4378-cf67-621efc56d47e",
        "colab": {
          "base_uri": "https://localhost:8080/",
          "height": 536
        }
      },
      "execution_count": 42,
      "outputs": [
        {
          "output_type": "execute_result",
          "data": {
            "text/plain": [
              "<pandas.io.formats.style.Styler at 0x7ccb7401bc70>"
            ],
            "text/html": [
              "<style type=\"text/css\">\n",
              "#T_afd86 th {\n",
              "  text-align: left;\n",
              "}\n",
              "#T_afd86_row0_col0, #T_afd86_row0_col1, #T_afd86_row0_col2, #T_afd86_row0_col3, #T_afd86_row0_col4, #T_afd86_row1_col0, #T_afd86_row1_col1, #T_afd86_row1_col2, #T_afd86_row1_col3, #T_afd86_row1_col4, #T_afd86_row2_col0, #T_afd86_row2_col1, #T_afd86_row2_col2, #T_afd86_row2_col3, #T_afd86_row2_col4, #T_afd86_row3_col0, #T_afd86_row3_col1, #T_afd86_row3_col2, #T_afd86_row3_col3, #T_afd86_row3_col4, #T_afd86_row4_col0, #T_afd86_row4_col1, #T_afd86_row4_col2, #T_afd86_row4_col3, #T_afd86_row4_col4, #T_afd86_row5_col0, #T_afd86_row5_col1, #T_afd86_row5_col2, #T_afd86_row5_col3, #T_afd86_row5_col4, #T_afd86_row6_col0, #T_afd86_row6_col1, #T_afd86_row6_col2, #T_afd86_row6_col3, #T_afd86_row6_col4, #T_afd86_row7_col0, #T_afd86_row7_col1, #T_afd86_row7_col2, #T_afd86_row7_col3, #T_afd86_row7_col4, #T_afd86_row8_col0, #T_afd86_row8_col1, #T_afd86_row8_col2, #T_afd86_row8_col3, #T_afd86_row8_col4, #T_afd86_row9_col0, #T_afd86_row9_col1, #T_afd86_row9_col2, #T_afd86_row9_col3, #T_afd86_row9_col4 {\n",
              "  text-align: left;\n",
              "}\n",
              "</style>\n",
              "<table id=\"T_afd86\" class=\"dataframe\">\n",
              "  <thead>\n",
              "    <tr>\n",
              "      <th class=\"blank level0\" >&nbsp;</th>\n",
              "      <th id=\"T_afd86_level0_col0\" class=\"col_heading level0 col0\" >Authors</th>\n",
              "      <th id=\"T_afd86_level0_col1\" class=\"col_heading level0 col1\" >Title</th>\n",
              "      <th id=\"T_afd86_level0_col2\" class=\"col_heading level0 col2\" >Journal</th>\n",
              "      <th id=\"T_afd86_level0_col3\" class=\"col_heading level0 col3\" >Year</th>\n",
              "      <th id=\"T_afd86_level0_col4\" class=\"col_heading level0 col4\" >citations</th>\n",
              "    </tr>\n",
              "  </thead>\n",
              "  <tbody>\n",
              "    <tr>\n",
              "      <th id=\"T_afd86_level0_row0\" class=\"row_heading level0 row0\" >1</th>\n",
              "      <td id=\"T_afd86_row0_col0\" class=\"data row0 col0\" >Yan Y.; Xie G.; Lavery M.P.J.; Huang H.; Ahmed N.; Bao C.; Ren Y.; Cao Y.; Li L.; Zhao Z.; Molisch A.F.; Tur M.; Padgett M.J.; Willner A.E.</td>\n",
              "      <td id=\"T_afd86_row0_col1\" class=\"data row0 col1\" >High-capacity millimetre-wave communications with orbital angular momentum multiplexing</td>\n",
              "      <td id=\"T_afd86_row0_col2\" class=\"data row0 col2\" >Nature Communications</td>\n",
              "      <td id=\"T_afd86_row0_col3\" class=\"data row0 col3\" >2014</td>\n",
              "      <td id=\"T_afd86_row0_col4\" class=\"data row0 col4\" >1082</td>\n",
              "    </tr>\n",
              "    <tr>\n",
              "      <th id=\"T_afd86_level0_row1\" class=\"row_heading level0 row1\" >2</th>\n",
              "      <td id=\"T_afd86_row1_col0\" class=\"data row1 col0\" >Mei J.; Ma G.; Yang M.; Yang Z.; Wen W.; Sheng P.</td>\n",
              "      <td id=\"T_afd86_row1_col1\" class=\"data row1 col1\" >Dark acoustic metamaterials as super absorbers for low-frequency sound</td>\n",
              "      <td id=\"T_afd86_row1_col2\" class=\"data row1 col2\" >Nature Communications</td>\n",
              "      <td id=\"T_afd86_row1_col3\" class=\"data row1 col3\" >2012</td>\n",
              "      <td id=\"T_afd86_row1_col4\" class=\"data row1 col4\" >994</td>\n",
              "    </tr>\n",
              "    <tr>\n",
              "      <th id=\"T_afd86_level0_row2\" class=\"row_heading level0 row2\" >3</th>\n",
              "      <td id=\"T_afd86_row2_col0\" class=\"data row2 col0\" >Falnes J.</td>\n",
              "      <td id=\"T_afd86_row2_col1\" class=\"data row2 col1\" >A review of wave-energy extraction</td>\n",
              "      <td id=\"T_afd86_row2_col2\" class=\"data row2 col2\" >Marine Structures</td>\n",
              "      <td id=\"T_afd86_row2_col3\" class=\"data row2 col3\" >2007</td>\n",
              "      <td id=\"T_afd86_row2_col4\" class=\"data row2 col4\" >906</td>\n",
              "    </tr>\n",
              "    <tr>\n",
              "      <th id=\"T_afd86_level0_row3\" class=\"row_heading level0 row3\" >4</th>\n",
              "      <td id=\"T_afd86_row3_col0\" class=\"data row3 col0\" >Falcão A.F.O.; Henriques J.C.C.</td>\n",
              "      <td id=\"T_afd86_row3_col1\" class=\"data row3 col1\" >Oscillating-water-column wave energy converters and air turbines: A review</td>\n",
              "      <td id=\"T_afd86_row3_col2\" class=\"data row3 col2\" >Renewable Energy</td>\n",
              "      <td id=\"T_afd86_row3_col3\" class=\"data row3 col3\" >2016</td>\n",
              "      <td id=\"T_afd86_row3_col4\" class=\"data row3 col4\" >744</td>\n",
              "    </tr>\n",
              "    <tr>\n",
              "      <th id=\"T_afd86_level0_row4\" class=\"row_heading level0 row4\" >5</th>\n",
              "      <td id=\"T_afd86_row4_col0\" class=\"data row4 col0\" >Babarit A.; Hals J.; Muliawan M.J.; Kurniawan A.; Moan T.; Krokstad J.</td>\n",
              "      <td id=\"T_afd86_row4_col1\" class=\"data row4 col1\" >Numerical benchmarking study of a selection of wave energy converters</td>\n",
              "      <td id=\"T_afd86_row4_col2\" class=\"data row4 col2\" >Renewable Energy</td>\n",
              "      <td id=\"T_afd86_row4_col3\" class=\"data row4 col3\" >2012</td>\n",
              "      <td id=\"T_afd86_row4_col4\" class=\"data row4 col4\" >634</td>\n",
              "    </tr>\n",
              "    <tr>\n",
              "      <th id=\"T_afd86_level0_row5\" class=\"row_heading level0 row5\" >6</th>\n",
              "      <td id=\"T_afd86_row5_col0\" class=\"data row5 col0\" >Ferrario F.; Beck M.W.; Storlazzi C.D.; Micheli F.; Shepard C.C.; Airoldi L.</td>\n",
              "      <td id=\"T_afd86_row5_col1\" class=\"data row5 col1\" >The effectiveness of coral reefs for coastal hazard risk reduction and adaptation</td>\n",
              "      <td id=\"T_afd86_row5_col2\" class=\"data row5 col2\" >Nature Communications</td>\n",
              "      <td id=\"T_afd86_row5_col3\" class=\"data row5 col3\" >2014</td>\n",
              "      <td id=\"T_afd86_row5_col4\" class=\"data row5 col4\" >599</td>\n",
              "    </tr>\n",
              "    <tr>\n",
              "      <th id=\"T_afd86_level0_row6\" class=\"row_heading level0 row6\" >7</th>\n",
              "      <td id=\"T_afd86_row6_col0\" class=\"data row6 col0\" >Gunn K.; Stock-Williams C.</td>\n",
              "      <td id=\"T_afd86_row6_col1\" class=\"data row6 col1\" >Quantifying the global wave power resource</td>\n",
              "      <td id=\"T_afd86_row6_col2\" class=\"data row6 col2\" >Renewable Energy</td>\n",
              "      <td id=\"T_afd86_row6_col3\" class=\"data row6 col3\" >2012</td>\n",
              "      <td id=\"T_afd86_row6_col4\" class=\"data row6 col4\" >515</td>\n",
              "    </tr>\n",
              "    <tr>\n",
              "      <th id=\"T_afd86_level0_row7\" class=\"row_heading level0 row7\" >8</th>\n",
              "      <td id=\"T_afd86_row7_col0\" class=\"data row7 col0\" >Taghipour R.; Perez T.; Moan T.</td>\n",
              "      <td id=\"T_afd86_row7_col1\" class=\"data row7 col1\" >Hybrid frequency-time domain models for dynamic response analysis of marine structures</td>\n",
              "      <td id=\"T_afd86_row7_col2\" class=\"data row7 col2\" >Ocean Engineering</td>\n",
              "      <td id=\"T_afd86_row7_col3\" class=\"data row7 col3\" >2008</td>\n",
              "      <td id=\"T_afd86_row7_col4\" class=\"data row7 col4\" >350</td>\n",
              "    </tr>\n",
              "    <tr>\n",
              "      <th id=\"T_afd86_level0_row8\" class=\"row_heading level0 row8\" >9</th>\n",
              "      <td id=\"T_afd86_row8_col0\" class=\"data row8 col0\" >Babarit A.; Clément A.H.</td>\n",
              "      <td id=\"T_afd86_row8_col1\" class=\"data row8 col1\" >Optimal latching control of a wave energy device in regular and irregular waves</td>\n",
              "      <td id=\"T_afd86_row8_col2\" class=\"data row8 col2\" >Applied Ocean Research</td>\n",
              "      <td id=\"T_afd86_row8_col3\" class=\"data row8 col3\" >2006</td>\n",
              "      <td id=\"T_afd86_row8_col4\" class=\"data row8 col4\" >335</td>\n",
              "    </tr>\n",
              "    <tr>\n",
              "      <th id=\"T_afd86_level0_row9\" class=\"row_heading level0 row9\" >10</th>\n",
              "      <td id=\"T_afd86_row9_col0\" class=\"data row9 col0\" >Correction Ji B.; Luo X.; Arndt R.E.A.; Wu Y.</td>\n",
              "      <td id=\"T_afd86_row9_col1\" class=\"data row9 col1\" >Numerical simulation of three dimensional cavitation shedding dynamics with special emphasis on cavitation-vortex interaction</td>\n",
              "      <td id=\"T_afd86_row9_col2\" class=\"data row9 col2\" >Ocean Engineering</td>\n",
              "      <td id=\"T_afd86_row9_col3\" class=\"data row9 col3\" >2014</td>\n",
              "      <td id=\"T_afd86_row9_col4\" class=\"data row9 col4\" >333</td>\n",
              "    </tr>\n",
              "  </tbody>\n",
              "</table>\n"
            ]
          },
          "metadata": {},
          "execution_count": 42
        }
      ]
    },
    {
      "cell_type": "markdown",
      "source": [
        "# Generate plot of the papers per year"
      ],
      "metadata": {
        "id": "CPvw1Isz6pQM"
      }
    },
    {
      "cell_type": "code",
      "source": [
        "mpl.rc('font', family='Roboto')\n",
        "\n",
        "# year_dic = {i:0 for i in range( min( year_lst ), max( year_lst )+1 ) }\n",
        "year_dic = {i:0 for i in range( 2003, 2025 ) }\n",
        "\n",
        "for n, ( year, stage ) in enumerate( zip( year_lst, stage_lst ) ):\n",
        "    if stage == 'Final' and affiliations == affiliations: # detect NANs\n",
        "        if year > 2002:\n",
        "            year_dic[year] += 1\n",
        "\n",
        "mpl.figure( 1, figsize=(1.2*6,1.2*4) )\n",
        "mpl.plot( year_dic.keys(), year_dic.values(), 'o-',\n",
        "         linewidth=2, color='#3679e0',\n",
        "         markersize=7, markerfacecolor='w', markeredgewidth=2,\n",
        "         markeredgecolor='#3679e0' )\n",
        "mpl.xlim( (2002, 2025) )\n",
        "mpl.grid()\n",
        "mpl.xlabel( 'Year' )\n",
        "mpl.ylabel( 'Number of papers' )\n",
        "mpl.title( 'Last 5 years of publications' )#.set_fontname(\"Roboto condensed\")\n",
        "\n",
        "\n",
        "mpl.gca().set_axisbelow(True)\n",
        "# mpl.gca().set_xticks( range( min( year_lst ), max( year_lst )+1, 2 ) );\n",
        "# mpl.gca().set_xticks( range( 2018, 2023+1, 2 ) );\n",
        "mpl.savefig( 'PubsLast20Years.pdf', bbox_inches='tight', pad_inches=0.02 )\n",
        "mpl.savefig( 'PubsLast20Years.svg', bbox_inches='tight', pad_inches=0.02 )\n",
        "\n",
        "# df_year_dic = {\n",
        "#     'Year': year_dic.keys(),\n",
        "#     'Num papers': year_dic.values()\n",
        "# }\n",
        "\n",
        "# df = pd.DataFrame( df_year_dic )\n",
        "# df.index = df.index + 1\n",
        "# df"
      ],
      "metadata": {
        "colab": {
          "base_uri": "https://localhost:8080/",
          "height": 487
        },
        "id": "gzTHr1sm6uuN",
        "outputId": "7b52d1fd-5c0e-4d1b-de2d-f2f0deaf0583"
      },
      "execution_count": 47,
      "outputs": [
        {
          "output_type": "display_data",
          "data": {
            "text/plain": [
              "<Figure size 576x384 with 1 Axes>"
            ],
            "image/svg+xml": "<?xml version=\"1.0\" encoding=\"utf-8\" standalone=\"no\"?>\n<!DOCTYPE svg PUBLIC \"-//W3C//DTD SVG 1.1//EN\"\n  \"http://www.w3.org/Graphics/SVG/1.1/DTD/svg11.dtd\">\n<svg xmlns:xlink=\"http://www.w3.org/1999/xlink\" width=\"504.641125pt\" height=\"350.01975pt\" viewBox=\"0 0 504.641125 350.01975\" xmlns=\"http://www.w3.org/2000/svg\" version=\"1.1\">\n <metadata>\n  <rdf:RDF xmlns:dc=\"http://purl.org/dc/elements/1.1/\" xmlns:cc=\"http://creativecommons.org/ns#\" xmlns:rdf=\"http://www.w3.org/1999/02/22-rdf-syntax-ns#\">\n   <cc:Work>\n    <dc:type rdf:resource=\"http://purl.org/dc/dcmitype/StillImage\"/>\n    <dc:date>2024-09-14T20:11:34.251648</dc:date>\n    <dc:format>image/svg+xml</dc:format>\n    <dc:creator>\n     <cc:Agent>\n      <dc:title>Matplotlib v3.7.1, https://matplotlib.org/</dc:title>\n     </cc:Agent>\n    </dc:creator>\n   </cc:Work>\n  </rdf:RDF>\n </metadata>\n <defs>\n  <style type=\"text/css\">*{stroke-linejoin: round; stroke-linecap: butt}</style>\n </defs>\n <g id=\"figure_1\">\n  <g id=\"patch_1\">\n   <path d=\"M 0 350.01975 \nL 504.641125 350.01975 \nL 504.641125 0 \nL 0 0 \nz\n\" style=\"fill: #ffffff\"/>\n  </g>\n  <g id=\"axes_1\">\n   <g id=\"patch_2\">\n    <path d=\"M 56.13625 304.4885 \nL 481.22425 304.4885 \nL 481.22425 24.5525 \nL 56.13625 24.5525 \nz\n\" style=\"fill: #ffffff\"/>\n   </g>\n   <g id=\"matplotlib.axis_1\">\n    <g id=\"xtick_1\">\n     <g id=\"line2d_1\">\n      <path d=\"M 111.582511 304.4885 \nL 111.582511 24.5525 \n\" clip-path=\"url(#p8913819480)\" style=\"fill: none; stroke-dasharray: 1,3; stroke-dashoffset: 0; stroke: #000000; stroke-width: 0.5\"/>\n     </g>\n     <g id=\"line2d_2\">\n      <defs>\n       <path id=\"mfeb03276de\" d=\"M 0 0 \nL 0 -4 \n\" style=\"stroke: #000000; stroke-width: 0.5\"/>\n      </defs>\n      <g>\n       <use xlink:href=\"#mfeb03276de\" x=\"111.582511\" y=\"304.4885\" style=\"stroke: #000000; stroke-width: 0.5\"/>\n      </g>\n     </g>\n     <g id=\"line2d_3\">\n      <defs>\n       <path id=\"m4056647572\" d=\"M 0 0 \nL 0 4 \n\" style=\"stroke: #000000; stroke-width: 0.5\"/>\n      </defs>\n      <g>\n       <use xlink:href=\"#m4056647572\" x=\"111.582511\" y=\"24.5525\" style=\"stroke: #000000; stroke-width: 0.5\"/>\n      </g>\n     </g>\n     <g id=\"text_1\">\n      <!-- 2005 -->\n      <g transform=\"translate(95.362261 319.45725) scale(0.144 -0.144)\">\n       <defs>\n        <path id=\"Roboto-Regular-32\" d=\"M 3319 0 \nL 369 0 \nL 369 422 \nL 1859 2078 \nQ 2259 2525 2401 2787 \nQ 2544 3050 2544 3325 \nQ 2544 3666 2345 3898 \nQ 2147 4131 1819 4131 \nQ 1347 4131 1123 3889 \nQ 900 3647 900 3209 \nL 309 3209 \nL 303 3228 \nQ 288 3816 694 4216 \nQ 1100 4616 1819 4616 \nQ 2431 4616 2795 4258 \nQ 3159 3900 3159 3347 \nQ 3159 2975 2939 2601 \nQ 2719 2228 2322 1800 \nL 1125 497 \nL 1131 481 \nL 3319 481 \nL 3319 0 \nz\n\" transform=\"scale(0.015625)\"/>\n        <path id=\"Roboto-Regular-30\" d=\"M 3250 1734 \nQ 3250 863 2864 398 \nQ 2478 -66 1806 -66 \nQ 1134 -66 743 400 \nQ 353 866 353 1734 \nL 353 2813 \nQ 353 3681 742 4148 \nQ 1131 4616 1800 4616 \nQ 2472 4616 2861 4148 \nQ 3250 3681 3250 2813 \nL 3250 1734 \nz\nM 2634 2944 \nQ 2634 3534 2420 3832 \nQ 2206 4131 1800 4131 \nQ 1394 4131 1181 3832 \nQ 969 3534 969 2944 \nL 969 1609 \nQ 969 1019 1184 717 \nQ 1400 416 1806 416 \nQ 2213 416 2423 716 \nQ 2634 1016 2634 1609 \nL 2634 2944 \nz\n\" transform=\"scale(0.015625)\"/>\n        <path id=\"Roboto-Regular-35\" d=\"M 547 2053 \nL 809 4550 \nL 3088 4550 \nL 3088 4003 \nL 1331 4003 \nL 1181 2725 \nQ 1325 2831 1501 2901 \nQ 1678 2972 1909 2978 \nQ 2538 2984 2898 2568 \nQ 3259 2153 3259 1450 \nQ 3259 766 2892 350 \nQ 2525 -66 1822 -66 \nQ 1244 -66 859 250 \nQ 475 566 491 1178 \nL 497 1197 \nL 1053 1197 \nQ 1053 825 1267 620 \nQ 1481 416 1822 416 \nQ 2213 416 2428 691 \nQ 2644 966 2644 1444 \nQ 2644 1881 2425 2162 \nQ 2206 2444 1822 2444 \nQ 1459 2444 1296 2334 \nQ 1134 2225 1059 2000 \nL 547 2053 \nz\n\" transform=\"scale(0.015625)\"/>\n       </defs>\n       <use xlink:href=\"#Roboto-Regular-32\"/>\n       <use xlink:href=\"#Roboto-Regular-30\" x=\"56.298828\"/>\n       <use xlink:href=\"#Roboto-Regular-30\" x=\"112.646484\"/>\n       <use xlink:href=\"#Roboto-Regular-35\" x=\"168.994141\"/>\n      </g>\n     </g>\n    </g>\n    <g id=\"xtick_2\">\n     <g id=\"line2d_4\">\n      <path d=\"M 203.992946 304.4885 \nL 203.992946 24.5525 \n\" clip-path=\"url(#p8913819480)\" style=\"fill: none; stroke-dasharray: 1,3; stroke-dashoffset: 0; stroke: #000000; stroke-width: 0.5\"/>\n     </g>\n     <g id=\"line2d_5\">\n      <g>\n       <use xlink:href=\"#mfeb03276de\" x=\"203.992946\" y=\"304.4885\" style=\"stroke: #000000; stroke-width: 0.5\"/>\n      </g>\n     </g>\n     <g id=\"line2d_6\">\n      <g>\n       <use xlink:href=\"#m4056647572\" x=\"203.992946\" y=\"24.5525\" style=\"stroke: #000000; stroke-width: 0.5\"/>\n      </g>\n     </g>\n     <g id=\"text_2\">\n      <!-- 2010 -->\n      <g transform=\"translate(187.772696 319.45725) scale(0.144 -0.144)\">\n       <defs>\n        <path id=\"Roboto-Regular-31\" d=\"M 2128 0 \nL 1513 0 \nL 1513 3950 \nL 581 3938 \nL 581 4381 \nL 2128 4550 \nL 2128 0 \nz\n\" transform=\"scale(0.015625)\"/>\n       </defs>\n       <use xlink:href=\"#Roboto-Regular-32\"/>\n       <use xlink:href=\"#Roboto-Regular-30\" x=\"56.298828\"/>\n       <use xlink:href=\"#Roboto-Regular-31\" x=\"112.646484\"/>\n       <use xlink:href=\"#Roboto-Regular-30\" x=\"168.945312\"/>\n      </g>\n     </g>\n    </g>\n    <g id=\"xtick_3\">\n     <g id=\"line2d_7\">\n      <path d=\"M 296.40338 304.4885 \nL 296.40338 24.5525 \n\" clip-path=\"url(#p8913819480)\" style=\"fill: none; stroke-dasharray: 1,3; stroke-dashoffset: 0; stroke: #000000; stroke-width: 0.5\"/>\n     </g>\n     <g id=\"line2d_8\">\n      <g>\n       <use xlink:href=\"#mfeb03276de\" x=\"296.40338\" y=\"304.4885\" style=\"stroke: #000000; stroke-width: 0.5\"/>\n      </g>\n     </g>\n     <g id=\"line2d_9\">\n      <g>\n       <use xlink:href=\"#m4056647572\" x=\"296.40338\" y=\"24.5525\" style=\"stroke: #000000; stroke-width: 0.5\"/>\n      </g>\n     </g>\n     <g id=\"text_3\">\n      <!-- 2015 -->\n      <g transform=\"translate(280.186505 319.45725) scale(0.144 -0.144)\">\n       <use xlink:href=\"#Roboto-Regular-32\"/>\n       <use xlink:href=\"#Roboto-Regular-30\" x=\"56.298828\"/>\n       <use xlink:href=\"#Roboto-Regular-31\" x=\"112.646484\"/>\n       <use xlink:href=\"#Roboto-Regular-35\" x=\"168.945312\"/>\n      </g>\n     </g>\n    </g>\n    <g id=\"xtick_4\">\n     <g id=\"line2d_10\">\n      <path d=\"M 388.813815 304.4885 \nL 388.813815 24.5525 \n\" clip-path=\"url(#p8913819480)\" style=\"fill: none; stroke-dasharray: 1,3; stroke-dashoffset: 0; stroke: #000000; stroke-width: 0.5\"/>\n     </g>\n     <g id=\"line2d_11\">\n      <g>\n       <use xlink:href=\"#mfeb03276de\" x=\"388.813815\" y=\"304.4885\" style=\"stroke: #000000; stroke-width: 0.5\"/>\n      </g>\n     </g>\n     <g id=\"line2d_12\">\n      <g>\n       <use xlink:href=\"#m4056647572\" x=\"388.813815\" y=\"24.5525\" style=\"stroke: #000000; stroke-width: 0.5\"/>\n      </g>\n     </g>\n     <g id=\"text_4\">\n      <!-- 2020 -->\n      <g transform=\"translate(372.593565 319.45725) scale(0.144 -0.144)\">\n       <use xlink:href=\"#Roboto-Regular-32\"/>\n       <use xlink:href=\"#Roboto-Regular-30\" x=\"56.298828\"/>\n       <use xlink:href=\"#Roboto-Regular-32\" x=\"112.646484\"/>\n       <use xlink:href=\"#Roboto-Regular-30\" x=\"168.945312\"/>\n      </g>\n     </g>\n    </g>\n    <g id=\"xtick_5\">\n     <g id=\"line2d_13\">\n      <path d=\"M 481.22425 304.4885 \nL 481.22425 24.5525 \n\" clip-path=\"url(#p8913819480)\" style=\"fill: none; stroke-dasharray: 1,3; stroke-dashoffset: 0; stroke: #000000; stroke-width: 0.5\"/>\n     </g>\n     <g id=\"line2d_14\">\n      <g>\n       <use xlink:href=\"#mfeb03276de\" x=\"481.22425\" y=\"304.4885\" style=\"stroke: #000000; stroke-width: 0.5\"/>\n      </g>\n     </g>\n     <g id=\"line2d_15\">\n      <g>\n       <use xlink:href=\"#m4056647572\" x=\"481.22425\" y=\"24.5525\" style=\"stroke: #000000; stroke-width: 0.5\"/>\n      </g>\n     </g>\n     <g id=\"text_5\">\n      <!-- 2025 -->\n      <g transform=\"translate(465.007375 319.45725) scale(0.144 -0.144)\">\n       <use xlink:href=\"#Roboto-Regular-32\"/>\n       <use xlink:href=\"#Roboto-Regular-30\" x=\"56.298828\"/>\n       <use xlink:href=\"#Roboto-Regular-32\" x=\"112.646484\"/>\n       <use xlink:href=\"#Roboto-Regular-35\" x=\"168.945312\"/>\n      </g>\n     </g>\n    </g>\n    <g id=\"text_6\">\n     <!-- Year -->\n     <g transform=\"translate(252.4265 339.56975) scale(0.16 -0.16)\">\n      <defs>\n       <path id=\"Roboto-Regular-59\" d=\"M 1953 2238 \nL 3141 4550 \nL 3844 4550 \nL 2247 1600 \nL 2247 0 \nL 1634 0 \nL 1634 1641 \nL 63 4550 \nL 766 4550 \nL 1953 2238 \nz\n\" transform=\"scale(0.015625)\"/>\n       <path id=\"Roboto-Regular-65\" d=\"M 1850 -66 \nQ 1144 -66 726 404 \nQ 309 875 309 1625 \nL 309 1763 \nQ 309 2484 739 2964 \nQ 1169 3444 1756 3444 \nQ 2441 3444 2791 3031 \nQ 3141 2619 3141 1931 \nL 3141 1547 \nL 947 1547 \nL 938 1531 \nQ 947 1044 1184 730 \nQ 1422 416 1850 416 \nQ 2163 416 2398 505 \nQ 2634 594 2806 750 \nL 3047 350 \nQ 2866 172 2569 53 \nQ 2272 -66 1850 -66 \nz\nM 1756 2959 \nQ 1447 2959 1228 2698 \nQ 1009 2438 959 2044 \nL 966 2028 \nL 2525 2028 \nL 2525 2109 \nQ 2525 2472 2331 2715 \nQ 2138 2959 1756 2959 \nz\n\" transform=\"scale(0.015625)\"/>\n       <path id=\"Roboto-Regular-61\" d=\"M 2525 0 \nQ 2494 153 2476 270 \nQ 2459 388 2456 506 \nQ 2284 263 2007 98 \nQ 1731 -66 1413 -66 \nQ 884 -66 607 204 \nQ 331 475 331 950 \nQ 331 1434 723 1707 \nQ 1116 1981 1788 1981 \nL 2456 1981 \nL 2456 2316 \nQ 2456 2613 2275 2786 \nQ 2094 2959 1763 2959 \nQ 1466 2959 1280 2807 \nQ 1094 2656 1094 2444 \nL 506 2444 \nL 500 2463 \nQ 481 2831 848 3137 \nQ 1216 3444 1797 3444 \nQ 2372 3444 2722 3151 \nQ 3072 2859 3072 2309 \nL 3072 681 \nQ 3072 500 3090 331 \nQ 3109 163 3159 0 \nL 2525 0 \nz\nM 1503 450 \nQ 1838 450 2106 622 \nQ 2375 794 2456 1016 \nL 2456 1566 \nL 1766 1566 \nQ 1394 1566 1170 1378 \nQ 947 1191 947 938 \nQ 947 713 1087 581 \nQ 1228 450 1503 450 \nz\n\" transform=\"scale(0.015625)\"/>\n       <path id=\"Roboto-Regular-72\" d=\"M 2047 2838 \nL 1731 2856 \nQ 1488 2856 1320 2740 \nQ 1153 2625 1063 2416 \nL 1063 0 \nL 447 0 \nL 447 3381 \nL 997 3381 \nL 1056 2888 \nQ 1200 3150 1411 3297 \nQ 1622 3444 1897 3444 \nQ 1966 3444 2028 3433 \nQ 2091 3422 2131 3409 \nL 2047 2838 \nz\n\" transform=\"scale(0.015625)\"/>\n      </defs>\n      <use xlink:href=\"#Roboto-Regular-59\"/>\n      <use xlink:href=\"#Roboto-Regular-65\" x=\"61.035156\"/>\n      <use xlink:href=\"#Roboto-Regular-61\" x=\"113.916016\"/>\n      <use xlink:href=\"#Roboto-Regular-72\" x=\"168.896484\"/>\n     </g>\n    </g>\n   </g>\n   <g id=\"matplotlib.axis_2\">\n    <g id=\"ytick_1\">\n     <g id=\"line2d_16\">\n      <path d=\"M 56.13625 304.4885 \nL 481.22425 304.4885 \n\" clip-path=\"url(#p8913819480)\" style=\"fill: none; stroke-dasharray: 1,3; stroke-dashoffset: 0; stroke: #000000; stroke-width: 0.5\"/>\n     </g>\n     <g id=\"line2d_17\">\n      <defs>\n       <path id=\"m7fa64c38bd\" d=\"M 0 0 \nL 4 0 \n\" style=\"stroke: #000000; stroke-width: 0.5\"/>\n      </defs>\n      <g>\n       <use xlink:href=\"#m7fa64c38bd\" x=\"56.13625\" y=\"304.4885\" style=\"stroke: #000000; stroke-width: 0.5\"/>\n      </g>\n     </g>\n     <g id=\"line2d_18\">\n      <defs>\n       <path id=\"me70655e056\" d=\"M 0 0 \nL -4 0 \n\" style=\"stroke: #000000; stroke-width: 0.5\"/>\n      </defs>\n      <g>\n       <use xlink:href=\"#me70655e056\" x=\"481.22425\" y=\"304.4885\" style=\"stroke: #000000; stroke-width: 0.5\"/>\n      </g>\n     </g>\n     <g id=\"text_7\">\n      <!-- 0 -->\n      <g transform=\"translate(44.02275 308.510375) scale(0.144 -0.144)\">\n       <use xlink:href=\"#Roboto-Regular-30\"/>\n      </g>\n     </g>\n    </g>\n    <g id=\"ytick_2\">\n     <g id=\"line2d_19\">\n      <path d=\"M 56.13625 269.4965 \nL 481.22425 269.4965 \n\" clip-path=\"url(#p8913819480)\" style=\"fill: none; stroke-dasharray: 1,3; stroke-dashoffset: 0; stroke: #000000; stroke-width: 0.5\"/>\n     </g>\n     <g id=\"line2d_20\">\n      <g>\n       <use xlink:href=\"#m7fa64c38bd\" x=\"56.13625\" y=\"269.4965\" style=\"stroke: #000000; stroke-width: 0.5\"/>\n      </g>\n     </g>\n     <g id=\"line2d_21\">\n      <g>\n       <use xlink:href=\"#me70655e056\" x=\"481.22425\" y=\"269.4965\" style=\"stroke: #000000; stroke-width: 0.5\"/>\n      </g>\n     </g>\n     <g id=\"text_8\">\n      <!-- 50 -->\n      <g transform=\"translate(35.916 273.518375) scale(0.144 -0.144)\">\n       <use xlink:href=\"#Roboto-Regular-35\"/>\n       <use xlink:href=\"#Roboto-Regular-30\" x=\"56.298828\"/>\n      </g>\n     </g>\n    </g>\n    <g id=\"ytick_3\">\n     <g id=\"line2d_22\">\n      <path d=\"M 56.13625 234.5045 \nL 481.22425 234.5045 \n\" clip-path=\"url(#p8913819480)\" style=\"fill: none; stroke-dasharray: 1,3; stroke-dashoffset: 0; stroke: #000000; stroke-width: 0.5\"/>\n     </g>\n     <g id=\"line2d_23\">\n      <g>\n       <use xlink:href=\"#m7fa64c38bd\" x=\"56.13625\" y=\"234.5045\" style=\"stroke: #000000; stroke-width: 0.5\"/>\n      </g>\n     </g>\n     <g id=\"line2d_24\">\n      <g>\n       <use xlink:href=\"#me70655e056\" x=\"481.22425\" y=\"234.5045\" style=\"stroke: #000000; stroke-width: 0.5\"/>\n      </g>\n     </g>\n     <g id=\"text_9\">\n      <!-- 100 -->\n      <g transform=\"translate(27.8025 238.526375) scale(0.144 -0.144)\">\n       <use xlink:href=\"#Roboto-Regular-31\"/>\n       <use xlink:href=\"#Roboto-Regular-30\" x=\"56.298828\"/>\n       <use xlink:href=\"#Roboto-Regular-30\" x=\"112.646484\"/>\n      </g>\n     </g>\n    </g>\n    <g id=\"ytick_4\">\n     <g id=\"line2d_25\">\n      <path d=\"M 56.13625 199.5125 \nL 481.22425 199.5125 \n\" clip-path=\"url(#p8913819480)\" style=\"fill: none; stroke-dasharray: 1,3; stroke-dashoffset: 0; stroke: #000000; stroke-width: 0.5\"/>\n     </g>\n     <g id=\"line2d_26\">\n      <g>\n       <use xlink:href=\"#m7fa64c38bd\" x=\"56.13625\" y=\"199.5125\" style=\"stroke: #000000; stroke-width: 0.5\"/>\n      </g>\n     </g>\n     <g id=\"line2d_27\">\n      <g>\n       <use xlink:href=\"#me70655e056\" x=\"481.22425\" y=\"199.5125\" style=\"stroke: #000000; stroke-width: 0.5\"/>\n      </g>\n     </g>\n     <g id=\"text_10\">\n      <!-- 150 -->\n      <g transform=\"translate(27.80925 203.534375) scale(0.144 -0.144)\">\n       <use xlink:href=\"#Roboto-Regular-31\"/>\n       <use xlink:href=\"#Roboto-Regular-35\" x=\"56.298828\"/>\n       <use xlink:href=\"#Roboto-Regular-30\" x=\"112.597656\"/>\n      </g>\n     </g>\n    </g>\n    <g id=\"ytick_5\">\n     <g id=\"line2d_28\">\n      <path d=\"M 56.13625 164.5205 \nL 481.22425 164.5205 \n\" clip-path=\"url(#p8913819480)\" style=\"fill: none; stroke-dasharray: 1,3; stroke-dashoffset: 0; stroke: #000000; stroke-width: 0.5\"/>\n     </g>\n     <g id=\"line2d_29\">\n      <g>\n       <use xlink:href=\"#m7fa64c38bd\" x=\"56.13625\" y=\"164.5205\" style=\"stroke: #000000; stroke-width: 0.5\"/>\n      </g>\n     </g>\n     <g id=\"line2d_30\">\n      <g>\n       <use xlink:href=\"#me70655e056\" x=\"481.22425\" y=\"164.5205\" style=\"stroke: #000000; stroke-width: 0.5\"/>\n      </g>\n     </g>\n     <g id=\"text_11\">\n      <!-- 200 -->\n      <g transform=\"translate(27.8025 168.542375) scale(0.144 -0.144)\">\n       <use xlink:href=\"#Roboto-Regular-32\"/>\n       <use xlink:href=\"#Roboto-Regular-30\" x=\"56.298828\"/>\n       <use xlink:href=\"#Roboto-Regular-30\" x=\"112.646484\"/>\n      </g>\n     </g>\n    </g>\n    <g id=\"ytick_6\">\n     <g id=\"line2d_31\">\n      <path d=\"M 56.13625 129.5285 \nL 481.22425 129.5285 \n\" clip-path=\"url(#p8913819480)\" style=\"fill: none; stroke-dasharray: 1,3; stroke-dashoffset: 0; stroke: #000000; stroke-width: 0.5\"/>\n     </g>\n     <g id=\"line2d_32\">\n      <g>\n       <use xlink:href=\"#m7fa64c38bd\" x=\"56.13625\" y=\"129.5285\" style=\"stroke: #000000; stroke-width: 0.5\"/>\n      </g>\n     </g>\n     <g id=\"line2d_33\">\n      <g>\n       <use xlink:href=\"#me70655e056\" x=\"481.22425\" y=\"129.5285\" style=\"stroke: #000000; stroke-width: 0.5\"/>\n      </g>\n     </g>\n     <g id=\"text_12\">\n      <!-- 250 -->\n      <g transform=\"translate(27.80925 133.550375) scale(0.144 -0.144)\">\n       <use xlink:href=\"#Roboto-Regular-32\"/>\n       <use xlink:href=\"#Roboto-Regular-35\" x=\"56.298828\"/>\n       <use xlink:href=\"#Roboto-Regular-30\" x=\"112.597656\"/>\n      </g>\n     </g>\n    </g>\n    <g id=\"ytick_7\">\n     <g id=\"line2d_34\">\n      <path d=\"M 56.13625 94.5365 \nL 481.22425 94.5365 \n\" clip-path=\"url(#p8913819480)\" style=\"fill: none; stroke-dasharray: 1,3; stroke-dashoffset: 0; stroke: #000000; stroke-width: 0.5\"/>\n     </g>\n     <g id=\"line2d_35\">\n      <g>\n       <use xlink:href=\"#m7fa64c38bd\" x=\"56.13625\" y=\"94.5365\" style=\"stroke: #000000; stroke-width: 0.5\"/>\n      </g>\n     </g>\n     <g id=\"line2d_36\">\n      <g>\n       <use xlink:href=\"#me70655e056\" x=\"481.22425\" y=\"94.5365\" style=\"stroke: #000000; stroke-width: 0.5\"/>\n      </g>\n     </g>\n     <g id=\"text_13\">\n      <!-- 300 -->\n      <g transform=\"translate(27.8025 98.558375) scale(0.144 -0.144)\">\n       <defs>\n        <path id=\"Roboto-Regular-33\" d=\"M 1213 2559 \nL 1750 2559 \nQ 2159 2559 2329 2764 \nQ 2500 2969 2500 3334 \nQ 2500 3725 2306 3928 \nQ 2113 4131 1734 4131 \nQ 1375 4131 1158 3920 \nQ 941 3709 941 3359 \nL 350 3359 \nL 344 3378 \nQ 328 3894 717 4255 \nQ 1106 4616 1734 4616 \nQ 2366 4616 2741 4280 \nQ 3116 3944 3116 3322 \nQ 3116 3041 2945 2761 \nQ 2775 2481 2434 2334 \nQ 2844 2200 3014 1912 \nQ 3184 1625 3184 1269 \nQ 3184 647 2776 290 \nQ 2369 -66 1734 -66 \nQ 1113 -66 705 270 \nQ 297 606 313 1181 \nL 322 1200 \nL 909 1200 \nQ 909 841 1129 628 \nQ 1350 416 1734 416 \nQ 2125 416 2347 628 \nQ 2569 841 2569 1256 \nQ 2569 1678 2372 1878 \nQ 2175 2078 1750 2078 \nL 1213 2078 \nL 1213 2559 \nz\n\" transform=\"scale(0.015625)\"/>\n       </defs>\n       <use xlink:href=\"#Roboto-Regular-33\"/>\n       <use xlink:href=\"#Roboto-Regular-30\" x=\"56.298828\"/>\n       <use xlink:href=\"#Roboto-Regular-30\" x=\"112.646484\"/>\n      </g>\n     </g>\n    </g>\n    <g id=\"ytick_8\">\n     <g id=\"line2d_37\">\n      <path d=\"M 56.13625 59.5445 \nL 481.22425 59.5445 \n\" clip-path=\"url(#p8913819480)\" style=\"fill: none; stroke-dasharray: 1,3; stroke-dashoffset: 0; stroke: #000000; stroke-width: 0.5\"/>\n     </g>\n     <g id=\"line2d_38\">\n      <g>\n       <use xlink:href=\"#m7fa64c38bd\" x=\"56.13625\" y=\"59.5445\" style=\"stroke: #000000; stroke-width: 0.5\"/>\n      </g>\n     </g>\n     <g id=\"line2d_39\">\n      <g>\n       <use xlink:href=\"#me70655e056\" x=\"481.22425\" y=\"59.5445\" style=\"stroke: #000000; stroke-width: 0.5\"/>\n      </g>\n     </g>\n     <g id=\"text_14\">\n      <!-- 350 -->\n      <g transform=\"translate(27.80925 63.566375) scale(0.144 -0.144)\">\n       <use xlink:href=\"#Roboto-Regular-33\"/>\n       <use xlink:href=\"#Roboto-Regular-35\" x=\"56.298828\"/>\n       <use xlink:href=\"#Roboto-Regular-30\" x=\"112.597656\"/>\n      </g>\n     </g>\n    </g>\n    <g id=\"ytick_9\">\n     <g id=\"line2d_40\">\n      <path d=\"M 56.13625 24.5525 \nL 481.22425 24.5525 \n\" clip-path=\"url(#p8913819480)\" style=\"fill: none; stroke-dasharray: 1,3; stroke-dashoffset: 0; stroke: #000000; stroke-width: 0.5\"/>\n     </g>\n     <g id=\"line2d_41\">\n      <g>\n       <use xlink:href=\"#m7fa64c38bd\" x=\"56.13625\" y=\"24.5525\" style=\"stroke: #000000; stroke-width: 0.5\"/>\n      </g>\n     </g>\n     <g id=\"line2d_42\">\n      <g>\n       <use xlink:href=\"#me70655e056\" x=\"481.22425\" y=\"24.5525\" style=\"stroke: #000000; stroke-width: 0.5\"/>\n      </g>\n     </g>\n     <g id=\"text_15\">\n      <!-- 400 -->\n      <g transform=\"translate(27.8025 28.574375) scale(0.144 -0.144)\">\n       <defs>\n        <path id=\"Roboto-Regular-34\" d=\"M 2828 1531 \nL 3456 1531 \nL 3456 1050 \nL 2828 1050 \nL 2828 0 \nL 2216 0 \nL 2216 1050 \nL 172 1050 \nL 172 1397 \nL 2178 4550 \nL 2828 4550 \nL 2828 1531 \nz\nM 828 1531 \nL 2216 1531 \nL 2216 3666 \nL 2197 3669 \nL 2138 3513 \nL 828 1531 \nz\n\" transform=\"scale(0.015625)\"/>\n       </defs>\n       <use xlink:href=\"#Roboto-Regular-34\"/>\n       <use xlink:href=\"#Roboto-Regular-30\" x=\"56.298828\"/>\n       <use xlink:href=\"#Roboto-Regular-30\" x=\"112.646484\"/>\n      </g>\n     </g>\n    </g>\n    <g id=\"text_16\">\n     <!-- Number of papers -->\n     <g transform=\"translate(19.5525 229.22425) rotate(-90) scale(0.16 -0.16)\">\n      <defs>\n       <path id=\"Roboto-Regular-4e\" d=\"M 4003 0 \nL 3388 0 \nL 1197 3519 \nL 1178 3513 \nL 1178 0 \nL 563 0 \nL 563 4550 \nL 1178 4550 \nL 3369 1038 \nL 3388 1044 \nL 3388 4550 \nL 4003 4550 \nL 4003 0 \nz\n\" transform=\"scale(0.015625)\"/>\n       <path id=\"Roboto-Regular-75\" d=\"M 2594 500 \nQ 2434 228 2184 81 \nQ 1934 -66 1606 -66 \nQ 1053 -66 743 287 \nQ 434 641 434 1388 \nL 434 3381 \nL 1050 3381 \nL 1050 1381 \nQ 1050 841 1209 637 \nQ 1369 434 1706 434 \nQ 2034 434 2248 567 \nQ 2463 700 2572 944 \nL 2572 3381 \nL 3188 3381 \nL 3188 0 \nL 2634 0 \nL 2594 500 \nz\n\" transform=\"scale(0.015625)\"/>\n       <path id=\"Roboto-Regular-6d\" d=\"M 997 3381 \nL 1041 2938 \nQ 1206 3178 1461 3311 \nQ 1716 3444 2053 3444 \nQ 2391 3444 2633 3287 \nQ 2875 3131 2997 2819 \nQ 3156 3106 3418 3275 \nQ 3681 3444 4031 3444 \nQ 4547 3444 4847 3089 \nQ 5147 2734 5147 2022 \nL 5147 0 \nL 4531 0 \nL 4531 2028 \nQ 4531 2528 4359 2736 \nQ 4188 2944 3847 2944 \nQ 3531 2944 3336 2725 \nQ 3141 2506 3106 2172 \nL 3106 2147 \nL 3106 0 \nL 2488 0 \nL 2488 2028 \nQ 2488 2503 2311 2723 \nQ 2134 2944 1803 2944 \nQ 1522 2944 1340 2828 \nQ 1159 2713 1063 2503 \nL 1063 0 \nL 447 0 \nL 447 3381 \nL 997 3381 \nz\n\" transform=\"scale(0.015625)\"/>\n       <path id=\"Roboto-Regular-62\" d=\"M 3334 1563 \nQ 3334 831 2982 382 \nQ 2631 -66 2016 -66 \nQ 1681 -66 1434 64 \nQ 1188 194 1025 447 \nL 950 0 \nL 447 0 \nL 447 4875 \nL 1063 4875 \nL 1063 2981 \nQ 1222 3206 1458 3325 \nQ 1694 3444 2009 3444 \nQ 2634 3444 2984 2944 \nQ 3334 2444 3334 1628 \nL 3334 1563 \nz\nM 2719 1628 \nQ 2719 2209 2505 2576 \nQ 2291 2944 1853 2944 \nQ 1569 2944 1373 2805 \nQ 1178 2666 1063 2431 \nL 1063 966 \nQ 1181 716 1373 575 \nQ 1566 434 1859 434 \nQ 2294 434 2506 743 \nQ 2719 1053 2719 1563 \nL 2719 1628 \nz\n\" transform=\"scale(0.015625)\"/>\n       <path id=\"Roboto-Regular-20\" transform=\"scale(0.015625)\"/>\n       <path id=\"Roboto-Regular-6f\" d=\"M 303 1722 \nQ 303 2472 709 2958 \nQ 1116 3444 1813 3444 \nQ 2516 3444 2923 2959 \nQ 3331 2475 3331 1722 \nL 3331 1653 \nQ 3331 897 2925 415 \nQ 2519 -66 1819 -66 \nQ 1119 -66 711 417 \nQ 303 900 303 1653 \nL 303 1722 \nz\nM 919 1653 \nQ 919 1116 1145 766 \nQ 1372 416 1819 416 \nQ 2259 416 2487 766 \nQ 2716 1116 2716 1653 \nL 2716 1722 \nQ 2716 2253 2486 2606 \nQ 2256 2959 1813 2959 \nQ 1372 2959 1145 2606 \nQ 919 2253 919 1722 \nL 919 1653 \nz\n\" transform=\"scale(0.015625)\"/>\n       <path id=\"Roboto-Regular-66\" d=\"M 703 0 \nL 703 2925 \nL 175 2925 \nL 175 3381 \nL 703 3381 \nL 703 3809 \nQ 703 4350 986 4645 \nQ 1269 4941 1775 4941 \nQ 1881 4941 1989 4923 \nQ 2097 4906 2228 4875 \nL 2153 4406 \nQ 2097 4419 2017 4428 \nQ 1938 4438 1850 4438 \nQ 1581 4438 1450 4277 \nQ 1319 4116 1319 3809 \nL 1319 3381 \nL 2022 3381 \nL 2022 2925 \nL 1319 2925 \nL 1319 0 \nL 703 0 \nz\n\" transform=\"scale(0.015625)\"/>\n       <path id=\"Roboto-Regular-70\" d=\"M 3328 1563 \nQ 3328 831 2978 382 \nQ 2628 -66 2013 -66 \nQ 1700 -66 1464 39 \nQ 1228 144 1063 353 \nL 1063 -1300 \nL 447 -1300 \nL 447 3381 \nL 919 3381 \nL 1016 2944 \nQ 1181 3188 1428 3316 \nQ 1675 3444 2003 3444 \nQ 2631 3444 2979 2945 \nQ 3328 2447 3328 1628 \nL 3328 1563 \nz\nM 2713 1628 \nQ 2713 2203 2486 2573 \nQ 2259 2944 1819 2944 \nQ 1553 2944 1365 2823 \nQ 1178 2703 1063 2494 \nL 1063 859 \nQ 1178 650 1365 533 \nQ 1553 416 1825 416 \nQ 2263 416 2488 736 \nQ 2713 1056 2713 1563 \nL 2713 1628 \nz\n\" transform=\"scale(0.015625)\"/>\n       <path id=\"Roboto-Regular-73\" d=\"M 2413 897 \nQ 2413 1100 2258 1231 \nQ 2103 1363 1672 1459 \nQ 1056 1594 745 1823 \nQ 434 2053 434 2450 \nQ 434 2863 784 3153 \nQ 1134 3444 1697 3444 \nQ 2288 3444 2636 3141 \nQ 2984 2838 2969 2403 \nL 2963 2384 \nL 2375 2384 \nQ 2375 2606 2189 2782 \nQ 2003 2959 1697 2959 \nQ 1369 2959 1209 2815 \nQ 1050 2672 1050 2469 \nQ 1050 2269 1190 2153 \nQ 1331 2038 1763 1947 \nQ 2403 1809 2715 1573 \nQ 3028 1338 3028 941 \nQ 3028 491 2664 212 \nQ 2300 -66 1713 -66 \nQ 1066 -66 694 262 \nQ 322 591 341 1028 \nL 347 1047 \nL 934 1047 \nQ 950 719 1178 567 \nQ 1406 416 1713 416 \nQ 2041 416 2227 548 \nQ 2413 681 2413 897 \nz\n\" transform=\"scale(0.015625)\"/>\n      </defs>\n      <use xlink:href=\"#Roboto-Regular-4e\"/>\n      <use xlink:href=\"#Roboto-Regular-75\" x=\"71.337891\"/>\n      <use xlink:href=\"#Roboto-Regular-6d\" x=\"128.173828\"/>\n      <use xlink:href=\"#Roboto-Regular-62\" x=\"215.576172\"/>\n      <use xlink:href=\"#Roboto-Regular-65\" x=\"272.412109\"/>\n      <use xlink:href=\"#Roboto-Regular-72\" x=\"325.292969\"/>\n      <use xlink:href=\"#Roboto-Regular-20\" x=\"359.570312\"/>\n      <use xlink:href=\"#Roboto-Regular-6f\" x=\"384.423828\"/>\n      <use xlink:href=\"#Roboto-Regular-66\" x=\"441.259766\"/>\n      <use xlink:href=\"#Roboto-Regular-20\" x=\"475.78125\"/>\n      <use xlink:href=\"#Roboto-Regular-70\" x=\"500.634766\"/>\n      <use xlink:href=\"#Roboto-Regular-61\" x=\"557.470703\"/>\n      <use xlink:href=\"#Roboto-Regular-70\" x=\"612.451172\"/>\n      <use xlink:href=\"#Roboto-Regular-65\" x=\"669.287109\"/>\n      <use xlink:href=\"#Roboto-Regular-72\" x=\"722.167969\"/>\n      <use xlink:href=\"#Roboto-Regular-73\" x=\"756.445312\"/>\n     </g>\n    </g>\n   </g>\n   <g id=\"line2d_43\">\n    <path d=\"M 74.618337 299.58962 \nL 93.100424 283.4933 \nL 111.582511 297.4901 \nL 130.064598 291.89138 \nL 148.546685 284.89298 \nL 167.028772 282.79346 \nL 185.510859 278.59442 \nL 203.992946 277.19474 \nL 222.475033 278.59442 \nL 240.95712 254.10002 \nL 259.439207 245.0021 \nL 277.921293 238.70354 \nL 296.40338 223.30706 \nL 314.885467 198.11282 \nL 333.367554 178.5173 \nL 351.849641 147.72434 \nL 370.331728 150.5237 \nL 388.813815 100.83506 \nL 407.295902 93.83666 \nL 425.777989 33.65042 \nL 444.260076 38.5493 \nL 462.742163 60.24434 \n\" clip-path=\"url(#p8913819480)\" style=\"fill: none; stroke: #3679e0; stroke-width: 2; stroke-linecap: square\"/>\n    <defs>\n     <path id=\"m66b3762d1d\" d=\"M 0 3.5 \nC 0.928211 3.5 1.81853 3.131218 2.474874 2.474874 \nC 3.131218 1.81853 3.5 0.928211 3.5 0 \nC 3.5 -0.928211 3.131218 -1.81853 2.474874 -2.474874 \nC 1.81853 -3.131218 0.928211 -3.5 0 -3.5 \nC -0.928211 -3.5 -1.81853 -3.131218 -2.474874 -2.474874 \nC -3.131218 -1.81853 -3.5 -0.928211 -3.5 0 \nC -3.5 0.928211 -3.131218 1.81853 -2.474874 2.474874 \nC -1.81853 3.131218 -0.928211 3.5 0 3.5 \nz\n\" style=\"stroke: #3679e0; stroke-width: 2\"/>\n    </defs>\n    <g clip-path=\"url(#p8913819480)\">\n     <use xlink:href=\"#m66b3762d1d\" x=\"74.618337\" y=\"299.58962\" style=\"fill: #ffffff; stroke: #3679e0; stroke-width: 2\"/>\n     <use xlink:href=\"#m66b3762d1d\" x=\"93.100424\" y=\"283.4933\" style=\"fill: #ffffff; stroke: #3679e0; stroke-width: 2\"/>\n     <use xlink:href=\"#m66b3762d1d\" x=\"111.582511\" y=\"297.4901\" style=\"fill: #ffffff; stroke: #3679e0; stroke-width: 2\"/>\n     <use xlink:href=\"#m66b3762d1d\" x=\"130.064598\" y=\"291.89138\" style=\"fill: #ffffff; stroke: #3679e0; stroke-width: 2\"/>\n     <use xlink:href=\"#m66b3762d1d\" x=\"148.546685\" y=\"284.89298\" style=\"fill: #ffffff; stroke: #3679e0; stroke-width: 2\"/>\n     <use xlink:href=\"#m66b3762d1d\" x=\"167.028772\" y=\"282.79346\" style=\"fill: #ffffff; stroke: #3679e0; stroke-width: 2\"/>\n     <use xlink:href=\"#m66b3762d1d\" x=\"185.510859\" y=\"278.59442\" style=\"fill: #ffffff; stroke: #3679e0; stroke-width: 2\"/>\n     <use xlink:href=\"#m66b3762d1d\" x=\"203.992946\" y=\"277.19474\" style=\"fill: #ffffff; stroke: #3679e0; stroke-width: 2\"/>\n     <use xlink:href=\"#m66b3762d1d\" x=\"222.475033\" y=\"278.59442\" style=\"fill: #ffffff; stroke: #3679e0; stroke-width: 2\"/>\n     <use xlink:href=\"#m66b3762d1d\" x=\"240.95712\" y=\"254.10002\" style=\"fill: #ffffff; stroke: #3679e0; stroke-width: 2\"/>\n     <use xlink:href=\"#m66b3762d1d\" x=\"259.439207\" y=\"245.0021\" style=\"fill: #ffffff; stroke: #3679e0; stroke-width: 2\"/>\n     <use xlink:href=\"#m66b3762d1d\" x=\"277.921293\" y=\"238.70354\" style=\"fill: #ffffff; stroke: #3679e0; stroke-width: 2\"/>\n     <use xlink:href=\"#m66b3762d1d\" x=\"296.40338\" y=\"223.30706\" style=\"fill: #ffffff; stroke: #3679e0; stroke-width: 2\"/>\n     <use xlink:href=\"#m66b3762d1d\" x=\"314.885467\" y=\"198.11282\" style=\"fill: #ffffff; stroke: #3679e0; stroke-width: 2\"/>\n     <use xlink:href=\"#m66b3762d1d\" x=\"333.367554\" y=\"178.5173\" style=\"fill: #ffffff; stroke: #3679e0; stroke-width: 2\"/>\n     <use xlink:href=\"#m66b3762d1d\" x=\"351.849641\" y=\"147.72434\" style=\"fill: #ffffff; stroke: #3679e0; stroke-width: 2\"/>\n     <use xlink:href=\"#m66b3762d1d\" x=\"370.331728\" y=\"150.5237\" style=\"fill: #ffffff; stroke: #3679e0; stroke-width: 2\"/>\n     <use xlink:href=\"#m66b3762d1d\" x=\"388.813815\" y=\"100.83506\" style=\"fill: #ffffff; stroke: #3679e0; stroke-width: 2\"/>\n     <use xlink:href=\"#m66b3762d1d\" x=\"407.295902\" y=\"93.83666\" style=\"fill: #ffffff; stroke: #3679e0; stroke-width: 2\"/>\n     <use xlink:href=\"#m66b3762d1d\" x=\"425.777989\" y=\"33.65042\" style=\"fill: #ffffff; stroke: #3679e0; stroke-width: 2\"/>\n     <use xlink:href=\"#m66b3762d1d\" x=\"444.260076\" y=\"38.5493\" style=\"fill: #ffffff; stroke: #3679e0; stroke-width: 2\"/>\n     <use xlink:href=\"#m66b3762d1d\" x=\"462.742163\" y=\"60.24434\" style=\"fill: #ffffff; stroke: #3679e0; stroke-width: 2\"/>\n    </g>\n   </g>\n   <g id=\"patch_3\">\n    <path d=\"M 56.13625 304.4885 \nL 56.13625 24.5525 \n\" style=\"fill: none; stroke: #000000; stroke-linejoin: miter; stroke-linecap: square\"/>\n   </g>\n   <g id=\"patch_4\">\n    <path d=\"M 481.22425 304.4885 \nL 481.22425 24.5525 \n\" style=\"fill: none; stroke: #000000; stroke-linejoin: miter; stroke-linecap: square\"/>\n   </g>\n   <g id=\"patch_5\">\n    <path d=\"M 56.13625 304.4885 \nL 481.22425 304.4885 \n\" style=\"fill: none; stroke: #000000; stroke-linejoin: miter; stroke-linecap: square\"/>\n   </g>\n   <g id=\"patch_6\">\n    <path d=\"M 56.13625 24.5525 \nL 481.22425 24.5525 \n\" style=\"fill: none; stroke: #000000; stroke-linejoin: miter; stroke-linecap: square\"/>\n   </g>\n   <g id=\"text_17\">\n    <!-- Last 5 years of publications -->\n    <g transform=\"translate(169.284 19.5525) scale(0.16 -0.16)\">\n     <defs>\n      <path id=\"Roboto-Regular-4c\" d=\"M 1178 481 \nL 3331 481 \nL 3331 0 \nL 563 0 \nL 563 4550 \nL 1178 4550 \nL 1178 481 \nz\n\" transform=\"scale(0.015625)\"/>\n      <path id=\"Roboto-Regular-74\" d=\"M 1259 4197 \nL 1259 3381 \nL 1900 3381 \nL 1900 2925 \nL 1259 2925 \nL 1259 872 \nQ 1259 634 1357 537 \nQ 1456 441 1619 441 \nQ 1672 441 1736 453 \nQ 1800 466 1850 484 \nL 1931 63 \nQ 1863 6 1730 -30 \nQ 1597 -66 1463 -66 \nQ 1088 -66 866 161 \nQ 644 388 644 872 \nL 644 2925 \nL 106 2925 \nL 106 3381 \nL 644 3381 \nL 644 4197 \nL 1259 4197 \nz\n\" transform=\"scale(0.015625)\"/>\n      <path id=\"Roboto-Regular-79\" d=\"M 1481 1253 \nL 1591 828 \nL 1609 828 \nL 2441 3381 \nL 3125 3381 \nL 1703 -519 \nQ 1575 -859 1336 -1112 \nQ 1097 -1366 691 -1366 \nQ 616 -1366 500 -1348 \nQ 384 -1331 322 -1316 \nL 384 -831 \nQ 366 -828 495 -837 \nQ 625 -847 659 -847 \nQ 856 -847 981 -672 \nQ 1106 -497 1191 -284 \nL 1338 69 \nL 81 3381 \nL 769 3381 \nL 1481 1253 \nz\n\" transform=\"scale(0.015625)\"/>\n      <path id=\"Roboto-Regular-6c\" d=\"M 1113 0 \nL 497 0 \nL 497 4875 \nL 1113 4875 \nL 1113 0 \nz\n\" transform=\"scale(0.015625)\"/>\n      <path id=\"Roboto-Regular-69\" d=\"M 1113 0 \nL 497 0 \nL 497 3381 \nL 1113 3381 \nL 1113 0 \nz\nM 1113 4247 \nL 497 4247 \nL 497 4875 \nL 1113 4875 \nL 1113 4247 \nz\n\" transform=\"scale(0.015625)\"/>\n      <path id=\"Roboto-Regular-63\" d=\"M 1822 416 \nQ 2128 416 2361 605 \nQ 2594 794 2594 1069 \nL 3147 1069 \nL 3153 1050 \nQ 3169 613 2764 273 \nQ 2359 -66 1822 -66 \nQ 1084 -66 693 415 \nQ 303 897 303 1625 \nL 303 1756 \nQ 303 2478 695 2961 \nQ 1088 3444 1822 3444 \nQ 2416 3444 2792 3094 \nQ 3169 2744 3156 2234 \nL 3150 2216 \nL 2594 2216 \nQ 2594 2525 2375 2742 \nQ 2156 2959 1822 2959 \nQ 1338 2959 1130 2611 \nQ 922 2263 922 1756 \nL 922 1625 \nQ 922 1106 1128 761 \nQ 1334 416 1822 416 \nz\n\" transform=\"scale(0.015625)\"/>\n      <path id=\"Roboto-Regular-6e\" d=\"M 997 3381 \nL 1041 2878 \nQ 1209 3147 1464 3295 \nQ 1719 3444 2044 3444 \nQ 2591 3444 2891 3123 \nQ 3191 2803 3191 2134 \nL 3191 0 \nL 2575 0 \nL 2575 2122 \nQ 2575 2569 2398 2756 \nQ 2222 2944 1859 2944 \nQ 1594 2944 1389 2816 \nQ 1184 2688 1063 2466 \nL 1063 0 \nL 447 0 \nL 447 3381 \nL 997 3381 \nz\n\" transform=\"scale(0.015625)\"/>\n     </defs>\n     <use xlink:href=\"#Roboto-Regular-4c\"/>\n     <use xlink:href=\"#Roboto-Regular-61\" x=\"54.003906\"/>\n     <use xlink:href=\"#Roboto-Regular-73\" x=\"108.984375\"/>\n     <use xlink:href=\"#Roboto-Regular-74\" x=\"161.279297\"/>\n     <use xlink:href=\"#Roboto-Regular-20\" x=\"195.849609\"/>\n     <use xlink:href=\"#Roboto-Regular-35\" x=\"220.703125\"/>\n     <use xlink:href=\"#Roboto-Regular-20\" x=\"277.001953\"/>\n     <use xlink:href=\"#Roboto-Regular-79\" x=\"301.855469\"/>\n     <use xlink:href=\"#Roboto-Regular-65\" x=\"352.148438\"/>\n     <use xlink:href=\"#Roboto-Regular-61\" x=\"405.029297\"/>\n     <use xlink:href=\"#Roboto-Regular-72\" x=\"460.009766\"/>\n     <use xlink:href=\"#Roboto-Regular-73\" x=\"494.287109\"/>\n     <use xlink:href=\"#Roboto-Regular-20\" x=\"546.582031\"/>\n     <use xlink:href=\"#Roboto-Regular-6f\" x=\"571.435547\"/>\n     <use xlink:href=\"#Roboto-Regular-66\" x=\"628.271484\"/>\n     <use xlink:href=\"#Roboto-Regular-20\" x=\"662.792969\"/>\n     <use xlink:href=\"#Roboto-Regular-70\" x=\"687.646484\"/>\n     <use xlink:href=\"#Roboto-Regular-75\" x=\"744.482422\"/>\n     <use xlink:href=\"#Roboto-Regular-62\" x=\"801.318359\"/>\n     <use xlink:href=\"#Roboto-Regular-6c\" x=\"858.154297\"/>\n     <use xlink:href=\"#Roboto-Regular-69\" x=\"883.349609\"/>\n     <use xlink:href=\"#Roboto-Regular-63\" x=\"908.544922\"/>\n     <use xlink:href=\"#Roboto-Regular-61\" x=\"961.621094\"/>\n     <use xlink:href=\"#Roboto-Regular-74\" x=\"1016.601562\"/>\n     <use xlink:href=\"#Roboto-Regular-69\" x=\"1051.171875\"/>\n     <use xlink:href=\"#Roboto-Regular-6f\" x=\"1076.367188\"/>\n     <use xlink:href=\"#Roboto-Regular-6e\" x=\"1133.203125\"/>\n     <use xlink:href=\"#Roboto-Regular-73\" x=\"1190.039062\"/>\n    </g>\n   </g>\n  </g>\n </g>\n <defs>\n  <clipPath id=\"p8913819480\">\n   <rect x=\"56.13625\" y=\"24.5525\" width=\"425.088\" height=\"279.936\"/>\n  </clipPath>\n </defs>\n</svg>\n"
          },
          "metadata": {}
        }
      ]
    },
    {
      "cell_type": "markdown",
      "source": [
        "# Generate latex table summary"
      ],
      "metadata": {
        "id": "59tgwQ-e1eo9"
      }
    },
    {
      "cell_type": "code",
      "source": [
        "C1_Countries  = list( df_country_dic.values() )[0]\n",
        "C1_num_papers = list( df_country_dic.values() )[1]\n",
        "\n",
        "C2_Author     = list( df_authors_dic.values() )[0]\n",
        "C2_num_papers = list( df_authors_dic.values() )[1]\n",
        "\n",
        "C3_Author  = list( df_citations_dic.values() )[0]\n",
        "C3_num_cit = list( df_citations_dic.values() )[1]"
      ],
      "metadata": {
        "id": "ON8vXbYMCcHt"
      },
      "execution_count": 48,
      "outputs": []
    },
    {
      "cell_type": "code",
      "source": [
        "for n in range( max_entries ):\n",
        "    if 'Portugal' in C1_Countries[n]:\n",
        "        C1_Countries[n] = bold( C1_Countries[n] )\n",
        "    if 'Henriques' in C2_Author[n]:\n",
        "        C2_Author[n] = bold( C2_Author[n] )\n",
        "    if 'Henriques' in C3_Author[n]:\n",
        "        C3_Author[n] = bold( C3_Author[n] )"
      ],
      "metadata": {
        "id": "3d5EwwF5tEDI"
      },
      "execution_count": 49,
      "outputs": []
    },
    {
      "cell_type": "code",
      "source": [
        "data_table = Tabular('|c|cl|cl|cl|')\n",
        "data_table.add_hline()\n",
        "\n",
        "data_table.add_row( ( MultiRow(2, data='Ordem'), MultiRow(2, data='País'), 'Número', MultiRow(2, data='Autor'), 'Número', MultiRow(2, data='Autor'), 'Número' ) )\n",
        "data_table.add_row( ( '', '', 'artigos', '', 'artigos', '', 'citações' ) )\n",
        "\n",
        "data_table.add_hline()\n",
        "data_table.add_hline()\n",
        "\n",
        "for n in range( max_entries ):\n",
        "    row = [n+1, C1_Countries[n], C1_num_papers[n],\n",
        "                C2_Author[n], C2_num_papers[n],\n",
        "                C3_Author[n], C3_num_cit[n] ]\n",
        "\n",
        "    if n % 2 == 0:\n",
        "        data_table.add_row( row, color='shadecolor' )\n",
        "    else:\n",
        "        data_table.add_row( row )\n",
        "data_table.add_hline()\n",
        "\n",
        "data_table.generate_tex('tablefile')"
      ],
      "metadata": {
        "id": "j7xxWFSdzQ_E"
      },
      "execution_count": 50,
      "outputs": []
    },
    {
      "cell_type": "code",
      "source": [],
      "metadata": {
        "id": "-jI7dbaRmlQi"
      },
      "execution_count": 50,
      "outputs": []
    }
  ]
}